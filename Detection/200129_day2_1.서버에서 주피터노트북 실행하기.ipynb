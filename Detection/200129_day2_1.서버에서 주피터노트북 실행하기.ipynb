{
 "cells": [
  {
   "cell_type": "markdown",
   "metadata": {},
   "source": [
    "# jupyter notebook 사용하려면\n",
    "#### 1. 폴더 만들기\n",
    "- mkdir detection\n",
    "\n",
    "#### 2. 토큰 없이 password로 들어오도록 하기 위해서\n",
    "> jupyter notebook --generate-config \n",
    "- 어느 위치에서 해도 상관없음.\n",
    "- 특정 폴더에 사용자 config 파일 생성하기\n",
    "- 윈도우에서 c 안에 .jupyter 같은 기능\n",
    "\n",
    ">/home/username/.jupyter :  jupyter_notebook_config.py\n",
    "\n",
    "> python3\n",
    "- 파이썬 실행\n",
    "- from notebook.auth import passwd\n",
    "- passwd() : 암호 물어보면 1234로 적기\n",
    "- 토큰 생성\n",
    "-'sha1:7c23fee5479d:a04f294b702885e9841b7e4a9ad4ee7e52d7baa9'\n",
    "- 다음부터는 1234로 로그인할 수 있음.\n",
    "\n",
    "> 파이썬 닫기\n",
    "- ctrl + z\n",
    "\n",
    "> 확인\n",
    "- cd ~ : home으로 가서\n",
    "- ls: .jupyter폴더는 안나옴.-> 사용자에게 보여질 수 있는 폴더만 나오기 때문\n",
    "- ls -a  : 모든 것을 볼수있음.\n",
    "- .jupyter폴더로 들어가면 jupyter_notebook_config.py파일이 있음.\n",
    "\n",
    "#### 3. 편집기\n",
    "- 명령어모드에서 대문자 G: 문서의 맨 끝으로 이동\n",
    "- c.NotebookApp.password = u'sha1:7c23fee5479d:a04f294b702885e9841b7e4a9ad4ee7e52d7baa9'\n",
    "- 일반 text가 아닌 파이썬 코드임.\n",
    "\n",
    "#### 4. 포트 번호 입력\n",
    "- cd detection\n",
    "- jupyter notebook --ip 0.0.0.0 --port 8894 \n",
    "- 0.0.0.0 : 어디에서도 접속할 수 있음.\n",
    "- 주피터 노트북이 실행됨. (토근은 안나오고 1234 암호화 베이스로 실행됨)\n",
    "- 서버에서는 브라우저가 뜨지 않음.\n",
    "- 우리 컴퓨터에서 접속하기\n",
    "\n",
    "#### 5. 로컬 컴퓨터에서 접속하기\n",
    "- 웹브라우저에서\n",
    "- 처음 등록한 ip주소(putty 실행할 때 입력했음) : 포트번호\n",
    "- http://15.164.114.228:8894\n",
    "- 비밀번호 입력(1234)\n"
   ]
  },
  {
   "cell_type": "code",
   "execution_count": null,
   "metadata": {},
   "outputs": [],
   "source": []
  }
 ],
 "metadata": {
  "kernelspec": {
   "display_name": "Python 3",
   "language": "python",
   "name": "python3"
  },
  "language_info": {
   "codemirror_mode": {
    "name": "ipython",
    "version": 3
   },
   "file_extension": ".py",
   "mimetype": "text/x-python",
   "name": "python",
   "nbconvert_exporter": "python",
   "pygments_lexer": "ipython3",
   "version": "3.7.4"
  },
  "toc": {
   "base_numbering": 1,
   "nav_menu": {},
   "number_sections": false,
   "sideBar": true,
   "skip_h1_title": false,
   "title_cell": "Table of Contents",
   "title_sidebar": "Contents",
   "toc_cell": false,
   "toc_position": {},
   "toc_section_display": true,
   "toc_window_display": true
  },
  "varInspector": {
   "cols": {
    "lenName": 16,
    "lenType": 16,
    "lenVar": 40
   },
   "kernels_config": {
    "python": {
     "delete_cmd_postfix": "",
     "delete_cmd_prefix": "del ",
     "library": "var_list.py",
     "varRefreshCmd": "print(var_dic_list())"
    },
    "r": {
     "delete_cmd_postfix": ") ",
     "delete_cmd_prefix": "rm(",
     "library": "var_list.r",
     "varRefreshCmd": "cat(var_dic_list()) "
    }
   },
   "types_to_exclude": [
    "module",
    "function",
    "builtin_function_or_method",
    "instance",
    "_Feature"
   ],
   "window_display": false
  }
 },
 "nbformat": 4,
 "nbformat_minor": 2
}
