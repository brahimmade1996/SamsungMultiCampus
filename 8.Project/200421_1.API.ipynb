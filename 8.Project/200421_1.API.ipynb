{
 "cells": [
  {
   "cell_type": "markdown",
   "metadata": {},
   "source": [
    "# API\n",
    "### API(Application Programming Interface, 응용 프로그램 프로그래밍 인터페이스)\n",
    "- 응용 프로그램에서 사용할 수 있도록, 운영 체제나 프로그래밍 언어가 제공하는 기능을 제어할 수 있게 만든 인터페이스\n",
    "\n",
    "### 사용예시\n",
    "> 지도를 이용한 웹 서비스 제작하려면\n",
    "- 구글 또는 다음, 네이버 관련 API를 제작중인 프로그램과 연결한다\n",
    "- 운영체제나 프로그래밍 언어가 제공하는 기능: 구글 지도 API\n",
    "- 응용프로그램에서 내가 만든 서비스\n",
    "\n",
    "### 관련 API\n",
    "- www.aiopen.etri.re.kr: ETRI(한국 전자 통신 연구원)에서 제공\n",
    "- www.brightics.ai/kr; 삼성 SDS의 기업고객의 대용량 데이터 분석 플랫폼, 브라이틱스 AI의 오픈소스 버전\n",
    "- www.aihub.or.kr: 한국 정보문화 진흥원에서 제공\n",
    "- 주로 사용하는 구글 ai, ibm ai"
   ]
  },
  {
   "cell_type": "code",
   "execution_count": null,
   "metadata": {},
   "outputs": [],
   "source": []
  }
 ],
 "metadata": {
  "kernelspec": {
   "display_name": "Python 3",
   "language": "python",
   "name": "python3"
  },
  "language_info": {
   "codemirror_mode": {
    "name": "ipython",
    "version": 3
   },
   "file_extension": ".py",
   "mimetype": "text/x-python",
   "name": "python",
   "nbconvert_exporter": "python",
   "pygments_lexer": "ipython3",
   "version": "3.6.8"
  },
  "toc": {
   "base_numbering": 1,
   "nav_menu": {},
   "number_sections": false,
   "sideBar": true,
   "skip_h1_title": false,
   "title_cell": "Table of Contents",
   "title_sidebar": "Contents",
   "toc_cell": false,
   "toc_position": {},
   "toc_section_display": true,
   "toc_window_display": false
  }
 },
 "nbformat": 4,
 "nbformat_minor": 4
}
