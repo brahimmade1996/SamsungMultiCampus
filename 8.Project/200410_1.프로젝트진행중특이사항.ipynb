{
 "cells": [
  {
   "cell_type": "markdown",
   "metadata": {},
   "source": [
    "# 프로젝트 진행 중 특이사항\n",
    "> 이미지 크롤링 문제\n",
    "- 구글 크롤링 검색시 한번에 100장 이상 동일 검색어로 크롤링하면 제한이 걸리는 문제\n",
    "- Being image search API등 정식 루트 사용을 하면 성능ㅇ이 더 좋다는 의견이 있음.\n",
    "\n",
    "> 설정 문제\n",
    "- 주제 선정 후, 개발에 들어가기 전에 프로젝트 환경 셋업 확인 필요\n",
    "- 서버 사용시 현재 작업 컴퓨터에서 테스트할 것인지, 외부 서버에 데이터를 전송 후 사용할 것인지 등을 미리 결정 후 개발 시작\n",
    "\n",
    "\n",
    "> 러닝서버 와 웹서버\n",
    "- 서버 분리: 대량의 접근을 처리해야 하는 경우\n",
    "- 웹서버에 머신러닝 시스템을 포함: 대량의 접근이 없는 경우\n",
    "\n",
    "> 구현할 때 발생 가능한 문제\n",
    "- 새로운 라이브러리가 이전 라이브러리와 충돌이 나는 경우\n",
    "- 보동 uninstall 후, 재 install을 권장함\n",
    "- 버전 체크 후 사용\n",
    "\n",
    "\n",
    "> 기존 서비스, 코드 활용\n",
    "- 각 파일(모듈)의 역할을 분석하고 해당 파일을 전체 컨트롤하는 main역할을 하는 파일이 어디인지 찾아서 각 모듈간의 통신(흐름)을 그려보는 것을 권장함\n",
    "- 새로운 라이브러리나 관련된 함수에 대한 기본 문법도 필히 확인할 것\n",
    "- 특히 함수의 인수에 대한 정의는 그냥 지나지면 전달되는 인수 형식 등의 문제로 인해 error 발생시 디버깅에 어려움이 있을 수 있음.\n",
    "- 현재 분석 중인 코드의 실행환경을 먼저 확인한 후, 분석 시작\n",
    "- 서비스를 목적으로 개발할 경우 앱, 웹, 기업 내부용 등 파악 후, 분석 하기\n",
    "\n",
    "> 기술자료 확인\n",
    "- 해당 자료의 발행 일자에 따라 더 좋은 성능이 나올 수 있으므로 공식사이트 참고해서 가급적 최신 버전 사용 권장\n",
    "\n",
    "> API\n",
    "- 구현을 간소화, 빠르게 진행 가능\n",
    "- 대략적인 알고리즘을 인지하는 것을 권장함."
   ]
  },
  {
   "cell_type": "markdown",
   "metadata": {},
   "source": [
    "# 오늘 목표\n",
    "- 주제 선정 마무리\n",
    "- 환경 셋업\n",
    "- 데이터 수집 및 개발 구현\n",
    "- 주제 관련 자려 분석 및 이해\n",
    "- 주제 발표 자료(기획서) 작성\n",
    "- 일지 정리"
   ]
  },
  {
   "cell_type": "markdown",
   "metadata": {
    "ExecuteTime": {
     "end_time": "2020-04-10T00:48:14.269657Z",
     "start_time": "2020-04-10T00:48:14.259655Z"
    }
   },
   "source": [
    "> 주제 발표 자료\n",
    "- 내용: 서비스 요약,(서비스 내용, 어떤 형태인지)\n",
    "       주요 기능 및 기술적인 구현 방법(모델 등 자세히 설명하기)"
   ]
  },
  {
   "cell_type": "code",
   "execution_count": null,
   "metadata": {},
   "outputs": [],
   "source": []
  }
 ],
 "metadata": {
  "kernelspec": {
   "display_name": "Python 3",
   "language": "python",
   "name": "python3"
  },
  "language_info": {
   "codemirror_mode": {
    "name": "ipython",
    "version": 3
   },
   "file_extension": ".py",
   "mimetype": "text/x-python",
   "name": "python",
   "nbconvert_exporter": "python",
   "pygments_lexer": "ipython3",
   "version": "3.7.6"
  },
  "toc": {
   "base_numbering": 1,
   "nav_menu": {},
   "number_sections": false,
   "sideBar": true,
   "skip_h1_title": false,
   "title_cell": "Table of Contents",
   "title_sidebar": "Contents",
   "toc_cell": false,
   "toc_position": {},
   "toc_section_display": true,
   "toc_window_display": false
  }
 },
 "nbformat": 4,
 "nbformat_minor": 4
}
