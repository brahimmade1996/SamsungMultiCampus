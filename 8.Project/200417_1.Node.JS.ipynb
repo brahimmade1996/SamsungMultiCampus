{
 "cells": [
  {
   "cell_type": "markdown",
   "metadata": {},
   "source": [
    "# NodeJS\n",
    "- 구글 크롬의 자바스크립트 엔진(V8 Engine)에 기반해 만들어진 서버 사이드 플랫폼\n",
    "\n",
    "> 오해가 많은 부분\n",
    "- Node 는 웹서버가 아님\n",
    "- Node 자체로는 아파치 웹서버처럼 HTML파일 경로를 지정해주고 서버를 열고 그런 설정은 없음.\n",
    "- 단 HTTP 서버를 ㅣㅈㄱ접 작성해야 함.\n",
    "- NodeJS는 코드를 실행하는 런타임\n",
    "\n",
    "## 1.특징\n",
    "> 비동기 IO처리, 이벤트 위주\n",
    "- Node JS라이브러리는 모든 API는 비동기식\n",
    "- Non blocking: 멈추지 않음(비동식이기 때문)\n",
    "- NodeJS기반 서버는 API가 실행되었을 때, 데이터를 반환할 때까지 기다리지 않고 다음 API를 실행하고 이전에 실행했던 API가 결과값을 반환할 시,NodeJS의 이벤트 알림 메커니즘을 통해 결과값을 받아옴.\n",
    "\n",
    "> 빠른 속도\n",
    "- 구글 크롬의 자바스크립트 엔진을 사용하여 빠른 코드 실행을 제공\n",
    "\n",
    "> 단일 쓰레드/뛰어난 확장성\n",
    "- 이벤트 루프와 함께 단일 쓰레드 모델을 사용함\n",
    "- 이벤트 메커니즘은 서버가 멈추지 않고 반응하도록 해주어 서버의 확장성을 키워줌\n",
    "- 반면 일반적인 웹서버(아파치) 요청을 처리하기 위해서 제하된 쓰레드를 생성\n",
    "- NodeJS는 쓰레드 한개만 사용하고, 아파치같은 웹서버보다 훨씬 많은 요청을 처리할 수 있음.(비동기 API를 실행시키고 이벤트처리를 하기 때문)\n",
    "\n",
    "> 노 버퍼링\n",
    "- 데이터 버퍼링이 없고 데이터를 chunk(작게 분할한 data)로 출력(스트림)\n",
    "- 버퍼링: 청크데이터가 어느정도 수집될 때까지 모아서 출력\n",
    "\n",
    "> 라이선스\n",
    "- MIT License가 적용되어 있음.\n",
    "\n",
    "## 2.사용 분야\n",
    "- 입출력이 잦은 어플리케이션\n",
    "- 데이터 스트리밍 어플리케이션\n",
    "- 데이터를 실시간으로 다루는 어플리케이션\n",
    "- JSON API 기반 어플리케이션\n",
    "- ** 싱글 페이지 어플리케이션(페이지를 서버에 계속 요청하는 경우에는 효율이 낮음) **\n",
    "- 챗봇, 메신저 등에 많이 사용\n",
    "- CPU 사용률이 높은 어플리케이션에서는 권장하지 않음.\n",
    "\n",
    "## 3.사용가능한 API\n",
    "- NodeJS AI\n",
    "- Tensorfloww.js\n",
    "- Node.js 서버용 자바스크립트 런타임에도 사용 가능\n",
    "- 브라우저에서 진행되는 머신러닝"
   ]
  },
  {
   "cell_type": "code",
   "execution_count": null,
   "metadata": {},
   "outputs": [],
   "source": []
  }
 ],
 "metadata": {
  "kernelspec": {
   "display_name": "Python 3",
   "language": "python",
   "name": "python3"
  },
  "language_info": {
   "codemirror_mode": {
    "name": "ipython",
    "version": 3
   },
   "file_extension": ".py",
   "mimetype": "text/x-python",
   "name": "python",
   "nbconvert_exporter": "python",
   "pygments_lexer": "ipython3",
   "version": "3.6.8"
  },
  "toc": {
   "base_numbering": 1,
   "nav_menu": {},
   "number_sections": false,
   "sideBar": true,
   "skip_h1_title": false,
   "title_cell": "Table of Contents",
   "title_sidebar": "Contents",
   "toc_cell": false,
   "toc_position": {},
   "toc_section_display": true,
   "toc_window_display": false
  }
 },
 "nbformat": 4,
 "nbformat_minor": 4
}
