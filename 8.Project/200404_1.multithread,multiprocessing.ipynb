{
 "cells": [
  {
   "cell_type": "markdown",
   "metadata": {},
   "source": [
    "# 파이썬 멀티 쓰레드/프로세스\n",
    "\n",
    "## 1.프로세스/ 쓰레드\n",
    "- 직렬적으로 한 개의 일을 순서대로 처리\n",
    "\n",
    "## 2.쓰레드\n",
    "- 하나의 프로세스 안에 여러개의 모듈을 만들어서 병렬처리가 가능함\n",
    "- cpu사용률 향상\n",
    "- 효율적인 자원할당, 으답성 향상\n",
    "\n",
    "#### 멀티 쓰레드를 구현하는 방법\n",
    "- threading 모듈(high level) 권장\n",
    "- thread(low level)"
   ]
  },
  {
   "cell_type": "code",
   "execution_count": null,
   "metadata": {},
   "outputs": [],
   "source": [
    "from threading import Thread\n",
    "\n",
    "th1 = Thread(target = work(함수), args = (1, Start, end))\n",
    "th2 = Thread(target = work(함수), args = (1, Start, end))\n",
    "\n"
   ]
  },
  {
   "cell_type": "markdown",
   "metadata": {},
   "source": [
    "#### 파이썬 쓰레드\n",
    "- 인터프리터 언어\n",
    "\n",
    "#### GIL(Global Interpreter Lock)\n",
    "- 파이썬 인터프리터 하나의 쓰레드가 자원을 독점\n",
    "- 쓰레드가 여러개 있어도 실행시간이 단축되지 않음.\n",
    "- 자원관리(가비지 컬렉팅)을 쉽게 구현할 수 있음.\n",
    "- GIL이 적용되는 것은 cpu동작\n",
    "- cpu를 병렬로 나눠쓰는 것을 불가능\n",
    "- cpu동작과 i/o 작업은 동시에 실행가능\n",
    "\n",
    "#### 파이썬 크롤러\n",
    "- 데이터를 네트워크로부터 다운로드할 때 병목이 발생해 성능이 많이 떨어짐\n",
    "- 멀티 쓰레드, 멀티 프로세싱을 동시에 적용하면 성능이 많이 향상됨\n",
    "\n",
    "\n",
    "\n",
    "\n",
    "## 3. 멀티 프로세싱\n",
    "- 프로세스를 여러개 두고 작업하면 멀티쓰레드 효과를 둘 수 있음.\n",
    "\n",
    "#### 멀티 쓰레드, 프로세스 실행이 나은 경우\n",
    "- 여러 소스(원격서버)에서 데이터를 수집하는 경우\n",
    "- 수집한 데이터에 이밎 분석이나 ocr처럼 길고 복잡한 작업을 수행하면서 동시에 데이터를 가져오는 경우\n",
    "- 매 쿼리에 대해 비용을 지불하는 대규모 웹 서비스에서 데이터를 수집하거나 범위 안에서 다중 연결을 이용하는 경우\n"
   ]
  },
  {
   "cell_type": "code",
   "execution_count": null,
   "metadata": {},
   "outputs": [],
   "source": []
  }
 ],
 "metadata": {
  "kernelspec": {
   "display_name": "Python 3",
   "language": "python",
   "name": "python3"
  },
  "language_info": {
   "codemirror_mode": {
    "name": "ipython",
    "version": 3
   },
   "file_extension": ".py",
   "mimetype": "text/x-python",
   "name": "python",
   "nbconvert_exporter": "python",
   "pygments_lexer": "ipython3",
   "version": "3.6.8"
  },
  "toc": {
   "base_numbering": 1,
   "nav_menu": {},
   "number_sections": false,
   "sideBar": true,
   "skip_h1_title": false,
   "title_cell": "Table of Contents",
   "title_sidebar": "Contents",
   "toc_cell": false,
   "toc_position": {},
   "toc_section_display": true,
   "toc_window_display": false
  }
 },
 "nbformat": 4,
 "nbformat_minor": 4
}
