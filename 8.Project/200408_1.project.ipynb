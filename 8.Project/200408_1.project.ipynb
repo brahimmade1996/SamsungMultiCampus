{
 "cells": [
  {
   "cell_type": "markdown",
   "metadata": {},
   "source": [
    "# 프로젝트 일정\n",
    "\n",
    "> 개별프로젝트\n",
    "- 시작: 4월 8일\n",
    "- 주제 발표: 4월 13일(월)\n",
    "- 종료: 4월 27일\n",
    "\n",
    "> 팀 프로젝트\n",
    "- 시작: 4.28\n",
    "- 주제발표: 5.8\n",
    "- 중간발표: 6.3\n",
    "- 발표: 6.18"
   ]
  },
  {
   "cell_type": "markdown",
   "metadata": {},
   "source": [
    "# 프로젝트 진행단계\n",
    "### 1.주제 선정 \n",
    "> 카테고리 선정\n",
    "- 이미지 인식\n",
    "- 분류\n",
    "- 생성 \n",
    "\n",
    "> 아이디어 세분화\n",
    "- 수업시간에 만든 예제 확장\n",
    "- 이미 알려진 주제 참고\n",
    "\n",
    "> 아이디어 도출\n",
    "- 선정한 카테고리, 아이디어를 생각해보기\n",
    "- input, output을 같이 생각해서 스케치하기\n",
    "- 어떤 이미지를 분석(이용)해서 어떤 결과를 도출할 것인가?\n",
    "- 아이디어는 여러 개를 생각하고 그 중 개별적으로 실현 가능한 것을 주제로 생각한다\n",
    "\n",
    "\n",
    "### 2.제안서 및 개발 기획서 작성\n",
    "- 선정된 주제를 설명할 수 있는 제안서 작성\n",
    "- 기술적인 스택을 결정\n",
    "- 플랫폼, 도구, 프레임퉈크, 개발언어, 포맷, 클라우드 서비스 등\n",
    "\n",
    "### 3. 워크 플로우\n",
    "> 수집\n",
    "- 기계에 학습시켜야 할 데이터 준비\n",
    "\n",
    "> 점검 및 탐색\n",
    "- 수집된 데이터를 점검하고 탐색하는 단계 \n",
    "- 데이터의 구조, 노이즈 데이터, 머신러닝을 적용하기 위해 어떻게 데이터를 정제해야 할지\n",
    "- 탐색적 데이터 분석\n",
    "- 시각화, 통계 테스트를 진행하기도 함.\n",
    "\n",
    "> 전처리 및 정제\n",
    "- 노이즈 데이터 제거\n",
    "- 머신러닝에 기여할만튼 데이터를 부각시키는 작업 등\n",
    "\n",
    "> 모델링 및 훈련\n",
    "- 머신러닝에 대한 코드를 작성하는 단계\n",
    "- 적절한 머신러닝알고리즘을 사용할수도 있고, 직접 설계할수도 있음.\n",
    "- 학습 진행\n",
    "\n",
    "> 평가\n",
    "- 테스트용 데이터로 성능 평가\n",
    "- 기계가 예측한 데이터가 테스트용 데이터의 실제 정답과 얼마나 가까운지 측정\n",
    "- \n",
    "> 배포\n",
    "- 성공적으로 훈련이 되면 완성된 모델을 배포"
   ]
  },
  {
   "cell_type": "code",
   "execution_count": null,
   "metadata": {},
   "outputs": [],
   "source": []
  }
 ],
 "metadata": {
  "kernelspec": {
   "display_name": "Python 3",
   "language": "python",
   "name": "python3"
  },
  "language_info": {
   "codemirror_mode": {
    "name": "ipython",
    "version": 3
   },
   "file_extension": ".py",
   "mimetype": "text/x-python",
   "name": "python",
   "nbconvert_exporter": "python",
   "pygments_lexer": "ipython3",
   "version": "3.7.6"
  },
  "toc": {
   "base_numbering": 1,
   "nav_menu": {},
   "number_sections": false,
   "sideBar": true,
   "skip_h1_title": false,
   "title_cell": "Table of Contents",
   "title_sidebar": "Contents",
   "toc_cell": false,
   "toc_position": {},
   "toc_section_display": true,
   "toc_window_display": false
  }
 },
 "nbformat": 4,
 "nbformat_minor": 4
}
