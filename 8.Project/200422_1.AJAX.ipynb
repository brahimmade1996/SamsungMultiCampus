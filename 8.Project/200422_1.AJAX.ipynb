{
 "cells": [
  {
   "cell_type": "markdown",
   "metadata": {
    "ExecuteTime": {
     "end_time": "2020-04-22T00:10:43.049899Z",
     "start_time": "2020-04-22T00:10:43.039906Z"
    }
   },
   "source": [
    "# AJAX\n",
    "- 자바스츠림트의 라이브러리 중 하나\n",
    "- 자바스크립트를 사용한 비동기 통신, 클라이언트와 서버 간의 XML 데이터를 주고 받는 기술\n",
    "- XMLHttpRequest객체를 이용해서 전체 페이지를 새로 고치지 않고도 페이지의 일부만을 위한 데이터를 로드하는 기법\n",
    "\n",
    "# 비동기방식\n",
    "- 웹페이지를 reload하지 않고 데이터를 불로은 방식\n",
    "- 장점: 필요한 부분만 불러와 사용할 수 있으므로 큰 장점이 있음.\n",
    "- 동기식: 페이지 리로드의 경우 전체 리소스를 다시 불러와야 하는데 이미지, 스크립트, 기타 코드 등을 모두 재요청할 경우 불필요한 리소스 낭비가 발생하게 됨\n",
    "\n",
    "# AJAX를 사용하는 이유\n",
    "- 기본적으로 HTTP프로토콜은 클라이언트쪽에서 Request를 보내고 Server쪽에서 Response를 받으면 이어졌던 연결이 끊김\n",
    "- 페이지 전체가 아닌 일부분만 갱신할 수 있도록 XMLHttpRequest객체를 통해 서버에 request를 사용하므로 시간과 리소스를 아낌\n",
    "\n",
    "# 사용법\n",
    "- Jquery라를 라이브러리와 많이 사용\n",
    "\n",
    "# 장점\n",
    "- 웹페이지의 속도 향상\n",
    "- 서버의 처리가 완료될따까지 기다리지 않고 처리 가능\n",
    "- 서버에서 data만 전송하면 되기 때문에 전체적인 코딩양이 줄어듦.\n",
    "- 기존 웹에서는 불가능했던 다양한 UI를 가능하게 해줌\n",
    "\n",
    "# 단점\n",
    "- 히스토리 관리가 안됨(보안적인 측면)\n",
    "- 연속적인 데이터를 요처항하면 서버 부하가 증가함\n",
    "- XMLHttpRequest를 통해 통신을 하는 경우: 사용자에게 아무런 진행 정보가 주어지지 않음.\n",
    "- 아직 요청이 완료되지 않았는데 사용자가 페이지를 떠나거나 오작동할 우려가 발생 "
   ]
  },
  {
   "cell_type": "code",
   "execution_count": null,
   "metadata": {},
   "outputs": [],
   "source": []
  }
 ],
 "metadata": {
  "kernelspec": {
   "display_name": "Python 3",
   "language": "python",
   "name": "python3"
  },
  "language_info": {
   "codemirror_mode": {
    "name": "ipython",
    "version": 3
   },
   "file_extension": ".py",
   "mimetype": "text/x-python",
   "name": "python",
   "nbconvert_exporter": "python",
   "pygments_lexer": "ipython3",
   "version": "3.6.8"
  },
  "toc": {
   "base_numbering": 1,
   "nav_menu": {},
   "number_sections": false,
   "sideBar": true,
   "skip_h1_title": false,
   "title_cell": "Table of Contents",
   "title_sidebar": "Contents",
   "toc_cell": false,
   "toc_position": {},
   "toc_section_display": true,
   "toc_window_display": false
  }
 },
 "nbformat": 4,
 "nbformat_minor": 4
}
