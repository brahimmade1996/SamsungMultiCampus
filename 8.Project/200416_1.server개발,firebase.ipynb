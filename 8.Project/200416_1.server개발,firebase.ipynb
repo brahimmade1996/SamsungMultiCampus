{
 "cells": [
  {
   "cell_type": "markdown",
   "metadata": {
    "ExecuteTime": {
     "end_time": "2020-04-16T00:15:10.162630Z",
     "start_time": "2020-04-16T00:15:10.141629Z"
    }
   },
   "source": [
    "# 1. 서버 구축\n",
    "## 직접 구축\n",
    "- 서버 컴퓨터 마련, os 설치와 서버 스초그램 설치\n",
    "- 고정 ip, ddns 등 외부에서 접근할 수 있는 지점을 만들어 냄\n",
    "- 구출하는 과정 및 관리가 까다로움\n",
    "- 트래픽이나 저장 용량 및 기능 확장이 자유롭다\n",
    "\n",
    "## 호스팅\n",
    "- 구축 및 설치 과정이 매우 간편하고 외부에서 접근 방식이 매우 간단\n",
    "- 다른 기능을 추가하기엔 제약사항이 걸림\n",
    "- 일정 금액을 지불하고 필요한 서비스를 구축\n",
    "\n",
    "# 2. 직접 개발시 발생 오류\n",
    "## 통신 오류\n",
    "- 클라이언트, 서버통신을 json 방식으로통신한다고 하고\n",
    "- 질의 응답을 가옹하고 http, https 프로토콜에 실어 전송하고,\n",
    "- 해당 내용을 받아서 json 문자열을 파싱하는 과정에서 실수가 발생하기 쉬움\n",
    "- 데이터 요청할 때마다 스레드를 따로 떼어내 핸들러를 통해 ui를 접근하는 코드를 반복적으로 작성하는 것ㅂ도 부담스러움\n",
    "\n",
    "\n",
    "## 권한 구현 문제\n",
    "- 데이터 접근, 쓰기, 일긱 권한 처리가 기본적으로 필요\n",
    "- 구현 시나리오에서 권한 라이브러리나 자신이 직집 권한 ㅊ계를 구현할 필요가 있음.\n",
    "- 가입, 계정 파트는 신뢰적인 라이브러리나 시스템을 이용하는 것이 좋은데, 이것이 실질적인 출시에 무리가 없느냐는 고민이 생김\n",
    "- 신뢰적인 못한 코드나 어설픈 코드, 난잡한 코그다 나오기 쉬움\n",
    "\n",
    "# 3.추천 호스팅 - firebase 서비스(모바일)\n",
    "- 실시간 기능을 갖춘 backand\n",
    "- 인증, 클라우드/실시간 데이터 베이스, 스토리지, 호스팅 등 이들을 연동할 수 있는 트리거 펑션기능을 지원하고 있음.\n",
    "- 별도의 서버 프로그래밍 없이도 모바일/클라이언트 서비스를 운영할 수 있음.\n",
    "\n",
    "### 특징\n",
    "- 구글 계정을 통해 비용, 구축 및 서리 과정없이 여러개의 프로젝트 생성 가능\n",
    "- 수익 창출 이전까지는 무료 사용 가능\n",
    "- 권한, 인증 시스템을 기본적으로 제공\n",
    "- 구현이 매우 간편하고 신뢰적인 플랫폼에서 동작\n",
    "- 실수를 줄여주는 데이터 처리 과정(이벤트 기반으로 처리하여 코드가 간결)\n",
    "- 실시간 데이터 처리와 캐싱\n",
    "- 비교적 간단한 push 알람 기능\n",
    "- 서버측 코드 비중이 적음 -> 모바일 실시간 서비스 구축에 많이 선택됨"
   ]
  },
  {
   "cell_type": "code",
   "execution_count": null,
   "metadata": {},
   "outputs": [],
   "source": []
  }
 ],
 "metadata": {
  "kernelspec": {
   "display_name": "Python 3",
   "language": "python",
   "name": "python3"
  },
  "language_info": {
   "codemirror_mode": {
    "name": "ipython",
    "version": 3
   },
   "file_extension": ".py",
   "mimetype": "text/x-python",
   "name": "python",
   "nbconvert_exporter": "python",
   "pygments_lexer": "ipython3",
   "version": "3.6.8"
  },
  "toc": {
   "base_numbering": 1,
   "nav_menu": {},
   "number_sections": false,
   "sideBar": true,
   "skip_h1_title": false,
   "title_cell": "Table of Contents",
   "title_sidebar": "Contents",
   "toc_cell": false,
   "toc_position": {},
   "toc_section_display": true,
   "toc_window_display": false
  }
 },
 "nbformat": 4,
 "nbformat_minor": 4
}
