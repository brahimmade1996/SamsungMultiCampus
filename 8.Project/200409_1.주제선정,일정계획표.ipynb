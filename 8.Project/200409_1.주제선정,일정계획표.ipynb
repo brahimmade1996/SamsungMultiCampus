{
 "cells": [
  {
   "cell_type": "markdown",
   "metadata": {},
   "source": [
    "# 프로젝트시 고려할 점\n",
    "> 기존 서비스 또는 기존 코드 활용\n",
    "- 주제와 연관된 관련 공개 소스 또는 예제 소스 등을 수집하여 벤치마킹 가능\n",
    "- 단 수집된 소스 파일을 이해하는 단계 필요\n",
    "\n",
    "> 관련 자료 선정\n",
    "- 주제와 관련된 서비스의 자료(논문, 기술관련 기술, 공개 site 등) 2개 이상 선정하여 정독한 후, 주제의 범위를 결정할 것\n",
    "\n",
    "> 일자별 계획표 작성\n",
    "- 자료수집, 데이터 수집, 모델 설정 및 학습, 테스트, 구현 등\n",
    "- 작성요령: 주요 경로상에 있는 활동들과 아웃풋\n",
    "- Bar(Gantt) Chart    "
   ]
  },
  {
   "cell_type": "markdown",
   "metadata": {},
   "source": [
    "# 오늘할일\n",
    "- 주제선정 마무리\n",
    "- 주레 관련 자료 수집\n",
    "- 프로젝트 미팅(강사와 개별 진행)\n",
    "- 일정 계획표 작성\n",
    "- 일지 정리\n"
   ]
  },
  {
   "cell_type": "markdown",
   "metadata": {},
   "source": [
    "# 관련자료 수집\n",
    "# 1. Few-ShotUnsupervisedImage-to-ImageTranslation\n",
    "(Ming-Yu Liu, Xun Huang, Arun Mallya, Tero Karras, Timo Aila, Jaakko Lehtinen, Jan Kautz,NVIDIA, Cornell University, Aalto University )\n",
    "\n",
    "#### 출처: https://arxiv.org/abs/1905.01723"
   ]
  },
  {
   "cell_type": "code",
   "execution_count": null,
   "metadata": {},
   "outputs": [],
   "source": []
  }
 ],
 "metadata": {
  "kernelspec": {
   "display_name": "Python 3",
   "language": "python",
   "name": "python3"
  },
  "language_info": {
   "codemirror_mode": {
    "name": "ipython",
    "version": 3
   },
   "file_extension": ".py",
   "mimetype": "text/x-python",
   "name": "python",
   "nbconvert_exporter": "python",
   "pygments_lexer": "ipython3",
   "version": "3.7.6"
  },
  "toc": {
   "base_numbering": 1,
   "nav_menu": {},
   "number_sections": false,
   "sideBar": true,
   "skip_h1_title": false,
   "title_cell": "Table of Contents",
   "title_sidebar": "Contents",
   "toc_cell": false,
   "toc_position": {},
   "toc_section_display": true,
   "toc_window_display": false
  }
 },
 "nbformat": 4,
 "nbformat_minor": 4
}
