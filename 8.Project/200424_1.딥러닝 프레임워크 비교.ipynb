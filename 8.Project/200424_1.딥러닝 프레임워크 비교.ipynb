{
 "cells": [
  {
   "cell_type": "markdown",
   "metadata": {},
   "source": [
    "# 딥러닝 프레임 워크 비교\n",
    "\n",
    "## 1. torch & pytorch\n",
    "### torch\n",
    "- Lua언어로 작성된 api를 제공하는 계산 프레임 워크로 머신러닝 알고리즘을 지원\n",
    "- 어떤 버전은 페이스북, 트위터와 같은 대형 기술 회사에서 자체 버전을 개발하여 사용함\n",
    "- Lua:  다중 패러다임 스크립팅 언어로 1990년대 초 브라질에서 개발\n",
    "- 파이ㅣ썬 기반의 학계나 자바 언어를 사용하는 소프트웨어 엔지니어에게 쉽게 접근할 수 있도록 설꼐되지는 않았음.\n",
    "\n",
    "### pytorch\n",
    "- torcu용 python api, \n",
    "- 가변길이 입력 및 출력을 처리할 수 있는 다이나믹\n",
    "\n",
    "#### 장점\n",
    "- 결합하기 쉬운 많은 모듈 조각\n",
    "- 자신만의 레이어 유형을 작성하고 GPU에서 실행하기 쉬움\n",
    "- 대부분의 라이브러리가 lua로 되어있고 읽기 쉬움\n",
    "- 사전 학습된 모델이 대거 존재\n",
    "- RNN에 좋음\n",
    "\n",
    "#### 단점 \n",
    "- 보통 스스로 학습코드를 작성해야 함(적은 플러그 앤 플레이)\n",
    "\n",
    "## 2. Theano\n",
    "- 파이썬으로 작성된 딥러닝 프레임워크의 대부\n",
    "- keras, lasange, blocks 등 오픈 소프 프레임워크 대부분이 티아노에서 시작\n",
    "\n",
    "#### 장점\n",
    "- python + numpy\n",
    "- comtutation 그래프에 적합한 추상화\n",
    "\n",
    "#### 단점\n",
    "-= 단일 GU\n",
    "- AWS에서 버그가 잦음\n",
    "\n",
    "## 3. 텐서플로우\n",
    "- 구글이 티아노를 대체하과 만들미\n",
    "- C/ C+++ 엔진으로 작성되어 빠른 실행이 가능\n",
    "- 엔지니어가 딥러닝에 접근하는 표준화하려 함\n",
    "\n",
    "#### 장점\n",
    "- 병렬처리 가능\n",
    "- computation그래프는 순수 파이썬으로 속도가 느림\n",
    "\n",
    "## 4. caffe\n",
    "- 머신러닝 라이브러리\n",
    "\n",
    "#### 장점\n",
    "- feed forward neral networt, image 처리에 적합\n",
    "- 기존 네트워크 미세 조정에 적합\n",
    "- 파이썬 인터페이스가 애우 유용\n",
    "\n",
    "#### 단점\n",
    "- 회귀망에 적합하지 않음\n",
    "- 확장성이 없음\n",
    "- 상업적 지원이 없음\n",
    "- 개발이 느려지고 있음.\n",
    "\n",
    "## 5. Mxnet\n",
    "- AWS에서 채택\n",
    "- 멀티 cpu, gpu 지원 및 스위치가 단순\n",
    "- 분산 학습 지원\n",
    "- 멀티 클라이언트 프로그래밍 지원\n",
    "- 서버/데스크탑/모바일 등 멀티 플랫폼 지원\n",
    "\n",
    "## 6. Paddle\n",
    "- 중국 바이두가 만들고 지원\n",
    "- 병렬 분산 처리 -> 빠름\n",
    "- 파이썬 api 지원\n",
    "- 가장 최근에 나타난 프레임 워크"
   ]
  },
  {
   "cell_type": "markdown",
   "metadata": {
    "ExecuteTime": {
     "end_time": "2020-04-24T00:21:34.087165Z",
     "start_time": "2020-04-24T00:21:34.077165Z"
    }
   },
   "source": [
    "# 발표자료\n",
    "- 시스템명\n",
    "- 주제 선정 이유 및 개발 시스템 소개(시스템 구조도: 사용 H/W, 프레임워크, api, 언어)\n",
    "- 사용 모델(기술)\n",
    "- 핵심 기능에 대한 코드 설명\n",
    "- 시연 및 결과\n",
    "- 향후 과제"
   ]
  },
  {
   "cell_type": "code",
   "execution_count": null,
   "metadata": {},
   "outputs": [],
   "source": []
  }
 ],
 "metadata": {
  "kernelspec": {
   "display_name": "Python 3",
   "language": "python",
   "name": "python3"
  },
  "language_info": {
   "codemirror_mode": {
    "name": "ipython",
    "version": 3
   },
   "file_extension": ".py",
   "mimetype": "text/x-python",
   "name": "python",
   "nbconvert_exporter": "python",
   "pygments_lexer": "ipython3",
   "version": "3.6.8"
  },
  "toc": {
   "base_numbering": 1,
   "nav_menu": {},
   "number_sections": false,
   "sideBar": true,
   "skip_h1_title": false,
   "title_cell": "Table of Contents",
   "title_sidebar": "Contents",
   "toc_cell": false,
   "toc_position": {},
   "toc_section_display": true,
   "toc_window_display": false
  }
 },
 "nbformat": 4,
 "nbformat_minor": 4
}
