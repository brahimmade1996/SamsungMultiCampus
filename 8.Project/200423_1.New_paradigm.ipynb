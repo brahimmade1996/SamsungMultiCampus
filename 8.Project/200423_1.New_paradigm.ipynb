{
 "cells": [
  {
   "cell_type": "markdown",
   "metadata": {},
   "source": [
    "# 신기술, 바뀌는 패러다임\n",
    "\n",
    "##  Wep Component와 프레임워크\n",
    "### 웹 크로미움\n",
    "- 오픈 소스 웹 브라우저 프로젝트이며 구글 크롬은 크로미엄 코드를 사용하여 개발\n",
    "- 대부분 사용ㅇ 브라우저는 크로미움 기반이 됨\n",
    "- 크롬, 엣지, 오페라, 네이버 웨일, 비발디, 브레이브, 삼성인터넷, 얀덱스 브라우저\n",
    "\n",
    "## TypeScript\n",
    "- 마이크로소프트에서 개발한 프로그래밍 언어\n",
    "- 자바스크립으의 superset(확대 집합)\n",
    "- typescript는 컴파일이후 javascript가 됨\n",
    "- 필요이후: 자바스크립트 사용자에게 익숙하다/ 엄격한 type을 사용하여 버그를 최소화한다\n",
    "- \n",
    "\n",
    "## GraphQL(gpl)\n",
    "- 페이스북에서 만든 쿼리 언어\n",
    "- 네트워크 방식에 종속적이지 않음.\n",
    "- HPPT API가 특정 데이터베이스나 플랫폼에 종속적이지 않은것처럼 gpl도 특정 데이터베이스나 플랳폼에 종속적이지 않음.\n",
    "- AWS가 지원 -> 모바일에서 람다나 DynamoDB같은 서비스를 이용할 수 있게 됨.\n",
    "\n",
    "> sql\n",
    "- db에 저장된 데이터를 효율적으로 가져오는 것이 목적\n",
    "- 문장은 백앤드 시스템에서 작성하고 호출\n",
    "\n",
    "> gpl\n",
    "- 클라이언트가 서버로부터 효율적으로 가져오는 것이 목적\n",
    "- 클라이언트 시스템에서 작성하고 호출\n",
    "\n",
    "\n",
    "## 크로스 플랫폼\n",
    "- 컴퓨터 프로개므 운영체제, 컴퓨터 언어, 프로그래밍 언어, 소프트웨어 등이 여러 종류의 컴퓨터 플랫폼에서 동작할 수 있다는 것(기존 대표 언어: java)\n",
    "- 하드웨에 종속적인 소프트웨어\n",
    "\n",
    "> 주목 기술: **Fuchia os + Flutter**\n",
    "- Iot, 스마트자동차, 스마트 공장 같은 임베디드 디바이스 시장이 날로 커지고 있음.\n",
    "- 이러한 블루오션을 크로스 플랫폼에 특화된 Fuchsia OS와 크로스 플랫폼 개발도구인 Flutter를 접속시키려하고 있음.\n",
    "\n",
    "### Flutter\n",
    "- 구글에서 개발한 크로스 플랫폼 모바일 앱 개발 프레임워크\n",
    "- 구글이 개발한 Dart를 사용\n",
    "- 안드로이드와 ios를 지원하며 구글의 차기 os Fuchsia의 메일 개발환경이 된다고 함."
   ]
  },
  {
   "cell_type": "code",
   "execution_count": null,
   "metadata": {},
   "outputs": [],
   "source": []
  }
 ],
 "metadata": {
  "kernelspec": {
   "display_name": "Python 3",
   "language": "python",
   "name": "python3"
  },
  "language_info": {
   "codemirror_mode": {
    "name": "ipython",
    "version": 3
   },
   "file_extension": ".py",
   "mimetype": "text/x-python",
   "name": "python",
   "nbconvert_exporter": "python",
   "pygments_lexer": "ipython3",
   "version": "3.6.8"
  },
  "toc": {
   "base_numbering": 1,
   "nav_menu": {},
   "number_sections": false,
   "sideBar": true,
   "skip_h1_title": false,
   "title_cell": "Table of Contents",
   "title_sidebar": "Contents",
   "toc_cell": false,
   "toc_position": {},
   "toc_section_display": true,
   "toc_window_display": false
  }
 },
 "nbformat": 4,
 "nbformat_minor": 4
}
