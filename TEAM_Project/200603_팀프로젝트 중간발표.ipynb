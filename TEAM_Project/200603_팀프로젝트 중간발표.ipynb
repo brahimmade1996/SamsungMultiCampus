{
 "cells": [
  {
   "cell_type": "markdown",
   "metadata": {},
   "source": [
    "# 1.캐글팀(panda)\n",
    "## 프로젝트 설명\n",
    "- 조직 이미지를 바탕으로\n",
    "- 암 판별 서비스\n",
    "- 전립선 암이 제일 찾기 어렵고, 판별이 어렵기에 관찰자에 의한 진단 변동성이 큼\n",
    "\n",
    "## 이미지 처리\n",
    "- 입력 타일 조정\n",
    "- 분할 및 타일링 작업을 통해 효율적 자원 활용 + 합침\n",
    "- 이미지 여백을 제거하여 주어진 자원을 효율적으로 활용하기\n",
    "- 전처리 세부 조정을 통(하여 양질의 데이터셋 구성하기 위해 노력\n",
    "\n",
    "## 모델\n",
    "- efficentNet: 19년도, 이미지에 대해 성능이 좋은 cnn모델(B0, B7..)\n",
    "- SeNet-50: \n",
    "- VGG\n",
    "- Resnet\n",
    "- ResNeXt\n",
    "- MLP 모델 추가: 이미지 타일링 -> 각 타일에 대한 RGB에 대한 히스토그램을 가지고 MLP 모델 사용(암 세포가 등급에 따라 색이 다르므로 RGB의 패턴이 다름)\n"
   ]
  },
  {
   "cell_type": "markdown",
   "metadata": {},
   "source": [
    "# 2.뷰티인사이드\n",
    "## 서비스 구성도\n",
    "- 클라이언트-브라우저-wepserver(apache, django, sqlite)\n",
    "\n",
    "## 대시보드\n",
    "- 버튼의 배체, 기능 등의 통일감\n",
    "\n",
    "## 추가기능\n",
    "- 퍼스널컬러 진단\n",
    "- KNN, SVM, DEcisionTree, Ensemble기법, xgb등\n",
    "\n",
    "## 질문\n",
    "- RGB -> HSV로 바꾼 이유:  정확도가 제일 높음."
   ]
  },
  {
   "cell_type": "markdown",
   "metadata": {},
   "source": [
    "# 3. 퍼스트쇼퍼\n",
    "- 상품을 찾고 고르는 단계를 대신해주며, 개인별로 맞춤화된 쇼핑 경험\n",
    "- 구매 전환율 높이기\n",
    "\n",
    "## 모델\n",
    "- preprocessing: DeepFashion2(dataset) +  Detectron2(model) = Segmentation model\n",
    "- 모델: triplet loss"
   ]
  },
  {
   "cell_type": "markdown",
   "metadata": {},
   "source": [
    "# 4. IAMEDIC: Brain Tumor Segmentation\n",
    "## 모델\n",
    "- 3d-Unet\n",
    "- 세그먼테이션을 위한 모델, \n",
    "- FCN을 이용(deconvolution, upsampling layer사용)"
   ]
  },
  {
   "cell_type": "markdown",
   "metadata": {},
   "source": [
    "# 5. 하이라이트\n",
    "## 질문\n",
    "- loss는 어떤거 사용하나요?\n",
    "- 동영상 처리 시간은?\n",
    "- 영상에서 어떤 정보를 이용하나요?\n",
    "- 결과 그래프 설명해주세요\n",
    "- 채팅수를 예측하는데 음수로 나온 것은 어떻게 해석할 수 있나요?"
   ]
  },
  {
   "cell_type": "code",
   "execution_count": null,
   "metadata": {},
   "outputs": [],
   "source": []
  }
 ],
 "metadata": {
  "kernelspec": {
   "display_name": "Python 3",
   "language": "python",
   "name": "python3"
  },
  "language_info": {
   "codemirror_mode": {
    "name": "ipython",
    "version": 3
   },
   "file_extension": ".py",
   "mimetype": "text/x-python",
   "name": "python",
   "nbconvert_exporter": "python",
   "pygments_lexer": "ipython3",
   "version": "3.6.8"
  }
 },
 "nbformat": 4,
 "nbformat_minor": 4
}
