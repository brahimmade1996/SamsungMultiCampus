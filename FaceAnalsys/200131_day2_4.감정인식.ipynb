{
 "cells": [
  {
   "cell_type": "markdown",
   "metadata": {
    "colab_type": "text",
    "id": "7Zu89RTzBMty"
   },
   "source": [
    "# Emotion expression"
   ]
  },
  {
   "cell_type": "code",
   "execution_count": 2,
   "metadata": {
    "ExecuteTime": {
     "end_time": "2020-01-31T07:06:09.157271Z",
     "start_time": "2020-01-31T07:06:06.759867Z"
    }
   },
   "outputs": [
    {
     "name": "stdout",
     "output_type": "stream",
     "text": [
      "Collecting keras\n",
      "  Using cached Keras-2.3.1-py2.py3-none-any.whl (377 kB)\n",
      "Requirement already satisfied: numpy>=1.9.1 in c:\\anaconda\\envs\\py36\\lib\\site-packages (from keras) (1.18.1)\n",
      "Requirement already satisfied: keras-applications>=1.0.6 in c:\\anaconda\\envs\\py36\\lib\\site-packages (from keras) (1.0.8)\n",
      "Requirement already satisfied: scipy>=0.14 in c:\\anaconda\\envs\\py36\\lib\\site-packages (from keras) (1.3.2)\n",
      "Requirement already satisfied: keras-preprocessing>=1.0.5 in c:\\anaconda\\envs\\py36\\lib\\site-packages (from keras) (1.1.0)\n",
      "Requirement already satisfied: h5py in c:\\anaconda\\envs\\py36\\lib\\site-packages (from keras) (2.10.0)\n",
      "Requirement already satisfied: pyyaml in c:\\anaconda\\envs\\py36\\lib\\site-packages (from keras) (5.2)\n",
      "Requirement already satisfied: six>=1.9.0 in c:\\anaconda\\envs\\py36\\lib\\site-packages (from keras) (1.14.0)\n",
      "Installing collected packages: keras\n",
      "Successfully installed keras-2.3.1\n"
     ]
    },
    {
     "name": "stderr",
     "output_type": "stream",
     "text": [
      "WARNING: pip is being invoked by an old script wrapper. This will fail in a future version of pip.\n",
      "Please see https://github.com/pypa/pip/issues/5599 for advice on fixing the underlying issue.\n",
      "To avoid this problem you can invoke Python with '-m pip' instead of running pip directly.\n"
     ]
    }
   ],
   "source": [
    "!pip install keras"
   ]
  },
  {
   "cell_type": "code",
   "execution_count": 3,
   "metadata": {
    "ExecuteTime": {
     "end_time": "2020-01-31T07:06:42.364819Z",
     "start_time": "2020-01-31T07:06:40.911761Z"
    },
    "colab": {},
    "colab_type": "code",
    "id": "xcfiDv03-cGX"
   },
   "outputs": [
    {
     "name": "stderr",
     "output_type": "stream",
     "text": [
      "Using TensorFlow backend.\n"
     ]
    }
   ],
   "source": [
    "import numpy as np\n",
    "import pandas as pd\n",
    "from matplotlib import pyplot as plt\n",
    "%matplotlib inline\n",
    "from matplotlib.colors import ListedColormap\n",
    "import seaborn as sns\n",
    "import cv2\n",
    "from keras.preprocessing.image import ImageDataGenerator\n",
    "import matplotlib.pyplot as plt\n",
    "import numpy as np\n",
    "from keras.preprocessing import image\n",
    "import sys\n",
    "from keras.models import load_model\n",
    "from keras.layers import Activation, Convolution2D, Dropout, Conv2D\n",
    "from keras.layers import AveragePooling2D, BatchNormalization\n",
    "from keras.layers import GlobalAveragePooling2D\n",
    "from keras.models import Sequential\n",
    "from keras.layers import Flatten\n",
    "from keras.models import Model\n",
    "from keras.layers import Input\n",
    "from keras.layers import MaxPooling2D\n",
    "from keras.layers import SeparableConv2D\n",
    "from keras import layers\n",
    "\n",
    "\n",
    "\n",
    "def imshow(tit, image) :\n",
    "    plt.title(tit)    \n",
    "    if len(image.shape) == 3 :\n",
    "        plt.imshow(cv2.cvtColor(image, cv2.COLOR_BGR2RGB))\n",
    "    else :\n",
    "        plt.imshow(image, cmap=\"gray\")\n",
    "    plt.show()"
   ]
  },
  {
   "cell_type": "markdown",
   "metadata": {},
   "source": [
    "# 1. dataset"
   ]
  },
  {
   "cell_type": "code",
   "execution_count": 4,
   "metadata": {
    "ExecuteTime": {
     "end_time": "2020-01-31T07:07:43.276290Z",
     "start_time": "2020-01-31T07:07:40.912043Z"
    },
    "colab": {
     "base_uri": "https://localhost:8080/",
     "height": 197
    },
    "colab_type": "code",
    "executionInfo": {
     "elapsed": 17917,
     "status": "ok",
     "timestamp": 1536070616163,
     "user": {
      "displayName": "sagar patel",
      "photoUrl": "https://lh3.googleusercontent.com/a/default-user=s128",
      "userId": "104720725746144732848"
     },
     "user_tz": -330
    },
    "id": "iTJESy7QA-5E",
    "outputId": "686011c3-112d-4922-fc01-59971ae6813e"
   },
   "outputs": [
    {
     "data": {
      "text/html": [
       "<div>\n",
       "<style scoped>\n",
       "    .dataframe tbody tr th:only-of-type {\n",
       "        vertical-align: middle;\n",
       "    }\n",
       "\n",
       "    .dataframe tbody tr th {\n",
       "        vertical-align: top;\n",
       "    }\n",
       "\n",
       "    .dataframe thead th {\n",
       "        text-align: right;\n",
       "    }\n",
       "</style>\n",
       "<table border=\"1\" class=\"dataframe\">\n",
       "  <thead>\n",
       "    <tr style=\"text-align: right;\">\n",
       "      <th></th>\n",
       "      <th>emotion</th>\n",
       "      <th>pixels</th>\n",
       "      <th>Usage</th>\n",
       "    </tr>\n",
       "  </thead>\n",
       "  <tbody>\n",
       "    <tr>\n",
       "      <th>0</th>\n",
       "      <td>0</td>\n",
       "      <td>70 80 82 72 58 58 60 63 54 58 60 48 89 115 121...</td>\n",
       "      <td>Training</td>\n",
       "    </tr>\n",
       "    <tr>\n",
       "      <th>1</th>\n",
       "      <td>0</td>\n",
       "      <td>151 150 147 155 148 133 111 140 170 174 182 15...</td>\n",
       "      <td>Training</td>\n",
       "    </tr>\n",
       "    <tr>\n",
       "      <th>2</th>\n",
       "      <td>2</td>\n",
       "      <td>231 212 156 164 174 138 161 173 182 200 106 38...</td>\n",
       "      <td>Training</td>\n",
       "    </tr>\n",
       "    <tr>\n",
       "      <th>3</th>\n",
       "      <td>4</td>\n",
       "      <td>24 32 36 30 32 23 19 20 30 41 21 22 32 34 21 1...</td>\n",
       "      <td>Training</td>\n",
       "    </tr>\n",
       "    <tr>\n",
       "      <th>4</th>\n",
       "      <td>6</td>\n",
       "      <td>4 0 0 0 0 0 0 0 0 0 0 0 3 15 23 28 48 50 58 84...</td>\n",
       "      <td>Training</td>\n",
       "    </tr>\n",
       "  </tbody>\n",
       "</table>\n",
       "</div>"
      ],
      "text/plain": [
       "   emotion                                             pixels     Usage\n",
       "0        0  70 80 82 72 58 58 60 63 54 58 60 48 89 115 121...  Training\n",
       "1        0  151 150 147 155 148 133 111 140 170 174 182 15...  Training\n",
       "2        2  231 212 156 164 174 138 161 173 182 200 106 38...  Training\n",
       "3        4  24 32 36 30 32 23 19 20 30 41 21 22 32 34 21 1...  Training\n",
       "4        6  4 0 0 0 0 0 0 0 0 0 0 0 3 15 23 28 48 50 58 84...  Training"
      ]
     },
     "execution_count": 4,
     "metadata": {},
     "output_type": "execute_result"
    }
   ],
   "source": [
    "df = pd.read_csv(\"./emotion/fer2013.csv\")\n",
    "df.head()\n",
    "\n",
    "#  0=Angry, 1=Disgust, 2=Fear, 3=Happy, 4=Sad, 5=Surprise, 6=Neutral**"
   ]
  },
  {
   "cell_type": "code",
   "execution_count": 5,
   "metadata": {
    "ExecuteTime": {
     "end_time": "2020-01-31T07:07:43.296230Z",
     "start_time": "2020-01-31T07:07:43.291244Z"
    },
    "colab": {
     "base_uri": "https://localhost:8080/",
     "height": 34
    },
    "colab_type": "code",
    "executionInfo": {
     "elapsed": 1297,
     "status": "ok",
     "timestamp": 1536070698799,
     "user": {
      "displayName": "sagar patel",
      "photoUrl": "https://lh3.googleusercontent.com/a/default-user=s128",
      "userId": "104720725746144732848"
     },
     "user_tz": -330
    },
    "id": "prR_SJxiBA8U",
    "outputId": "ef658dd2-f14a-4d56-a38e-fc50bf77ac90"
   },
   "outputs": [
    {
     "data": {
      "text/plain": [
       "(35887, 3)"
      ]
     },
     "execution_count": 5,
     "metadata": {},
     "output_type": "execute_result"
    }
   ],
   "source": [
    "df.shape"
   ]
  },
  {
   "cell_type": "markdown",
   "metadata": {},
   "source": [
    "#### data 분포"
   ]
  },
  {
   "cell_type": "code",
   "execution_count": 6,
   "metadata": {
    "ExecuteTime": {
     "end_time": "2020-01-31T07:07:43.427256Z",
     "start_time": "2020-01-31T07:07:43.312236Z"
    },
    "colab": {
     "base_uri": "https://localhost:8080/",
     "height": 332
    },
    "colab_type": "code",
    "executionInfo": {
     "elapsed": 1600,
     "status": "ok",
     "timestamp": 1536070703377,
     "user": {
      "displayName": "sagar patel",
      "photoUrl": "https://lh3.googleusercontent.com/a/default-user=s128",
      "userId": "104720725746144732848"
     },
     "user_tz": -330
    },
    "id": "ZidMumXvBzpr",
    "outputId": "90217b92-d88e-444d-b9b4-154f0a4320b0"
   },
   "outputs": [
    {
     "data": {
      "text/plain": [
       "<matplotlib.axes._subplots.AxesSubplot at 0x26612cb4860>"
      ]
     },
     "execution_count": 6,
     "metadata": {},
     "output_type": "execute_result"
    },
    {
     "data": {
      "image/png": "[encoded data removed]",
      "text/plain": [
       "<Figure size 648x288 with 1 Axes>"
      ]
     },
     "metadata": {
      "needs_background": "light"
     },
     "output_type": "display_data"
    }
   ],
   "source": [
    "plt.figure(figsize=(9,4))\n",
    "sns.countplot(x='emotion', data=df)"
   ]
  },
  {
   "cell_type": "code",
   "execution_count": 14,
   "metadata": {
    "ExecuteTime": {
     "end_time": "2020-01-31T07:09:16.802185Z",
     "start_time": "2020-01-31T07:09:16.798195Z"
    },
    "colab": {},
    "colab_type": "code",
    "id": "OshjJPMx95JF"
   },
   "outputs": [],
   "source": [
    "image_size=(48,48)"
   ]
  },
  {
   "cell_type": "code",
   "execution_count": 15,
   "metadata": {
    "ExecuteTime": {
     "end_time": "2020-01-31T07:09:37.603843Z",
     "start_time": "2020-01-31T07:09:19.073266Z"
    },
    "colab": {},
    "colab_type": "code",
    "id": "HRs4m6UvM7AO"
   },
   "outputs": [],
   "source": [
    "pixels = df['pixels'].tolist() # Converting the relevant column element into a list for each row\n",
    "width, height = 48, 48\n",
    "faces = []\n",
    "for pixel_sequence in pixels:\n",
    "  face = [int(pixel) for pixel in pixel_sequence.split(' ')] # Splitting the string by space character as a list\n",
    "  face = np.asarray(face).reshape(width, height) #converting the list to numpy array in size of 48*48\n",
    "  face = cv2.resize(face.astype('uint8'),image_size) #resize the image to have 48 cols (width) and 48 rows (height)\n",
    "  faces.append(face.astype('float32')) #makes the list of each images of 48*48 and their pixels in numpyarray form\n",
    "  \n",
    "faces = np.asarray(faces) #converting the list into numpy array\n",
    "faces = np.expand_dims(faces, -1) #Expand the shape of an array -1=last dimension"
   ]
  },
  {
   "cell_type": "code",
   "execution_count": 16,
   "metadata": {
    "ExecuteTime": {
     "end_time": "2020-01-31T07:09:39.883690Z",
     "start_time": "2020-01-31T07:09:39.878706Z"
    },
    "colab": {},
    "colab_type": "code",
    "id": "HRs4m6UvM7AO"
   },
   "outputs": [],
   "source": [
    "emotions = pd.get_dummies(df['emotion']).to_numpy()"
   ]
  },
  {
   "cell_type": "code",
   "execution_count": 17,
   "metadata": {
    "ExecuteTime": {
     "end_time": "2020-01-31T07:09:42.248369Z",
     "start_time": "2020-01-31T07:09:42.138636Z"
    }
   },
   "outputs": [
    {
     "name": "stdout",
     "output_type": "stream",
     "text": [
      "(35887, 48, 48, 1)\n",
      "(35887, 7)\n"
     ]
    },
    {
     "data": {
      "image/png": "[encoded data removed]",
      "text/plain": [
       "<Figure size 432x288 with 1 Axes>"
      ]
     },
     "metadata": {
      "needs_background": "light"
     },
     "output_type": "display_data"
    }
   ],
   "source": [
    "print(faces.shape)\n",
    "print(emotions.shape)\n",
    "img = faces[0,:,:,0]\n",
    "imshow(\"img\", img)"
   ]
  },
  {
   "cell_type": "markdown",
   "metadata": {},
   "source": [
    "#### 정규화(-1~1)"
   ]
  },
  {
   "cell_type": "code",
   "execution_count": 42,
   "metadata": {
    "ExecuteTime": {
     "end_time": "2020-01-31T07:31:03.518805Z",
     "start_time": "2020-01-31T07:31:03.007127Z"
    },
    "colab": {},
    "colab_type": "code",
    "id": "E2MJ1pnPJCyP"
   },
   "outputs": [],
   "source": [
    "x = faces.astype('float32')\n",
    "x = x / 255.0 #Dividing the pixels by 255 for normalization\n",
    "\n",
    "# Scaling the pixels value in range(-1,1)\n",
    "x = x - 0.5\n",
    "x = x * 2.0"
   ]
  },
  {
   "cell_type": "code",
   "execution_count": 43,
   "metadata": {
    "ExecuteTime": {
     "end_time": "2020-01-31T07:31:05.803707Z",
     "start_time": "2020-01-31T07:31:05.799651Z"
    }
   },
   "outputs": [
    {
     "name": "stdout",
     "output_type": "stream",
     "text": [
      "35887\n"
     ]
    }
   ],
   "source": [
    "num_samples = x.shape[0]\n",
    "print(num_samples)                 "
   ]
  },
  {
   "cell_type": "markdown",
   "metadata": {},
   "source": [
    "#### split train/ val"
   ]
  },
  {
   "cell_type": "code",
   "execution_count": 24,
   "metadata": {
    "ExecuteTime": {
     "end_time": "2020-01-31T07:13:16.630683Z",
     "start_time": "2020-01-31T07:13:16.625616Z"
    },
    "colab": {},
    "colab_type": "code",
    "id": "0oIyb2zMU2sj"
   },
   "outputs": [],
   "source": [
    "num_samples, num_classes = emotions.shape\n",
    "num_train_samples = int((1 - 0.2)*num_samples)\n",
    "\n",
    "# Traning data\n",
    "train_x = x[:num_train_samples]\n",
    "train_y = emotions[:num_train_samples]\n",
    "\n",
    "# Validation data\n",
    "val_x = x[num_train_samples:]\n",
    "val_y = emotions[num_train_samples:]\n",
    "\n",
    "train_data = (train_x, train_y)\n",
    "val_data = (val_x, val_y)"
   ]
  },
  {
   "cell_type": "code",
   "execution_count": 25,
   "metadata": {
    "ExecuteTime": {
     "end_time": "2020-01-31T07:13:18.885981Z",
     "start_time": "2020-01-31T07:13:18.881993Z"
    },
    "colab": {
     "base_uri": "https://localhost:8080/",
     "height": 87
    },
    "colab_type": "code",
    "executionInfo": {
     "elapsed": 1597,
     "status": "ok",
     "timestamp": 1536070841367,
     "user": {
      "displayName": "sagar patel",
      "photoUrl": "https://lh3.googleusercontent.com/a/default-user=s128",
      "userId": "104720725746144732848"
     },
     "user_tz": -330
    },
    "id": "oBtesONJWvDY",
    "outputId": "ae6e9a8b-b4b6-4a92-c47a-50e9d859d692"
   },
   "outputs": [
    {
     "name": "stdout",
     "output_type": "stream",
     "text": [
      "Training Pixels (28709, 48, 48, 1)\n",
      "Training labels (28709, 7)\n",
      "Validation Pixels (7178, 48, 48, 1)\n",
      "Validation labels (7178, 7)\n"
     ]
    }
   ],
   "source": [
    "print('Training Pixels',train_x.shape)\n",
    "print('Training labels',train_y.shape)\n",
    "\n",
    "print('Validation Pixels',val_x.shape)\n",
    "print('Validation labels',val_y.shape)"
   ]
  },
  {
   "cell_type": "code",
   "execution_count": 26,
   "metadata": {
    "ExecuteTime": {
     "end_time": "2020-01-31T07:13:21.154909Z",
     "start_time": "2020-01-31T07:13:21.151917Z"
    },
    "colab": {},
    "colab_type": "code",
    "id": "-h71E2cTFWOi"
   },
   "outputs": [],
   "source": [
    "input_shape=(48, 48, 1)\n",
    "num_classes = 7"
   ]
  },
  {
   "cell_type": "markdown",
   "metadata": {},
   "source": [
    "#### data generator\n",
    "- 보통 +- 10%정도"
   ]
  },
  {
   "cell_type": "code",
   "execution_count": 32,
   "metadata": {
    "ExecuteTime": {
     "end_time": "2020-01-31T07:14:15.127762Z",
     "start_time": "2020-01-31T07:14:15.123771Z"
    },
    "colab": {},
    "colab_type": "code",
    "id": "G0vSiW0aVWoi"
   },
   "outputs": [],
   "source": [
    "data_generator = ImageDataGenerator(\n",
    "                        featurewise_center=False,\n",
    "                        featurewise_std_normalization=False,\n",
    "                        rotation_range=10,\n",
    "                        width_shift_range=0.1,\n",
    "                        height_shift_range=0.1,\n",
    "                        zoom_range=.1,\n",
    "                        horizontal_flip=True)"
   ]
  },
  {
   "cell_type": "markdown",
   "metadata": {},
   "source": [
    "# 2. model"
   ]
  },
  {
   "cell_type": "markdown",
   "metadata": {},
   "source": [
    "### h5, hdf5: 같음.\n",
    "> h5\n",
    "\n",
    "> hdf5\n",
    "- 계층적 데이어 프레임\n",
    "- 계층적으로 되어있는 대용량 데이터 포맷\n",
    "- update는 불가"
   ]
  },
  {
   "cell_type": "code",
   "execution_count": 21,
   "metadata": {
    "ExecuteTime": {
     "end_time": "2020-01-31T07:10:27.400067Z",
     "start_time": "2020-01-31T07:10:26.945496Z"
    },
    "colab": {},
    "colab_type": "code",
    "id": "IgnHh0urDr7U"
   },
   "outputs": [
    {
     "name": "stdout",
     "output_type": "stream",
     "text": [
      "WARNING:tensorflow:From C:\\anaconda\\envs\\py36\\lib\\site-packages\\tensorflow_core\\python\\ops\\resource_variable_ops.py:1630: calling BaseResourceVariable.__init__ (from tensorflow.python.ops.resource_variable_ops) with constraint is deprecated and will be removed in a future version.\n",
      "Instructions for updating:\n",
      "If using Keras pass *_constraint arguments to layers.\n",
      "WARNING:tensorflow:From C:\\anaconda\\envs\\py36\\lib\\site-packages\\keras\\backend\\tensorflow_backend.py:4074: The name tf.nn.avg_pool is deprecated. Please use tf.nn.avg_pool2d instead.\n",
      "\n"
     ]
    }
   ],
   "source": [
    "model = Sequential()\n",
    "model.add(Convolution2D(filters=16, kernel_size=(7, 7), padding='same',\n",
    "                            name='image_array', input_shape=input_shape))\n",
    "model.add(BatchNormalization())\n",
    "model.add(Convolution2D(filters=16, kernel_size=(7, 7), padding='same'))\n",
    "model.add(BatchNormalization())\n",
    "model.add(Activation('relu'))\n",
    "model.add(AveragePooling2D(pool_size=(2, 2), padding='same'))\n",
    "model.add(Dropout(.5))\n",
    "\n",
    "model.add(Convolution2D(filters=32, kernel_size=(5, 5), padding='same'))\n",
    "model.add(BatchNormalization())\n",
    "model.add(Convolution2D(filters=32, kernel_size=(5, 5), padding='same'))\n",
    "model.add(BatchNormalization())\n",
    "model.add(Activation('relu'))\n",
    "model.add(AveragePooling2D(pool_size=(2, 2), padding='same'))\n",
    "model.add(Dropout(.5))\n",
    "\n",
    "model.add(Convolution2D(filters=64, kernel_size=(3, 3), padding='same'))\n",
    "model.add(BatchNormalization())\n",
    "model.add(Convolution2D(filters=64, kernel_size=(3, 3), padding='same'))\n",
    "model.add(BatchNormalization())\n",
    "model.add(Activation('relu'))\n",
    "model.add(AveragePooling2D(pool_size=(2, 2), padding='same'))\n",
    "model.add(Dropout(.5))\n",
    "\n",
    "model.add(Convolution2D(filters=128, kernel_size=(3, 3), padding='same'))\n",
    "model.add(BatchNormalization())\n",
    "model.add(Convolution2D(filters=128, kernel_size=(3, 3), padding='same'))\n",
    "model.add(BatchNormalization())\n",
    "model.add(Activation('relu'))\n",
    "model.add(AveragePooling2D(pool_size=(2, 2), padding='same'))\n",
    "model.add(Dropout(.5))\n",
    "\n",
    "model.add(Convolution2D(filters=256, kernel_size=(3, 3), padding='same'))\n",
    "model.add(BatchNormalization())\n",
    "model.add(Convolution2D(filters=num_classes, kernel_size=(3, 3), padding='same'))\n",
    "model.add(GlobalAveragePooling2D())\n",
    "model.add(Activation('softmax',name='predictions'))"
   ]
  },
  {
   "cell_type": "markdown",
   "metadata": {},
   "source": [
    "#### global average pooling\n",
    "> pooling\n",
    "- sampling 과정\n",
    "- 인력 pool\n",
    "\n",
    "> maxpooling\n",
    "- filter 중 가강 큰 값 사용\n",
    "\n",
    "> global average pooling\n",
    "- flatten()이 없음.\n",
    "- filter 전체의 평균값 사용\n",
    "- 파라미터 개수가 줄일 수 있음."
   ]
  },
  {
   "cell_type": "code",
   "execution_count": 35,
   "metadata": {
    "ExecuteTime": {
     "end_time": "2020-01-31T07:18:49.233451Z",
     "start_time": "2020-01-31T07:18:49.222511Z"
    },
    "colab": {
     "base_uri": "https://localhost:8080/",
     "height": 1314
    },
    "colab_type": "code",
    "executionInfo": {
     "elapsed": 1060,
     "status": "ok",
     "timestamp": 1533308669403,
     "user": {
      "displayName": "sagar patel",
      "photoUrl": "https://lh3.googleusercontent.com/a/default-user=s128",
      "userId": "104720725746144732848"
     },
     "user_tz": -330
    },
    "id": "l1DSW_zoN1hg",
    "outputId": "198ce0de-1179-4aad-a78b-ddff8a6e6e73"
   },
   "outputs": [
    {
     "name": "stdout",
     "output_type": "stream",
     "text": [
      "Model: \"sequential_2\"\n",
      "_________________________________________________________________\n",
      "Layer (type)                 Output Shape              Param #   \n",
      "=================================================================\n",
      "image_array (Conv2D)         (None, 48, 48, 16)        800       \n",
      "_________________________________________________________________\n",
      "batch_normalization_1 (Batch (None, 48, 48, 16)        64        \n",
      "_________________________________________________________________\n",
      "conv2d_1 (Conv2D)            (None, 48, 48, 16)        12560     \n",
      "_________________________________________________________________\n",
      "batch_normalization_2 (Batch (None, 48, 48, 16)        64        \n",
      "_________________________________________________________________\n",
      "activation_1 (Activation)    (None, 48, 48, 16)        0         \n",
      "_________________________________________________________________\n",
      "average_pooling2d_1 (Average (None, 24, 24, 16)        0         \n",
      "_________________________________________________________________\n",
      "dropout_1 (Dropout)          (None, 24, 24, 16)        0         \n",
      "_________________________________________________________________\n",
      "conv2d_2 (Conv2D)            (None, 24, 24, 32)        12832     \n",
      "_________________________________________________________________\n",
      "batch_normalization_3 (Batch (None, 24, 24, 32)        128       \n",
      "_________________________________________________________________\n",
      "conv2d_3 (Conv2D)            (None, 24, 24, 32)        25632     \n",
      "_________________________________________________________________\n",
      "batch_normalization_4 (Batch (None, 24, 24, 32)        128       \n",
      "_________________________________________________________________\n",
      "activation_2 (Activation)    (None, 24, 24, 32)        0         \n",
      "_________________________________________________________________\n",
      "average_pooling2d_2 (Average (None, 12, 12, 32)        0         \n",
      "_________________________________________________________________\n",
      "dropout_2 (Dropout)          (None, 12, 12, 32)        0         \n",
      "_________________________________________________________________\n",
      "conv2d_4 (Conv2D)            (None, 12, 12, 64)        18496     \n",
      "_________________________________________________________________\n",
      "batch_normalization_5 (Batch (None, 12, 12, 64)        256       \n",
      "_________________________________________________________________\n",
      "conv2d_5 (Conv2D)            (None, 12, 12, 64)        36928     \n",
      "_________________________________________________________________\n",
      "batch_normalization_6 (Batch (None, 12, 12, 64)        256       \n",
      "_________________________________________________________________\n",
      "activation_3 (Activation)    (None, 12, 12, 64)        0         \n",
      "_________________________________________________________________\n",
      "average_pooling2d_3 (Average (None, 6, 6, 64)          0         \n",
      "_________________________________________________________________\n",
      "dropout_3 (Dropout)          (None, 6, 6, 64)          0         \n",
      "_________________________________________________________________\n",
      "conv2d_6 (Conv2D)            (None, 6, 6, 128)         73856     \n",
      "_________________________________________________________________\n",
      "batch_normalization_7 (Batch (None, 6, 6, 128)         512       \n",
      "_________________________________________________________________\n",
      "conv2d_7 (Conv2D)            (None, 6, 6, 128)         147584    \n",
      "_________________________________________________________________\n",
      "batch_normalization_8 (Batch (None, 6, 6, 128)         512       \n",
      "_________________________________________________________________\n",
      "activation_4 (Activation)    (None, 6, 6, 128)         0         \n",
      "_________________________________________________________________\n",
      "average_pooling2d_4 (Average (None, 3, 3, 128)         0         \n",
      "_________________________________________________________________\n",
      "dropout_4 (Dropout)          (None, 3, 3, 128)         0         \n",
      "_________________________________________________________________\n",
      "conv2d_8 (Conv2D)            (None, 3, 3, 256)         295168    \n",
      "_________________________________________________________________\n",
      "batch_normalization_9 (Batch (None, 3, 3, 256)         1024      \n",
      "_________________________________________________________________\n",
      "conv2d_9 (Conv2D)            (None, 3, 3, 7)           16135     \n",
      "_________________________________________________________________\n",
      "global_average_pooling2d_1 ( (None, 7)                 0         \n",
      "_________________________________________________________________\n",
      "predictions (Activation)     (None, 7)                 0         \n",
      "=================================================================\n",
      "Total params: 642,935\n",
      "Trainable params: 641,463\n",
      "Non-trainable params: 1,472\n",
      "_________________________________________________________________\n"
     ]
    }
   ],
   "source": [
    "model.summary()"
   ]
  },
  {
   "cell_type": "code",
   "execution_count": 31,
   "metadata": {
    "ExecuteTime": {
     "end_time": "2020-01-31T07:14:12.850395Z",
     "start_time": "2020-01-31T07:14:12.847410Z"
    },
    "colab": {},
    "colab_type": "code",
    "id": "qS2a73LMMXsF"
   },
   "outputs": [],
   "source": [
    "batch_size = 32\n",
    "num_epochs = 200\n",
    "verbose = 1\n",
    "num_classes = 7 "
   ]
  },
  {
   "cell_type": "code",
   "execution_count": 33,
   "metadata": {
    "ExecuteTime": {
     "end_time": "2020-01-31T07:14:17.454109Z",
     "start_time": "2020-01-31T07:14:17.412782Z"
    },
    "colab": {
     "base_uri": "https://localhost:8080/",
     "height": 1314
    },
    "colab_type": "code",
    "executionInfo": {
     "elapsed": 1290,
     "status": "ok",
     "timestamp": 1533308689367,
     "user": {
      "displayName": "sagar patel",
      "photoUrl": "https://lh3.googleusercontent.com/a/default-user=s128",
      "userId": "104720725746144732848"
     },
     "user_tz": -330
    },
    "id": "oeF9vG6oWMB6",
    "outputId": "ff399a6e-5750-4f0d-c06c-caeb64dd88c9"
   },
   "outputs": [],
   "source": [
    "model.compile(optimizer='adam', loss='categorical_crossentropy', metrics=['accuracy'])\n"
   ]
  },
  {
   "cell_type": "markdown",
   "metadata": {},
   "source": [
    "#### epoch 200은 되야 성능 나옴"
   ]
  },
  {
   "cell_type": "code",
   "execution_count": 40,
   "metadata": {
    "ExecuteTime": {
     "end_time": "2020-01-31T07:30:58.415841Z",
     "start_time": "2020-01-31T07:27:40.125334Z"
    },
    "colab": {
     "base_uri": "https://localhost:8080/",
     "height": 13174
    },
    "colab_type": "code",
    "executionInfo": {
     "elapsed": 7816691,
     "status": "ok",
     "timestamp": 1533318210456,
     "user": {
      "displayName": "sagar patel",
      "photoUrl": "https://lh3.googleusercontent.com/a/default-user=s128",
      "userId": "104720725746144732848"
     },
     "user_tz": -330
    },
    "id": "EZP8riBlO4mS",
    "outputId": "89d8e4b3-6249-454f-cda1-60e4b91b3560"
   },
   "outputs": [
    {
     "name": "stdout",
     "output_type": "stream",
     "text": [
      "Epoch 1/1\n",
      "898/898 [==============================] - 198s 221ms/step - loss: 1.5686 - accuracy: 0.3829 - val_loss: 1.4332 - val_accuracy: 0.4458\n"
     ]
    }
   ],
   "source": [
    "train_faces, train_emotions = train_data\n",
    "history=model.fit_generator(data_generator.flow(train_faces, train_emotions,\n",
    "         batch_size), epochs=1, verbose=1,  validation_data=val_data)"
   ]
  },
  {
   "cell_type": "code",
   "execution_count": 36,
   "metadata": {
    "ExecuteTime": {
     "end_time": "2020-01-31T07:19:57.744491Z",
     "start_time": "2020-01-31T07:19:47.159013Z"
    },
    "colab": {
     "base_uri": "https://localhost:8080/",
     "height": 70
    },
    "colab_type": "code",
    "executionInfo": {
     "elapsed": 3004,
     "status": "ok",
     "timestamp": 1533318279807,
     "user": {
      "displayName": "sagar patel",
      "photoUrl": "https://lh3.googleusercontent.com/a/default-user=s128",
      "userId": "104720725746144732848"
     },
     "user_tz": -330
    },
    "id": "vI4nPHW1WZ4r",
    "outputId": "ad580314-d3a2-4c88-e0a3-b0a95d529cbe"
   },
   "outputs": [
    {
     "name": "stdout",
     "output_type": "stream",
     "text": [
      "7178/7178 [==============================] - 10s 1ms/step\n",
      "Test loss: 1.6311038849113977\n",
      "Test accuracy: 35.0376158952713\n"
     ]
    }
   ],
   "source": [
    "model.save(\"emotion_temp.h5\")\n",
    "score = model.evaluate(val_x, val_y, verbose=1)\n",
    "print('Test loss:', score[0])\n",
    "print('Test accuracy:', score[1]*100)"
   ]
  },
  {
   "cell_type": "markdown",
   "metadata": {},
   "source": [
    "# 3. test"
   ]
  },
  {
   "cell_type": "code",
   "execution_count": 53,
   "metadata": {
    "ExecuteTime": {
     "end_time": "2020-01-31T07:33:45.251701Z",
     "start_time": "2020-01-31T07:33:45.244720Z"
    },
    "colab": {},
    "colab_type": "code",
    "id": "o3lKbJ5khHVL"
   },
   "outputs": [],
   "source": [
    "def load_detection_model(model_path):\n",
    "    detection_model = cv2.CascadeClassifier(model_path)\n",
    "    return detection_model\n",
    "\n",
    "def detect_faces(detection_model, gray_image_array):\n",
    "    print(detection_model)\n",
    "    print(gray_image_array.shape)\n",
    "    return detection_model.detectMultiScale(gray_image_array, 1.3, 5)\n",
    "\n",
    "def draw_bounding_box(face_coordinates, image_array, color):\n",
    "    x, y, w, h = face_coordinates\n",
    "    cv2.rectangle(image_array, (x, y), (x + w, y + h), color, 2)\n",
    "\n",
    "def apply_offsets(face_coordinates, offsets):\n",
    "    x, y, width, height = face_coordinates\n",
    "    x_off, y_off = offsets\n",
    "    return (x - x_off, x + width + x_off, y - y_off, y + height + y_off)\n",
    "\n",
    "def draw_text(coordinates, image_array, text, color, x_offset=0, y_offset=0,\n",
    "                                                font_scale=0.5, thickness=2):\n",
    "    x, y = coordinates[:2]\n",
    "    cv2.putText(image_array, text, (x + x_offset, y + y_offset),\n",
    "                cv2.FONT_HERSHEY_SIMPLEX,\n",
    "                font_scale, color, thickness, cv2.LINE_AA)\n",
    "    \n",
    "def preprocess_input(x, v2=True):\n",
    "    x = x.astype('float32')\n",
    "    x = x / 255.0\n",
    "    if v2:\n",
    "        x = x - 0.5\n",
    "        x = x * 2.0\n",
    "    return x"
   ]
  },
  {
   "cell_type": "code",
   "execution_count": 57,
   "metadata": {
    "ExecuteTime": {
     "end_time": "2020-01-31T07:35:30.660215Z",
     "start_time": "2020-01-31T07:35:29.572172Z"
    },
    "colab": {
     "base_uri": "https://localhost:8080/",
     "height": 34
    },
    "colab_type": "code",
    "executionInfo": {
     "elapsed": 11657,
     "status": "ok",
     "timestamp": 1533396470394,
     "user": {
      "displayName": "sagar patel",
      "photoUrl": "https://lh3.googleusercontent.com/a/default-user=s128",
      "userId": "104720725746144732848"
     },
     "user_tz": -330
    },
    "id": "0Mum5Ff5hjgM",
    "outputId": "e9bf5a9e-fcc9-4364-8cbd-dae9a78ec4cd"
   },
   "outputs": [],
   "source": [
    "image_path = \"./emotion/tes.jpg\"\n",
    "detection_model_path = './emotion/haarcascade_frontalface_alt2.xml'\n",
    "emotion_model_path = './emotion/fer2013_big_XCEPTION.54-0.66.hdf5'\n",
    "emotion_model_path = \"./emotion/emotion_temp.h5\"\n",
    "emotion_labels = {0:'angry',1:'disgust',2:'fear',3:'happy',4:'sad',5:'surprise',6:'neutral'}\n",
    "font = cv2.FONT_HERSHEY_SIMPLEX\n",
    "\n",
    "emotion_offsets = (0, 0)\n",
    "\n",
    "# loading models\n",
    "face_detection = load_detection_model(detection_model_path)\n",
    "emotion_classifier = load_model(emotion_model_path, compile=False)\n",
    "emotion_target_size = emotion_classifier.input_shape[1:3]"
   ]
  },
  {
   "cell_type": "code",
   "execution_count": 58,
   "metadata": {
    "ExecuteTime": {
     "end_time": "2020-01-31T07:35:32.948030Z",
     "start_time": "2020-01-31T07:35:32.928797Z"
    },
    "colab": {
     "base_uri": "https://localhost:8080/",
     "height": 34
    },
    "colab_type": "code",
    "executionInfo": {
     "elapsed": 11657,
     "status": "ok",
     "timestamp": 1533396470394,
     "user": {
      "displayName": "sagar patel",
      "photoUrl": "https://lh3.googleusercontent.com/a/default-user=s128",
      "userId": "104720725746144732848"
     },
     "user_tz": -330
    },
    "id": "0Mum5Ff5hjgM",
    "outputId": "e9bf5a9e-fcc9-4364-8cbd-dae9a78ec4cd"
   },
   "outputs": [],
   "source": [
    "# loading images\n",
    "rgb_image = cv2.imread(\"./emotion/tes.jpg\")\n",
    "gray_image = cv2.imread(\"./emotion/tes.jpg\",0)"
   ]
  },
  {
   "cell_type": "code",
   "execution_count": 59,
   "metadata": {
    "ExecuteTime": {
     "end_time": "2020-01-31T07:35:35.679495Z",
     "start_time": "2020-01-31T07:35:35.242623Z"
    },
    "colab": {
     "base_uri": "https://localhost:8080/",
     "height": 34
    },
    "colab_type": "code",
    "executionInfo": {
     "elapsed": 11657,
     "status": "ok",
     "timestamp": 1533396470394,
     "user": {
      "displayName": "sagar patel",
      "photoUrl": "https://lh3.googleusercontent.com/a/default-user=s128",
      "userId": "104720725746144732848"
     },
     "user_tz": -330
    },
    "id": "0Mum5Ff5hjgM",
    "outputId": "e9bf5a9e-fcc9-4364-8cbd-dae9a78ec4cd"
   },
   "outputs": [
    {
     "name": "stdout",
     "output_type": "stream",
     "text": [
      "<CascadeClassifier 000002662ADF5810>\n",
      "(912, 736)\n"
     ]
    },
    {
     "data": {
      "text/plain": [
       "True"
      ]
     },
     "execution_count": 59,
     "metadata": {},
     "output_type": "execute_result"
    }
   ],
   "source": [
    "faces = detect_faces(face_detection, gray_image)\n",
    "\n",
    "for face_coordinates in faces:   \n",
    "    \n",
    "    x1, x2, y1, y2 = apply_offsets(face_coordinates, emotion_offsets)\n",
    "    gray_face = gray_image[y1:y2, x1:x2]\n",
    "\n",
    "    gray_face = cv2.resize(gray_face, (emotion_target_size))\n",
    "\n",
    "    gray_face = preprocess_input(gray_face, True)\n",
    "    gray_face = np.expand_dims(gray_face, 0) # 앞에 1차원 추가    \n",
    "    gray_face = np.expand_dims(gray_face, -1) # 뒤에 1차원 추가\n",
    "    \n",
    "    emotion_label_arg = np.argmax(emotion_classifier.predict(gray_face))\n",
    "    emotion_text = emotion_labels[emotion_label_arg]\n",
    "    \n",
    "    color = (255, 0, 0)\n",
    "\n",
    "    draw_bounding_box(face_coordinates, rgb_image, color)\n",
    "    draw_text(face_coordinates, rgb_image, emotion_text, color, -20, -20, 0.7, 2)\n",
    "\n",
    "cv2.imwrite('./emotion/out.jpg', rgb_image)"
   ]
  },
  {
   "cell_type": "code",
   "execution_count": 60,
   "metadata": {
    "ExecuteTime": {
     "end_time": "2020-01-31T07:35:51.151223Z",
     "start_time": "2020-01-31T07:35:51.028539Z"
    }
   },
   "outputs": [
    {
     "data": {
      "image/png": "[encoded data removed]",
      "text/plain": [
       "<Figure size 432x288 with 1 Axes>"
      ]
     },
     "metadata": {
      "needs_background": "light"
     },
     "output_type": "display_data"
    }
   ],
   "source": [
    "imshow('', rgb_image)"
   ]
  },
  {
   "cell_type": "code",
   "execution_count": null,
   "metadata": {},
   "outputs": [],
   "source": []
  }
 ],
 "metadata": {
  "kernelspec": {
   "display_name": "Python 3",
   "language": "python",
   "name": "python3"
  },
  "language_info": {
   "codemirror_mode": {
    "name": "ipython",
    "version": 3
   },
   "file_extension": ".py",
   "mimetype": "text/x-python",
   "name": "python",
   "nbconvert_exporter": "python",
   "pygments_lexer": "ipython3",
   "version": "3.6.10"
  },
  "toc": {
   "base_numbering": 1,
   "nav_menu": {},
   "number_sections": false,
   "sideBar": true,
   "skip_h1_title": false,
   "title_cell": "Table of Contents",
   "title_sidebar": "Contents",
   "toc_cell": false,
   "toc_position": {},
   "toc_section_display": true,
   "toc_window_display": true
  },
  "varInspector": {
   "cols": {
    "lenName": 16,
    "lenType": 16,
    "lenVar": 40
   },
   "kernels_config": {
    "python": {
     "delete_cmd_postfix": "",
     "delete_cmd_prefix": "del ",
     "library": "var_list.py",
     "varRefreshCmd": "print(var_dic_list())"
    },
    "r": {
     "delete_cmd_postfix": ") ",
     "delete_cmd_prefix": "rm(",
     "library": "var_list.r",
     "varRefreshCmd": "cat(var_dic_list()) "
    }
   },
   "types_to_exclude": [
    "module",
    "function",
    "builtin_function_or_method",
    "instance",
    "_Feature"
   ],
   "window_display": false
  }
 },
 "nbformat": 4,
 "nbformat_minor": 4
}
