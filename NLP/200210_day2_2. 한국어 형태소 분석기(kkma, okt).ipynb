{
 "cells": [
  {
   "cell_type": "markdown",
   "metadata": {},
   "source": [
    "# 형태소 분석기\n",
    "\n",
    "> 컴파일된 파일 다운로드\n",
    "-  https://www.lfd.uci.edu/~gohlke/pythonlibs/#jpype\n",
    "- 파이썬 버전에 맞는 버전으로 다운\n",
    "- JPype1‑0.7.1‑cp37‑cp37m‑win_amd64.whl\n",
    "\n",
    "\n",
    "> 자바\n",
    "- https://github.com/ojdkbuild/ojdkbuild\n",
    "- 환경 변수 설정\n",
    "\n",
    "### 형태소 분석기 종류\n",
    "- 꼬꼬마\n",
    "- okt\n",
    "\n",
    "\n"
   ]
  },
  {
   "cell_type": "code",
   "execution_count": 1,
   "metadata": {
    "ExecuteTime": {
     "end_time": "2020-02-10T01:55:01.249573Z",
     "start_time": "2020-02-10T01:54:58.463386Z"
    }
   },
   "outputs": [],
   "source": [
    "import numpy as np\n",
    "from sklearn.naive_bayes import GaussianNB\n",
    "from sklearn.metrics import accuracy_score\n",
    "from sklearn.feature_extraction.text import CountVectorizer\n",
    "from sklearn.feature_extraction.text import TfidfVectorizer\n",
    "from sklearn.metrics.pairwise import cosine_similarity\n",
    "from sklearn.linear_model import SGDClassifier\n",
    "from sklearn.svm import LinearSVC\n",
    "from tensorflow.keras.datasets import imdb\n",
    "from konlpy.tag import Twitter\n",
    "from konlpy.tag import Okt\n",
    "from konlpy.tag import Kkma \n",
    "from konlpy.tag import Twitter\n",
    "from pprint import pprint\n",
    "import nltk\n",
    "from nltk.classify.scikitlearn import SklearnClassifier\n",
    "from wordcloud import WordCloud, STOPWORDS\n",
    "from gensim import corpora, models\n",
    "import numpy  as np\n",
    "from PIL import Image\n",
    "from wordcloud import ImageColorGenerator\n",
    "import glob\n",
    "import re\n",
    "import matplotlib.pyplot as plt\n",
    "from tensorflow.keras.preprocessing.text import Tokenizer\n",
    "from tensorflow.keras.preprocessing.sequence import pad_sequences\n",
    "%matplotlib inline\n"
   ]
  },
  {
   "cell_type": "markdown",
   "metadata": {},
   "source": [
    "## okt형태소 분석기"
   ]
  },
  {
   "cell_type": "code",
   "execution_count": 4,
   "metadata": {
    "ExecuteTime": {
     "end_time": "2020-02-10T02:09:23.344769Z",
     "start_time": "2020-02-10T02:09:23.327463Z"
    }
   },
   "outputs": [
    {
     "name": "stdout",
     "output_type": "stream",
     "text": [
      "[('아버지', 'Noun'), ('가방', 'Noun'), ('에', 'Josa'), ('들어가다', 'Verb'), ('.', 'Punctuation')]\n"
     ]
    }
   ],
   "source": [
    "# https://www.lfd.uci.edu/~gohlke/pythonlibs/#jpype\n",
    "okt = Okt()\n",
    "\n",
    "\n",
    "# pos: 형태소 분석\n",
    "malist = okt.pos(\"아버지 가방에 들어가신다.\", \n",
    "                 norm=True, # 정규화 과정\n",
    "                 stem=True)  # 원형으로 변형\n",
    "print(malist)"
   ]
  },
  {
   "cell_type": "code",
   "execution_count": 6,
   "metadata": {
    "ExecuteTime": {
     "end_time": "2020-02-10T02:10:01.238270Z",
     "start_time": "2020-02-10T02:10:01.223354Z"
    }
   },
   "outputs": [
    {
     "name": "stdout",
     "output_type": "stream",
     "text": [
      "['을지로', '역', '주변', '첨단', '빌딩', '숲', '사이', '자리', '커피집']\n",
      "[('이', 'Determiner'), ('것', 'Noun'), ('도', 'Josa'), ('되나요', 'Verb'), ('ㅋㅋ', 'KoreanParticle')]\n",
      "[('이', 'Determiner'), ('것', 'Noun'), ('도', 'Josa'), ('되다', 'Verb'), ('ㅋㅋ', 'KoreanParticle')]\n"
     ]
    }
   ],
   "source": [
    "# nouns: 명사만 추출\n",
    "print(okt.nouns(u'을지로 3가역 주변 첨단빌딩숲 사이에 자리 잡은 커피집'))\n",
    "\n",
    "print(okt.pos(u'이것도 되나요ㅋㅋ'))\n",
    "print(okt.pos(u'이것도 되나요ㅋㅋ', norm=True, stem=True))"
   ]
  },
  {
   "cell_type": "code",
   "execution_count": 8,
   "metadata": {
    "ExecuteTime": {
     "end_time": "2020-02-10T02:12:53.786819Z",
     "start_time": "2020-02-10T02:12:53.773370Z"
    }
   },
   "outputs": [
    {
     "data": {
      "text/plain": [
       "['오늘', '부산', '날씨']"
      ]
     },
     "execution_count": 8,
     "metadata": {},
     "output_type": "execute_result"
    }
   ],
   "source": [
    "okt.nouns('오늘 부산 날씨 어때')"
   ]
  },
  {
   "cell_type": "code",
   "execution_count": 10,
   "metadata": {
    "ExecuteTime": {
     "end_time": "2020-02-10T02:13:53.151671Z",
     "start_time": "2020-02-10T02:13:53.142695Z"
    }
   },
   "outputs": [
    {
     "name": "stdout",
     "output_type": "stream",
     "text": [
      "['짜장면', '개', '짬뽕', '개']\n",
      "[('짜장면', 'Noun'), ('2', 'Number'), ('개', 'Noun'), (',', 'Punctuation'), ('짬뽕', 'Noun'), ('2', 'Number'), ('개', 'Noun'), ('주세요', 'Verb')]\n"
     ]
    }
   ],
   "source": [
    "text = '짜장면 2개, 짬뽕 2개 주세요'\n",
    "\n",
    "print(okt.nouns(text))\n",
    "print(okt.pos(text))"
   ]
  },
  {
   "cell_type": "markdown",
   "metadata": {},
   "source": [
    "# kkma"
   ]
  },
  {
   "cell_type": "code",
   "execution_count": 11,
   "metadata": {
    "ExecuteTime": {
     "end_time": "2020-02-10T02:15:04.724878Z",
     "start_time": "2020-02-10T02:15:04.695654Z"
    }
   },
   "outputs": [],
   "source": [
    "kkma = Kkma()"
   ]
  },
  {
   "cell_type": "code",
   "execution_count": 16,
   "metadata": {
    "ExecuteTime": {
     "end_time": "2020-02-10T02:19:04.677423Z",
     "start_time": "2020-02-10T02:19:04.655481Z"
    }
   },
   "outputs": [
    {
     "name": "stdout",
     "output_type": "stream",
     "text": [
      "kkma 문장분리 :  ['안녕하세요.', '반갑습니다.', '저는 인공지능입니다.']\n"
     ]
    }
   ],
   "source": [
    "# kkma.sentenses(): 문장 분리\n",
    "print('kkma 문장분리 : ', kkma.sentences('안녕하세요. 반갑습니다. 저는 인공지능입니다.'))   "
   ]
  },
  {
   "cell_type": "code",
   "execution_count": 17,
   "metadata": {
    "ExecuteTime": {
     "end_time": "2020-02-10T02:19:06.027238Z",
     "start_time": "2020-02-10T02:19:06.013804Z"
    }
   },
   "outputs": [
    {
     "name": "stdout",
     "output_type": "stream",
     "text": [
      "kkma 명사만 추출 :  ['을지', '3', '역', '주변', '첨단', '첨단빌딩숲', '빌딩', '숲', '사이', '자리', '커피', '커피집', '집']\n"
     ]
    }
   ],
   "source": [
    "#명사 추출\n",
    "print('kkma 명사만 추출 : ', kkma.nouns('을지로 3가역 주변 첨단빌딩숲 사이에 자리 잡은 커피집'))"
   ]
  },
  {
   "cell_type": "code",
   "execution_count": 18,
   "metadata": {
    "ExecuteTime": {
     "end_time": "2020-02-10T02:19:36.978399Z",
     "start_time": "2020-02-10T02:19:36.967377Z"
    }
   },
   "outputs": [
    {
     "name": "stdout",
     "output_type": "stream",
     "text": [
      "['짜장면', '2', '2개', '개', '짬뽕']\n",
      "[('짜장면', 'NNG'), ('2', 'NR'), ('개', 'NNM'), (',', 'SP'), ('짬뽕', 'NNG'), ('2', 'NR'), ('개', 'NNM'), ('주', 'VXV'), ('세요', 'EFN')]\n"
     ]
    }
   ],
   "source": [
    "text = '짜장면 2개, 짬뽕 2개 주세요'\n",
    "\n",
    "print(kkma.nouns(text))\n",
    "print(kkma.pos(text))"
   ]
  },
  {
   "cell_type": "markdown",
   "metadata": {},
   "source": [
    "- kkma 보다는 okt가 더 알아보기 쉬워보임"
   ]
  },
  {
   "cell_type": "code",
   "execution_count": 21,
   "metadata": {
    "ExecuteTime": {
     "end_time": "2020-02-10T02:32:56.034141Z",
     "start_time": "2020-02-10T02:32:56.031148Z"
    }
   },
   "outputs": [],
   "source": [
    "text = '''\n",
    "권상우씨 발음은 여전하시지만 연기 자체는 정말 좋았음.의외의 부분에서 빵 터지는 부분은 있었음, 스토리는 뭐.. 영화 줄거리에서 벗어나는 부분은 없음. 기대하지 않고 봤는데 재밌게 보고 나옵니다'''"
   ]
  },
  {
   "cell_type": "code",
   "execution_count": 20,
   "metadata": {
    "ExecuteTime": {
     "end_time": "2020-02-10T02:32:48.456436Z",
     "start_time": "2020-02-10T02:32:48.452497Z"
    }
   },
   "outputs": [
    {
     "data": {
      "text/plain": [
       "'\\n권상우씨 발음은 여전하시지만 연기 자체는 정말 좋았음.의외의 부분에서 빵 터지는 부분은 있었음, 스토리는 뭐.. 영화 줄거리에서 벗어나는 부분은 없음. 기대하지 않고 봤는데 재밌게 보고 나옵니다|'"
      ]
     },
     "execution_count": 20,
     "metadata": {},
     "output_type": "execute_result"
    }
   ],
   "source": [
    "text"
   ]
  },
  {
   "cell_type": "code",
   "execution_count": 22,
   "metadata": {
    "ExecuteTime": {
     "end_time": "2020-02-10T02:33:03.852776Z",
     "start_time": "2020-02-10T02:33:03.735117Z"
    }
   },
   "outputs": [
    {
     "name": "stdout",
     "output_type": "stream",
     "text": [
      "['권', '권상우씨', '상우', '씨', '발음', '연기', '자체', '외의', '부분', '빵', '스토리', '뭐', '영화', '줄거리', '기대']\n",
      "[('권', 'NNG'), ('상우', 'NNG'), ('씨', 'NNB'), ('발음', 'NNG'), ('은', 'JX'), ('여전', 'XR'), ('하', 'XSA'), ('시', 'EPH'), ('지만', 'ECE'), ('연기', 'NNG'), ('자체', 'NNG'), ('는', 'JX'), ('정말', 'MAG'), ('좋', 'VA'), ('았', 'EPT'), ('음', 'ETN'), ('.', 'SF'), ('의', 'JKG'), ('외의', 'NNG'), ('부분', 'NNG'), ('에서', 'JKM'), ('빵', 'NNG'), ('터지', 'VV'), ('는', 'ETD'), ('부분', 'NNG'), ('은', 'JX'), ('있', 'VV'), ('었', 'EPT'), ('음', 'ETN'), (',', 'SP'), ('스토리', 'NNG'), ('는', 'JX'), ('뭐', 'NP'), ('..', 'SW'), ('영화', 'NNG'), ('줄거리', 'NNG'), ('에서', 'JKM'), ('벗어나', 'VV'), ('는', 'ETD'), ('부분', 'NNG'), ('은', 'JX'), ('없', 'VA'), ('음', 'ETN'), ('.', 'SF'), ('기대', 'NNG'), ('하', 'XSV'), ('지', 'ECD'), ('않', 'VXV'), ('고', 'ECE'), ('보', 'VXV'), ('았', 'EPT'), ('는데', 'ECD'), ('재밌', 'VA'), ('게', 'ECD'), ('보', 'VV'), ('고', 'ECE'), ('나오', 'VV'), ('ㅂ니다', 'EFN')]\n"
     ]
    }
   ],
   "source": [
    "print(kkma.nouns(text))\n",
    "print(kkma.pos(text))"
   ]
  },
  {
   "cell_type": "code",
   "execution_count": null,
   "metadata": {},
   "outputs": [],
   "source": []
  }
 ],
 "metadata": {
  "kernelspec": {
   "display_name": "Python 3",
   "language": "python",
   "name": "python3"
  },
  "language_info": {
   "codemirror_mode": {
    "name": "ipython",
    "version": 3
   },
   "file_extension": ".py",
   "mimetype": "text/x-python",
   "name": "python",
   "nbconvert_exporter": "python",
   "pygments_lexer": "ipython3",
   "version": "3.7.5"
  },
  "toc": {
   "base_numbering": 1,
   "nav_menu": {},
   "number_sections": false,
   "sideBar": true,
   "skip_h1_title": false,
   "title_cell": "Table of Contents",
   "title_sidebar": "Contents",
   "toc_cell": false,
   "toc_position": {},
   "toc_section_display": true,
   "toc_window_display": false
  },
  "varInspector": {
   "cols": {
    "lenName": 16,
    "lenType": 16,
    "lenVar": 40
   },
   "kernels_config": {
    "python": {
     "delete_cmd_postfix": "",
     "delete_cmd_prefix": "del ",
     "library": "var_list.py",
     "varRefreshCmd": "print(var_dic_list())"
    },
    "r": {
     "delete_cmd_postfix": ") ",
     "delete_cmd_prefix": "rm(",
     "library": "var_list.r",
     "varRefreshCmd": "cat(var_dic_list()) "
    }
   },
   "types_to_exclude": [
    "module",
    "function",
    "builtin_function_or_method",
    "instance",
    "_Feature"
   ],
   "window_display": false
  }
 },
 "nbformat": 4,
 "nbformat_minor": 2
}
