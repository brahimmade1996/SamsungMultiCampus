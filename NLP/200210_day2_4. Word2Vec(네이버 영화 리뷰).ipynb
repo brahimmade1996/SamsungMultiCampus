{
 "cells": [
  {
   "cell_type": "code",
   "execution_count": 1,
   "metadata": {
    "ExecuteTime": {
     "end_time": "2020-02-10T06:08:48.087299Z",
     "start_time": "2020-02-10T06:08:45.185931Z"
    }
   },
   "outputs": [],
   "source": [
    "from gensim.models import Word2Vec\n",
    "import matplotlib.pyplot as plt\n",
    "import codecs\n",
    "from konlpy.tag import Twitter\n",
    "from gensim.models import word2vec\n",
    "from konlpy.utils import pprint\n",
    "from sklearn.manifold import TSNE\n",
    "\n",
    "import numpy as np\n",
    "from sklearn.naive_bayes import GaussianNB\n",
    "from sklearn.metrics import accuracy_score\n",
    "from sklearn.feature_extraction.text import CountVectorizer\n",
    "from sklearn.feature_extraction.text import TfidfVectorizer\n",
    "from sklearn.metrics.pairwise import cosine_similarity\n",
    "from sklearn.linear_model import SGDClassifier\n",
    "from sklearn.svm import LinearSVC\n",
    "from tensorflow.keras.datasets import imdb\n",
    "from konlpy.tag import Twitter\n",
    "from konlpy.tag import Okt\n",
    "from konlpy.tag import Kkma \n",
    "from konlpy.tag import Twitter\n",
    "from pprint import pprint\n",
    "import nltk\n",
    "from nltk.classify.scikitlearn import SklearnClassifier\n",
    "from wordcloud import WordCloud, STOPWORDS\n",
    "from gensim import corpora, models\n",
    "import numpy  as np\n",
    "from PIL import Image\n",
    "from wordcloud import ImageColorGenerator\n",
    "import glob\n",
    "import re\n",
    "import matplotlib.pyplot as plt\n",
    "from tensorflow.keras.preprocessing.text import Tokenizer\n",
    "from tensorflow.keras.preprocessing.sequence import pad_sequences\n",
    "%matplotlib inline"
   ]
  },
  {
   "cell_type": "markdown",
   "metadata": {},
   "source": [
    "# 2. 네이버 리뷰 분석"
   ]
  },
  {
   "cell_type": "markdown",
   "metadata": {},
   "source": [
    "## 2.1. data\n",
    "- 데이터는 문장들의 집합으로 구성\n",
    "- 리스트 안에 리스트 형태로 구성"
   ]
  },
  {
   "cell_type": "markdown",
   "metadata": {
    "ExecuteTime": {
     "end_time": "2020-02-10T06:23:27.940165Z",
     "start_time": "2020-02-10T06:23:27.934228Z"
    }
   },
   "source": [
    "### 차원 주의!!!\n",
    "> 문장은 의미가 없음\n",
    "- 입력만 문장단위로 들어갔을 뿐\n",
    "- 단어로만 분석이 들어감(주변단어, 중심단어로 거리 파악)"
   ]
  },
  {
   "cell_type": "code",
   "execution_count": 2,
   "metadata": {
    "ExecuteTime": {
     "end_time": "2020-02-10T06:09:13.390976Z",
     "start_time": "2020-02-10T06:09:13.174734Z"
    }
   },
   "outputs": [],
   "source": [
    "def read_data(filename):\n",
    "    with open(filename, encoding = 'utf-8', mode = 'r') as f:\n",
    "        data = [line.split('\\t') for line in f.read() .splitlines()]\n",
    "        data = data[1:] # header 제외\n",
    "    return data\n",
    "\n",
    "rating_train = read_data('ratings_train.txt')\n",
    "        "
   ]
  },
  {
   "cell_type": "code",
   "execution_count": 3,
   "metadata": {
    "ExecuteTime": {
     "end_time": "2020-02-10T06:09:13.630335Z",
     "start_time": "2020-02-10T06:09:13.625349Z"
    }
   },
   "outputs": [
    {
     "data": {
      "text/plain": [
       "['3819312', '흠...포스터보고 초딩영화줄....오버연기조차 가볍지 않구나', '1']"
      ]
     },
     "execution_count": 3,
     "metadata": {},
     "output_type": "execute_result"
    }
   ],
   "source": [
    "rating_train[1]"
   ]
  },
  {
   "cell_type": "code",
   "execution_count": 42,
   "metadata": {
    "ExecuteTime": {
     "end_time": "2020-02-10T06:22:23.157015Z",
     "start_time": "2020-02-10T06:22:23.143962Z"
    }
   },
   "outputs": [
    {
     "data": {
      "text/plain": [
       "150000"
      ]
     },
     "execution_count": 42,
     "metadata": {},
     "output_type": "execute_result"
    }
   ],
   "source": [
    "len(rating_train) # 150000개 데이터 "
   ]
  },
  {
   "cell_type": "markdown",
   "metadata": {},
   "source": [
    "### 형태소 분석기로 단어 선별하기"
   ]
  },
  {
   "cell_type": "code",
   "execution_count": 4,
   "metadata": {
    "ExecuteTime": {
     "end_time": "2020-02-10T06:09:13.976447Z",
     "start_time": "2020-02-10T06:09:13.868698Z"
    }
   },
   "outputs": [],
   "source": [
    "okt = Okt()"
   ]
  },
  {
   "cell_type": "code",
   "execution_count": 5,
   "metadata": {
    "ExecuteTime": {
     "end_time": "2020-02-10T06:09:14.232394Z",
     "start_time": "2020-02-10T06:09:14.228477Z"
    }
   },
   "outputs": [],
   "source": [
    "# 형태소 분석해서 '단어/형태소 ' 형태로 만들기\n",
    "def tokens(doc):\n",
    "    return ['/'.join(t) for t in okt.pos(doc, norm = True, stem = True)]"
   ]
  },
  {
   "cell_type": "code",
   "execution_count": 6,
   "metadata": {
    "ExecuteTime": {
     "end_time": "2020-02-10T06:09:17.079990Z",
     "start_time": "2020-02-10T06:09:14.469759Z"
    }
   },
   "outputs": [
    {
     "data": {
      "text/plain": [
       "['흠/Noun',\n",
       " '.../Punctuation',\n",
       " '포스터/Noun',\n",
       " '보고/Noun',\n",
       " '초딩/Noun',\n",
       " '영화/Noun',\n",
       " '줄/Noun',\n",
       " '..../Punctuation',\n",
       " '오버/Noun',\n",
       " '연기/Noun',\n",
       " '조차/Josa',\n",
       " '가볍다/Adjective',\n",
       " '않다/Verb']"
      ]
     },
     "execution_count": 6,
     "metadata": {},
     "output_type": "execute_result"
    }
   ],
   "source": [
    "tokens(rating_train[1][1])"
   ]
  },
  {
   "cell_type": "code",
   "execution_count": 7,
   "metadata": {
    "ExecuteTime": {
     "end_time": "2020-02-10T06:09:17.337144Z",
     "start_time": "2020-02-10T06:09:17.317100Z"
    }
   },
   "outputs": [
    {
     "data": {
      "text/plain": [
       "['아 더빙.. 진짜 짜증나네요 목소리',\n",
       " '흠...포스터보고 초딩영화줄....오버연기조차 가볍지 않구나',\n",
       " '너무재밓었다그래서보는것을추천한다',\n",
       " '교도소 이야기구먼 ..솔직히 재미는 없다..평점 조정',\n",
       " '사이몬페그의 익살스런 연기가 돋보였던 영화!스파이더맨에서 늙어보이기만 했던 커스틴 던스트가 너무나도 이뻐보였다',\n",
       " '막 걸음마 뗀 3세부터 초등학교 1학년생인 8살용영화.ㅋㅋㅋ...별반개도 아까움.',\n",
       " '원작의 긴장감을 제대로 살려내지못했다.',\n",
       " '별 반개도 아깝다 욕나온다 이응경 길용우 연기생활이몇년인지..정말 발로해도 그것보단 낫겟다 납치.감금만반복반복..이드라마는 가족도없다 연기못하는사람만모엿네',\n",
       " '액션이 없는데도 재미 있는 몇안되는 영화',\n",
       " '왜케 평점이 낮은건데? 꽤 볼만한데.. 헐리우드식 화려함에만 너무 길들여져 있나?']"
      ]
     },
     "execution_count": 7,
     "metadata": {},
     "output_type": "execute_result"
    }
   ],
   "source": [
    "docs = []\n",
    "for row in rating_train:\n",
    "    docs.append(row[1])\n",
    "docs[:10]    "
   ]
  },
  {
   "cell_type": "code",
   "execution_count": 8,
   "metadata": {
    "ExecuteTime": {
     "end_time": "2020-02-10T06:09:17.684168Z",
     "start_time": "2020-02-10T06:09:17.680160Z"
    }
   },
   "outputs": [
    {
     "data": {
      "text/plain": [
       "150000"
      ]
     },
     "execution_count": 8,
     "metadata": {},
     "output_type": "execute_result"
    }
   ],
   "source": [
    "len(docs)  # 15000차원"
   ]
  },
  {
   "cell_type": "markdown",
   "metadata": {
    "ExecuteTime": {
     "start_time": "2020-02-10T06:09:14.650Z"
    }
   },
   "source": [
    "data = [tokens(d) for d in docs]"
   ]
  },
  {
   "cell_type": "code",
   "execution_count": 44,
   "metadata": {
    "ExecuteTime": {
     "end_time": "2020-02-10T06:23:34.179608Z",
     "start_time": "2020-02-10T06:23:34.173583Z"
    }
   },
   "outputs": [
    {
     "data": {
      "text/plain": [
       "['아/Exclamation',\n",
       " '더빙/Noun',\n",
       " '../Punctuation',\n",
       " '진짜/Noun',\n",
       " '짜증나다/Adjective',\n",
       " '목소리/Noun']"
      ]
     },
     "execution_count": 44,
     "metadata": {},
     "output_type": "execute_result"
    }
   ],
   "source": [
    "data[0]"
   ]
  },
  {
   "cell_type": "code",
   "execution_count": null,
   "metadata": {},
   "outputs": [],
   "source": []
  },
  {
   "cell_type": "markdown",
   "metadata": {},
   "source": [
    "## 2.2. model"
   ]
  },
  {
   "cell_type": "code",
   "execution_count": null,
   "metadata": {
    "ExecuteTime": {
     "start_time": "2020-02-10T06:09:15.137Z"
    }
   },
   "outputs": [],
   "source": [
    "w2v_model = Word2Vec(data,\n",
    "                    size = 100, # 100차원\n",
    "                    window = 3,\n",
    "                    min_count = 3)"
   ]
  },
  {
   "cell_type": "code",
   "execution_count": null,
   "metadata": {
    "ExecuteTime": {
     "start_time": "2020-02-10T06:09:15.257Z"
    }
   },
   "outputs": [],
   "source": [
    "w2v_model.save('namver.model')"
   ]
  },
  {
   "cell_type": "code",
   "execution_count": 45,
   "metadata": {
    "ExecuteTime": {
     "end_time": "2020-02-10T06:23:50.280077Z",
     "start_time": "2020-02-10T06:23:50.262275Z"
    }
   },
   "outputs": [],
   "source": [
    "# 단어벡터를 구한다.\n",
    "word_vectors = w2v_model.wv"
   ]
  },
  {
   "cell_type": "markdown",
   "metadata": {},
   "source": [
    "## 2.3 총 단어 확인"
   ]
  },
  {
   "cell_type": "code",
   "execution_count": 46,
   "metadata": {
    "ExecuteTime": {
     "end_time": "2020-02-10T06:23:53.546666Z",
     "start_time": "2020-02-10T06:23:53.541707Z"
    }
   },
   "outputs": [
    {
     "data": {
      "text/plain": [
       "21093"
      ]
     },
     "execution_count": 46,
     "metadata": {},
     "output_type": "execute_result"
    }
   ],
   "source": [
    "len(word_vectors.vocab.keys())"
   ]
  },
  {
   "cell_type": "markdown",
   "metadata": {},
   "source": [
    "## 2.3. 유사도"
   ]
  },
  {
   "cell_type": "code",
   "execution_count": null,
   "metadata": {
    "ExecuteTime": {
     "start_time": "2020-02-10T06:09:16.242Z"
    }
   },
   "outputs": [],
   "source": [
    "# 남자 + 여배우 = 배우 = 여자\n",
    "# 남자 - 배우 = 여자 - 여배우\n",
    "# u' : 유니코드 인코딩 방식임.->안써도 됨..(editor가 unicode이므로 상관없음.)\n",
    "w2v_model.wv.most_similar(positive = tokens(u'남자 여배우'),\n",
    "                          negative = tokens(u'배우'),\n",
    "                          topn = 5)"
   ]
  },
  {
   "cell_type": "code",
   "execution_count": null,
   "metadata": {
    "ExecuteTime": {
     "start_time": "2020-02-10T06:09:16.377Z"
    }
   },
   "outputs": [],
   "source": [
    "w2v_model.wv.most_similar(tokens('정우성'))\n",
    "                         "
   ]
  },
  {
   "cell_type": "code",
   "execution_count": null,
   "metadata": {
    "ExecuteTime": {
     "start_time": "2020-02-10T06:09:16.697Z"
    }
   },
   "outputs": [],
   "source": [
    "w2v_model.wv.most_similar(tokens('토르'))\n"
   ]
  },
  {
   "cell_type": "markdown",
   "metadata": {},
   "source": [
    "## 2.4. 21093차원 -> 100차원의 의미"
   ]
  },
  {
   "cell_type": "markdown",
   "metadata": {},
   "source": [
    "## <font color = 'red'>차원 주의</font>\n",
    "\n",
    "> (21093, 21093) -> ( 21093, 100)\n",
    "- 문장 15000개는 의미가 없음.\n",
    "- 원래 데이터: 희소 행렬 이므로\n",
    "- 100차원으로 축소하기"
   ]
  },
  {
   "cell_type": "code",
   "execution_count": 49,
   "metadata": {
    "ExecuteTime": {
     "end_time": "2020-02-10T06:28:51.348048Z",
     "start_time": "2020-02-10T06:28:51.343108Z"
    }
   },
   "outputs": [
    {
     "name": "stdout",
     "output_type": "stream",
     "text": [
      "21093\n"
     ]
    }
   ],
   "source": [
    "vocabs = w2v_model.wv.vocab.keys()\n",
    "print(len(vocabs))"
   ]
  },
  {
   "cell_type": "code",
   "execution_count": 38,
   "metadata": {
    "ExecuteTime": {
     "end_time": "2020-02-10T06:21:11.781075Z",
     "start_time": "2020-02-10T06:21:11.776090Z"
    }
   },
   "outputs": [
    {
     "name": "stdout",
     "output_type": "stream",
     "text": [
      "['아/Exclamation', '더빙/Noun', '../Punctuation', '진짜/Noun', '짜증나다/Adjective', '목소리/Noun', '흠/Noun', '.../Punctuation', '포스터/Noun', '보고/Noun']\n"
     ]
    }
   ],
   "source": [
    "vocab = list(w2v_model.wv.vocab)\n",
    "print(vocab[:10])"
   ]
  },
  {
   "cell_type": "code",
   "execution_count": 34,
   "metadata": {
    "ExecuteTime": {
     "end_time": "2020-02-10T06:20:35.353197Z",
     "start_time": "2020-02-10T06:20:35.303241Z"
    }
   },
   "outputs": [
    {
     "name": "stdout",
     "output_type": "stream",
     "text": [
      "(21093, 100)\n",
      "[[-3.4773293e-01 -2.7933770e-01  5.8385831e-01 ... -1.8251875e-01\n",
      "   6.4407879e-01  1.6822879e-01]\n",
      " [-3.9012605e-01 -3.9879540e-01  3.3340061e-01 ...  7.1230948e-01\n",
      "   6.4766300e-01 -4.5385790e-01]\n",
      " [ 2.6111564e-01 -7.5310767e-01  9.6518594e-01 ... -8.2907581e-01\n",
      "   6.4028645e-01  4.6029827e-01]\n",
      " ...\n",
      " [ 3.2776746e-04 -5.4551627e-02  1.2663308e-01 ... -2.8850146e-02\n",
      "   2.2676624e-03  4.8130918e-02]\n",
      " [-6.0519939e-03 -8.6698150e-03  4.3702286e-02 ...  6.7028203e-03\n",
      "  -2.3353072e-02 -1.4786323e-02]\n",
      " [-1.9807274e-02 -2.4339443e-02  2.5060497e-02 ...  9.8424871e-04\n",
      "   1.5898630e-02  1.0435230e-02]]\n"
     ]
    },
    {
     "name": "stderr",
     "output_type": "stream",
     "text": [
      "C:\\Users\\student\\.conda\\envs\\test\\lib\\site-packages\\ipykernel_launcher.py:1: DeprecationWarning: Call to deprecated `__getitem__` (Method will be removed in 4.0.0, use self.wv.__getitem__() instead).\n",
      "  \"\"\"Entry point for launching an IPython kernel.\n"
     ]
    }
   ],
   "source": [
    "X = w2v_model[vocab]\n",
    "print(X.shape)\n",
    "print(X)"
   ]
  },
  {
   "cell_type": "markdown",
   "metadata": {},
   "source": [
    "## 2.5. 시각화: 100차원 -> 2차원"
   ]
  },
  {
   "cell_type": "code",
   "execution_count": 52,
   "metadata": {
    "ExecuteTime": {
     "end_time": "2020-02-10T06:34:24.543686Z",
     "start_time": "2020-02-10T06:34:23.310150Z"
    }
   },
   "outputs": [],
   "source": [
    "# 고차원 -> 저차원 바꾸는 알고리즘\n",
    "# PCA: 선형\n",
    "# TSNE: 비선형도 가능, data가 많을수록 오래걸림(n^2 복잡도)\n",
    "tsne = TSNE(n_components =2)\n",
    "X_tsne = tsne.fit_transform(X[:300,:])"
   ]
  },
  {
   "cell_type": "code",
   "execution_count": 54,
   "metadata": {
    "ExecuteTime": {
     "end_time": "2020-02-10T06:34:47.788996Z",
     "start_time": "2020-02-10T06:34:47.302757Z"
    }
   },
   "outputs": [
    {
     "data": {
      "image/png": "[encoded data removed]",
      "text/plain": [
       "<Figure size 1440x720 with 1 Axes>"
      ]
     },
     "metadata": {
      "needs_background": "light"
     },
     "output_type": "display_data"
    }
   ],
   "source": [
    "from matplotlib import font_manager, rc\n",
    "font_name = font_manager.FontProperties(fname=\"c:/Windows/Fonts/malgun.ttf\").get_name()\n",
    "rc('font', family=font_name)\n",
    "import matplotlib as mpl\n",
    "\n",
    "mpl.rcParams['axes.unicode_minus'] = False\n",
    "\n",
    "plt.figure(figsize = (20,10))\n",
    "plt.scatter(X_tsne[:,0], X_tsne[:,1], c='red')\n",
    "\n",
    "words = vocab[:10]    \n",
    "for i, word in enumerate(words):\n",
    "    plt.text(X_tsne[i,0], X_tsne[i,1 ], word, fontsize=8) \n",
    "plt.savefig('out.png', dpi=200)"
   ]
  },
  {
   "cell_type": "markdown",
   "metadata": {},
   "source": [
    "## 2.6. 특정 단어와 유사한 단어만 출력하기"
   ]
  },
  {
   "cell_type": "markdown",
   "metadata": {},
   "source": [
    "### text : 1개 입력"
   ]
  },
  {
   "cell_type": "code",
   "execution_count": 119,
   "metadata": {
    "ExecuteTime": {
     "end_time": "2020-02-10T07:20:55.461081Z",
     "start_time": "2020-02-10T07:20:55.454048Z"
    }
   },
   "outputs": [],
   "source": [
    "tsne = TSNE(n_components =2)\n",
    "\n",
    "\n",
    "def visualize(text):\n",
    "    similar_word = w2v_model.wv.most_similar(tokens(text), topn = 30)\n",
    "    \n",
    "    data_list = [i[0] for i in similar_word]\n",
    "\n",
    "    vector_list = [w2v_model[i] for i in data_list]\n",
    "\n",
    "    X_tsne = tsne.fit_transform(vector_list)\n",
    "    plt.scatter(X_tsne[:,0], X_tsne[:,1], c='red')\n",
    "\n",
    "    words = vocab[:10]    \n",
    "    for i, word in enumerate(words):\n",
    "        plt.text(X_tsne[i,0], X_tsne[i,1 ], data_list[i], fontsize=8) \n",
    "    \n",
    "    plt.savefig('out.png', dpi=200)"
   ]
  },
  {
   "cell_type": "code",
   "execution_count": 121,
   "metadata": {
    "ExecuteTime": {
     "end_time": "2020-02-10T07:21:13.839939Z",
     "start_time": "2020-02-10T07:21:13.521789Z"
    }
   },
   "outputs": [
    {
     "name": "stderr",
     "output_type": "stream",
     "text": [
      "C:\\Users\\student\\.conda\\envs\\test\\lib\\site-packages\\ipykernel_launcher.py:9: DeprecationWarning: Call to deprecated `__getitem__` (Method will be removed in 4.0.0, use self.wv.__getitem__() instead).\n",
      "  if __name__ == '__main__':\n"
     ]
    },
    {
     "data": {
      "image/png": "[encoded data removed]",
      "text/plain": [
       "<Figure size 432x288 with 1 Axes>"
      ]
     },
     "metadata": {
      "needs_background": "light"
     },
     "output_type": "display_data"
    }
   ],
   "source": [
    "visualize('정우성')"
   ]
  },
  {
   "cell_type": "code",
   "execution_count": 122,
   "metadata": {
    "ExecuteTime": {
     "end_time": "2020-02-10T07:21:22.812099Z",
     "start_time": "2020-02-10T07:21:22.480720Z"
    }
   },
   "outputs": [
    {
     "name": "stderr",
     "output_type": "stream",
     "text": [
      "C:\\Users\\student\\.conda\\envs\\test\\lib\\site-packages\\ipykernel_launcher.py:9: DeprecationWarning: Call to deprecated `__getitem__` (Method will be removed in 4.0.0, use self.wv.__getitem__() instead).\n",
      "  if __name__ == '__main__':\n"
     ]
    },
    {
     "data": {
      "image/png": "[encoded data removed]",
      "text/plain": [
       "<Figure size 432x288 with 1 Axes>"
      ]
     },
     "metadata": {
      "needs_background": "light"
     },
     "output_type": "display_data"
    }
   ],
   "source": [
    "visualize('엄마')"
   ]
  },
  {
   "cell_type": "markdown",
   "metadata": {},
   "source": [
    "### text : 2개 입력"
   ]
  },
  {
   "cell_type": "code",
   "execution_count": 117,
   "metadata": {
    "ExecuteTime": {
     "end_time": "2020-02-10T07:19:09.972526Z",
     "start_time": "2020-02-10T07:19:09.965527Z"
    }
   },
   "outputs": [],
   "source": [
    "tsne = TSNE(n_components =2)\n",
    "\n",
    "\n",
    "def visualize(text, text2):\n",
    "    similar_word = w2v_model.wv.most_similar(tokens(text), topn = 30)\n",
    "    similar_word2 = w2v_model.wv.most_similar(tokens(text2), topn = 30)\n",
    "\n",
    "    \n",
    "    data_list = [i[0] for i in similar_word]\n",
    "    data_list2 = [i[0] for i in similar_word2]\n",
    "\n",
    "    vector_list = w2v_model[data_list]\n",
    "    vector_list2 = w2v_model[data_list2]\n",
    "    \n",
    "    X_tsne = tsne.fit_transform(vector_list)\n",
    "    X_tsne2 = tsne.fit_transform(vector_list2)\n",
    "\n",
    "    plt.scatter(X_tsne[:,0], X_tsne[:,1], c='red')\n",
    "    plt.scatter(X_tsne2[:,0], X_tsne2[:,1], c='blue')\n",
    "\n",
    "\n",
    "    for i, word in enumerate(zip(data_list, data_list2)):\n",
    "        plt.text(X_tsne[i,0], X_tsne[i,1 ], data_list[i], fontsize=8) \n",
    "        plt.text(X_tsne2[i,0], X_tsne2[i,1 ], data_list2[i], fontsize=8) \n",
    "\n",
    "    \n",
    "    plt.savefig('out.png', dpi=200)"
   ]
  },
  {
   "cell_type": "code",
   "execution_count": 114,
   "metadata": {
    "ExecuteTime": {
     "end_time": "2020-02-10T07:14:34.328494Z",
     "start_time": "2020-02-10T07:14:33.343846Z"
    }
   },
   "outputs": [
    {
     "name": "stderr",
     "output_type": "stream",
     "text": [
      "C:\\Users\\student\\.conda\\envs\\test\\lib\\site-packages\\ipykernel_launcher.py:12: DeprecationWarning: Call to deprecated `__getitem__` (Method will be removed in 4.0.0, use self.wv.__getitem__() instead).\n",
      "  if sys.path[0] == '':\n",
      "C:\\Users\\student\\.conda\\envs\\test\\lib\\site-packages\\ipykernel_launcher.py:13: DeprecationWarning: Call to deprecated `__getitem__` (Method will be removed in 4.0.0, use self.wv.__getitem__() instead).\n",
      "  del sys.path[0]\n"
     ]
    },
    {
     "data": {
      "image/png": "[encoded data removed]",
      "text/plain": [
       "<Figure size 1440x720 with 1 Axes>"
      ]
     },
     "metadata": {
      "needs_background": "light"
     },
     "output_type": "display_data"
    }
   ],
   "source": [
    "visualize('정우성', '엄마')"
   ]
  },
  {
   "cell_type": "markdown",
   "metadata": {},
   "source": [
    "### 강사님 코드"
   ]
  },
  {
   "cell_type": "code",
   "execution_count": 110,
   "metadata": {
    "ExecuteTime": {
     "end_time": "2020-02-10T07:12:54.668651Z",
     "start_time": "2020-02-10T07:12:54.655162Z"
    }
   },
   "outputs": [
    {
     "name": "stderr",
     "output_type": "stream",
     "text": [
      "C:\\Users\\student\\.conda\\envs\\test\\lib\\site-packages\\ipykernel_launcher.py:4: DeprecationWarning: Call to deprecated `__getitem__` (Method will be removed in 4.0.0, use self.wv.__getitem__() instead).\n",
      "  after removing the cwd from sys.path.\n"
     ]
    }
   ],
   "source": [
    "group1 = w2v_model.wv.most_similar(tokens('엄마'), topn=30)\n",
    "group1 = [w for ( w,  s )  in  group1 ]\n",
    "\n",
    "X1 = w2v_model[group1]\n"
   ]
  },
  {
   "cell_type": "code",
   "execution_count": 105,
   "metadata": {
    "ExecuteTime": {
     "end_time": "2020-02-10T07:10:12.777009Z",
     "start_time": "2020-02-10T07:10:12.770408Z"
    }
   },
   "outputs": [
    {
     "name": "stderr",
     "output_type": "stream",
     "text": [
      "C:\\Users\\student\\.conda\\envs\\test\\lib\\site-packages\\ipykernel_launcher.py:3: DeprecationWarning: Call to deprecated `__getitem__` (Method will be removed in 4.0.0, use self.wv.__getitem__() instead).\n",
      "  This is separate from the ipykernel package so we can avoid doing imports until\n"
     ]
    }
   ],
   "source": [
    "group2 = w2v_model.wv.most_similar(tokens('정우성'), topn=30)\n",
    "group2 = [w for ( w,  s )  in  group2 ]\n",
    "X2 = w2v_model[group2]"
   ]
  },
  {
   "cell_type": "code",
   "execution_count": 106,
   "metadata": {
    "ExecuteTime": {
     "end_time": "2020-02-10T07:10:14.200623Z",
     "start_time": "2020-02-10T07:10:13.895689Z"
    }
   },
   "outputs": [
    {
     "data": {
      "text/plain": [
       "<matplotlib.collections.PathCollection at 0x1a615e52448>"
      ]
     },
     "execution_count": 106,
     "metadata": {},
     "output_type": "execute_result"
    },
    {
     "data": {
      "image/png": "[encoded data removed]",
      "text/plain": [
       "<Figure size 432x288 with 1 Axes>"
      ]
     },
     "metadata": {
      "needs_background": "light"
     },
     "output_type": "display_data"
    }
   ],
   "source": [
    "X_tsne =tsne.fit_transform(np.vstack([X1, X2]))\n",
    "\n",
    "label = np.hstack([0*np.ones(30), np.ones(30)  ])\n",
    "c = [ 'red'  if l == 0  else 'blue'  for l in label ]\n",
    "\n",
    "plt.scatter(X_tsne[:,0], X_tsne[:,1], color=c)"
   ]
  },
  {
   "cell_type": "markdown",
   "metadata": {
    "ExecuteTime": {
     "end_time": "2020-02-10T07:18:30.146751Z",
     "start_time": "2020-02-10T07:18:30.142732Z"
    }
   },
   "source": [
    "### 실행할 때마다 결과가 다름\n",
    "- 입력 데이터가 같은데..\n",
    "- 2차원으로 줄이는 과정에서 값이 달라짐\n",
    "\n",
    "> tsne\n",
    "- 시각적으로 보이기 위한 용도이므로\n",
    "- feature로 고정하기 위해서는 pca 알고리즘 사용해야 함.\n",
    "- clustering 알고리즘으로 누구를 기준으로 잡느냐에 따라 결과가 달라짐. "
   ]
  },
  {
   "cell_type": "code",
   "execution_count": null,
   "metadata": {},
   "outputs": [],
   "source": []
  }
 ],
 "metadata": {
  "kernelspec": {
   "display_name": "Python 3",
   "language": "python",
   "name": "python3"
  },
  "language_info": {
   "codemirror_mode": {
    "name": "ipython",
    "version": 3
   },
   "file_extension": ".py",
   "mimetype": "text/x-python",
   "name": "python",
   "nbconvert_exporter": "python",
   "pygments_lexer": "ipython3",
   "version": "3.7.5"
  },
  "toc": {
   "base_numbering": 1,
   "nav_menu": {},
   "number_sections": false,
   "sideBar": true,
   "skip_h1_title": false,
   "title_cell": "Table of Contents",
   "title_sidebar": "Contents",
   "toc_cell": false,
   "toc_position": {},
   "toc_section_display": true,
   "toc_window_display": true
  },
  "varInspector": {
   "cols": {
    "lenName": 16,
    "lenType": 16,
    "lenVar": 40
   },
   "kernels_config": {
    "python": {
     "delete_cmd_postfix": "",
     "delete_cmd_prefix": "del ",
     "library": "var_list.py",
     "varRefreshCmd": "print(var_dic_list())"
    },
    "r": {
     "delete_cmd_postfix": ") ",
     "delete_cmd_prefix": "rm(",
     "library": "var_list.r",
     "varRefreshCmd": "cat(var_dic_list()) "
    }
   },
   "types_to_exclude": [
    "module",
    "function",
    "builtin_function_or_method",
    "instance",
    "_Feature"
   ],
   "window_display": false
  }
 },
 "nbformat": 4,
 "nbformat_minor": 2
}
