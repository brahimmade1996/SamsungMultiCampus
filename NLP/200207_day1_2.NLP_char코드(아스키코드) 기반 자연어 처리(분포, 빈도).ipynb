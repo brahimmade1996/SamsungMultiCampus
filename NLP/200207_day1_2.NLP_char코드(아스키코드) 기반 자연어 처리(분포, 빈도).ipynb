{
 "cells": [
  {
   "cell_type": "code",
   "execution_count": 3,
   "metadata": {
    "ExecuteTime": {
     "end_time": "2020-02-07T01:13:35.674886Z",
     "start_time": "2020-02-07T01:13:34.875324Z"
    }
   },
   "outputs": [],
   "source": [
    "import numpy as np\n",
    "from sklearn.naive_bayes import GaussianNB\n",
    "from sklearn.metrics import accuracy_score\n",
    "from sklearn.feature_extraction.text import CountVectorizer\n",
    "from sklearn.feature_extraction.text import TfidfVectorizer\n",
    "from sklearn.metrics.pairwise import cosine_similarity\n",
    "from sklearn.linear_model import SGDClassifier\n",
    "from sklearn.svm import LinearSVC\n",
    "from tensorflow.keras.datasets import imdb\n",
    "#  한국어 형태소 분석기\n",
    "from konlpy.tag import Twitter\n",
    "from konlpy.tag import Okt\n",
    "from konlpy.tag import Kkma \n",
    "from konlpy.tag import Twitter\n",
    "from pprint import pprint\n",
    "import nltk\n",
    "from nltk.classify.scikitlearn import SklearnClassifier\n",
    "from wordcloud import WordCloud, STOPWORDS\n",
    "from gensim import corpora, models\n",
    "import numpy  as np\n",
    "from PIL import Image\n",
    "from wordcloud import ImageColorGenerator\n",
    "import glob\n",
    "import re\n",
    "import matplotlib.pyplot as plt\n",
    "from tensorflow.keras.preprocessing.text import Tokenizer\n",
    "from tensorflow.keras.preprocessing.sequence import pad_sequences\n",
    "%matplotlib inline\n"
   ]
  },
  {
   "cell_type": "markdown",
   "metadata": {},
   "source": [
    "> 설치 오류시\n",
    "- conda install -c conda-forge jpype1"
   ]
  },
  {
   "cell_type": "markdown",
   "metadata": {},
   "source": [
    "# char코드 기반 자연어 처리\n",
    "# 한국어, 일어, 영어, 중국어 인식\n",
    "\n",
    "> 유니코드\n",
    "- 1글자: 1character\n",
    "- 내부적으로는 2글자"
   ]
  },
  {
   "cell_type": "code",
   "execution_count": 6,
   "metadata": {
    "ExecuteTime": {
     "end_time": "2020-02-07T01:22:42.326000Z",
     "start_time": "2020-02-07T01:22:42.322012Z"
    }
   },
   "outputs": [],
   "source": [
    "ko_str = '이것은 한국어 문장입니다.'\n",
    "ja_str = 'これは日本語の文章です。'\n",
    "en_str = 'This is English Sentences.'\n",
    "ch_str = '统一码'"
   ]
  },
  {
   "cell_type": "markdown",
   "metadata": {
    "ExecuteTime": {
     "end_time": "2020-02-07T01:25:03.376257Z",
     "start_time": "2020-02-07T01:25:03.371271Z"
    }
   },
   "source": [
    "#### 아스키 코드\n",
    "- 각 글자들은 아스키 코드를 갖고 있음.\n",
    "- 코드값의 범위가 있기 때문에 왠만큼은 분류할 수 있음.\n",
    "- 영어 범위. 한글 범위 다르므로..\n",
    "- 같은 알파벳을 사용하는 영어, 스페인어끼리는 불가\n",
    "\n",
    "#### ord():  실제 코드갑을 return"
   ]
  },
  {
   "cell_type": "code",
   "execution_count": 8,
   "metadata": {
    "ExecuteTime": {
     "end_time": "2020-02-07T01:23:22.376740Z",
     "start_time": "2020-02-07T01:23:22.370756Z"
    }
   },
   "outputs": [
    {
     "name": "stdout",
     "output_type": "stream",
     "text": [
      "이 51060\n",
      "こ 12371\n",
      "T 84\n",
      "统 32479\n"
     ]
    }
   ],
   "source": [
    "print(ko_str[0], ord(ko_str[0]))\n",
    "print(ja_str[0], ord(ja_str[0]))\n",
    "print(en_str[0], ord(en_str[0]))\n",
    "print(ch_str[0], ord(ch_str[0]))"
   ]
  },
  {
   "cell_type": "markdown",
   "metadata": {},
   "source": [
    "# 1. 각 character의 분포로 어떤 언어인지 판단\n",
    "\n",
    "- 각 언어별 사용되는 문자들의 빈도수가 다름\n",
    "- 영어: 모음을 많이 사용\n",
    "- 문자별 그려지는 히스토그램 분포를 보고 어떤 언어인지 판단할 수 있음.    \n",
    "> 유니코드\n",
    "- 0~65535까지의 범위를 가짐."
   ]
  },
  {
   "cell_type": "code",
   "execution_count": 12,
   "metadata": {
    "ExecuteTime": {
     "end_time": "2020-02-07T01:34:42.555426Z",
     "start_time": "2020-02-07T01:34:42.550613Z"
    }
   },
   "outputs": [],
   "source": [
    "# Unicode 코드 포인트로 출현 빈도 판정하기 --- (*1)\n",
    "def count_codePoint(str):\n",
    "    # Unicode 코드 포인트를 저장할 배열 준비하기 --- (*2)\n",
    "    counter = np.zeros(65535)\n",
    "    for i in range(len(str)):\n",
    "        # 각 문자를 Unicode 코드 포인트로 변환하기 --- (*3)\n",
    "        code_point = ord(str[i])\n",
    "        if code_point > 65535 :\n",
    "            continue\n",
    "        # 출현 횟수 세기 --- (*4)\n",
    "        counter[code_point] += 1\n",
    "\n",
    "    # 각 요소를 문자 수로 나눠 정규화하기 --- (*5)\n",
    "    counter = counter/len(str)\n",
    "    return counter"
   ]
  },
  {
   "cell_type": "code",
   "execution_count": 13,
   "metadata": {
    "ExecuteTime": {
     "end_time": "2020-02-07T01:34:43.982366Z",
     "start_time": "2020-02-07T01:34:43.978372Z"
    }
   },
   "outputs": [],
   "source": [
    "# 학습 전용 데이터 준비하기\n",
    "ko_str = '이것은 한국어 문장입니다.'\n",
    "ja_str = 'これは日本語の文章です。'\n",
    "en_str = 'This is English Sentences.'\n",
    "\n",
    "\n",
    "x_train = [count_codePoint(ko_str), count_codePoint(ja_str),count_codePoint(en_str)]\n",
    "y_train = ['ko', 'ja', 'en']"
   ]
  },
  {
   "cell_type": "markdown",
   "metadata": {},
   "source": [
    "> 배열이 65535차원\n",
    "- 대다수의 값이 0으로 비효율적인 방법"
   ]
  },
  {
   "cell_type": "code",
   "execution_count": 14,
   "metadata": {
    "ExecuteTime": {
     "end_time": "2020-02-07T01:34:46.288586Z",
     "start_time": "2020-02-07T01:34:46.282647Z"
    }
   },
   "outputs": [
    {
     "data": {
      "text/plain": [
       "(array([   32,    46, 44163, 44397, 45768, 45796, 47928, 50612, 51008,\n",
       "        51060, 51077, 51109, 54620], dtype=int64),)"
      ]
     },
     "execution_count": 14,
     "metadata": {},
     "output_type": "execute_result"
    }
   ],
   "source": [
    "# 0이 아닌 값 확인하기 -> 인덱스 리턴\n",
    "np.where(x_train[0]>0)\n",
    "\n",
    "# 작은 숫자: 아스키코드값(공백 문자 등)\n",
    "# 큰 숫자: 한국어 "
   ]
  },
  {
   "cell_type": "code",
   "execution_count": 16,
   "metadata": {
    "ExecuteTime": {
     "end_time": "2020-02-07T01:35:43.224329Z",
     "start_time": "2020-02-07T01:35:43.218306Z"
    }
   },
   "outputs": [
    {
     "data": {
      "text/plain": [
       "array([0.14285714, 0.07142857, 0.07142857, 0.07142857, 0.07142857,\n",
       "       0.07142857, 0.07142857, 0.07142857, 0.07142857, 0.07142857,\n",
       "       0.07142857, 0.07142857, 0.07142857])"
      ]
     },
     "execution_count": 16,
     "metadata": {},
     "output_type": "execute_result"
    }
   ],
   "source": [
    "# 값 확인하기\n",
    "x_train[0][np.where(x_train[0]>0)]\n",
    "\n",
    "# 1번 나온 글자: 0.07"
   ]
  },
  {
   "cell_type": "markdown",
   "metadata": {
    "ExecuteTime": {
     "end_time": "2020-02-07T01:42:46.110177Z",
     "start_time": "2020-02-07T01:42:46.106188Z"
    }
   },
   "source": [
    "## 1.1 GaussianNB 분류기 이용"
   ]
  },
  {
   "cell_type": "markdown",
   "metadata": {
    "ExecuteTime": {
     "end_time": "2020-02-07T01:48:12.699988Z",
     "start_time": "2020-02-07T01:48:12.694050Z"
    }
   },
   "source": [
    "### GaussianNB 분류기 \n",
    "\n",
    "> 가우시안\n",
    "- 평균, 표준편차 이용\n",
    "- 데이터들끼리 거리를 모두 비교해도 되지만(KNearlis Navers방법- 오버피팅이 심함)\n",
    "\n",
    "> 정규화해서 \n",
    "- 샘플데이터를 평균으로 모델링해서\n",
    "- class간에 평균, 표준편차를 이용해서\n",
    "- 데이터가 어느 class에 가까운지 비교하기\n",
    "- 정규화해서 평균, 분산을 구하면 -> 확률값을 구할 수 있음.\n",
    "- class간 속할 확률을 구해서, 큰 쪽으로 분류하면 됨.\n",
    "\n",
    "> 학습시키다는 의미\n",
    "- 평균, 분산을 구한다는 의미\n",
    "- 데이터가 1개면 그 데이터가 평균이 됨.\n",
    "- Nearlist Navors: 학습이 필요 없음 -> 모든 데이터 간 거리를 구하면 됨.\n",
    "\n",
    "\n",
    "> y 값\n",
    "- 딥러닝에서는 err를 계산하기 위해 반드니 숫자였어야 함.\n",
    "- 이 분류기에서는 참고하는 역할만 하기 때문에 숫자가 아니어도 됨."
   ]
  },
  {
   "cell_type": "markdown",
   "metadata": {},
   "source": [
    "### 가우시안 분류기 연습"
   ]
  },
  {
   "cell_type": "code",
   "execution_count": 25,
   "metadata": {
    "ExecuteTime": {
     "end_time": "2020-02-07T01:53:50.854745Z",
     "start_time": "2020-02-07T01:53:50.754014Z"
    }
   },
   "outputs": [
    {
     "data": {
      "text/plain": [
       "<matplotlib.collections.PathCollection at 0x244f8a70c48>"
      ]
     },
     "execution_count": 25,
     "metadata": {},
     "output_type": "execute_result"
    },
    {
     "data": {
      "image/png": "[encoded data removed]",
      "text/plain": [
       "<Figure size 432x288 with 1 Axes>"
      ]
     },
     "metadata": {
      "needs_background": "light"
     },
     "output_type": "display_data"
    }
   ],
   "source": [
    "X = np.array([[-1, -1], [-2, -1], [-3, -2], [1, 1], [2, 1], [3, 2]])\n",
    "Y = np.array([1, 1, 1, 2, 2, 2])\n",
    "\n",
    "color = [ 'red' if y == 1 else 'blue' for y in Y]\n",
    "\n",
    "plt.scatter(X[:, 0], X[:, 1], color=color)\n",
    "\n",
    "t = np.array([[-0.8, -1]])\n",
    "\n",
    "plt.scatter(t[:,0], t[:,1], color='yellow')"
   ]
  },
  {
   "cell_type": "code",
   "execution_count": 26,
   "metadata": {
    "ExecuteTime": {
     "end_time": "2020-02-07T01:53:52.494550Z",
     "start_time": "2020-02-07T01:53:52.489560Z"
    }
   },
   "outputs": [
    {
     "name": "stdout",
     "output_type": "stream",
     "text": [
      "[1]\n"
     ]
    }
   ],
   "source": [
    "clf = GaussianNB()\n",
    "clf.fit(X, Y)\n",
    "print(clf.predict([[-0.8, -1]]))"
   ]
  },
  {
   "cell_type": "markdown",
   "metadata": {},
   "source": [
    "### 한글 예제에서는\n",
    "- data는 3개,\n",
    "- 차원은 65355차원\n",
    "- 딥러닝으로는 불가\n"
   ]
  },
  {
   "cell_type": "markdown",
   "metadata": {},
   "source": [
    "#### data 1개 예측"
   ]
  },
  {
   "cell_type": "markdown",
   "metadata": {},
   "source": [
    "- train data"
   ]
  },
  {
   "cell_type": "code",
   "execution_count": 27,
   "metadata": {
    "ExecuteTime": {
     "end_time": "2020-02-07T02:11:47.865468Z",
     "start_time": "2020-02-07T02:11:47.860509Z"
    }
   },
   "outputs": [],
   "source": [
    "x_train = [count_codePoint(ko_str), count_codePoint(ja_str),count_codePoint(en_str)]\n",
    "y_train = ['ko', 'ja', 'en']"
   ]
  },
  {
   "cell_type": "markdown",
   "metadata": {},
   "source": [
    "- model"
   ]
  },
  {
   "cell_type": "code",
   "execution_count": 29,
   "metadata": {
    "ExecuteTime": {
     "end_time": "2020-02-07T02:12:35.220232Z",
     "start_time": "2020-02-07T02:12:35.209270Z"
    }
   },
   "outputs": [
    {
     "data": {
      "text/plain": [
       "GaussianNB(priors=None, var_smoothing=1e-09)"
      ]
     },
     "execution_count": 29,
     "metadata": {},
     "output_type": "execute_result"
    }
   ],
   "source": [
    "clf = GaussianNB()\n",
    "clf.fit(x_train, y_train)"
   ]
  },
  {
   "cell_type": "markdown",
   "metadata": {},
   "source": [
    "- predict"
   ]
  },
  {
   "cell_type": "code",
   "execution_count": 30,
   "metadata": {
    "ExecuteTime": {
     "end_time": "2020-02-07T02:13:25.584299Z",
     "start_time": "2020-02-07T02:13:25.577295Z"
    }
   },
   "outputs": [
    {
     "data": {
      "text/plain": [
       "array(['ko'], dtype='<U2')"
      ]
     },
     "execution_count": 30,
     "metadata": {},
     "output_type": "execute_result"
    }
   ],
   "source": [
    "test_data = '안녕, 어디야'\n",
    "y_pred = clf.predict([count_codePoint(test_data)])\n"
   ]
  },
  {
   "cell_type": "code",
   "execution_count": 32,
   "metadata": {
    "ExecuteTime": {
     "end_time": "2020-02-07T02:14:55.176120Z",
     "start_time": "2020-02-07T02:14:55.169185Z"
    }
   },
   "outputs": [
    {
     "data": {
      "text/plain": [
       "array([[0., 0., 1.]])"
      ]
     },
     "execution_count": 32,
     "metadata": {},
     "output_type": "execute_result"
    }
   ],
   "source": [
    "clf.predict_proba([count_codePoint(test_data)])"
   ]
  },
  {
   "cell_type": "code",
   "execution_count": 33,
   "metadata": {
    "ExecuteTime": {
     "end_time": "2020-02-07T02:16:05.300176Z",
     "start_time": "2020-02-07T02:16:05.296183Z"
    }
   },
   "outputs": [
    {
     "data": {
      "text/plain": [
       "array(['en', 'ja', 'ko'], dtype='<U2')"
      ]
     },
     "execution_count": 33,
     "metadata": {},
     "output_type": "execute_result"
    }
   ],
   "source": [
    "clf.classes_"
   ]
  },
  {
   "cell_type": "markdown",
   "metadata": {
    "ExecuteTime": {
     "end_time": "2020-02-07T02:14:16.782853Z",
     "start_time": "2020-02-07T02:14:16.779809Z"
    }
   },
   "source": [
    "> 결과 해석\n",
    "- test data가 train data에는 없지만\n",
    "- test data의 분포가 가장 가까운 데이터일 확률을 계산(발생 빈도수 계산)\n",
    "- 학습한 데이터가 너무 없으므로 정확률이 떨어짐"
   ]
  },
  {
   "cell_type": "markdown",
   "metadata": {},
   "source": [
    "#### test dataset 예측"
   ]
  },
  {
   "cell_type": "code",
   "execution_count": 34,
   "metadata": {
    "ExecuteTime": {
     "end_time": "2020-02-07T02:17:52.576869Z",
     "start_time": "2020-02-07T02:17:52.561894Z"
    }
   },
   "outputs": [
    {
     "name": "stdout",
     "output_type": "stream",
     "text": [
      "['en' 'ja' 'ko']\n",
      "정답률 =  1.0\n"
     ]
    }
   ],
   "source": [
    "# 평가 전용 데이터 준비하기\n",
    "ko_test_str = '안녕. 어디야'\n",
    "ja_test_str = 'こんにちは'\n",
    "en_test_str = 'Hello'\n",
    "x_test = [count_codePoint(en_test_str),count_codePoint(ja_test_str),count_codePoint(ko_test_str)]\n",
    "y_test = ['en', 'ja', 'ko']\n",
    "\n",
    "# 평가하기 --- (*7)\n",
    "y_pred = clf.predict(x_test)\n",
    "print(y_pred)\n",
    "print(\"정답률 = \" , accuracy_score(y_test, y_pred))"
   ]
  },
  {
   "cell_type": "markdown",
   "metadata": {},
   "source": [
    "#### 중국어 test"
   ]
  },
  {
   "cell_type": "code",
   "execution_count": 37,
   "metadata": {
    "ExecuteTime": {
     "end_time": "2020-02-07T02:19:23.592968Z",
     "start_time": "2020-02-07T02:19:23.584975Z"
    }
   },
   "outputs": [
    {
     "data": {
      "text/plain": [
       "array(['ja'], dtype='<U2')"
      ]
     },
     "execution_count": 37,
     "metadata": {},
     "output_type": "execute_result"
    }
   ],
   "source": [
    "ch_str = '统一码'\n",
    "\n",
    "clf.predict([count_codePoint(ch_str)])"
   ]
  },
  {
   "cell_type": "markdown",
   "metadata": {},
   "source": [
    "# 2. 빈도 기반: 알파벳을 사용하는 언어들(영어, 스페인어 등)\n",
    "- 한국어, 영어, 일어는 아예 아스키코드 발생 범위가 다르지만..\n",
    "- 같은 알파벳을 사용하는 언어들은 범뮈가 같음\n",
    "- 그러나 발생 분포(빈도)가 다름!!!!\n",
    "- 데이터셋이 많아야 분포를 계산할 수 있음.\n"
   ]
  },
  {
   "cell_type": "code",
   "execution_count": 45,
   "metadata": {
    "ExecuteTime": {
     "end_time": "2020-02-07T06:31:27.273623Z",
     "start_time": "2020-02-07T06:31:27.067151Z"
    }
   },
   "outputs": [
    {
     "name": "stdout",
     "output_type": "stream",
     "text": [
      "./2.language//train\\de_cat.txt\n",
      "./2.language//train\\de_dog.txt\n",
      "./2.language//train\\de_elephant.txt\n",
      "./2.language//train\\en_cat.txt\n",
      "./2.language//train\\en_dog.txt\n",
      "./2.language//train\\en_elephant.txt\n",
      "./2.language//train\\es_cat.txt\n",
      "./2.language//train\\es_dog.txt\n",
      "./2.language//train\\es_elephant.txt\n"
     ]
    }
   ],
   "source": [
    "# 학습 데이터 준비하기 --- (*1)\n",
    "x_train = []\n",
    "y_train = []\n",
    "for file in glob.glob('./2.language//train/*.txt'):\n",
    "    # 언어 정보를 추출하고 레이블로 지정하기 --- (*2)\n",
    "    print(file)\n",
    "    y_train.append(file[8:10])\n",
    "    \n",
    "    # 파일 내부의 문자열을 모두 추출한 뒤 빈도 배열로 변환한 뒤 입력 데이터로 사용하기 --- (*3)\n",
    "    file_str = ''\n",
    "    for line in open(file, 'r', encoding='UTF8'):\n",
    "        file_str = file_str + line\n",
    "    x_train.append(count_codePoint(file_str))"
   ]
  },
  {
   "cell_type": "code",
   "execution_count": 46,
   "metadata": {
    "ExecuteTime": {
     "end_time": "2020-02-07T06:31:27.960934Z",
     "start_time": "2020-02-07T06:31:27.941912Z"
    }
   },
   "outputs": [
    {
     "data": {
      "text/plain": [
       "GaussianNB(priors=None, var_smoothing=1e-09)"
      ]
     },
     "execution_count": 46,
     "metadata": {},
     "output_type": "execute_result"
    }
   ],
   "source": [
    "# 학습하기\n",
    "clf = GaussianNB() \n",
    "clf.fit(x_train, y_train)"
   ]
  },
  {
   "cell_type": "code",
   "execution_count": 47,
   "metadata": {
    "ExecuteTime": {
     "end_time": "2020-02-07T06:31:28.621142Z",
     "start_time": "2020-02-07T06:31:28.615158Z"
    }
   },
   "outputs": [
    {
     "name": "stdout",
     "output_type": "stream",
     "text": [
      "['ua']\n"
     ]
    }
   ],
   "source": [
    "y_pred = clf.predict([count_codePoint('hello. my name is ')])\n",
    "print(y_pred)"
   ]
  },
  {
   "cell_type": "code",
   "execution_count": 48,
   "metadata": {
    "ExecuteTime": {
     "end_time": "2020-02-07T06:31:29.335922Z",
     "start_time": "2020-02-07T06:31:29.325878Z"
    }
   },
   "outputs": [
    {
     "name": "stdout",
     "output_type": "stream",
     "text": [
      "['ua' 'ua' 'ua']\n",
      "정답률 =  0.0\n"
     ]
    }
   ],
   "source": [
    "# 평가하기\n",
    "y_pred = clf.predict(x_test)\n",
    "print(y_pred)\n",
    "print(\"정답률 = \" , accuracy_score(y_test, y_pred))  "
   ]
  },
  {
   "cell_type": "code",
   "execution_count": 49,
   "metadata": {
    "ExecuteTime": {
     "end_time": "2020-02-07T06:31:53.691151Z",
     "start_time": "2020-02-07T06:31:53.679183Z"
    }
   },
   "outputs": [
    {
     "name": "stdout",
     "output_type": "stream",
     "text": [
      "['ua' 'ua' 'ua']\n",
      "['en', 'ja', 'ko']\n",
      "정답률 =  0.0\n"
     ]
    }
   ],
   "source": [
    "# 평가 전용 데이터 준비하기\n",
    "ko_test_str = '안녕'\n",
    "ja_test_str = 'こんにちは'\n",
    "en_test_str = 'Hello'\n",
    "x_test = [count_codePoint(en_test_str),count_codePoint(ja_test_str),count_codePoint(ko_test_str)]\n",
    "y_test = ['en', 'ja', 'ko']\n",
    "\n",
    "# 평가하기 --- (*7)\n",
    "y_pred = clf.predict(x_test)\n",
    "print(y_pred)\n",
    "print(y_test)\n",
    "print(\"정답률 = \" , accuracy_score(y_test, y_pred))"
   ]
  },
  {
   "cell_type": "code",
   "execution_count": 51,
   "metadata": {
    "ExecuteTime": {
     "end_time": "2020-02-07T06:33:57.792318Z",
     "start_time": "2020-02-07T06:33:57.678567Z"
    }
   },
   "outputs": [
    {
     "name": "stdout",
     "output_type": "stream",
     "text": [
      "['ua' 'ua' 'ua']\n",
      "정답률 =  0.0\n"
     ]
    }
   ],
   "source": [
    "# 평가 데이터 준비하기 --- (*4)\n",
    "x_test = []\n",
    "y_test = []\n",
    "for file in glob.glob('./2.language/test/*.txt'):\n",
    "    # 언어 정보를 추출하고 레이블로 지정하기\n",
    "    y_test.append(file[7:9])\n",
    "    \n",
    "    # 파일 내부의 문자열을 모두 추출한 뒤 빈도 배열로 변환한 뒤 입력 데이터로 사용하기\n",
    "    file_str = ''\n",
    "    for line in open(file, 'r', encoding='UTF8'):\n",
    "        file_str = file_str + line\n",
    "    x_test.append(count_codePoint(file_str)) \n",
    "\n",
    "# 평가하기\n",
    "y_pred = clf.predict(x_test)\n",
    "print(y_pred)\n",
    "print(\"정답률 = \" , accuracy_score(y_test, y_pred))  "
   ]
  },
  {
   "cell_type": "code",
   "execution_count": null,
   "metadata": {},
   "outputs": [],
   "source": []
  }
 ],
 "metadata": {
  "kernelspec": {
   "display_name": "Python 3",
   "language": "python",
   "name": "python3"
  },
  "language_info": {
   "codemirror_mode": {
    "name": "ipython",
    "version": 3
   },
   "file_extension": ".py",
   "mimetype": "text/x-python",
   "name": "python",
   "nbconvert_exporter": "python",
   "pygments_lexer": "ipython3",
   "version": "3.7.5"
  },
  "toc": {
   "base_numbering": 1,
   "nav_menu": {},
   "number_sections": false,
   "sideBar": true,
   "skip_h1_title": false,
   "title_cell": "Table of Contents",
   "title_sidebar": "Contents",
   "toc_cell": false,
   "toc_position": {
    "height": "calc(100% - 180px)",
    "left": "10px",
    "top": "150px",
    "width": "165px"
   },
   "toc_section_display": true,
   "toc_window_display": true
  },
  "varInspector": {
   "cols": {
    "lenName": 16,
    "lenType": 16,
    "lenVar": 40
   },
   "kernels_config": {
    "python": {
     "delete_cmd_postfix": "",
     "delete_cmd_prefix": "del ",
     "library": "var_list.py",
     "varRefreshCmd": "print(var_dic_list())"
    },
    "r": {
     "delete_cmd_postfix": ") ",
     "delete_cmd_prefix": "rm(",
     "library": "var_list.r",
     "varRefreshCmd": "cat(var_dic_list()) "
    }
   },
   "types_to_exclude": [
    "module",
    "function",
    "builtin_function_or_method",
    "instance",
    "_Feature"
   ],
   "window_display": false
  }
 },
 "nbformat": 4,
 "nbformat_minor": 2
}
