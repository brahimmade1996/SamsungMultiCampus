{
 "cells": [
  {
   "cell_type": "markdown",
   "metadata": {},
   "source": [
    "# 자연어 처리(NLP)\n",
    "- 컴퓨터 과학 + 인공지능 + 언어학-> 진입장벽이 높음\n",
    "- 챗봇: 웹보다 좋은 점 -> 별도의 인터페이스가 필요없으므로\n",
    "\n",
    "\n",
    "### 자연어처리업무\n",
    "> 쉬움\n",
    "- 스펠링 체크\n",
    "- 키워드 검사\n",
    "- 유사어 감지(동의어 등)\n",
    "\n",
    "> 중간\n",
    "- 웹 사이트 및 서류의 형태 해석(영수증 분석 등)\n",
    "- 구문해석\n",
    "\n",
    "> 어려움\n",
    "- 기계 번역: 단어의 모호성 때문\n",
    "- 감정 분석: 문장으로부터 감정을 판단 -> 긍/부정\n",
    "- 질의응답 시스템(coloed-domain: 정해진 답 / open-domain: 어떠한 질문에도 응답)\n",
    "\n",
    "### 자연어 처리의 어려움\n",
    "> 언어, 환경, 상황, 지각 지식의 학습 및 표현의 복잡함\n",
    "- 이전: rule 기반 -> 다양한 상황에 대응하기 어려움\n",
    "- DNN의 분산표현의 장점으로 인해 모호하지만 풍부한 정보를 얻을 수 있음.\n",
    "- 영상도 특징을 뽑아서 벡터화시켜서 분석한 것처럼\n",
    "- 자연어처리도 단어의 벡터화로부터 시작 -> CNN, DNN 적용 가능\n",
    "- 이전: 빈도수 분석만 가능했음....\n",
    "\n",
    "## 언어 데이터의 특성\n",
    "- 영상, 이미지: 연속 데이터\n",
    "- 텍스트: 불연속 데이터-> -> 단어들의 조합. -> 수치화시키기 어려움.\n",
    "\n",
    "> 언어 데이터 가정\n",
    "- 불연속적인 심볼의 계열(seguence)\n",
    "- 계열 길이가 심플에 따라 다름\n",
    "- 계층적, 재귀적(recursive)인 구조를 지님(문자< 단어< 구< 문)\n",
    "\n",
    "\n",
    "####\n",
    "> 1.계열 -> 계열\n",
    "- 형태소 해석\n",
    "- 기계번역, 자동요약\n",
    "- 질의응답, 챗봇\n",
    "> 2.계열 -> 트리구조\n",
    "- 구문 해석: 알괼즘 사용\n",
    "> 3. 계열 -> 그래프 구조\n",
    "- 문자, 언어\n",
    "\n",
    "\n",
    "#### 단어의 국소 표현방법\n",
    "> 1. 단어의 원핫인코딩\n",
    "- 단어의 의미를 파악하는 벡터를 갖기 위해\n",
    "- 그러나 원핫인코딩만으로는 단어의 의미를 알수 없고\n",
    "- 단순이 단어가 있는지 없는지만 파악 가능\n",
    "- 대다수의 값이 0\n",
    "- 10만개의 단어 -> 10만개의 배열 -> 비효율적인 구조\n",
    "- 단어간의 관계를 파악할 수 없음.\n",
    "\n",
    "> 2. 분포 가설(단어의 통계적인 파악)\n",
    "- 비슷한 문맥을 가진단어는 비슷한 의미를 갖는다\n",
    "- 현대의 통계적 자연어 처리에서 획기적인 발상\n",
    ">> count based method\n",
    "- SVD, LSA, HAL,\n",
    "- 단어, 문맥 출현 횟수를 세는 방법\n",
    "\n",
    ">> predictive methods\n",
    "- 단어에서 문맥, 문맥에서 단어를 예측하는 방법\n",
    "- 단어간의 얼마나 가까운지\n",
    "- word to vec, LP\n",
    "\n",
    "\n",
    "#### 자연어처리 방법\n",
    "- 규칙을 통한 학습\n",
    "- 공식을 통한 학습"
   ]
  },
  {
   "cell_type": "code",
   "execution_count": null,
   "metadata": {},
   "outputs": [],
   "source": []
  }
 ],
 "metadata": {
  "kernelspec": {
   "display_name": "Python 3",
   "language": "python",
   "name": "python3"
  },
  "language_info": {
   "codemirror_mode": {
    "name": "ipython",
    "version": 3
   },
   "file_extension": ".py",
   "mimetype": "text/x-python",
   "name": "python",
   "nbconvert_exporter": "python",
   "pygments_lexer": "ipython3",
   "version": "3.7.5"
  },
  "toc": {
   "base_numbering": 1,
   "nav_menu": {},
   "number_sections": false,
   "sideBar": true,
   "skip_h1_title": false,
   "title_cell": "Table of Contents",
   "title_sidebar": "Contents",
   "toc_cell": false,
   "toc_position": {},
   "toc_section_display": true,
   "toc_window_display": false
  },
  "varInspector": {
   "cols": {
    "lenName": 16,
    "lenType": 16,
    "lenVar": 40
   },
   "kernels_config": {
    "python": {
     "delete_cmd_postfix": "",
     "delete_cmd_prefix": "del ",
     "library": "var_list.py",
     "varRefreshCmd": "print(var_dic_list())"
    },
    "r": {
     "delete_cmd_postfix": ") ",
     "delete_cmd_prefix": "rm(",
     "library": "var_list.r",
     "varRefreshCmd": "cat(var_dic_list()) "
    }
   },
   "types_to_exclude": [
    "module",
    "function",
    "builtin_function_or_method",
    "instance",
    "_Feature"
   ],
   "window_display": false
  }
 },
 "nbformat": 4,
 "nbformat_minor": 2
}
