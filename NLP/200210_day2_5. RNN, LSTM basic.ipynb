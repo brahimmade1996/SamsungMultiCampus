{
 "cells": [
  {
   "cell_type": "markdown",
   "metadata": {},
   "source": [
    "# RNN(Recurrent Neural network)"
   ]
  },
  {
   "cell_type": "markdown",
   "metadata": {},
   "source": [
    "> feature extraction\n",
    "- word2vec\n",
    "\n",
    "> 분류기\n",
    "- RNN 등\n",
    "\n",
    "# RNN\n",
    "> 일반 신경망\n",
    "- 개변 데이터를 독립으로 학습\n",
    "- FeedFarward\n",
    "\n",
    "> 순환 신경망\n",
    "- 시계열 데이터 학습적합\n",
    "- 시간이 있기 때문에, 시간을 x축으로, 레이어를 y축에 놓기\n",
    "\n",
    ">> 출력: y로도 가고, 자기 자신으로만 들어옴.\n",
    "- 은닉층의 노드에서 활성화 함수를 통해 나온 결과값을 출력층과  은닉층 노드의 다음 계산의 입력으로 보냄\n",
    "- 노드: 셀(cell) -> 이전의 값을 기억하려고 하는 일종의 메모리 역할 수행\n",
    "- 셀: 입력 2개( 이전 층에서의 x값, 옆 셀의 출력값)\n",
    "- 엄연히 자기 자신이 아니고, 옆의 셀에 보냄\n",
    "- weight값이 하나로 가정하고, 셀들이 weight를 공유함.\n",
    "\n",
    ">> 문맥을 봐야함(시계열)\n",
    "- 시계열 데이터의 특성\n",
    "\n",
    "\n",
    "### 계산\n",
    "- 은닉층: ht = tanh(WxXt + WhHt-1 + b) => WhHt가 추가됨.\n",
    "- 출력층: yt = f(Wyht + b)\n",
    "\n",
    "#### 입력\n",
    "- 항상 주변데이터와 함께 들어감\n",
    "- 인풋: 여러개\n",
    "- hidden layer의 노드(셀) 개수만큼 input값이 들어감.\n",
    "- window의 개념\n",
    "\n",
    "#### hidden layer\n",
    "- 셀의 수(용량) = 뉴런 수\n",
    "- hidden node마다 출력이 있음.\n",
    "\n",
    "#### 출력\n",
    "- y는 특별히 없음.\n",
    "- x(input) 데이터로부터 생성\n",
    "\n",
    "## 2.  종류\n",
    "### 2.1. one to one: 바닐라\n",
    "\n",
    "### 2.2. one to many\n",
    "- 이미지 -> 글자로 생성\n",
    "\n",
    "### 2.3. many to one\n",
    "- sentiment classification\n",
    "- sequence of words -> sentiment\n",
    "\n",
    "### 2.4. many to many\n",
    "- 기계 번역(seq of words -> seq of words)\n",
    "- 챗봇\n",
    "- vidio classifiaction on fraom level( frame별로 )\n",
    "\n",
    "## 3. RNN 문제\n",
    "- 문장이 길어지면 학습이 잘 안됨\n",
    "- 미분해서 전파할 때 값이 없어짐\n",
    "- 개선: LSTM으로 개선\n",
    "- 정보를 예측하는 시점과 필요한 정보가 멀리 떨어져있다면 잘 예측할 수 없음.\n",
    "\n",
    "# LSTM\n",
    "- RNN의 히든 state에 cell state를 추가\n",
    "- state가 오래 경과하더라도 그라디언트가 비교적 잘 전파됨.\n",
    "\n"
   ]
  },
  {
   "cell_type": "code",
   "execution_count": null,
   "metadata": {},
   "outputs": [],
   "source": []
  }
 ],
 "metadata": {
  "kernelspec": {
   "display_name": "Python 3",
   "language": "python",
   "name": "python3"
  },
  "language_info": {
   "codemirror_mode": {
    "name": "ipython",
    "version": 3
   },
   "file_extension": ".py",
   "mimetype": "text/x-python",
   "name": "python",
   "nbconvert_exporter": "python",
   "pygments_lexer": "ipython3",
   "version": "3.7.5"
  },
  "toc": {
   "base_numbering": 1,
   "nav_menu": {},
   "number_sections": false,
   "sideBar": true,
   "skip_h1_title": false,
   "title_cell": "Table of Contents",
   "title_sidebar": "Contents",
   "toc_cell": false,
   "toc_position": {},
   "toc_section_display": true,
   "toc_window_display": true
  },
  "varInspector": {
   "cols": {
    "lenName": 16,
    "lenType": 16,
    "lenVar": 40
   },
   "kernels_config": {
    "python": {
     "delete_cmd_postfix": "",
     "delete_cmd_prefix": "del ",
     "library": "var_list.py",
     "varRefreshCmd": "print(var_dic_list())"
    },
    "r": {
     "delete_cmd_postfix": ") ",
     "delete_cmd_prefix": "rm(",
     "library": "var_list.r",
     "varRefreshCmd": "cat(var_dic_list()) "
    }
   },
   "types_to_exclude": [
    "module",
    "function",
    "builtin_function_or_method",
    "instance",
    "_Feature"
   ],
   "window_display": false
  }
 },
 "nbformat": 4,
 "nbformat_minor": 2
}
