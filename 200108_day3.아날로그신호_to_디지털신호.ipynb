{
 "cells": [
  {
   "cell_type": "markdown",
   "metadata": {},
   "source": [
    "# 아날로그 신호 -> 디지털 신호\n",
    "\n",
    "### 센서로 받은 아날로그 값\n",
    "- 아날로그 값 \n",
    "- 1초에 들어오는 샘플의 수가 매우 많음.-> 샘플링 필요\n",
    "\n",
    "> 표본화 단계\n",
    "- 샘플링 단계\n",
    "- 초고속 카메라: 주기가 굉장히 짧음.\n",
    "- 표본화 과정(샘플링 과정에서 왜곡이 발생하기도 함.)\n",
    "\n",
    "\n",
    "> 양자화 단계\n",
    "- 실제 받은 샘플링(아날로그 신호, 실수값, 신호의 값, 무한대 개의 값)을 0~255값으로 변환하는 과정\n",
    "- x레이: 더 많은 값으로 변환(int16 등)\n",
    "- 포스터라이즈의 개념으로 디지털화하기(오류가 발생할 수도 있음.)\n",
    "- 최근:  10bit도 사용\n",
    "\n",
    "> 부호화 단계\n",
    "- 양자화된 데이터를 2진수로 변환하는 과정\n",
    "\n",
    "\n"
   ]
  },
  {
   "cell_type": "code",
   "execution_count": null,
   "metadata": {},
   "outputs": [],
   "source": []
  }
 ],
 "metadata": {
  "kernelspec": {
   "display_name": "Python 3",
   "language": "python",
   "name": "python3"
  },
  "language_info": {
   "codemirror_mode": {
    "name": "ipython",
    "version": 3
   },
   "file_extension": ".py",
   "mimetype": "text/x-python",
   "name": "python",
   "nbconvert_exporter": "python",
   "pygments_lexer": "ipython3",
   "version": "3.7.4"
  },
  "toc": {
   "base_numbering": 1,
   "nav_menu": {},
   "number_sections": false,
   "sideBar": true,
   "skip_h1_title": false,
   "title_cell": "Table of Contents",
   "title_sidebar": "Contents",
   "toc_cell": false,
   "toc_position": {},
   "toc_section_display": true,
   "toc_window_display": false
  },
  "varInspector": {
   "cols": {
    "lenName": 16,
    "lenType": 16,
    "lenVar": 40
   },
   "kernels_config": {
    "python": {
     "delete_cmd_postfix": "",
     "delete_cmd_prefix": "del ",
     "library": "var_list.py",
     "varRefreshCmd": "print(var_dic_list())"
    },
    "r": {
     "delete_cmd_postfix": ") ",
     "delete_cmd_prefix": "rm(",
     "library": "var_list.r",
     "varRefreshCmd": "cat(var_dic_list()) "
    }
   },
   "types_to_exclude": [
    "module",
    "function",
    "builtin_function_or_method",
    "instance",
    "_Feature"
   ],
   "window_display": false
  }
 },
 "nbformat": 4,
 "nbformat_minor": 2
}
