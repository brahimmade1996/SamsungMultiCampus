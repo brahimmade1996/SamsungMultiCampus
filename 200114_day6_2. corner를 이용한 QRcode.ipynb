{
 "cells": [
  {
   "cell_type": "code",
   "execution_count": 3,
   "metadata": {
    "ExecuteTime": {
     "end_time": "2020-01-14T04:58:33.246670Z",
     "start_time": "2020-01-14T04:58:31.719249Z"
    }
   },
   "outputs": [
    {
     "name": "stdout",
     "output_type": "stream",
     "text": [
      "Requirement already satisfied: pyzbar in c:\\programdata\\anaconda3\\lib\\site-packages (0.1.8)\n"
     ]
    }
   ],
   "source": [
    "!pip install pyzbar"
   ]
  },
  {
   "cell_type": "code",
   "execution_count": 3,
   "metadata": {
    "ExecuteTime": {
     "end_time": "2020-01-14T05:50:14.877726Z",
     "start_time": "2020-01-14T05:50:14.864808Z"
    }
   },
   "outputs": [],
   "source": [
    "import os\n",
    "import cv2\n",
    "import numpy as np\n",
    "import matplotlib.pyplot as plt\n",
    "import pandas as pd\n",
    "import math\n",
    "import time\n",
    "import qrcode  # grcode 인식만\n",
    "import imutils  # qrcode generator\n",
    "import random\n",
    "import pyzbar   # 바코드, qrcode 둘다 인식. 많이 사용\n",
    "from pyzbar.pyzbar import decode  # 바코드, qrcode 둘다 인식. 많이 사용\n",
    "from bokeh.plotting import figure\n",
    "from bokeh.io import output_notebook, show, push_notebook"
   ]
  },
  {
   "cell_type": "code",
   "execution_count": 6,
   "metadata": {
    "ExecuteTime": {
     "end_time": "2020-01-14T05:52:01.036721Z",
     "start_time": "2020-01-14T05:52:01.032731Z"
    }
   },
   "outputs": [],
   "source": [
    "\n",
    "def imshow(tit, image) :\n",
    "    plt.title(tit)    \n",
    "    if len(image.shape) == 3 :\n",
    "        plt.imshow(cv2.cvtColor(image, cv2.COLOR_BGR2RGB))\n",
    "    else :\n",
    "        plt.imshow(image, cmap=\"gray\")\n",
    "    plt.show()"
   ]
  },
  {
   "cell_type": "markdown",
   "metadata": {},
   "source": [
    "# QRcode\n",
    "- 바코드보다 훨씬 저장할 수 있는 정보의 양이 많음."
   ]
  },
  {
   "cell_type": "markdown",
   "metadata": {},
   "source": [
    "# 1. QRcode에서 corner 찾기\n",
    "- 코너점을 잘 찾을 수 있는 예제"
   ]
  },
  {
   "cell_type": "markdown",
   "metadata": {},
   "source": [
    "## 1.1. heriss corner로 출력하기"
   ]
  },
  {
   "cell_type": "code",
   "execution_count": 248,
   "metadata": {
    "ExecuteTime": {
     "end_time": "2020-01-14T04:53:00.802481Z",
     "start_time": "2020-01-14T04:53:00.793557Z"
    }
   },
   "outputs": [
    {
     "data": {
      "text/plain": [
       "(1060, 1060)"
      ]
     },
     "execution_count": 248,
     "metadata": {},
     "output_type": "execute_result"
    }
   ],
   "source": [
    "src = cv2.imread('./day6_rs/acronet.png', cv2.IMREAD_GRAYSCALE)\n",
    "src.shape"
   ]
  },
  {
   "cell_type": "code",
   "execution_count": 249,
   "metadata": {
    "ExecuteTime": {
     "end_time": "2020-01-14T04:53:01.492989Z",
     "start_time": "2020-01-14T04:53:01.465061Z"
    }
   },
   "outputs": [
    {
     "data": {
      "text/plain": [
       "dtype('float32')"
      ]
     },
     "execution_count": 249,
     "metadata": {},
     "output_type": "execute_result"
    }
   ],
   "source": [
    "#  block 크기, 소벨크기,    k=0.04~0.06     R=Det() - kTr()\n",
    "\n",
    "harris = cv2.cornerHarris(src= src,\n",
    "                          blockSize= 3,\n",
    "                          ksize=3, \n",
    "                          k=0.04   \n",
    "                         ) \n",
    "harris.dtype"
   ]
  },
  {
   "cell_type": "code",
   "execution_count": 250,
   "metadata": {
    "ExecuteTime": {
     "end_time": "2020-01-14T04:53:04.648399Z",
     "start_time": "2020-01-14T04:53:04.641417Z"
    }
   },
   "outputs": [
    {
     "data": {
      "text/plain": [
       "dtype('uint8')"
      ]
     },
     "execution_count": 250,
     "metadata": {},
     "output_type": "execute_result"
    }
   ],
   "source": [
    "# 정규화\n",
    "harris_norm = cv2.normalize(src =harris, \n",
    "                            dst =None,\n",
    "                            alpha =0, \n",
    "                            beta =255,\n",
    "                           norm_type =cv2.NORM_MINMAX,\n",
    "                           dtype=cv2.CV_8U)\n",
    "\n",
    "harris_norm.dtype"
   ]
  },
  {
   "cell_type": "code",
   "execution_count": 251,
   "metadata": {
    "ExecuteTime": {
     "end_time": "2020-01-14T04:53:07.083155Z",
     "start_time": "2020-01-14T04:53:05.496351Z"
    }
   },
   "outputs": [
    {
     "data": {
      "image/png": "[encoded data removed]",
      "text/plain": [
       "<Figure size 432x288 with 1 Axes>"
      ]
     },
     "metadata": {
      "needs_background": "light"
     },
     "output_type": "display_data"
    },
    {
     "data": {
      "image/png": "[encoded data removed]",
      "text/plain": [
       "<Figure size 432x288 with 1 Axes>"
      ]
     },
     "metadata": {
      "needs_background": "light"
     },
     "output_type": "display_data"
    },
    {
     "data": {
      "image/png": "[encoded data removed]",
      "text/plain": [
       "<Figure size 432x288 with 1 Axes>"
      ]
     },
     "metadata": {
      "needs_background": "light"
     },
     "output_type": "display_data"
    }
   ],
   "source": [
    "dst = cv2.cvtColor(src, cv2.COLOR_GRAY2BGR)\n",
    "\n",
    "for y in range(harris_norm.shape[0]):\n",
    "        for x in range(harris_norm.shape[1]):\n",
    "            if harris_norm[y, x] > 90:\n",
    "                    cv2.circle(dst, (x, y), 5, (0, 0, 255), 2)\n",
    "\n",
    "imshow('src', src)\n",
    "imshow('harris_norm', harris_norm)\n",
    "imshow('dst', dst)"
   ]
  },
  {
   "cell_type": "markdown",
   "metadata": {},
   "source": [
    "> 회전방향\n",
    "- 모서리 네모를 가지고 회전방향을 계산해서 뒤집어진 경우 회전해서 원본으로 변환해서 사용\n",
    "\n",
    "> 코너점을 잘 찾을 수 있는 특성 이용"
   ]
  },
  {
   "cell_type": "markdown",
   "metadata": {},
   "source": [
    "## 1.2. fast detection으로 corner 찾기"
   ]
  },
  {
   "cell_type": "code",
   "execution_count": 252,
   "metadata": {
    "ExecuteTime": {
     "end_time": "2020-01-14T04:55:17.390558Z",
     "start_time": "2020-01-14T04:55:17.226668Z"
    }
   },
   "outputs": [
    {
     "data": {
      "image/png": "[encoded data removed]",
      "text/plain": [
       "<Figure size 432x288 with 1 Axes>"
      ]
     },
     "metadata": {
      "needs_background": "light"
     },
     "output_type": "display_data"
    }
   ],
   "source": [
    "src = cv2.imread('./day6_rs/acronet.png', 1)\n",
    "gray = cv2.imread('./day6_rs/acronet.png', cv2.IMREAD_GRAYSCALE)\n",
    "\n",
    "imshow('', src)"
   ]
  },
  {
   "cell_type": "code",
   "execution_count": 253,
   "metadata": {
    "ExecuteTime": {
     "end_time": "2020-01-14T04:55:22.083495Z",
     "start_time": "2020-01-14T04:55:22.080499Z"
    }
   },
   "outputs": [],
   "source": [
    "fast = cv2.FastFeatureDetector_create(threshold=150)"
   ]
  },
  {
   "cell_type": "code",
   "execution_count": 254,
   "metadata": {
    "ExecuteTime": {
     "end_time": "2020-01-14T04:55:22.772135Z",
     "start_time": "2020-01-14T04:55:22.768123Z"
    }
   },
   "outputs": [
    {
     "data": {
      "text/plain": [
       "0"
      ]
     },
     "execution_count": 254,
     "metadata": {},
     "output_type": "execute_result"
    }
   ],
   "source": [
    "# 특징점의 봅기, gray에서 찾기\n",
    "keypoints = fast.detect(gray)\n",
    "len(keypoints)"
   ]
  },
  {
   "cell_type": "code",
   "execution_count": 255,
   "metadata": {
    "ExecuteTime": {
     "end_time": "2020-01-14T04:55:23.920856Z",
     "start_time": "2020-01-14T04:55:23.616842Z"
    }
   },
   "outputs": [
    {
     "data": {
      "image/png": "[encoded data removed]",
      "text/plain": [
       "<Figure size 432x288 with 1 Axes>"
      ]
     },
     "metadata": {
      "needs_background": "light"
     },
     "output_type": "display_data"
    },
    {
     "data": {
      "image/png": "[encoded data removed]",
      "text/plain": [
       "<Figure size 432x288 with 1 Axes>"
      ]
     },
     "metadata": {
      "needs_background": "light"
     },
     "output_type": "display_data"
    }
   ],
   "source": [
    "# 코너점 그리기\n",
    "dst = src.copy()\n",
    "for kp in keypoints:\n",
    "    pt = (int(kp.pt[0]), int(kp.pt[1]))\n",
    "    cv2.circle(dst, pt, 5, (0,0,255), 2)\n",
    "    \n",
    "imshow('', src)\n",
    "imshow('', dst)"
   ]
  },
  {
   "cell_type": "markdown",
   "metadata": {},
   "source": [
    "# 2. QR code 생성"
   ]
  },
  {
   "cell_type": "code",
   "execution_count": 11,
   "metadata": {
    "ExecuteTime": {
     "end_time": "2020-01-14T05:07:21.382327Z",
     "start_time": "2020-01-14T05:07:21.367357Z"
    }
   },
   "outputs": [],
   "source": [
    "qr = qrcode.QRCode(version = 2,\n",
    "                  error_correction = qrcode.constants.ERROR_CORRECT_H,\n",
    "                  box_size = 20,\n",
    "                  border = 10  # Qr code 경계선\n",
    "                  )\n",
    "# url = 'http://www.acronet.kr/24987'  # 넣고싶은 글자\n",
    "\n",
    "# 서울날씨: 인코딩되서 나옴\n",
    "# url = 'ttps://search.naver.com/search.naver?sm=top_hty&fbm=1&ie=utf8&query=%EC%84%9C%EC%9A%B8+%EB%82%A0%EC%94%A8'\n",
    "url = 'http://www.naver.com'\n",
    "qr.add_data(url)\n",
    "\n",
    "qr.make()\n",
    "\n",
    "img = qr.make_image(fill_color = 'black',\n",
    "                    back_color = 'white')\n",
    "\n",
    "\n",
    "# pil 형식.\n",
    "img.save('qrcode_naver.png')\n",
    "\n",
    "\n"
   ]
  },
  {
   "cell_type": "code",
   "execution_count": 12,
   "metadata": {
    "ExecuteTime": {
     "end_time": "2020-01-14T05:07:27.753822Z",
     "start_time": "2020-01-14T05:07:27.599236Z"
    }
   },
   "outputs": [
    {
     "data": {
      "image/png": "[encoded data removed]",
      "text/plain": [
       "<Figure size 432x288 with 1 Axes>"
      ]
     },
     "metadata": {
      "needs_background": "light"
     },
     "output_type": "display_data"
    }
   ],
   "source": [
    "img = cv2.imread('qrcode_naver.png')\n",
    "imshow('', img)"
   ]
  },
  {
   "cell_type": "markdown",
   "metadata": {},
   "source": [
    "# 3. open cv로 QR code 인식\n",
    "\n",
    "1. corner찾기\n",
    "2. detectoin\n",
    "3. decode"
   ]
  },
  {
   "cell_type": "markdown",
   "metadata": {},
   "source": [
    "## 3.1. QR code 인식"
   ]
  },
  {
   "cell_type": "code",
   "execution_count": 16,
   "metadata": {
    "ExecuteTime": {
     "end_time": "2020-01-14T05:16:09.995815Z",
     "start_time": "2020-01-14T05:16:09.927942Z"
    }
   },
   "outputs": [
    {
     "data": {
      "text/plain": [
       "'http://www.naver.com'"
      ]
     },
     "execution_count": 16,
     "metadata": {},
     "output_type": "execute_result"
    }
   ],
   "source": [
    "image = cv2.imread('qrcode_naver.png')\n",
    "\n",
    "# opencv 4.대부터 사용 가능\n",
    "qrDecoder = cv2.QRCodeDetector()\n",
    "data, bbox, rectifiedImage = qrDecoder.detectAndDecode(image)\n",
    "\n",
    "# data: 문자 내용\n",
    "# bbox: qrcode 좌표 \n",
    "# rectifiedImage: 영상에서 회전될 수 있는 영상을 돌려서 qr영영만 자른 영역\n",
    "\n",
    "data"
   ]
  },
  {
   "cell_type": "code",
   "execution_count": 17,
   "metadata": {
    "ExecuteTime": {
     "end_time": "2020-01-14T05:16:10.466033Z",
     "start_time": "2020-01-14T05:16:10.383201Z"
    }
   },
   "outputs": [
    {
     "data": {
      "image/png": "[encoded data removed]",
      "text/plain": [
       "<Figure size 432x288 with 1 Axes>"
      ]
     },
     "metadata": {
      "needs_background": "light"
     },
     "output_type": "display_data"
    }
   ],
   "source": [
    "imshow('', rectifiedImage)"
   ]
  },
  {
   "cell_type": "markdown",
   "metadata": {},
   "source": [
    "## 3.2. 멀캠 QR code 인식"
   ]
  },
  {
   "cell_type": "code",
   "execution_count": 19,
   "metadata": {
    "ExecuteTime": {
     "end_time": "2020-01-14T05:18:57.896110Z",
     "start_time": "2020-01-14T05:18:57.863132Z"
    }
   },
   "outputs": [
    {
     "data": {
      "text/plain": [
       "'C493932917950|31019'"
      ]
     },
     "execution_count": 19,
     "metadata": {},
     "output_type": "execute_result"
    }
   ],
   "source": [
    "image = cv2.imread('my_qrcode.jpg')\n",
    "\n",
    "# opencv 4.대부터 사용 가능\n",
    "qrDecoder = cv2.QRCodeDetector()\n",
    "data, bbox, rectifiedImage = qrDecoder.detectAndDecode(image)\n",
    "\n",
    "# data: 문자 내용\n",
    "# bbox: qrcode 좌표 \n",
    "# rectifiedImage: 영상에서 회전될 수 있는 영상을 돌려서 qr영영만 자른 영역\n",
    "\n",
    "data"
   ]
  },
  {
   "cell_type": "code",
   "execution_count": 17,
   "metadata": {
    "ExecuteTime": {
     "end_time": "2020-01-14T05:16:10.466033Z",
     "start_time": "2020-01-14T05:16:10.383201Z"
    }
   },
   "outputs": [
    {
     "data": {
      "image/png": "[encoded data removed]",
      "text/plain": [
       "<Figure size 432x288 with 1 Axes>"
      ]
     },
     "metadata": {
      "needs_background": "light"
     },
     "output_type": "display_data"
    }
   ],
   "source": [
    "imshow('', rectifiedImage)"
   ]
  },
  {
   "cell_type": "markdown",
   "metadata": {
    "ExecuteTime": {
     "end_time": "2020-01-14T05:22:27.097242Z",
     "start_time": "2020-01-14T05:22:27.039320Z"
    }
   },
   "source": [
    "## 3.2. 위험물 관리 QR code 인식"
   ]
  },
  {
   "cell_type": "code",
   "execution_count": 21,
   "metadata": {
    "ExecuteTime": {
     "end_time": "2020-01-14T05:22:27.097242Z",
     "start_time": "2020-01-14T05:22:27.039320Z"
    }
   },
   "outputs": [
    {
     "data": {
      "text/plain": [
       "'http://m.code.daum.net/mobile/view?vid=9l2r'"
      ]
     },
     "execution_count": 21,
     "metadata": {},
     "output_type": "execute_result"
    }
   ],
   "source": [
    "image = cv2.imread('qrcode2.jpg')\n",
    "\n",
    "# opencv 4.대부터 사용 가능\n",
    "qrDecoder = cv2.QRCodeDetector()\n",
    "data, bbox, rectifiedImage = qrDecoder.detectAndDecode(image)\n",
    "\n",
    "# data: 문자 내용\n",
    "# bbox: qrcode 좌표 \n",
    "# rectifiedImage: 영상에서 회전될 수 있는 영상을 돌려서 qr영영만 자른 영역\n",
    "\n",
    "data"
   ]
  },
  {
   "cell_type": "code",
   "execution_count": 22,
   "metadata": {
    "ExecuteTime": {
     "end_time": "2020-01-14T05:22:29.265741Z",
     "start_time": "2020-01-14T05:22:29.182800Z"
    }
   },
   "outputs": [
    {
     "data": {
      "image/png": "[encoded data removed]",
      "text/plain": [
       "<Figure size 432x288 with 1 Axes>"
      ]
     },
     "metadata": {
      "needs_background": "light"
     },
     "output_type": "display_data"
    }
   ],
   "source": [
    "imshow('', rectifiedImage)"
   ]
  },
  {
   "cell_type": "markdown",
   "metadata": {
    "ExecuteTime": {
     "end_time": "2020-01-14T05:22:27.097242Z",
     "start_time": "2020-01-14T05:22:27.039320Z"
    }
   },
   "source": [
    "## 3.3. 강제로 자른 QR code 인식"
   ]
  },
  {
   "cell_type": "code",
   "execution_count": 25,
   "metadata": {
    "ExecuteTime": {
     "end_time": "2020-01-14T05:41:14.744235Z",
     "start_time": "2020-01-14T05:41:14.736257Z"
    }
   },
   "outputs": [
    {
     "ename": "error",
     "evalue": "OpenCV(4.1.2) C:\\projects\\opencv-python\\opencv\\modules\\objdetect\\src\\qrcode.cpp:1204: error: (-215:Assertion failed) !inarr.empty() in function 'cv::QRCodeDetector::detectAndDecode'\n",
     "output_type": "error",
     "traceback": [
      "\u001b[1;31m---------------------------------------------------------------------------\u001b[0m",
      "\u001b[1;31merror\u001b[0m                                     Traceback (most recent call last)",
      "\u001b[1;32m<ipython-input-25-3144a1382899>\u001b[0m in \u001b[0;36m<module>\u001b[1;34m\u001b[0m\n\u001b[0;32m      3\u001b[0m \u001b[1;31m# opencv 4.대부터 사용 가능\u001b[0m\u001b[1;33m\u001b[0m\u001b[1;33m\u001b[0m\u001b[1;33m\u001b[0m\u001b[0m\n\u001b[0;32m      4\u001b[0m \u001b[0mqrDecoder\u001b[0m \u001b[1;33m=\u001b[0m \u001b[0mcv2\u001b[0m\u001b[1;33m.\u001b[0m\u001b[0mQRCodeDetector\u001b[0m\u001b[1;33m(\u001b[0m\u001b[1;33m)\u001b[0m\u001b[1;33m\u001b[0m\u001b[1;33m\u001b[0m\u001b[0m\n\u001b[1;32m----> 5\u001b[1;33m \u001b[0mdata\u001b[0m\u001b[1;33m,\u001b[0m \u001b[0mbbox\u001b[0m\u001b[1;33m,\u001b[0m \u001b[0mrectifiedImage\u001b[0m \u001b[1;33m=\u001b[0m \u001b[0mqrDecoder\u001b[0m\u001b[1;33m.\u001b[0m\u001b[0mdetectAndDecode\u001b[0m\u001b[1;33m(\u001b[0m\u001b[0mimage\u001b[0m\u001b[1;33m)\u001b[0m\u001b[1;33m\u001b[0m\u001b[1;33m\u001b[0m\u001b[0m\n\u001b[0m\u001b[0;32m      6\u001b[0m \u001b[1;33m\u001b[0m\u001b[0m\n\u001b[0;32m      7\u001b[0m \u001b[1;31m# data: 문자 내용\u001b[0m\u001b[1;33m\u001b[0m\u001b[1;33m\u001b[0m\u001b[1;33m\u001b[0m\u001b[0m\n",
      "\u001b[1;31merror\u001b[0m: OpenCV(4.1.2) C:\\projects\\opencv-python\\opencv\\modules\\objdetect\\src\\qrcode.cpp:1204: error: (-215:Assertion failed) !inarr.empty() in function 'cv::QRCodeDetector::detectAndDecode'\n"
     ]
    }
   ],
   "source": [
    "image = cv2.imread('my_qrcode_rm.jpg')\n",
    "\n",
    "# opencv 4.대부터 사용 가능\n",
    "qrDecoder = cv2.QRCodeDetector()\n",
    "data, bbox, rectifiedImage = qrDecoder.detectAndDecode(image)\n",
    "\n",
    "# data: 문자 내용\n",
    "# bbox: qrcode 좌표 \n",
    "# rectifiedImage: 영상에서 회전될 수 있는 영상을 돌려서 qr영영만 자른 영역\n",
    "\n",
    "data"
   ]
  },
  {
   "cell_type": "markdown",
   "metadata": {},
   "source": [
    "- 어느정도 오류가 난 것 까지는 잡을 수 있으나\n",
    "- 오류가 심하면 인식 못함"
   ]
  },
  {
   "cell_type": "markdown",
   "metadata": {},
   "source": [
    "# 4. pyzbar이용\n",
    "\n",
    "> import errer\n",
    "- https://www.microsoft.com/ko-kr/download/details.aspx?id=40784\n",
    "- https://visualstudio.microsoft.com/ko/thank-you-downloading-visual-studio/?sku=Community&rel=16 \n",
    " - C++를 사용한 데스크톱 개발 선택하여 설치"
   ]
  },
  {
   "cell_type": "code",
   "execution_count": 26,
   "metadata": {
    "ExecuteTime": {
     "end_time": "2020-01-14T05:42:42.687197Z",
     "start_time": "2020-01-14T05:42:41.152831Z"
    }
   },
   "outputs": [
    {
     "name": "stdout",
     "output_type": "stream",
     "text": [
      "Requirement already satisfied: pyzbar in c:\\programdata\\anaconda3\\lib\\site-packages (0.1.8)\n"
     ]
    }
   ],
   "source": [
    "!pip install pyzbar"
   ]
  },
  {
   "cell_type": "code",
   "execution_count": 4,
   "metadata": {
    "ExecuteTime": {
     "end_time": "2020-01-14T05:50:33.811843Z",
     "start_time": "2020-01-14T05:50:33.807912Z"
    }
   },
   "outputs": [],
   "source": [
    "from pyzbar.pyzbar import decode\n"
   ]
  },
  {
   "cell_type": "code",
   "execution_count": 8,
   "metadata": {
    "ExecuteTime": {
     "end_time": "2020-01-14T05:55:18.655165Z",
     "start_time": "2020-01-14T05:55:18.617240Z"
    }
   },
   "outputs": [
    {
     "name": "stdout",
     "output_type": "stream",
     "text": [
      "[Decoded(data=b'http://www.acronet.kr/24987', type='QRCODE', rect=Rect(left=201, top=201, width=658, height=658), polygon=[Point(x=201, y=201), Point(x=201, y=859), Point(x=859, y=859), Point(x=859, y=201)])]\n"
     ]
    }
   ],
   "source": [
    "image = cv2.imread('./day6_rs/acronet.png')\n",
    "#image = cv2.GaussianBlur(image, (51,51), 0)  어디까지 가능한지 테스트\n",
    "#image = cv2.imread('barqr.jpg')\n",
    "code = pyzbar.pyzbar.decode(image)\n",
    "print(code)"
   ]
  },
  {
   "cell_type": "code",
   "execution_count": 9,
   "metadata": {
    "ExecuteTime": {
     "end_time": "2020-01-14T06:07:34.603699Z",
     "start_time": "2020-01-14T06:07:34.445845Z"
    }
   },
   "outputs": [
    {
     "name": "stdout",
     "output_type": "stream",
     "text": [
      "Decoded(data=b'http://www.acronet.kr/24987', type='QRCODE', rect=Rect(left=201, top=201, width=658, height=658), polygon=[Point(x=201, y=201), Point(x=201, y=859), Point(x=859, y=859), Point(x=859, y=201)])\n"
     ]
    },
    {
     "data": {
      "image/png": "[encoded data removed]",
      "text/plain": [
       "<Figure size 432x288 with 1 Axes>"
      ]
     },
     "metadata": {
      "needs_background": "light"
     },
     "output_type": "display_data"
    }
   ],
   "source": [
    "for barcode in code:\n",
    "    print(barcode)\n",
    "    (x, y, w, h) = barcode.rect\n",
    "    cv2.rectangle(image, (x, y), (x + w, y + h), (0, 0, 255), 2)\n",
    " \n",
    "    barcodeData = barcode.data.decode(\"utf-8\")\n",
    "    barcodeType = barcode.type\n",
    " \n",
    "    text = \"{} ({})\".format(barcodeData, barcodeType)\n",
    "    cv2.putText(image, text, (x, y - 10), cv2.FONT_HERSHEY_SIMPLEX,\n",
    "        1.5, (0, 0, 255), 2) \n",
    "imshow(\"\", image)"
   ]
  },
  {
   "cell_type": "markdown",
   "metadata": {},
   "source": [
    "## 4.1. 여러개 인식"
   ]
  },
  {
   "cell_type": "code",
   "execution_count": 10,
   "metadata": {
    "ExecuteTime": {
     "end_time": "2020-01-14T06:18:30.355627Z",
     "start_time": "2020-01-14T06:18:30.319712Z"
    }
   },
   "outputs": [
    {
     "name": "stdout",
     "output_type": "stream",
     "text": [
      "[Decoded(data=b'http://pyimg.co/dl4cv', type='QRCODE', rect=Rect(left=331, top=225, width=103, height=103), polygon=[Point(x=331, y=225), Point(x=331, y=327), Point(x=434, y=328), Point(x=433, y=225)]), Decoded(data=b'https://www.pyimagesearch.com/', type='QRCODE', rect=Rect(left=89, top=66, width=119, height=120), polygon=[Point(x=89, y=66), Point(x=89, y=185), Point(x=208, y=186), Point(x=207, y=66)]), Decoded(data=b'https://openmv.io/', type='QRCODE', rect=Rect(left=441, top=70, width=122, height=122), polygon=[Point(x=441, y=71), Point(x=441, y=191), Point(x=563, y=192), Point(x=562, y=70)]), Decoded(data=b'0100000000020183', type='DATABAR', rect=Rect(left=292, top=786, width=181, height=94), polygon=[Point(x=292, y=787), Point(x=292, y=879), Point(x=473, y=880), Point(x=473, y=786)]), Decoded(data=b'DL4CV', type='CODE39', rect=Rect(left=294, top=632, width=177, height=98), polygon=[Point(x=294, y=633), Point(x=294, y=729), Point(x=471, y=730), Point(x=471, y=632)]), Decoded(data=b'OpenMV', type='CODE93', rect=Rect(left=267, top=486, width=229, height=92), polygon=[Point(x=267, y=487), Point(x=267, y=577), Point(x=496, y=578), Point(x=496, y=486)]), Decoded(data=b'guru', type='CODE128', rect=Rect(left=295, top=371, width=173, height=56), polygon=[Point(x=295, y=371), Point(x=295, y=427), Point(x=468, y=426), Point(x=468, y=372)])]\n"
     ]
    }
   ],
   "source": [
    "image = cv2.imread('./day6_rs/barqr.jpg')\n",
    "#image = cv2.GaussianBlur(image, (51,51), 0)  어디까지 가능한지 테스트\n",
    "#image = cv2.imread('barqr.jpg')\n",
    "code = pyzbar.pyzbar.decode(image)\n",
    "print(code)"
   ]
  },
  {
   "cell_type": "code",
   "execution_count": 11,
   "metadata": {
    "ExecuteTime": {
     "end_time": "2020-01-14T06:18:32.248259Z",
     "start_time": "2020-01-14T06:18:32.103469Z"
    }
   },
   "outputs": [
    {
     "name": "stdout",
     "output_type": "stream",
     "text": [
      "Decoded(data=b'http://pyimg.co/dl4cv', type='QRCODE', rect=Rect(left=331, top=225, width=103, height=103), polygon=[Point(x=331, y=225), Point(x=331, y=327), Point(x=434, y=328), Point(x=433, y=225)])\n",
      "Decoded(data=b'https://www.pyimagesearch.com/', type='QRCODE', rect=Rect(left=89, top=66, width=119, height=120), polygon=[Point(x=89, y=66), Point(x=89, y=185), Point(x=208, y=186), Point(x=207, y=66)])\n",
      "Decoded(data=b'https://openmv.io/', type='QRCODE', rect=Rect(left=441, top=70, width=122, height=122), polygon=[Point(x=441, y=71), Point(x=441, y=191), Point(x=563, y=192), Point(x=562, y=70)])\n",
      "Decoded(data=b'0100000000020183', type='DATABAR', rect=Rect(left=292, top=786, width=181, height=94), polygon=[Point(x=292, y=787), Point(x=292, y=879), Point(x=473, y=880), Point(x=473, y=786)])\n",
      "Decoded(data=b'DL4CV', type='CODE39', rect=Rect(left=294, top=632, width=177, height=98), polygon=[Point(x=294, y=633), Point(x=294, y=729), Point(x=471, y=730), Point(x=471, y=632)])\n",
      "Decoded(data=b'OpenMV', type='CODE93', rect=Rect(left=267, top=486, width=229, height=92), polygon=[Point(x=267, y=487), Point(x=267, y=577), Point(x=496, y=578), Point(x=496, y=486)])\n",
      "Decoded(data=b'guru', type='CODE128', rect=Rect(left=295, top=371, width=173, height=56), polygon=[Point(x=295, y=371), Point(x=295, y=427), Point(x=468, y=426), Point(x=468, y=372)])\n"
     ]
    },
    {
     "data": {
      "image/png": "[encoded data removed]",
      "text/plain": [
       "<Figure size 432x288 with 1 Axes>"
      ]
     },
     "metadata": {
      "needs_background": "light"
     },
     "output_type": "display_data"
    }
   ],
   "source": [
    "for barcode in code:\n",
    "    print(barcode)\n",
    "    (x, y, w, h) = barcode.rect\n",
    "    cv2.rectangle(image, (x, y), (x + w, y + h), (0, 0, 255), 2)\n",
    " \n",
    "    barcodeData = barcode.data.decode(\"utf-8\")\n",
    "    barcodeType = barcode.type\n",
    " \n",
    "    text = \"{} ({})\".format(barcodeData, barcodeType)\n",
    "    cv2.putText(image, text, (x, y - 10), cv2.FONT_HERSHEY_SIMPLEX,\n",
    "        1.5, (0, 0, 255), 2) \n",
    "imshow(\"\", image)"
   ]
  },
  {
   "cell_type": "code",
   "execution_count": null,
   "metadata": {},
   "outputs": [],
   "source": []
  }
 ],
 "metadata": {
  "kernelspec": {
   "display_name": "Python 3",
   "language": "python",
   "name": "python3"
  },
  "language_info": {
   "codemirror_mode": {
    "name": "ipython",
    "version": 3
   },
   "file_extension": ".py",
   "mimetype": "text/x-python",
   "name": "python",
   "nbconvert_exporter": "python",
   "pygments_lexer": "ipython3",
   "version": "3.7.4"
  },
  "toc": {
   "base_numbering": 1,
   "nav_menu": {},
   "number_sections": false,
   "sideBar": true,
   "skip_h1_title": false,
   "title_cell": "Table of Contents",
   "title_sidebar": "Contents",
   "toc_cell": false,
   "toc_position": {},
   "toc_section_display": true,
   "toc_window_display": true
  },
  "varInspector": {
   "cols": {
    "lenName": 16,
    "lenType": 16,
    "lenVar": 40
   },
   "kernels_config": {
    "python": {
     "delete_cmd_postfix": "",
     "delete_cmd_prefix": "del ",
     "library": "var_list.py",
     "varRefreshCmd": "print(var_dic_list())"
    },
    "r": {
     "delete_cmd_postfix": ") ",
     "delete_cmd_prefix": "rm(",
     "library": "var_list.r",
     "varRefreshCmd": "cat(var_dic_list()) "
    }
   },
   "types_to_exclude": [
    "module",
    "function",
    "builtin_function_or_method",
    "instance",
    "_Feature"
   ],
   "window_display": false
  }
 },
 "nbformat": 4,
 "nbformat_minor": 2
}
