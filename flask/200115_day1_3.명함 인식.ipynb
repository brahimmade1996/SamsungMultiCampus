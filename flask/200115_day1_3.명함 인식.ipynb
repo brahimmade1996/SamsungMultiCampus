{
 "cells": [
  {
   "cell_type": "markdown",
   "metadata": {
    "ExecuteTime": {
     "end_time": "2020-01-15T06:10:34.084087Z",
     "start_time": "2020-01-15T06:10:34.077371Z"
    }
   },
   "source": [
    "#### 파이썬 프레임 워크\n",
    "> 장고\n",
    "- all in one package\n",
    "- DB, ORM(객체 지웠다 업데이트), 객체를 통해 DB 관리\n",
    "\n",
    "> flask\n",
    "- 간단\n",
    "\n",
    "#### postman\n",
    "- 개발한 api를 테스트, 테스트 결과를 공유하여 api개발의 생산성을 높여주는 플랫폼\n",
    "- https://www.getpostman.com/\n",
    "\n",
    "\n",
    "#### 구글 검색 과정\n",
    "- site: 주소(공식문서) / keyword로 찾기"
   ]
  },
  {
   "cell_type": "markdown",
   "metadata": {},
   "source": [
    "# 명함 인식 과정\n",
    "\n",
    "> 1. 이미지 저장\n",
    "- REST API: \"/namecard\" 이미지를 저장(/tmp/1.jpg)\n",
    "> 2. 명함 인식\n",
    "- python info.py (/tmp/1.jpg) -> 이름, 전화번호, 이메일 => json 파일\n",
    "> 3. response\n",
    "- 1초 안에 인식해서 말해줘야 함.\n",
    "\n",
    "\n",
    "# 1. flask , REST 서버\n",
    "\n",
    "## 1.1. Hello, world! 출력\n",
    "\n",
    "1. pip install flask\n",
    "2. set FLASK_APP = main.py\n",
    "3. flask run"
   ]
  },
  {
   "cell_type": "code",
   "execution_count": 3,
   "metadata": {
    "ExecuteTime": {
     "end_time": "2020-01-15T06:33:44.795533Z",
     "start_time": "2020-01-15T06:33:44.448160Z"
    }
   },
   "outputs": [],
   "source": [
    "# main.py\n",
    "from flask import Flask, escape, request\n",
    "\n",
    "# app이 만들어짐\n",
    "app = Flask(__name__)\n",
    "\n",
    "\n",
    "\n",
    "# REST의 url부분: 도메인이 빠진 하위 부분을 코딩\n",
    "# 리턴하는 값이 응답\n",
    "@app.route('/')\n",
    "def hello():\n",
    "    name = request.args.get('name', 'world')\n",
    "    return f'Hello, {escape(name)}!'\n",
    "\n",
    "# json으로 return\n",
    "@app.route('/hi')\n",
    "def hi():\n",
    "    return{\n",
    "        'version': '2.0',\n",
    "        'templete': {\n",
    "            'outputs': [\n",
    "                {\n",
    "                    'simpleText': {\n",
    "                        'text': '간단한 텍스트 요소입니다'\n",
    "                    }\n",
    "                }\n",
    "            ]\n",
    "        }\n",
    "    }    "
   ]
  },
  {
   "cell_type": "markdown",
   "metadata": {
    "ExecuteTime": {
     "end_time": "2020-01-15T06:32:27.901234Z",
     "start_time": "2020-01-15T06:32:27.896132Z"
    }
   },
   "source": [
    "4. cmd창 결과"
   ]
  },
  {
   "cell_type": "code",
   "execution_count": null,
   "metadata": {},
   "outputs": [],
   "source": [
    "(base) C:\\Users\\student\\Documents\\shiney\\samsung\\danawa\\dev>set FLASK_APP=main.py\n",
    "\n",
    "(base) C:\\Users\\student\\Documents\\shiney\\samsung\\danawa\\dev>flask run\n",
    " * Serving Flask app \"main.py\"\n",
    " * Environment: production\n",
    "   WARNING: This is a development server. Do not use it in a production deployment.\n",
    "   Use a production WSGI server instead.\n",
    " * Debug mode: off\n",
    " * Running on http://127.0.0.1:5000/ (Press CTRL+C to quit)"
   ]
  },
  {
   "cell_type": "markdown",
   "metadata": {
    "ExecuteTime": {
     "end_time": "2020-01-15T06:32:55.509059Z",
     "start_time": "2020-01-15T06:32:55.504109Z"
    }
   },
   "source": [
    "5. 인터넷창에 http://127.0.0.1:5000/로 들어가서 결과 확인\n",
    "        "
   ]
  },
  {
   "cell_type": "markdown",
   "metadata": {},
   "source": [
    "## 1.2. /hi 부분 처리"
   ]
  },
  {
   "cell_type": "markdown",
   "metadata": {},
   "source": [
    "1. http://127.0.0.1:5000/hi라고하면\n",
    "2. 결과\n",
    "{\"templete\":{\"outputs\":[{\"simpleText\":{\"text\":\"\\uac04\\ub2e8\\ud55c \\ud14d\\uc2a4\\ud2b8 \\uc694\\uc18c\\uc785\\ub2c8\\ub2e4\"}}]},\"version\":\"2.0\"}"
   ]
  },
  {
   "cell_type": "markdown",
   "metadata": {
    "ExecuteTime": {
     "end_time": "2020-01-15T06:43:06.338735Z",
     "start_time": "2020-01-15T06:43:06.329126Z"
    }
   },
   "source": [
    "# 1.3. 개발자 도구\n",
    "- F11로 개발자 도구 진입\n",
    "- network 탭으로 이동\n",
    "- hi를 누르고 headers에 가면\n",
    "- contenst-type: application/json"
   ]
  },
  {
   "cell_type": "markdown",
   "metadata": {},
   "source": [
    "# 2. postman으로 확인"
   ]
  },
  {
   "cell_type": "markdown",
   "metadata": {},
   "source": [
    "- 정렬, highlight 기능을 쓸 수 있어서 좋음..\n",
    "\n",
    "\n",
    "> post로 보내면\n",
    "- 40대 오류: client 오류\n",
    "- 500대 오류: server 문제\n",
    "- 200대 오류: 정상"
   ]
  },
  {
   "cell_type": "code",
   "execution_count": 5,
   "metadata": {
    "ExecuteTime": {
     "end_time": "2020-01-15T06:46:02.715249Z",
     "start_time": "2020-01-15T06:46:02.707509Z"
    }
   },
   "outputs": [
    {
     "data": {
      "text/plain": [
       "'\\n<!DOCTYPE HTML PUBLIC \"-//W3C//DTD HTML 3.2 Final//EN\">\\n<title>405 Method Not Allowed</title>\\n<h1>Method Not Allowed</h1>\\n<p>The method is not allowed for the requested URL.</p>\\n'"
      ]
     },
     "execution_count": 5,
     "metadata": {},
     "output_type": "execute_result"
    }
   ],
   "source": [
    "'''\n",
    "<!DOCTYPE HTML PUBLIC \"-//W3C//DTD HTML 3.2 Final//EN\">\n",
    "<title>405 Method Not Allowed</title>\n",
    "<h1>Method Not Allowed</h1>\n",
    "<p>The method is not allowed for the requested URL.</p>\n",
    "'''"
   ]
  },
  {
   "cell_type": "markdown",
   "metadata": {},
   "source": [
    "## 2.1 post메서트 사용"
   ]
  },
  {
   "cell_type": "code",
   "execution_count": null,
   "metadata": {},
   "outputs": [],
   "source": [
    "# main.py\n",
    "from flask import Flask, escape, request\n",
    "\n",
    "# Flask 객체를 app에 할당\n",
    "app = Flask(__name__)\n",
    "\n",
    "\n",
    "# app객체를 이용해 라우팅 경로를 설정\n",
    "# 해당 라우딩 경로로 요청이 들어올 때 실행할 함수를 바로 밑에 작성\n",
    "@app.route('/')\n",
    "def hello():\n",
    "    name = request.args.get('name', 'world')\n",
    "    return f'Hello, {escape(name)}!'\n",
    "\n",
    "# json으로 return\n",
    "@app.route('/hi',methods=['GET', 'POST'])  #####이 부분 변경!!!!!\n",
    "def hi():\n",
    "    return{\n",
    "        'version': '2.0',\n",
    "        'templete': {\n",
    "            'outputs': [\n",
    "                {\n",
    "                    'simpleText': {\n",
    "                        'text': '간단한 텍스트 요소입니다'\n",
    "                    }\n",
    "                }\n",
    "            ]\n",
    "        }\n",
    "    }  "
   ]
  },
  {
   "cell_type": "markdown",
   "metadata": {},
   "source": [
    "- main.py 파일 변경\n",
    "- cmd창에서 flask run 다시 실행하기"
   ]
  },
  {
   "cell_type": "markdown",
   "metadata": {},
   "source": [
    "# 3. 라우팅\n",
    "- 복잡한 URI를 함수로 쉽게 연결하는 기능 제공\n",
    "\n",
    "> URI : Unifoem Resource Identifier\n",
    "- 인터넷 상의 자원을 식별하기 위한 문자열의 구성 \n",
    "- 사전 정의된 규칙을 따름\n",
    "\n",
    "> URL\n",
    "- URI의 한 종류"
   ]
  },
  {
   "cell_type": "markdown",
   "metadata": {},
   "source": [
    "# 4. REST 개념 : CRUD\n",
    "- CREATE, GET, UPDATE, DELETE"
   ]
  },
  {
   "cell_type": "markdown",
   "metadata": {},
   "source": [
    "- postman에서 body 탭 -> raw -> json선택후 입력"
   ]
  },
  {
   "cell_type": "code",
   "execution_count": 6,
   "metadata": {
    "ExecuteTime": {
     "end_time": "2020-01-15T07:21:43.349017Z",
     "start_time": "2020-01-15T07:21:43.346018Z"
    }
   },
   "outputs": [
    {
     "data": {
      "text/plain": [
       "{'name': 'songsang', 'phone': '010-5213-1832'}"
      ]
     },
     "execution_count": 6,
     "metadata": {},
     "output_type": "execute_result"
    }
   ],
   "source": [
    "{\n",
    "\t'name': 'songsang',\n",
    "\t'phone': '010-5213-1832'\n",
    "}"
   ]
  },
  {
   "cell_type": "code",
   "execution_count": 7,
   "metadata": {
    "ExecuteTime": {
     "end_time": "2020-01-15T08:40:31.748862Z",
     "start_time": "2020-01-15T08:40:31.743875Z"
    }
   },
   "outputs": [],
   "source": [
    "# main.py\n",
    "from flask import Flask, escape, request\n",
    "\n",
    "# app이 만들어짐\n",
    "app = Flask(__name__)\n",
    "\n",
    "# dictionary를 db처럼 사용하면서 REST 개념 익히기\n",
    "db = {}\n",
    "id = 0"
   ]
  },
  {
   "cell_type": "markdown",
   "metadata": {},
   "source": [
    "## 4.1. create"
   ]
  },
  {
   "cell_type": "code",
   "execution_count": null,
   "metadata": {},
   "outputs": [],
   "source": [
    "# CREATE: 생성\n",
    "@app.route('/users', methods = ['POST'])\n",
    "def create_user():\n",
    "    global id\n",
    "    body = request.get_json()\n",
    "    print('body', type(body), body)\n",
    "    body['id']= id\n",
    "    db[str(id)] = body\n",
    "    id += 1\n",
    "    print(db)\n",
    "    return body "
   ]
  },
  {
   "cell_type": "markdown",
   "metadata": {},
   "source": [
    "## 4.2. get 조회"
   ]
  },
  {
   "cell_type": "code",
   "execution_count": 8,
   "metadata": {
    "ExecuteTime": {
     "end_time": "2020-01-15T08:41:05.479598Z",
     "start_time": "2020-01-15T08:41:05.475609Z"
    }
   },
   "outputs": [],
   "source": [
    "@app.route('/users/<id>', methods = ['GET'])\n",
    "def select_user(id):\n",
    "    return db[str(id)]"
   ]
  },
  {
   "cell_type": "markdown",
   "metadata": {},
   "source": [
    "- postman에서 send를 눌러야 body = request.get_json()이 실행되고...\n",
    "다음 코드가 계속 실행됨"
   ]
  },
  {
   "cell_type": "markdown",
   "metadata": {},
   "source": [
    "## 4.3. delete"
   ]
  },
  {
   "cell_type": "code",
   "execution_count": 9,
   "metadata": {
    "ExecuteTime": {
     "end_time": "2020-01-15T08:41:17.150447Z",
     "start_time": "2020-01-15T08:41:17.146516Z"
    }
   },
   "outputs": [],
   "source": [
    "# DELETE\n",
    "@app.route('/users/<id>', methods = ['DELETE'])\n",
    "def delete_user(id):\n",
    "    del db[str(id)]\n",
    "    return db"
   ]
  },
  {
   "cell_type": "markdown",
   "metadata": {},
   "source": [
    "## 4.4. update"
   ]
  },
  {
   "cell_type": "code",
   "execution_count": 10,
   "metadata": {
    "ExecuteTime": {
     "end_time": "2020-01-15T08:41:35.096553Z",
     "start_time": "2020-01-15T08:41:35.090608Z"
    }
   },
   "outputs": [],
   "source": [
    "# UPDATE\n",
    "@app.route('/users/<id>', methods = ['PUT'])\n",
    "def update_user(id):\n",
    "    body = request.get_json()\n",
    "    if id in db.keys():\n",
    "        db[str(id)].update(body)\n",
    "    else:\n",
    "        db[str(id)]= body\n",
    "    return db"
   ]
  },
  {
   "cell_type": "markdown",
   "metadata": {},
   "source": [
    "# 5. pickle: 파이썬 객체 직렬화\n",
    "- 파일을 직렬화해서 순차적으로 쓰는 것.\n",
    "\n",
    "\n",
    "> GB가 바뀔 때마다 쓰기\n",
    "- 안전하지만\n",
    "- 성능은 좋지 않음.\n",
    "\n",
    "> flask가 시작, 끝에 일괄적으로 쓰기\n",
    "\n",
    ">  주기적으로 쓰기\n"
   ]
  },
  {
   "cell_type": "code",
   "execution_count": null,
   "metadata": {},
   "outputs": [],
   "source": []
  }
 ],
 "metadata": {
  "kernelspec": {
   "display_name": "Python 3",
   "language": "python",
   "name": "python3"
  },
  "language_info": {
   "codemirror_mode": {
    "name": "ipython",
    "version": 3
   },
   "file_extension": ".py",
   "mimetype": "text/x-python",
   "name": "python",
   "nbconvert_exporter": "python",
   "pygments_lexer": "ipython3",
   "version": "3.7.4"
  },
  "toc": {
   "base_numbering": 1,
   "nav_menu": {},
   "number_sections": false,
   "sideBar": true,
   "skip_h1_title": false,
   "title_cell": "Table of Contents",
   "title_sidebar": "Contents",
   "toc_cell": false,
   "toc_position": {},
   "toc_section_display": true,
   "toc_window_display": true
  },
  "varInspector": {
   "cols": {
    "lenName": 16,
    "lenType": 16,
    "lenVar": 40
   },
   "kernels_config": {
    "python": {
     "delete_cmd_postfix": "",
     "delete_cmd_prefix": "del ",
     "library": "var_list.py",
     "varRefreshCmd": "print(var_dic_list())"
    },
    "r": {
     "delete_cmd_postfix": ") ",
     "delete_cmd_prefix": "rm(",
     "library": "var_list.r",
     "varRefreshCmd": "cat(var_dic_list()) "
    }
   },
   "types_to_exclude": [
    "module",
    "function",
    "builtin_function_or_method",
    "instance",
    "_Feature"
   ],
   "window_display": false
  }
 },
 "nbformat": 4,
 "nbformat_minor": 2
}
