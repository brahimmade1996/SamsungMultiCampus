{
 "cells": [
  {
   "cell_type": "markdown",
   "metadata": {},
   "source": [
    "# 간단한 챗봇 만들기(이름 출력)"
   ]
  },
  {
   "cell_type": "markdown",
   "metadata": {},
   "source": [
    "# 1. openbuilder 접속\n",
    "- 아이디: op@gncloud.kr\n",
    "- ps: gncloud=11@\n",
    "\n",
    "\n",
    "# 2. 블록 만들기\n",
    "- 시나리오에서 발화 블록 만들기\n",
    "\n",
    "\n",
    "# 3. skill\n",
    "### Lan과 카카오를 연결해야 함 -> ngrok\n",
    "- 카톡으로 들어오는 정보를 터널링?을 통해 내 로컬로 연결해줌.\n",
    "- https://ngrok.com/download\n",
    "- ngrok창에서 ngrok http 5000   (5000: flask.py파일 실행할 때 나오는 포트 번호)\n",
    "- http://732720a4.ngrok.io -> http://localhost:5000    \n",
    "\n",
    "> http://732720a4.ngrok.io을 스킬 url에 붙이기"
   ]
  },
  {
   "cell_type": "code",
   "execution_count": 1,
   "metadata": {
    "ExecuteTime": {
     "end_time": "2020-01-16T04:49:54.274439Z",
     "start_time": "2020-01-16T04:49:54.269466Z"
    },
    "scrolled": true
   },
   "outputs": [
    {
     "ename": "SyntaxError",
     "evalue": "invalid syntax (<ipython-input-1-5d1ffa85fb10>, line 1)",
     "output_type": "error",
     "traceback": [
      "\u001b[1;36m  File \u001b[1;32m\"<ipython-input-1-5d1ffa85fb10>\"\u001b[1;36m, line \u001b[1;32m1\u001b[0m\n\u001b[1;33m    ngrok by @inconshreveable                                                                               (Ctrl+C to quit)                                                                                                                        Session Status                online                                                                                    Session Expires               7 hours, 59 minutes                                                                       Version                       2.3.35                                                                                    Region                        United States (us)                                                                        Web Interface                 http://127.0.0.1:4040                                                                     Forwarding                    http://732720a4.ngrok.io -> http://localhost:5000                                         Forwarding                    https://732720a4.ngrok.io -> http://localhost:5000                                                                                                                                                                Connections                   ttl     opn     rt1     rt5     p50     p90                                                                             0       0       0.00    0.00    0.00    0.00\u001b[0m\n\u001b[1;37m           ^\u001b[0m\n\u001b[1;31mSyntaxError\u001b[0m\u001b[1;31m:\u001b[0m invalid syntax\n"
     ]
    }
   ],
   "source": [
    "# ngrok\n",
    "'''\n",
    "ngrok by @inconshreveable                                                                               (Ctrl+C to quit)                                                                                                                        Session Status                online                                                                                    Session Expires               7 hours, 59 minutes                                                                       Version                       2.3.35                                                                                    Region                        United States (us)                                                                        Web Interface                 http://127.0.0.1:4040                                                                     \n",
    "Forwarding                    http://732720a4.ngrok.io -> http://localhost:5000                                         \n",
    "Forwarding                    https://732720a4.ngrok.io -> http://localhost:5000                                                                                                                                                                Connections                   ttl     opn     rt1     rt5     p50     p90                                                                             0       0       0.00    0.00    0.00    0.00 \n",
    "'''"
   ]
  },
  {
   "cell_type": "code",
   "execution_count": 2,
   "metadata": {
    "ExecuteTime": {
     "end_time": "2020-01-16T06:16:13.927347Z",
     "start_time": "2020-01-16T06:16:13.588521Z"
    }
   },
   "outputs": [],
   "source": [
    "from flask import Flask, escape, request\n",
    "\n",
    "# app이 만들어짐\n",
    "app = Flask(__name__)\n",
    "\n",
    "\n",
    "# REST의 url부분: 도메인이 빠진 하위 부분을 코딩\n",
    "# 리턴하는 값이 응답\n",
    "@app.route('/')\n",
    "def hello():\n",
    "    name = request.args.get('name', 'world')\n",
    "    return f'Hello, {escape(name)}!'\n",
    "\n",
    "# json으로 return\n",
    "@app.route('/hi',methods=['GET', 'POST'])\n",
    "def hi():\n",
    "    return{\n",
    "        \"version\": \"2.0\",\n",
    "        \"template\": {\n",
    "            \"outputs\": [\n",
    "                {\n",
    "                    \"simpleText\": {\n",
    "                        \"text\": \"간단한 텍스트 요소입니다\"\n",
    "                    }\n",
    "                }\n",
    "            ]\n",
    "        }\n",
    "    }    "
   ]
  },
  {
   "cell_type": "code",
   "execution_count": null,
   "metadata": {},
   "outputs": [],
   "source": []
  },
  {
   "cell_type": "code",
   "execution_count": null,
   "metadata": {},
   "outputs": [],
   "source": []
  }
 ],
 "metadata": {
  "kernelspec": {
   "display_name": "Python 3",
   "language": "python",
   "name": "python3"
  },
  "language_info": {
   "codemirror_mode": {
    "name": "ipython",
    "version": 3
   },
   "file_extension": ".py",
   "mimetype": "text/x-python",
   "name": "python",
   "nbconvert_exporter": "python",
   "pygments_lexer": "ipython3",
   "version": "3.7.4"
  },
  "toc": {
   "base_numbering": 1,
   "nav_menu": {},
   "number_sections": false,
   "sideBar": true,
   "skip_h1_title": false,
   "title_cell": "Table of Contents",
   "title_sidebar": "Contents",
   "toc_cell": false,
   "toc_position": {},
   "toc_section_display": true,
   "toc_window_display": false
  },
  "varInspector": {
   "cols": {
    "lenName": 16,
    "lenType": 16,
    "lenVar": 40
   },
   "kernels_config": {
    "python": {
     "delete_cmd_postfix": "",
     "delete_cmd_prefix": "del ",
     "library": "var_list.py",
     "varRefreshCmd": "print(var_dic_list())"
    },
    "r": {
     "delete_cmd_postfix": ") ",
     "delete_cmd_prefix": "rm(",
     "library": "var_list.r",
     "varRefreshCmd": "cat(var_dic_list()) "
    }
   },
   "types_to_exclude": [
    "module",
    "function",
    "builtin_function_or_method",
    "instance",
    "_Feature"
   ],
   "window_display": false
  }
 },
 "nbformat": 4,
 "nbformat_minor": 2
}
