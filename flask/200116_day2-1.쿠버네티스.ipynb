{
 "cells": [
  {
   "cell_type": "markdown",
   "metadata": {},
   "source": [
    "### 블로그 type\n",
    "- trouble shouting: 문제 해결\n",
    "- 투토리얼(목적에 부합하게. flask를 사용해서 rest api를 구동)\n",
    "- 설명(교과서적인 내용들\n",
    "\n",
    "#### 꾸준히 쓰는 것이 제일 중요\n",
    "#### 다작이 최고의 미덕\n",
    "\n",
    "#### notion을 이용한 템플릿 . 내용 정리에 굿.\n",
    "\n",
    "\n",
    "### 깃헙 페이지\n",
    "- 지킬(Jekyll)"
   ]
  },
  {
   "cell_type": "markdown",
   "metadata": {},
   "source": [
    "# 1. 쿠버네티스"
   ]
  },
  {
   "cell_type": "markdown",
   "metadata": {},
   "source": [
    "> 도커 위에 쿠버네틱스를 얹어서 사용\n",
    "- 도커만 따로 사용하지 않는 이유: 트래픽이 들어오면 여러개로 분산해서 워크로드를 관리해야 하기 때문에\n",
    "\n",
    "> 쿠버네티스\n",
    "- 설, 추석에 높은 트래픽에 대비\n",
    "- 컨테니어화된 워크로드와 서비스를 관리하기 위한 이식성있고 확장 가능한 오픈소스 플랫폼\n",
    "- 서버를 물리적으로 관리하기 위한것.\n",
    "\n",
    "> 탄력성\n",
    "- 트래픽이 올라갈수록 후행성으로 같이 따라 올라가는 것\n",
    "\n",
    "\n",
    "> 컨테이너\n",
    "- API가 있음.프로그래머틱 하게 관리하기 위한 컨테이너 엔진이 필요\n",
    "\n",
    "\n",
    "## 기본 개념\n",
    "> 네임 스페이스\n",
    "-\n",
    "> 노드\n",
    "- 서버\n",
    "> 퍼시스턴스 볼륨\n",
    "-\n",
    "> 스토리지 클래스\n",
    "-\n",
    "> 워크로드\n",
    "- 작업부하, 실행할 수 있는 것\n",
    "- 크론 잡, \n",
    "- 데몸 셋, \n",
    "- 디플로이먼트,: 어플리케이션을 서버쪽에 배치 (CI/CD: 형상관리(소스 저장소에 소스 커밋- 백업, 히스토리\n",
    ")\n",
    "- 잡, \n",
    "- 파드\n",
    "등\n",
    "\n",
    "> 파드\n",
    "- 프로세스가 죽지 않도록 관리\n",
    "- 티플로이먼트: 파드를 배치\n",
    "- 파드를 여럭로 만들기 위한 컨트롤러\n",
    "- 데몬잡: 노드마다 파드가 하나씩 실행될 수 있도록 하는 컨트로럴\n",
    "- 스테이트풀, 스테이트리스: 스테이트 리스로 만들어야 함.\n",
    "\n",
    "## 왜 필요한가?\n",
    "> 운영환경에서의 컨테이너 간리\n",
    "- 가동 중지 시간이 없는지 확인\n",
    "- 다운되면 다른 컨테이너 다시 시작\n",
    "- 분산 시스템을 탄력적으로 실행\n",
    "- 애플리케이션의 확장과 장애 조치\n",
    "- 배포 패턴 제공(카나리아(유독가스 감지용) 배포)\n",
    "\n",
    "## 쿠버네티스 기능\n",
    "- 서비스 디스커버리: - 서비스가 뭐가 떠있는지\n",
    "- 로드 밸런싱: \n",
    "- 스토리지 오케스트레이션: 여러 스토리지를 하나로 관리 -> \n",
    "- 자동화된 롤아웃과 롤백\n",
    "- 자동화된 빈 패킹: 빈(휴지통/ 통) + 패킹(채워놓는것) -> 워크로드를 스케줄링하는 것.각 노드의 상황에 맞도록\n",
    "- 자동화된 복구 \n",
    "- 시크릿\n",
    "- 구성관리\n",
    "\n",
    "## 쿠버네티스는 파스가 아니다!\n",
    "> as a service\n",
    "- IaaS: infra as a service(가상머신을 만드는 서비스, AWS)\n",
    "- PaaS: Platform as  a service( 기능 단위(지도 검색, 번역,등), api를 제공.\n",
    "- Saas: Service as a service(드롭박스, 네이버 클라우드 등 등 최종 서비스, \n",
    "\n",
    "\n",
    "> Paas\n",
    "- 개발(소스 저장소) -> 테스트(테스트 프레임워크) -> 배포(젠킨스 등) -> 운영(모니터닝)의 라이프 사이클을 제공\n",
    "- 쿠버네티스를 가지고 PaaS(대부분의 솔루션들)를 만들 수 있음.\n",
    "\n",
    "## 아키텍처\n",
    "> 마스터 vs 노드\n",
    "- 마스터: "
   ]
  },
  {
   "cell_type": "code",
   "execution_count": null,
   "metadata": {},
   "outputs": [],
   "source": []
  }
 ],
 "metadata": {
  "kernelspec": {
   "display_name": "Python 3",
   "language": "python",
   "name": "python3"
  },
  "language_info": {
   "codemirror_mode": {
    "name": "ipython",
    "version": 3
   },
   "file_extension": ".py",
   "mimetype": "text/x-python",
   "name": "python",
   "nbconvert_exporter": "python",
   "pygments_lexer": "ipython3",
   "version": "3.7.4"
  },
  "toc": {
   "base_numbering": 1,
   "nav_menu": {},
   "number_sections": false,
   "sideBar": true,
   "skip_h1_title": false,
   "title_cell": "Table of Contents",
   "title_sidebar": "Contents",
   "toc_cell": false,
   "toc_position": {},
   "toc_section_display": true,
   "toc_window_display": false
  },
  "varInspector": {
   "cols": {
    "lenName": 16,
    "lenType": 16,
    "lenVar": 40
   },
   "kernels_config": {
    "python": {
     "delete_cmd_postfix": "",
     "delete_cmd_prefix": "del ",
     "library": "var_list.py",
     "varRefreshCmd": "print(var_dic_list())"
    },
    "r": {
     "delete_cmd_postfix": ") ",
     "delete_cmd_prefix": "rm(",
     "library": "var_list.r",
     "varRefreshCmd": "cat(var_dic_list()) "
    }
   },
   "types_to_exclude": [
    "module",
    "function",
    "builtin_function_or_method",
    "instance",
    "_Feature"
   ],
   "window_display": false
  }
 },
 "nbformat": 4,
 "nbformat_minor": 2
}
