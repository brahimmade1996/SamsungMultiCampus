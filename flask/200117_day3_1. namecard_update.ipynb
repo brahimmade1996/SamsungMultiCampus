{
 "cells": [
  {
   "cell_type": "markdown",
   "metadata": {},
   "source": [
    "# 어떻게 이미지를 넣으면 url이 나오나?\n",
    "- 이미지가 카카오 서버에 올라가고\n",
    "- 단순히 서버의 url이 보여지는 것.\n",
    "\n",
    "\n",
    "> skill server\n",
    "- 카카오 서버가 우리 skill server로 보낼 때 시간이 오려 걸리니까\n",
    "- 카카오 서버가 hosting을 해주고\n",
    "- 우리는 url만 맏기\n",
    "- 우리는 이미지를 갖고 있지 않기 때문에 서버 용량이 크기 않아도 됨.\n",
    "\n",
    "> CDN\n",
    "- content dilivery network\n",
    "- 정적인 파일(이미지, 자바 스크립트, 동영상)을 다운로드할 때 가속화할 수 있는 서비스\n",
    "- 유로로 기업의 호스팅을 하고 있음.\n",
    "- 기업들은 자체 서버에서 호스팅하지 않고, CDN을 거쳐서 하고 있음.\n",
    "\n",
    "> 컨텐츠하는 회사는 트래픽 비용이 제일 큼 (> 서버 유지 비용)\n",
    "\n",
    "\n",
    "# DB\n",
    "- mySQL\n",
    "- 오라클\n",
    "- back office: 관리자 페이지를 만들어서 db조회가 가능 (CRUD를 하기 위해서)\n",
    "\n",
    "> google docs, (spread Sheet)\n",
    "- spreed Sheet로 실시간으로 관리자가 db 내용을 확인할 수 있음.간단한 \n",
    "- db외 back office를 한번에 해줄 수 있는 것: \n",
    "- 간단한 crud 가능\n",
    "- 조인까지는 안됨.\n",
    "\n",
    "\n"
   ]
  },
  {
   "cell_type": "markdown",
   "metadata": {
    "ExecuteTime": {
     "end_time": "2020-01-17T00:26:13.576635Z",
     "start_time": "2020-01-17T00:26:13.571582Z"
    }
   },
   "source": [
    "# upgrade하기\n",
    "1. flask를 처음 시작할 때 road로 db 갖고 오기\n",
    "\n",
    "2. 명함 인식 받아서 db로 갖고 오기\n",
    "- db에 이름, 이메일, 전화번호로 나누어서 dict로 저장\n",
    "\n",
    "3. flask를 끝날 때 dump로 저장"
   ]
  },
  {
   "cell_type": "code",
   "execution_count": null,
   "metadata": {},
   "outputs": [],
   "source": []
  }
 ],
 "metadata": {
  "kernelspec": {
   "display_name": "Python 3",
   "language": "python",
   "name": "python3"
  },
  "language_info": {
   "codemirror_mode": {
    "name": "ipython",
    "version": 3
   },
   "file_extension": ".py",
   "mimetype": "text/x-python",
   "name": "python",
   "nbconvert_exporter": "python",
   "pygments_lexer": "ipython3",
   "version": "3.7.4"
  },
  "toc": {
   "base_numbering": 1,
   "nav_menu": {},
   "number_sections": false,
   "sideBar": true,
   "skip_h1_title": false,
   "title_cell": "Table of Contents",
   "title_sidebar": "Contents",
   "toc_cell": false,
   "toc_position": {},
   "toc_section_display": true,
   "toc_window_display": false
  },
  "varInspector": {
   "cols": {
    "lenName": 16,
    "lenType": 16,
    "lenVar": 40
   },
   "kernels_config": {
    "python": {
     "delete_cmd_postfix": "",
     "delete_cmd_prefix": "del ",
     "library": "var_list.py",
     "varRefreshCmd": "print(var_dic_list())"
    },
    "r": {
     "delete_cmd_postfix": ") ",
     "delete_cmd_prefix": "rm(",
     "library": "var_list.r",
     "varRefreshCmd": "cat(var_dic_list()) "
    }
   },
   "types_to_exclude": [
    "module",
    "function",
    "builtin_function_or_method",
    "instance",
    "_Feature"
   ],
   "window_display": false
  }
 },
 "nbformat": 4,
 "nbformat_minor": 2
}
