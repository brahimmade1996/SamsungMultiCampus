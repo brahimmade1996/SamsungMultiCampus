{
 "cells": [
  {
   "cell_type": "markdown",
   "metadata": {},
   "source": [
    "# sourcetree\n",
    "> Bitbucket \n",
    "- git관리 가능\n",
    "\n",
    "\n",
    ">  정적/ 동적 호스팅\n",
    "- 스크립트 언어를 해석할 수 있는가의 차이\n",
    "- 정적 호스팅: html, 자바 스크립트, image => 사용자 보는 파일 = 작성한 파일\n",
    "- 동적 호스팅: .jsp(자바 스크립브 + html = html), php => 변형 작업이 필요-> 동적 페이지가 필요\n",
    "\n",
    "> 브라우저\n",
    "- 자바 스크립트 해석 엔진이 있음.\n",
    "\n",
    "\n",
    "> server side\n",
    "- 서버에서 연산\n",
    "- 자바, php 등의 컴파일 언어가 들어감-> html\n",
    ">> SSR(서버 사이드 렌더링)\n",
    "- 서버의 사앙이 좋아야 함.\n",
    "- 클라이언트 리소스를 사용 안함., \n",
    "- 트래픽이 높아지면 부하도 같이 놓아짐\n",
    "\n",
    "> 클라이언트 side 렌더링\n",
    "- 자바스크립트 엔진(스크립트 언어 중 제일 빠름. \n",
    "- 디비는 서버에 있으니, 데이터를 갖고오는 통로 역할만함.다른건 클라이언트에서 함\n",
    "- react(페이스북), 앵귤러(구글), js.vue(커뮤니티 진영)\n",
    "- 페이스북: 기능들이 여기저기 조밀하게 들어가있음. 조각조각 내서 하나의 모듈처럼 사용 가능\n",
    "- reactive를 가지고 프레임워크를 만들 수 있음. -> 페이스북 앱, 인스타그램\n",
    "- 정적 호스팅\n",
    "\n",
    "> 정적 호스팅할 때\n",
    "- 우리의 마크다운을 어떻게 html로 변환할 것인가? 지킬엔진 사용\n",
    "- 지킬: 루비로 만든 html 변환 엔진\n",
    "- 지킬 템플릿 추가"
   ]
  },
  {
   "cell_type": "code",
   "execution_count": null,
   "metadata": {},
   "outputs": [],
   "source": []
  }
 ],
 "metadata": {
  "kernelspec": {
   "display_name": "Python 3",
   "language": "python",
   "name": "python3"
  },
  "language_info": {
   "codemirror_mode": {
    "name": "ipython",
    "version": 3
   },
   "file_extension": ".py",
   "mimetype": "text/x-python",
   "name": "python",
   "nbconvert_exporter": "python",
   "pygments_lexer": "ipython3",
   "version": "3.7.4"
  },
  "toc": {
   "base_numbering": 1,
   "nav_menu": {},
   "number_sections": false,
   "sideBar": true,
   "skip_h1_title": false,
   "title_cell": "Table of Contents",
   "title_sidebar": "Contents",
   "toc_cell": false,
   "toc_position": {},
   "toc_section_display": true,
   "toc_window_display": false
  },
  "varInspector": {
   "cols": {
    "lenName": 16,
    "lenType": 16,
    "lenVar": 40
   },
   "kernels_config": {
    "python": {
     "delete_cmd_postfix": "",
     "delete_cmd_prefix": "del ",
     "library": "var_list.py",
     "varRefreshCmd": "print(var_dic_list())"
    },
    "r": {
     "delete_cmd_postfix": ") ",
     "delete_cmd_prefix": "rm(",
     "library": "var_list.r",
     "varRefreshCmd": "cat(var_dic_list()) "
    }
   },
   "types_to_exclude": [
    "module",
    "function",
    "builtin_function_or_method",
    "instance",
    "_Feature"
   ],
   "window_display": false
  }
 },
 "nbformat": 4,
 "nbformat_minor": 2
}
