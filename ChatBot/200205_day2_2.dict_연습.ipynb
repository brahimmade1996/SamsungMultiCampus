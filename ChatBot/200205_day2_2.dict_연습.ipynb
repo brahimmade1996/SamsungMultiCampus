{
 "cells": [
  {
   "cell_type": "markdown",
   "metadata": {},
   "source": [
    "# dict 연습"
   ]
  },
  {
   "cell_type": "markdown",
   "metadata": {},
   "source": [
    "## 1.피보나치수열\n",
    "- https://devdoggo.netlify.com/post/alg_ds/challenges/fibonacci_solutions/"
   ]
  },
  {
   "cell_type": "markdown",
   "metadata": {},
   "source": [
    "## 1.1. 재귀함수 사용"
   ]
  },
  {
   "cell_type": "code",
   "execution_count": 1,
   "metadata": {
    "ExecuteTime": {
     "end_time": "2020-02-05T01:21:43.675105Z",
     "start_time": "2020-02-05T01:21:43.671115Z"
    }
   },
   "outputs": [],
   "source": [
    "def pibo(num):        \n",
    "    if num < 3:\n",
    "        return 1\n",
    "    else:\n",
    "        return pibo(num-1) + pibo(num-2)\n",
    "    "
   ]
  },
  {
   "cell_type": "code",
   "execution_count": 2,
   "metadata": {
    "ExecuteTime": {
     "end_time": "2020-02-05T01:21:50.345175Z",
     "start_time": "2020-02-05T01:21:50.337219Z"
    }
   },
   "outputs": [
    {
     "data": {
      "text/plain": [
       "55"
      ]
     },
     "execution_count": 2,
     "metadata": {},
     "output_type": "execute_result"
    }
   ],
   "source": [
    "pibo(10)"
   ]
  },
  {
   "cell_type": "markdown",
   "metadata": {},
   "source": [
    "### 재귀함수가 오래 걸리는 이유\n",
    "- 깊이가 깊어지므로 stack이 깊어질수록, 호출, restore하는 과정에서 시간이 올래 걸림\n",
    "- 같은 계산을 너무 많이 반복해야 함.-> 숫자가 커지면, 알고리즘 복잡도가 기하급수적으로 증가함."
   ]
  },
  {
   "cell_type": "markdown",
   "metadata": {},
   "source": [
    "## 1.2.dict 사용\n",
    "\n",
    "- 이미 계산된 dict 값을 사용하므로 계산이 매우 빠름\n",
    "\n",
    "> 캐시기법\n",
    "- 한번 계산된 것을 또 계산하지 않기 위해서\n",
    "- 캐시 메모리 개념"
   ]
  },
  {
   "cell_type": "code",
   "execution_count": 21,
   "metadata": {
    "ExecuteTime": {
     "end_time": "2020-02-05T01:29:09.818943Z",
     "start_time": "2020-02-05T01:29:09.813956Z"
    }
   },
   "outputs": [],
   "source": [
    "pibo_dict = {'1': 1, '2':1}\n",
    "\n",
    "def fibo(num):\n",
    "    for cnt in range(3, num+1):\n",
    "        \n",
    "        pibo_dict[str(cnt)]=pibo_dict[str(cnt-1)]+ pibo_dict[str(cnt-2)]\n",
    "#         print(pibo_dict)\n",
    "    return pibo_dict[str(num)]"
   ]
  },
  {
   "cell_type": "code",
   "execution_count": 22,
   "metadata": {
    "ExecuteTime": {
     "end_time": "2020-02-05T01:29:10.714250Z",
     "start_time": "2020-02-05T01:29:10.710304Z"
    }
   },
   "outputs": [
    {
     "data": {
      "text/plain": [
       "139583862445"
      ]
     },
     "execution_count": 22,
     "metadata": {},
     "output_type": "execute_result"
    }
   ],
   "source": [
    "fibo(55)"
   ]
  },
  {
   "cell_type": "markdown",
   "metadata": {},
   "source": [
    "## 1.3. 강사님 코드"
   ]
  },
  {
   "cell_type": "code",
   "execution_count": 25,
   "metadata": {
    "ExecuteTime": {
     "end_time": "2020-02-05T01:35:08.026813Z",
     "start_time": "2020-02-05T01:35:08.021824Z"
    }
   },
   "outputs": [],
   "source": [
    "pre = {1:1, 2:1}\n",
    "\n",
    "def fibo2(n):\n",
    "    v = pre.get(n)  # key가 없으면 None return\n",
    "    if v != None:\n",
    "        return v\n",
    "    else:\n",
    "        pre[n]= fibo2(n-1)+ fibo2(n-2)\n",
    "        return pre[n]"
   ]
  },
  {
   "cell_type": "code",
   "execution_count": 26,
   "metadata": {
    "ExecuteTime": {
     "end_time": "2020-02-05T01:35:08.733715Z",
     "start_time": "2020-02-05T01:35:08.729726Z"
    }
   },
   "outputs": [
    {
     "data": {
      "text/plain": [
       "1134903170"
      ]
     },
     "execution_count": 26,
     "metadata": {},
     "output_type": "execute_result"
    }
   ],
   "source": [
    "fibo2(45)"
   ]
  },
  {
   "cell_type": "markdown",
   "metadata": {},
   "source": [
    "# 1.4. 한들님 코드"
   ]
  },
  {
   "cell_type": "code",
   "execution_count": 28,
   "metadata": {
    "ExecuteTime": {
     "end_time": "2020-02-05T02:08:14.894505Z",
     "start_time": "2020-02-05T02:08:14.889518Z"
    }
   },
   "outputs": [
    {
     "name": "stdout",
     "output_type": "stream",
     "text": [
      "[1, 2, 3]\n",
      "[2, 3, 4]\n",
      "[3, 5, 5]\n",
      "[5, 8, 6]\n",
      "[8, 13, 7]\n",
      "[13, 21, 8]\n",
      "[21, 34, 9]\n",
      "[34, 55, 10]\n"
     ]
    }
   ],
   "source": [
    "num = 10\n",
    "\n",
    "arr = [1,1,2]\n",
    "\n",
    "while num != 1 and arr[2] !=num:\n",
    "    arr[:]= arr[1], arr[0] + arr[1], arr[2] + 1\n",
    "    print(arr)\n",
    "    "
   ]
  },
  {
   "cell_type": "code",
   "execution_count": 27,
   "metadata": {
    "ExecuteTime": {
     "end_time": "2020-02-05T02:04:07.700877Z",
     "start_time": "2020-02-05T02:04:07.695890Z"
    }
   },
   "outputs": [
    {
     "name": "stdout",
     "output_type": "stream",
     "text": [
      "55\n"
     ]
    }
   ],
   "source": [
    "print('1') if num==1 else print(arr[1])"
   ]
  },
  {
   "cell_type": "code",
   "execution_count": null,
   "metadata": {},
   "outputs": [],
   "source": []
  }
 ],
 "metadata": {
  "kernelspec": {
   "display_name": "Python 3",
   "language": "python",
   "name": "python3"
  },
  "language_info": {
   "codemirror_mode": {
    "name": "ipython",
    "version": 3
   },
   "file_extension": ".py",
   "mimetype": "text/x-python",
   "name": "python",
   "nbconvert_exporter": "python",
   "pygments_lexer": "ipython3",
   "version": "3.7.5"
  },
  "toc": {
   "base_numbering": 1,
   "nav_menu": {},
   "number_sections": false,
   "sideBar": true,
   "skip_h1_title": false,
   "title_cell": "Table of Contents",
   "title_sidebar": "Contents",
   "toc_cell": false,
   "toc_position": {},
   "toc_section_display": true,
   "toc_window_display": true
  },
  "varInspector": {
   "cols": {
    "lenName": 16,
    "lenType": 16,
    "lenVar": 40
   },
   "kernels_config": {
    "python": {
     "delete_cmd_postfix": "",
     "delete_cmd_prefix": "del ",
     "library": "var_list.py",
     "varRefreshCmd": "print(var_dic_list())"
    },
    "r": {
     "delete_cmd_postfix": ") ",
     "delete_cmd_prefix": "rm(",
     "library": "var_list.r",
     "varRefreshCmd": "cat(var_dic_list()) "
    }
   },
   "types_to_exclude": [
    "module",
    "function",
    "builtin_function_or_method",
    "instance",
    "_Feature"
   ],
   "window_display": false
  }
 },
 "nbformat": 4,
 "nbformat_minor": 2
}
