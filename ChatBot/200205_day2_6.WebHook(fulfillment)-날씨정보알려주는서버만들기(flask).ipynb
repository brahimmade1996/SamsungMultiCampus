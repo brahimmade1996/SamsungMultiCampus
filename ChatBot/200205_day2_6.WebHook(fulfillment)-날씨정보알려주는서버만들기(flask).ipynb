{
 "cells": [
  {
   "cell_type": "markdown",
   "metadata": {},
   "source": [
    "# 챗봇 종류\n",
    "\n",
    "### 1. consol base 챗봇\n",
    "- 전용 챗봇만 가능\n",
    "-  request.get으로 사용해서 우리가 웹에 호출\n",
    "\n",
    "\n",
    "### 2.  다른 api와 연계\n",
    "- 라인, 카카오톡 (openAPI)등과 연계 가능한 챗봇\n",
    "- fulfillment기능 사용\n",
    "- dialogflow에서 우리에게 정보를 주는 것\n",
    "\n",
    "# Fulfillment = WebHook\n",
    "- 중간에 가로채는 것\n",
    "- Dialogflow 에이전트가 의도에 따라 비지니스 로직을 호출\n",
    "- Dialogflow의 자연어 처리로 처리한 추출한 정보를 사용하여 동적 응답 생성\n",
    "\n",
    "> user\n",
    "- 스마트폰, 라인, 카톡, 전화 등\n",
    "\n",
    "> app, application\n",
    "\n",
    "> dialoglflow\n",
    "- 인텐트, 엔티티 분석\n",
    "\n",
    "> fullfillment\n",
    "- dialogflow가 우리 서버를 호출-> 계산 후, 다시 구글로 보내면 -> user에세 보잼\n",
    "- 동적으로 계산하기 위해서\n",
    "\n",
    "\n",
    "### 이종 시스템간에 연결 가능: web\n",
    "- 우리가 web서버를 구축하면\n",
    "- 구글이 client가 되어서 우리 서버에 접속해서 가져감.\n",
    "\n",
    "> 웹서버 만드는 방법\n",
    "- 플라스크\n",
    "- 장고\n",
    "\n",
    "> json\n",
    "- 구글 , 웹서버가 서로 주고받는 데이터 양식"
   ]
  },
  {
   "cell_type": "markdown",
   "metadata": {},
   "source": [
    "# Flask"
   ]
  },
  {
   "cell_type": "markdown",
   "metadata": {},
   "source": [
    "- 웹 서버 기능 "
   ]
  },
  {
   "cell_type": "code",
   "execution_count": null,
   "metadata": {},
   "outputs": [],
   "source": [
    "from flask import Flask\n",
    "\n",
    "# 객체 생성\n",
    "app.Flask(__name__)\n",
    "\n",
    "# 웹 브라우저에 실행할 때 나오는 화면\n",
    "# 웹 서버에서 호출받은 후, hello를 보냄. \n",
    "@app.route('/')\n",
    "# 함수이름 아무거나 상관없음.\n",
    "def home():\n",
    "    return 'hello~~'\n",
    "\n",
    "if __name__ == '__main__':\n",
    "    # 내 서버에 접속하는 것\n",
    "    app.run(host = '0.0.0.0', # 웹서버에 누구나 들어올 수 있게\n",
    "           port = 3000,\n",
    "           debug = True)\n",
    "    "
   ]
  },
  {
   "cell_type": "markdown",
   "metadata": {},
   "source": [
    "### debug = True\n",
    "- 서버.py 코드가 수정되어도 다시 실행할 필요 없음"
   ]
  },
  {
   "cell_type": "markdown",
   "metadata": {},
   "source": [
    "### 내 브라우저에서 실행할 때는 \n",
    "- 127.0.0.1/3000으로 접속\n"
   ]
  },
  {
   "cell_type": "markdown",
   "metadata": {},
   "source": [
    "### IP 주소: v4(4자리)\n",
    "> 공인 아이피로 접속해야 하는데\n",
    "- 사설 아이피: 가까운 LAN과만 연결된 아이피\n",
    "- LAN(공인 아이피를 할당받음)을 통해서 외부와 접속 가능\n",
    "\n",
    "> 0.0.0.0: 서버에서 사용\n",
    "- 모든 아이피에 반응하겠다\n",
    "- 자기 자신 아이피를 모를 때 자기 아이피를 찾아서 사용해줌\n",
    "- 어디서든 가능\n",
    "- 사설 아이피를 알아서 할 수도 있지만, 다른 pc에서는 불가\n",
    "\n",
    "\n",
    "> 로컬 호스트:127.0.0.1 -> roopback 주소\n",
    "- 이름을 아이피로 바꾸는 규칙에 명시\n",
    "- 내부 dns 개념\n",
    "- 브라우저: 명확하게 접속하는 ip(목적지 주소)를 써야 함.\n",
    "- roopback 주소: 컴퓨터의 랜카드까지만 갔다옴."
   ]
  },
  {
   "cell_type": "markdown",
   "metadata": {
    "ExecuteTime": {
     "end_time": "2020-02-05T07:34:18.701810Z",
     "start_time": "2020-02-05T07:34:18.697821Z"
    }
   },
   "source": [
    "### 데코레이터\n",
    "- 함수 앞뒤로 파이썬이 자동으로 어떤 코드를 붙여줌\n",
    "- 특정 함수 앞, 뒤로 특정 기능이 자동으로 들어감\n",
    "- 함수를 wrapper한다는 의미\n",
    "\n",
    "\n",
    "### not found\n",
    "- flask에서 실행하는 오류\n",
    "- 코드에서 찾을 수 없을 대"
   ]
  },
  {
   "cell_type": "markdown",
   "metadata": {},
   "source": [
    "## 1. get 방식: url로 보냄"
   ]
  },
  {
   "cell_type": "markdown",
   "metadata": {
    "ExecuteTime": {
     "end_time": "2020-02-05T07:37:23.849478Z",
     "start_time": "2020-02-05T07:37:23.845490Z"
    }
   },
   "source": [
    "### 연습1. get 파라미터: request.args.get()"
   ]
  },
  {
   "cell_type": "code",
   "execution_count": null,
   "metadata": {
    "ExecuteTime": {
     "end_time": "2020-02-05T07:40:29.755227Z",
     "start_time": "2020-02-05T07:40:29.701305Z"
    }
   },
   "outputs": [],
   "source": [
    "@app.route('/')\n",
    "def home():\n",
    "    # name: 브라우저에서 호출하면 그 valud값을 불러옴.\n",
    "    name = request.args.get('name')\n",
    "    return 'hello~~' + name"
   ]
  },
  {
   "cell_type": "markdown",
   "metadata": {},
   "source": [
    "> 브라우저에서 \n",
    "- http://127.0.0.1:3000/?name=abc\n",
    "- ? :파라미터 입력할 때\n",
    "- 브라우저에서 입력한 데이터를 서버에서 받아서 다시 브라우저로 받아짐"
   ]
  },
  {
   "cell_type": "code",
   "execution_count": null,
   "metadata": {},
   "outputs": [],
   "source": [
    "@app.route('/')\n",
    "def home():\n",
    "    # name: 브라우저에서 호출하면 그 valud값을 불러옴.\n",
    "    name = request.args.get('name')\n",
    "    item = request.args.get('item')\n",
    "    return 'hello~~' + name + item"
   ]
  },
  {
   "cell_type": "markdown",
   "metadata": {},
   "source": [
    "> 브라우저에서\n",
    "- http://127.0.0.1:3000/?name=abc&item=%ED%95%9C%EA%B8%80\n",
    "- 브라우저에서는 한글을 자동으로 인코딩함\n",
    "-"
   ]
  },
  {
   "cell_type": "markdown",
   "metadata": {},
   "source": [
    "###  연습2. 날씨 알려주는 함수 추가(사람이 보기 편하게)"
   ]
  },
  {
   "cell_type": "code",
   "execution_count": null,
   "metadata": {},
   "outputs": [],
   "source": [
    "def getWeather(city):\n",
    "    url = 'https://search.naver.com/search.naver?query='\n",
    "    url = url + urllib.parse.quote_plus(city + '날씨')\n",
    "    print(url)\n",
    "    bs = BeautifulSoup(urllib.request.urlopen(url).read(), 'html.parser')\n",
    "    temp = bs.select('span.todaytemp')\n",
    "    desc = bs.select('p.cast_txt')\n",
    "    return {'temp':temp[0].text, 'desc':desc[0].text}\n",
    "\n",
    "@app.route('/weather')\n",
    "def weather():\n",
    "    city = request.args.get('city')\n",
    "    info = getWeather(city)\n",
    "    return '<font color=red>'+info['temp']+'도  ' + info['desc'] +'>/font>' # 출력은 무조건 문자열\n"
   ]
  },
  {
   "cell_type": "markdown",
   "metadata": {},
   "source": [
    "> 브라우저에서\n",
    "- http://127.0.0.1:3000/weather?city=%EB%B6%80%EC%82%B0\n",
    "- 실제 서버에서 보낸 문자열만 네트워크로  보냄    \n",
    "- 소스코드를 보내지 않음 \n",
    "- 서버에서 모두 실행 => 서버 사이드 \n",
    "- 브라우저: 실행된 결과값만 보냄"
   ]
  },
  {
   "cell_type": "markdown",
   "metadata": {
    "ExecuteTime": {
     "end_time": "2020-02-05T08:14:32.694244Z",
     "start_time": "2020-02-05T08:14:32.690255Z"
    }
   },
   "source": [
    "### 연습3. 날씨 알려주는 함수(diologflow를 이용하기 위해 json이용)\n",
    "\n",
    "> 웹 표준 통신 포멧\n",
    "- json(문자열)"
   ]
  },
  {
   "cell_type": "markdown",
   "metadata": {},
   "source": [
    "#### json.dumps() 이용"
   ]
  },
  {
   "cell_type": "code",
   "execution_count": null,
   "metadata": {},
   "outputs": [],
   "source": [
    "\n",
    "@app.route('/weather')\n",
    "def weather():\n",
    "    city = request.args.get('city')\n",
    "    info = getWeather(city)\n",
    "    return json.dumps(info)\n"
   ]
  },
  {
   "cell_type": "markdown",
   "metadata": {},
   "source": [
    "> 브라우저에서 결과\n",
    "- {\"temp\": \"5\", \"desc\": \"\\ub9d1\\uc74c, \\uc5b4\\uc81c\\ubcf4\\ub2e4 4\\u02da \\ub0ae\\uc544\\uc694\"}\n",
    "\n"
   ]
  },
  {
   "cell_type": "markdown",
   "metadata": {},
   "source": [
    "#### jsonify()이용 : 더 많이 사용"
   ]
  },
  {
   "cell_type": "code",
   "execution_count": null,
   "metadata": {},
   "outputs": [],
   "source": [
    "@app.route('/weather')\n",
    "def weather():\n",
    "    city = request.args.get('city')\n",
    "    info = getWeather(city)\n",
    "    return jsonify(info)\n"
   ]
  },
  {
   "cell_type": "markdown",
   "metadata": {
    "ExecuteTime": {
     "end_time": "2020-02-05T08:18:53.680575Z",
     "start_time": "2020-02-05T08:18:53.675588Z"
    }
   },
   "source": [
    "> 브라우저 결과\n",
    "- {\n",
    "  \"desc\": \"\\ub9d1\\uc74c, \\uc5b4\\uc81c\\ubcf4\\ub2e4 4\\u02da \\ub0ae\\uc544\\uc694\", \n",
    "  \"temp\": \"5\"\n",
    "}"
   ]
  },
  {
   "cell_type": "markdown",
   "metadata": {},
   "source": [
    "# 서버 호출 해보기"
   ]
  },
  {
   "cell_type": "code",
   "execution_count": 17,
   "metadata": {
    "ExecuteTime": {
     "end_time": "2020-02-05T08:26:41.357743Z",
     "start_time": "2020-02-05T08:26:41.300335Z"
    }
   },
   "outputs": [],
   "source": [
    "import urllib\n",
    "from flask import Flask, request, jsonify\n",
    "from bs4 import BeautifulSoup"
   ]
  },
  {
   "cell_type": "code",
   "execution_count": 18,
   "metadata": {
    "ExecuteTime": {
     "end_time": "2020-02-05T08:26:42.826633Z",
     "start_time": "2020-02-05T08:26:42.811644Z"
    }
   },
   "outputs": [
    {
     "ename": "HTTPError",
     "evalue": "HTTP Error 404: NOT FOUND",
     "output_type": "error",
     "traceback": [
      "\u001b[1;31m---------------------------------------------------------------------------\u001b[0m",
      "\u001b[1;31mHTTPError\u001b[0m                                 Traceback (most recent call last)",
      "\u001b[1;32m<ipython-input-18-b57b6e9c5de8>\u001b[0m in \u001b[0;36m<module>\u001b[1;34m\u001b[0m\n\u001b[0;32m      2\u001b[0m \u001b[0murl\u001b[0m \u001b[1;33m=\u001b[0m \u001b[1;34m'http://127.0.0.1:3000/whether?city='\u001b[0m\u001b[1;33m\u001b[0m\u001b[1;33m\u001b[0m\u001b[0m\n\u001b[0;32m      3\u001b[0m \u001b[0murl\u001b[0m \u001b[1;33m=\u001b[0m \u001b[0murl\u001b[0m \u001b[1;33m+\u001b[0m \u001b[0murllib\u001b[0m\u001b[1;33m.\u001b[0m\u001b[0mparse\u001b[0m\u001b[1;33m.\u001b[0m\u001b[0mquote_plus\u001b[0m\u001b[1;33m(\u001b[0m\u001b[0mcity\u001b[0m\u001b[1;33m)\u001b[0m\u001b[1;33m\u001b[0m\u001b[1;33m\u001b[0m\u001b[0m\n\u001b[1;32m----> 4\u001b[1;33m \u001b[0mbs\u001b[0m \u001b[1;33m=\u001b[0m \u001b[0mBeautifulSoup\u001b[0m\u001b[1;33m(\u001b[0m\u001b[0murllib\u001b[0m\u001b[1;33m.\u001b[0m\u001b[0mrequest\u001b[0m\u001b[1;33m.\u001b[0m\u001b[0murlopen\u001b[0m\u001b[1;33m(\u001b[0m\u001b[0murl\u001b[0m\u001b[1;33m)\u001b[0m\u001b[1;33m.\u001b[0m\u001b[0mread\u001b[0m\u001b[1;33m(\u001b[0m\u001b[1;33m)\u001b[0m\u001b[1;33m,\u001b[0m \u001b[1;34m'html.parser'\u001b[0m\u001b[1;33m)\u001b[0m\u001b[1;33m\u001b[0m\u001b[1;33m\u001b[0m\u001b[0m\n\u001b[0m\u001b[0;32m      5\u001b[0m \u001b[1;31m# temp = bs.select('span.todaytemp')\u001b[0m\u001b[1;33m\u001b[0m\u001b[1;33m\u001b[0m\u001b[1;33m\u001b[0m\u001b[0m\n\u001b[0;32m      6\u001b[0m \u001b[0mbs\u001b[0m\u001b[1;33m\u001b[0m\u001b[1;33m\u001b[0m\u001b[0m\n",
      "\u001b[1;32m~\\.conda\\envs\\test\\lib\\urllib\\request.py\u001b[0m in \u001b[0;36murlopen\u001b[1;34m(url, data, timeout, cafile, capath, cadefault, context)\u001b[0m\n\u001b[0;32m    220\u001b[0m     \u001b[1;32melse\u001b[0m\u001b[1;33m:\u001b[0m\u001b[1;33m\u001b[0m\u001b[1;33m\u001b[0m\u001b[0m\n\u001b[0;32m    221\u001b[0m         \u001b[0mopener\u001b[0m \u001b[1;33m=\u001b[0m \u001b[0m_opener\u001b[0m\u001b[1;33m\u001b[0m\u001b[1;33m\u001b[0m\u001b[0m\n\u001b[1;32m--> 222\u001b[1;33m     \u001b[1;32mreturn\u001b[0m \u001b[0mopener\u001b[0m\u001b[1;33m.\u001b[0m\u001b[0mopen\u001b[0m\u001b[1;33m(\u001b[0m\u001b[0murl\u001b[0m\u001b[1;33m,\u001b[0m \u001b[0mdata\u001b[0m\u001b[1;33m,\u001b[0m \u001b[0mtimeout\u001b[0m\u001b[1;33m)\u001b[0m\u001b[1;33m\u001b[0m\u001b[1;33m\u001b[0m\u001b[0m\n\u001b[0m\u001b[0;32m    223\u001b[0m \u001b[1;33m\u001b[0m\u001b[0m\n\u001b[0;32m    224\u001b[0m \u001b[1;32mdef\u001b[0m \u001b[0minstall_opener\u001b[0m\u001b[1;33m(\u001b[0m\u001b[0mopener\u001b[0m\u001b[1;33m)\u001b[0m\u001b[1;33m:\u001b[0m\u001b[1;33m\u001b[0m\u001b[1;33m\u001b[0m\u001b[0m\n",
      "\u001b[1;32m~\\.conda\\envs\\test\\lib\\urllib\\request.py\u001b[0m in \u001b[0;36mopen\u001b[1;34m(self, fullurl, data, timeout)\u001b[0m\n\u001b[0;32m    529\u001b[0m         \u001b[1;32mfor\u001b[0m \u001b[0mprocessor\u001b[0m \u001b[1;32min\u001b[0m \u001b[0mself\u001b[0m\u001b[1;33m.\u001b[0m\u001b[0mprocess_response\u001b[0m\u001b[1;33m.\u001b[0m\u001b[0mget\u001b[0m\u001b[1;33m(\u001b[0m\u001b[0mprotocol\u001b[0m\u001b[1;33m,\u001b[0m \u001b[1;33m[\u001b[0m\u001b[1;33m]\u001b[0m\u001b[1;33m)\u001b[0m\u001b[1;33m:\u001b[0m\u001b[1;33m\u001b[0m\u001b[1;33m\u001b[0m\u001b[0m\n\u001b[0;32m    530\u001b[0m             \u001b[0mmeth\u001b[0m \u001b[1;33m=\u001b[0m \u001b[0mgetattr\u001b[0m\u001b[1;33m(\u001b[0m\u001b[0mprocessor\u001b[0m\u001b[1;33m,\u001b[0m \u001b[0mmeth_name\u001b[0m\u001b[1;33m)\u001b[0m\u001b[1;33m\u001b[0m\u001b[1;33m\u001b[0m\u001b[0m\n\u001b[1;32m--> 531\u001b[1;33m             \u001b[0mresponse\u001b[0m \u001b[1;33m=\u001b[0m \u001b[0mmeth\u001b[0m\u001b[1;33m(\u001b[0m\u001b[0mreq\u001b[0m\u001b[1;33m,\u001b[0m \u001b[0mresponse\u001b[0m\u001b[1;33m)\u001b[0m\u001b[1;33m\u001b[0m\u001b[1;33m\u001b[0m\u001b[0m\n\u001b[0m\u001b[0;32m    532\u001b[0m \u001b[1;33m\u001b[0m\u001b[0m\n\u001b[0;32m    533\u001b[0m         \u001b[1;32mreturn\u001b[0m \u001b[0mresponse\u001b[0m\u001b[1;33m\u001b[0m\u001b[1;33m\u001b[0m\u001b[0m\n",
      "\u001b[1;32m~\\.conda\\envs\\test\\lib\\urllib\\request.py\u001b[0m in \u001b[0;36mhttp_response\u001b[1;34m(self, request, response)\u001b[0m\n\u001b[0;32m    639\u001b[0m         \u001b[1;32mif\u001b[0m \u001b[1;32mnot\u001b[0m \u001b[1;33m(\u001b[0m\u001b[1;36m200\u001b[0m \u001b[1;33m<=\u001b[0m \u001b[0mcode\u001b[0m \u001b[1;33m<\u001b[0m \u001b[1;36m300\u001b[0m\u001b[1;33m)\u001b[0m\u001b[1;33m:\u001b[0m\u001b[1;33m\u001b[0m\u001b[1;33m\u001b[0m\u001b[0m\n\u001b[0;32m    640\u001b[0m             response = self.parent.error(\n\u001b[1;32m--> 641\u001b[1;33m                 'http', request, response, code, msg, hdrs)\n\u001b[0m\u001b[0;32m    642\u001b[0m \u001b[1;33m\u001b[0m\u001b[0m\n\u001b[0;32m    643\u001b[0m         \u001b[1;32mreturn\u001b[0m \u001b[0mresponse\u001b[0m\u001b[1;33m\u001b[0m\u001b[1;33m\u001b[0m\u001b[0m\n",
      "\u001b[1;32m~\\.conda\\envs\\test\\lib\\urllib\\request.py\u001b[0m in \u001b[0;36merror\u001b[1;34m(self, proto, *args)\u001b[0m\n\u001b[0;32m    567\u001b[0m         \u001b[1;32mif\u001b[0m \u001b[0mhttp_err\u001b[0m\u001b[1;33m:\u001b[0m\u001b[1;33m\u001b[0m\u001b[1;33m\u001b[0m\u001b[0m\n\u001b[0;32m    568\u001b[0m             \u001b[0margs\u001b[0m \u001b[1;33m=\u001b[0m \u001b[1;33m(\u001b[0m\u001b[0mdict\u001b[0m\u001b[1;33m,\u001b[0m \u001b[1;34m'default'\u001b[0m\u001b[1;33m,\u001b[0m \u001b[1;34m'http_error_default'\u001b[0m\u001b[1;33m)\u001b[0m \u001b[1;33m+\u001b[0m \u001b[0morig_args\u001b[0m\u001b[1;33m\u001b[0m\u001b[1;33m\u001b[0m\u001b[0m\n\u001b[1;32m--> 569\u001b[1;33m             \u001b[1;32mreturn\u001b[0m \u001b[0mself\u001b[0m\u001b[1;33m.\u001b[0m\u001b[0m_call_chain\u001b[0m\u001b[1;33m(\u001b[0m\u001b[1;33m*\u001b[0m\u001b[0margs\u001b[0m\u001b[1;33m)\u001b[0m\u001b[1;33m\u001b[0m\u001b[1;33m\u001b[0m\u001b[0m\n\u001b[0m\u001b[0;32m    570\u001b[0m \u001b[1;33m\u001b[0m\u001b[0m\n\u001b[0;32m    571\u001b[0m \u001b[1;31m# XXX probably also want an abstract factory that knows when it makes\u001b[0m\u001b[1;33m\u001b[0m\u001b[1;33m\u001b[0m\u001b[1;33m\u001b[0m\u001b[0m\n",
      "\u001b[1;32m~\\.conda\\envs\\test\\lib\\urllib\\request.py\u001b[0m in \u001b[0;36m_call_chain\u001b[1;34m(self, chain, kind, meth_name, *args)\u001b[0m\n\u001b[0;32m    501\u001b[0m         \u001b[1;32mfor\u001b[0m \u001b[0mhandler\u001b[0m \u001b[1;32min\u001b[0m \u001b[0mhandlers\u001b[0m\u001b[1;33m:\u001b[0m\u001b[1;33m\u001b[0m\u001b[1;33m\u001b[0m\u001b[0m\n\u001b[0;32m    502\u001b[0m             \u001b[0mfunc\u001b[0m \u001b[1;33m=\u001b[0m \u001b[0mgetattr\u001b[0m\u001b[1;33m(\u001b[0m\u001b[0mhandler\u001b[0m\u001b[1;33m,\u001b[0m \u001b[0mmeth_name\u001b[0m\u001b[1;33m)\u001b[0m\u001b[1;33m\u001b[0m\u001b[1;33m\u001b[0m\u001b[0m\n\u001b[1;32m--> 503\u001b[1;33m             \u001b[0mresult\u001b[0m \u001b[1;33m=\u001b[0m \u001b[0mfunc\u001b[0m\u001b[1;33m(\u001b[0m\u001b[1;33m*\u001b[0m\u001b[0margs\u001b[0m\u001b[1;33m)\u001b[0m\u001b[1;33m\u001b[0m\u001b[1;33m\u001b[0m\u001b[0m\n\u001b[0m\u001b[0;32m    504\u001b[0m             \u001b[1;32mif\u001b[0m \u001b[0mresult\u001b[0m \u001b[1;32mis\u001b[0m \u001b[1;32mnot\u001b[0m \u001b[1;32mNone\u001b[0m\u001b[1;33m:\u001b[0m\u001b[1;33m\u001b[0m\u001b[1;33m\u001b[0m\u001b[0m\n\u001b[0;32m    505\u001b[0m                 \u001b[1;32mreturn\u001b[0m \u001b[0mresult\u001b[0m\u001b[1;33m\u001b[0m\u001b[1;33m\u001b[0m\u001b[0m\n",
      "\u001b[1;32m~\\.conda\\envs\\test\\lib\\urllib\\request.py\u001b[0m in \u001b[0;36mhttp_error_default\u001b[1;34m(self, req, fp, code, msg, hdrs)\u001b[0m\n\u001b[0;32m    647\u001b[0m \u001b[1;32mclass\u001b[0m \u001b[0mHTTPDefaultErrorHandler\u001b[0m\u001b[1;33m(\u001b[0m\u001b[0mBaseHandler\u001b[0m\u001b[1;33m)\u001b[0m\u001b[1;33m:\u001b[0m\u001b[1;33m\u001b[0m\u001b[1;33m\u001b[0m\u001b[0m\n\u001b[0;32m    648\u001b[0m     \u001b[1;32mdef\u001b[0m \u001b[0mhttp_error_default\u001b[0m\u001b[1;33m(\u001b[0m\u001b[0mself\u001b[0m\u001b[1;33m,\u001b[0m \u001b[0mreq\u001b[0m\u001b[1;33m,\u001b[0m \u001b[0mfp\u001b[0m\u001b[1;33m,\u001b[0m \u001b[0mcode\u001b[0m\u001b[1;33m,\u001b[0m \u001b[0mmsg\u001b[0m\u001b[1;33m,\u001b[0m \u001b[0mhdrs\u001b[0m\u001b[1;33m)\u001b[0m\u001b[1;33m:\u001b[0m\u001b[1;33m\u001b[0m\u001b[1;33m\u001b[0m\u001b[0m\n\u001b[1;32m--> 649\u001b[1;33m         \u001b[1;32mraise\u001b[0m \u001b[0mHTTPError\u001b[0m\u001b[1;33m(\u001b[0m\u001b[0mreq\u001b[0m\u001b[1;33m.\u001b[0m\u001b[0mfull_url\u001b[0m\u001b[1;33m,\u001b[0m \u001b[0mcode\u001b[0m\u001b[1;33m,\u001b[0m \u001b[0mmsg\u001b[0m\u001b[1;33m,\u001b[0m \u001b[0mhdrs\u001b[0m\u001b[1;33m,\u001b[0m \u001b[0mfp\u001b[0m\u001b[1;33m)\u001b[0m\u001b[1;33m\u001b[0m\u001b[1;33m\u001b[0m\u001b[0m\n\u001b[0m\u001b[0;32m    650\u001b[0m \u001b[1;33m\u001b[0m\u001b[0m\n\u001b[0;32m    651\u001b[0m \u001b[1;32mclass\u001b[0m \u001b[0mHTTPRedirectHandler\u001b[0m\u001b[1;33m(\u001b[0m\u001b[0mBaseHandler\u001b[0m\u001b[1;33m)\u001b[0m\u001b[1;33m:\u001b[0m\u001b[1;33m\u001b[0m\u001b[1;33m\u001b[0m\u001b[0m\n",
      "\u001b[1;31mHTTPError\u001b[0m: HTTP Error 404: NOT FOUND"
     ]
    }
   ],
   "source": [
    "city = '서울'\n",
    "url = 'http://127.0.0.1:3000/whether?city='\n",
    "url = url + urllib.parse.quote_plus(city)\n",
    "bs = BeautifulSoup(urllib.request.urlopen(url).read(), 'html.parser')\n",
    "# temp = bs.select('span.todaytemp')\n",
    "bs"
   ]
  },
  {
   "cell_type": "markdown",
   "metadata": {},
   "source": [
    "# dialogflow와 연계"
   ]
  },
  {
   "cell_type": "markdown",
   "metadata": {},
   "source": [
    "#### 정해진 json파일 규칙으로 보내야 함.\n",
    "- fullfillmentText 부분을 출력함\n",
    "\n",
    "#### 정해진 문구로 확인"
   ]
  },
  {
   "cell_type": "code",
   "execution_count": null,
   "metadata": {},
   "outputs": [],
   "source": [
    "@app.route('/dialogflow')\n",
    "def dialogflow():\n",
    "    res = {'fulfullmentText': 'Hello'}\n",
    "    return jsonify(res)"
   ]
  },
  {
   "cell_type": "markdown",
   "metadata": {},
   "source": [
    "> 브라우저에서 먼저 확인하고\n",
    "- http://127.0.0.1:3000/dialogflow\n",
    "-{\n",
    "  \"fulfullmentText\": \"Hello\"\n",
    "}         "
   ]
  },
  {
   "cell_type": "markdown",
   "metadata": {},
   "source": [
    "#### 브라우저에서는 get방식으로 실행 가능\n",
    "#### dialogflow에서는 post 방식으로 실행해야 함"
   ]
  },
  {
   "cell_type": "code",
   "execution_count": null,
   "metadata": {},
   "outputs": [],
   "source": [
    "@app.route('/dialogflow', methods = ['POST'])\n",
    "def dialogflow():\n",
    "    res = {'fulfullmentText': 'Hello'}\n",
    "    return jsonify(res)\n"
   ]
  },
  {
   "cell_type": "markdown",
   "metadata": {},
   "source": [
    "> 브라우저에서는 \n",
    "- 오류가남.\n",
    "- post 방식으로 바뀌었기 때문에 get 방식으로는 불가\n",
    "\n",
    "> 해결\n",
    "- dialogflow, 브라우저에서 모두 가능하려면\n",
    "- method=['PoST', 'GET']"
   ]
  },
  {
   "cell_type": "code",
   "execution_count": null,
   "metadata": {},
   "outputs": [],
   "source": [
    "@app.route('/dialogflow', methods = ['POST', 'GET'])\n",
    "def dialogflow():\n",
    "    res = {'fulfullmentText': 'Hello'}\n",
    "    return jsonify(res)\n",
    "\n"
   ]
  },
  {
   "cell_type": "markdown",
   "metadata": {},
   "source": [
    "#### 우리가 고정ip가 아니라 dialogflow에서 접속할 수 없음.\n",
    "- https://www.postman.com/ : 클라이언트 역할\n",
    "\n",
    "> Secure Tunnerls(NGROK)\n",
    "- 공인 아이피가 아니어도 외부에서 접속가능하게 하는 터널 프로그램\n",
    "- 방화벽 내부 서버를 외부에서 접속 가능\n",
    "- 가상적인 도메인네임을 부여함.\n",
    "- dialogflow와 나(서버) 모두 서버(NGROK)에 접속해서 터널이 생김\n",
    "\n",
    "> 실행\n",
    "- ngrok http 3000\n",
    "- 할당된 도메인: http://e06d21c8.ngrok.io \n",
    "\n",
    "\n",
    "> 브라우저에\n",
    "- http://e06d21c8.ngrok.io/dialogflow   -> 구글에 알려줘야 하는 서버주소\n",
    "- dialogflow와 ngrod이 연결: port번호 80번 사용\n",
    "- 우리 서버와 ngrok연결: port번호 : 3000번\n",
    "\n"
   ]
  },
  {
   "cell_type": "markdown",
   "metadata": {},
   "source": [
    "### dialog flow에 연결하기(홈페이지)\n",
    "> fulfillment\n",
    "- webhook:  abled로 변경\n",
    "- url: https://e06d21c8.ngrok.io/dialogflow\n",
    "- https: 암호화된 채널로만 통신해야 함.(NGROK에서 둘다 가능)\n",
    "- 저장\n",
    "\n",
    "\n",
    ">  intent\n",
    "- 모든 인텐트가 서버로 다녀올 필요는 없으므로\n",
    "- 해당 intent에서 fulfillment옵션에서 enable시킴\n",
    "\n",
    "> 서버가 죽었으면\n",
    "- 요청하고 좀 기다렸다가 안오면\n",
    "- 원래 response를 반환함\n",
    "\n",
    "> 실행하면\n",
    "- 클라이언트-우리서버-Ngrok -dialog-머신러닝엔진"
   ]
  },
  {
   "cell_type": "code",
   "execution_count": null,
   "metadata": {},
   "outputs": [],
   "source": []
  }
 ],
 "metadata": {
  "kernelspec": {
   "display_name": "Python 3",
   "language": "python",
   "name": "python3"
  },
  "language_info": {
   "codemirror_mode": {
    "name": "ipython",
    "version": 3
   },
   "file_extension": ".py",
   "mimetype": "text/x-python",
   "name": "python",
   "nbconvert_exporter": "python",
   "pygments_lexer": "ipython3",
   "version": "3.7.5"
  },
  "toc": {
   "base_numbering": 1,
   "nav_menu": {},
   "number_sections": false,
   "sideBar": true,
   "skip_h1_title": false,
   "title_cell": "Table of Contents",
   "title_sidebar": "Contents",
   "toc_cell": false,
   "toc_position": {},
   "toc_section_display": true,
   "toc_window_display": true
  },
  "varInspector": {
   "cols": {
    "lenName": 16,
    "lenType": 16,
    "lenVar": 40
   },
   "kernels_config": {
    "python": {
     "delete_cmd_postfix": "",
     "delete_cmd_prefix": "del ",
     "library": "var_list.py",
     "varRefreshCmd": "print(var_dic_list())"
    },
    "r": {
     "delete_cmd_postfix": ") ",
     "delete_cmd_prefix": "rm(",
     "library": "var_list.r",
     "varRefreshCmd": "cat(var_dic_list()) "
    }
   },
   "types_to_exclude": [
    "module",
    "function",
    "builtin_function_or_method",
    "instance",
    "_Feature"
   ],
   "window_display": false
  }
 },
 "nbformat": 4,
 "nbformat_minor": 2
}
