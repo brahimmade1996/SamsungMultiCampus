{
 "cells": [
  {
   "cell_type": "markdown",
   "metadata": {
    "ExecuteTime": {
     "end_time": "2020-02-06T01:34:29.209689Z",
     "start_time": "2020-02-06T01:34:29.206696Z"
    }
   },
   "source": [
    "# 200206_count, weather.py"
   ]
  },
  {
   "cell_type": "markdown",
   "metadata": {},
   "source": [
    "# 방문자 수세기"
   ]
  },
  {
   "cell_type": "code",
   "execution_count": 11,
   "metadata": {
    "ExecuteTime": {
     "end_time": "2020-02-06T02:01:24.536449Z",
     "start_time": "2020-02-06T02:01:24.531424Z"
    }
   },
   "outputs": [],
   "source": [
    "'''\n",
    "@app.route('/conuter')\n",
    "def counter():\n",
    "    global cnt\n",
    "    cnt += 1 \n",
    "    html = \"\".join([f'<img src=/static/{i}.png width=32' for i in str(cnt)])\n",
    "    html +='명이 방문하였습니다'    \n",
    "    return html\n",
    "'''"
   ]
  },
  {
   "cell_type": "markdown",
   "metadata": {},
   "source": [
    "> html, python 코드가 섞임\n",
    "- 템플릿 이용해서 다른 언어끼리 섞이지 않도록 함."
   ]
  },
  {
   "cell_type": "markdown",
   "metadata": {},
   "source": [
    "# 날씨"
   ]
  },
  {
   "cell_type": "markdown",
   "metadata": {},
   "source": [
    "## 1. 파라미터 입력받기"
   ]
  },
  {
   "cell_type": "code",
   "execution_count": null,
   "metadata": {},
   "outputs": [],
   "source": [
    "'''\n",
    "\n",
    "@app.route('/weather')\n",
    "def weather():\n",
    "    # 파라미터 입력받을 때\n",
    "    city = request.args.get('city')\n",
    "    return f\"{city}날씨 좋아요\"'''"
   ]
  },
  {
   "cell_type": "markdown",
   "metadata": {
    "ExecuteTime": {
     "end_time": "2020-02-06T02:21:58.431123Z",
     "start_time": "2020-02-06T02:21:58.426172Z"
    }
   },
   "source": [
    "> 브라우저에서\n",
    "- http://127.0.0.1:4000/weather?city=부산"
   ]
  },
  {
   "cell_type": "markdown",
   "metadata": {
    "ExecuteTime": {
     "end_time": "2020-02-06T02:22:47.972893Z",
     "start_time": "2020-02-06T02:22:47.969496Z"
    }
   },
   "source": [
    "# 2. 입력받는 창 만들기\n",
    "\n",
    "## 2.1. default method: get방식"
   ]
  },
  {
   "cell_type": "code",
   "execution_count": 27,
   "metadata": {
    "ExecuteTime": {
     "end_time": "2020-02-06T07:02:54.453369Z",
     "start_time": "2020-02-06T07:02:54.449379Z"
    }
   },
   "outputs": [
    {
     "ename": "SyntaxError",
     "evalue": "invalid syntax (<ipython-input-27-27a99f8d7b86>, line 2)",
     "output_type": "error",
     "traceback": [
      "\u001b[1;36m  File \u001b[1;32m\"<ipython-input-27-27a99f8d7b86>\"\u001b[1;36m, line \u001b[1;32m2\u001b[0m\n\u001b[1;33m    - static 폴더 안에 입력하기\u001b[0m\n\u001b[1;37m              ^\u001b[0m\n\u001b[1;31mSyntaxError\u001b[0m\u001b[1;31m:\u001b[0m invalid syntax\n"
     ]
    }
   ],
   "source": [
    "### form.html만들기\n",
    "- static 폴더 안에 입력하기\n"
   ]
  },
  {
   "cell_type": "code",
   "execution_count": null,
   "metadata": {},
   "outputs": [],
   "source": [
    "'''\n",
    "<form>\n",
    "    <input type = text>\n",
    "    <input type = submit value =\"날씨 확인\">  # 버튼\n",
    "</form>\n",
    "'''"
   ]
  },
  {
   "cell_type": "markdown",
   "metadata": {},
   "source": [
    "> 브라우저에서\n",
    "- http://127.0.0.1:4000/static/form.html\n",
    "- 버튼 누르면 자기자신을 다시 호출\n",
    "- 버튼 눌렀을 때 실행시키고 싶은 부분을 만들어야 함.-> action"
   ]
  },
  {
   "cell_type": "code",
   "execution_count": null,
   "metadata": {},
   "outputs": [],
   "source": [
    "'''\n",
    "<form action=/weather>\n",
    "    <input type = text>\n",
    "    <input type = submit value =\"날씨 확인\">  # 버튼\n",
    "</form>\n",
    "'''"
   ]
  },
  {
   "cell_type": "markdown",
   "metadata": {},
   "source": [
    "> 실행하면\n",
    "- http://127.0.0.1:4000/weather?\n",
    "- 전송된게 없기 때문에..\n",
    "- name: 서버에 전송되는 값"
   ]
  },
  {
   "cell_type": "code",
   "execution_count": null,
   "metadata": {},
   "outputs": [],
   "source": [
    "'''\n",
    "<form action=/weather>\n",
    "    <input type = text name = city>\n",
    "    <input type = submit value =\"날씨 확인\">  \n",
    "</form>'''"
   ]
  },
  {
   "cell_type": "markdown",
   "metadata": {
    "ExecuteTime": {
     "end_time": "2020-02-06T02:32:45.856517Z",
     "start_time": "2020-02-06T02:32:45.852576Z"
    }
   },
   "source": [
    "> 브라우저에서 결과\n",
    "- http://127.0.0.1:4000/weather?city=%EB%B6%80%EC%82%B0"
   ]
  },
  {
   "cell_type": "markdown",
   "metadata": {},
   "source": [
    "## 2.2. post 방식"
   ]
  },
  {
   "cell_type": "code",
   "execution_count": null,
   "metadata": {},
   "outputs": [],
   "source": [
    "<form action=/weather method = post>\n",
    "    <input type = text name=city>\n",
    "    <input type = submit value =\"날씨 확인\">  \n",
    "</form>"
   ]
  },
  {
   "cell_type": "code",
   "execution_count": null,
   "metadata": {},
   "outputs": [],
   "source": [
    "'''\n",
    "Method Not Allowed\n",
    "The method is not allowed for the requested URL.\n",
    "'''"
   ]
  },
  {
   "cell_type": "markdown",
   "metadata": {},
   "source": [
    "> 오류 나면 확인\n",
    "- url주소에 ?namevalue 부분이 없음. \n",
    "- py파일에서 methods 방법 확인"
   ]
  },
  {
   "cell_type": "code",
   "execution_count": null,
   "metadata": {},
   "outputs": [],
   "source": [
    "'''\n",
    "@app.route('/weather', methods = ['POST'])\n",
    "def weather():\n",
    "    # 파라미터 입력받을 때\n",
    "    city = request.args.get('city')\n",
    "    return f\"{city}날씨 좋아요\"\n",
    "\n",
    "'''"
   ]
  },
  {
   "cell_type": "markdown",
   "metadata": {},
   "source": [
    "> None날씨 좋아요\n",
    "- 데이터가 넘어가긴 했는데, 오류가 있음.\n",
    "-     city = request.args.get('city') : get 방식으로만 사용할 수 있음!!!\n",
    "\n",
    "\n",
    "> post 방식으로 파라미터를 갖고올때는\n",
    "- city = request.form.get('city') : dict에서 get갖고오는 방법!\n",
    "- city = request.form['city'] : errer가 나는 경우가 많음. \n",
    "\n",
    "\n"
   ]
  },
  {
   "cell_type": "code",
   "execution_count": null,
   "metadata": {},
   "outputs": [],
   "source": [
    "'''\n",
    "\n",
    "@app.route('/weather', methods = ['POST'])\n",
    "def weather():\n",
    "    # 파라미터 입력받을 때\n",
    "    # city = request.args.get('city')\n",
    "    city = request.form.get('city')\n",
    "    # city = request.form['city']\n",
    "\n",
    "    return f\"{city}날씨 좋아요\"\n",
    "    '''"
   ]
  },
  {
   "cell_type": "markdown",
   "metadata": {},
   "source": [
    "## 2.3. get, post 둘다 사용"
   ]
  },
  {
   "cell_type": "code",
   "execution_count": null,
   "metadata": {},
   "outputs": [],
   "source": [
    "'''\n",
    "@app.route('/weather', methods = ['POST', 'GET'])\n",
    "def weather():\n",
    "    if request.method == 'POST':\n",
    "        city = request.args.get('city')\n",
    "    else:\n",
    "        city = request.form.get('city')\n",
    "        # city = request.form['city']\n",
    "    return f\"{city}날씨 좋아요\"\n",
    "'''"
   ]
  },
  {
   "cell_type": "markdown",
   "metadata": {},
   "source": [
    "- 파라미터가 많은 경우 코드가 중복되기 때문에 좋지 않음."
   ]
  },
  {
   "cell_type": "code",
   "execution_count": null,
   "metadata": {},
   "outputs": [],
   "source": [
    "'''\n",
    "@app.route('/weather', methods = ['POST', 'GET'])\n",
    "def weather():\n",
    "    if request.method == 'POST':\n",
    "        # dict.git\n",
    "        req = request.args\n",
    "    else:\n",
    "        req = request.form\n",
    "    city = req.get('city')\n",
    "    \n",
    "    return f\"{city}날씨 좋아요\"\n",
    "    '''"
   ]
  },
  {
   "cell_type": "code",
   "execution_count": null,
   "metadata": {},
   "outputs": [],
   "source": []
  },
  {
   "cell_type": "markdown",
   "metadata": {},
   "source": [
    "# 개발 초기에는\n",
    "- get, post 방식 둘다 사용\n",
    "- unittest 할 때도 에러 찾기도 좋음.\n",
    "- post: form.html을 계속 만들어야 함..\n",
    "- 나중에 서비스할 때는 get method다 없애기(보안 이슈)"
   ]
  },
  {
   "cell_type": "markdown",
   "metadata": {},
   "source": [
    "# 3. dialogflow 연계\n",
    "- ngrok 실행\n",
    "- 홈페이지: fulfillment 주소 쓰기 (아래 둘다 가능)\n",
    "- https://51c31c8c.ngrok.io: \n",
    "- https://51c31c8c.ngrok.io/dialogflow "
   ]
  },
  {
   "cell_type": "markdown",
   "metadata": {},
   "source": [
    "## 3.1. 무조건 hello 출력"
   ]
  },
  {
   "cell_type": "code",
   "execution_count": null,
   "metadata": {},
   "outputs": [],
   "source": [
    "@app.route('/dialogflow', methods = ['POST', 'GET'])\n",
    "def dialogflow():\n",
    "    req = request.get_json(force = True)\n",
    "#     print(json.dumps(req, indent = 4))    # json_to_str\n",
    "    print(json.dumps(req, indent = 4, ensure_ascii=False))    # 한글이 안깨지게\n",
    "\n",
    "    res = {'fulfillmentText': 'Hello~~~'}\n",
    "    \n",
    "    return jsonify(res) # str to json\n"
   ]
  },
  {
   "cell_type": "code",
   "execution_count": null,
   "metadata": {},
   "outputs": [],
   "source": [
    "'''\n",
    "{\n",
    "    \"responseId\": \"729a3227-0a6a-45fe-8f29-8053c1880cf5-ce609cdc\",\n",
    "    \"queryResult\": {\n",
    "        \"queryText\": \"\\uac11\\ubd84\\uc2f8\",\n",
    "        \"parameters\": {\n",
    "            \"any\": \"\\uac11\\ubd84\\uc2f8\"\n",
    "        },\n",
    "        \"allRequiredParamsPresent\": true,\n",
    "        \"fulfillmentText\": \"\\uac11\\ubd84\\uc2f8\\uc5d0 \\ub300\\ud574 \\uc54c\\ub824\\uc904\\uaed8. \\uae30\\ub2e4\\ub824\\ubd10\",\n",
    "        \"fulfillmentMessages\": [\n",
    "            {\n",
    "                \"text\": {\n",
    "                    \"text\": [\n",
    "                        \"\\uac11\\ubd84\\uc2f8\\uc5d0 \\ub300\\ud574 \\uc54c\\ub824\\uc904\\uaed8. \\uae30\\ub2e4\\ub824\\ubd10\"\n",
    "                    ]\n",
    "                }\n",
    "            }\n",
    "        ],\n",
    "        \"outputContexts\": [\n",
    "            {\n",
    "                \"name\": \"projects/smchatbot-gkkcvf/agent/sessions/530e692f-9a9a-360c-5030-c2dcfe1a4ad1/contexts/__system_counters__\",\n",
    "                \"parameters\": {\n",
    "                    \"no-input\": 0.0,\n",
    "                    \"no-match\": 0.0,\n",
    "                    \"any\": \"\\uac11\\ubd84\\uc2f8\",\n",
    "                    \"any.original\": \"\\uac11\\ubd84\\uc2f8\"\n",
    "                }\n",
    "            }\n",
    "        ],\n",
    "        \"intent\": {\n",
    "            \"name\": \"projects/smchatbot-gkkcvf/agent/intents/49ef7eda-baaa-458b-a1a8-f61292ffa61f\",\n",
    "            \"displayName\": \"query\"\n",
    "        },\n",
    "        \"intentDetectionConfidence\": 1.0,\n",
    "        \"languageCode\": \"ko\"\n",
    "    },\n",
    "    \"originalDetectIntentRequest\": {\n",
    "        \"payload\": {}\n",
    "    },\n",
    "    \"session\": \"projects/smchatbot-gkkcvf/agent/sessions/530e692f-9a9a-360c-5030-c2dcfe1a4ad1\"'''"
   ]
  },
  {
   "cell_type": "markdown",
   "metadata": {},
   "source": [
    "> 홈페이지에서 요청해야 \n",
    "- 우리 서버에 왔다가면서 print문이 출려됨"
   ]
  },
  {
   "cell_type": "markdown",
   "metadata": {},
   "source": [
    "## 3.2. query intent 사용(어제한건 dialogflwow 1.0버전)\n",
    "- 2.0버전으로 바꾸기 : dict key 처리해야 함"
   ]
  },
  {
   "cell_type": "code",
   "execution_count": null,
   "metadata": {},
   "outputs": [],
   "source": [
    "\n",
    "'''\n",
    "def getQuery(word) :\n",
    "    url = \"https://search.naver.com/search.naver?where=kdic&query=\"\n",
    "    url = url + urllib.parse.quote_plus(word)\n",
    "    print(url)\n",
    "    bs = BeautifulSoup(urllib.request.urlopen(url).read(), \"html.parser\")\n",
    "    output = bs.select('p.txt_box')\n",
    "    \n",
    "    return [node.text for node  in output ]\n",
    "    #return output[0].text\n",
    "\n",
    "\n",
    "@app.route('/dialogflow', methods = ['POST', 'GET'])\n",
    "def dialogflow():\n",
    "    req= request.get_json(force = True)\n",
    "    # print(json.dumps(req, indent = 4))    # json_to_dict\n",
    "    print(json.dumps(req, indent = 4, ensure_ascii=False))    # 한글이 안깨지게\n",
    "\n",
    "    answer = req['queryResult']['fulfillmentMessages']\n",
    "    intentName = req['queryResult']['intent']['displayName'] \n",
    "    \n",
    "    if intentName == 'query' :\n",
    "        word = req[\"queryResult\"]['parameters']['any'] \n",
    "        text = getQuery(word)[0]                \n",
    "        res = {'fulfillmentText': text}\n",
    "    else:\n",
    "        res = {'fulfillmentText': answer}\n",
    "        \n",
    "    return jsonify(res) # str to json\n",
    "    '''"
   ]
  },
  {
   "cell_type": "markdown",
   "metadata": {},
   "source": [
    "## 3.3. 다른 intent도"
   ]
  },
  {
   "cell_type": "code",
   "execution_count": null,
   "metadata": {},
   "outputs": [],
   "source": [
    "'''\n",
    "@app.route('/dialogflow', methods = ['POST', 'GET'])\n",
    "def dialogflow():\n",
    "\n",
    "    req= request.get_json(force = True)\n",
    "    # print(json.dumps(req, indent = 4))    # json_to_dict\n",
    "    print(json.dumps(req, indent = 4, ensure_ascii=False))    # 한글이 안깨지게\n",
    "\n",
    "    answer = req['queryResult']['fulfillmentMessages']\n",
    "    intentName = req['queryResult']['intent']['displayName'] \n",
    "    \n",
    "    # intent : query\n",
    "    if intentName == 'query' :\n",
    "        word = req[\"queryResult\"]['parameters']['any'] \n",
    "        text = getQuery(word)[0]                \n",
    "        res = {'fulfillmentText': text}\n",
    "    elif  intentName == 'order_food,num' :\n",
    "        price = {\"짜장면\":5000, \"짬뽕\":10000, \"탕수육\":20000}\n",
    "        params = req['queryResult']['parameters']['food_number']\n",
    "        \n",
    "        output = [ food.get(\"number-integer\", 1)*price[food[\"food\"]]  for food in params ]\n",
    "        text_price = sum(output) \n",
    "        print(text_price)\n",
    "        res = {'fulfillmentText': text_price}\n",
    "        \n",
    "    elif intentName == 'weather' :        \n",
    "        date = req['queryResult']['parameters']['date']\n",
    "        geo_city = req['queryResult']['parameters']['geo-city']                    \n",
    "            \n",
    "        info = getWeather(geo_city)            \n",
    "        text = f\"{geo_city} 날씨 정보 : {info['temp']} /  {info['desc']}\"\n",
    "        res = {'fulfillmentText': text}\n",
    "\n",
    "    else:\n",
    "        res = {'fulfillmentText': answer}\n",
    "        \n",
    "    return jsonify(res) # str to json\n",
    "    '''"
   ]
  },
  {
   "cell_type": "markdown",
   "metadata": {},
   "source": [
    "# 4. 단위test하려면.....\n",
    "\n",
    "> get 방식으로 먼저 검증하고 post방식으로 dialogflow 연결하면 됨..."
   ]
  },
  {
   "cell_type": "code",
   "execution_count": 38,
   "metadata": {
    "ExecuteTime": {
     "end_time": "2020-02-06T07:24:17.440980Z",
     "start_time": "2020-02-06T07:24:17.436038Z"
    }
   },
   "outputs": [
    {
     "data": {
      "text/plain": [
       "'\\ndef processDialog(req) :\\n    \\n    answer = req[\\'queryResult\\'][\\'fulfillmentText\\']\\n    intentName = req[\\'queryResult\\'][\\'intent\\'][\\'displayName\\'] \\n    \\n    if intentName == \\'query\\' :\\n        word = req[\"queryResult\"][\\'parameters\\'][\\'any\\'] \\n        text = getQuery(word)[0]                \\n        res = {\\'fulfillmentText\\': text}   \\n    else :\\n        res = {\\'fulfillmentText\\': answer}           \\n        \\n    return res\\n\\n@app.route(\\'/dialogflow\\', methods = [\\'POST\\', \\'GET\\'])\\ndef dialogflow():\\n\\n    if request.method == \\'GET\\':\\n        file = request.args.get(\\'file\\')\\n        with open(file, encoding = \\'UTF8\\') as json_file:\\n            req=json.lead(json_file)\\n            print(json.dumps(req, intent = 4, ensure_ascii=False))\\n    else:\\n        req = request.get_json(force = True)\\n        print(json.dumps(req, indent= 4, ensure_ascii=False))\\n    \\n    return jsonify(processDialog(req))\\n    '"
      ]
     },
     "execution_count": 38,
     "metadata": {},
     "output_type": "execute_result"
    }
   ],
   "source": [
    "'''\n",
    "def processDialog(req) :\n",
    "    \n",
    "    answer = req['queryResult']['fulfillmentText']\n",
    "    intentName = req['queryResult']['intent']['displayName'] \n",
    "    \n",
    "    if intentName == 'query' :\n",
    "        word = req[\"queryResult\"]['parameters']['any'] \n",
    "        text = getQuery(word)[0]                \n",
    "        res = {'fulfillmentText': text}   \n",
    "    else :\n",
    "        res = {'fulfillmentText': answer}           \n",
    "        \n",
    "    return res\n",
    "\n",
    "@app.route('/dialogflow', methods = ['POST', 'GET'])\n",
    "def dialogflow():\n",
    "\n",
    "    if request.method == 'GET':\n",
    "        file = request.args.get('file')\n",
    "        with open(file, encoding = 'UTF8') as json_file:\n",
    "            req=json.lead(json_file)\n",
    "            print(json.dumps(req, intent = 4, ensure_ascii=False))\n",
    "    else:\n",
    "        req = request.get_json(force = True)\n",
    "        print(json.dumps(req, indent= 4, ensure_ascii=False))\n",
    "    \n",
    "    return jsonify(processDialog(req))\n",
    "    '''"
   ]
  },
  {
   "cell_type": "markdown",
   "metadata": {},
   "source": [
    "## 4.1. 주피터에서 하기"
   ]
  },
  {
   "cell_type": "code",
   "execution_count": 31,
   "metadata": {
    "ExecuteTime": {
     "end_time": "2020-02-06T07:23:08.818039Z",
     "start_time": "2020-02-06T07:23:08.354520Z"
    }
   },
   "outputs": [],
   "source": [
    "from flask import Flask, request, jsonify\n",
    "import requests\n",
    "import json\n",
    "import urllib\n",
    "from bs4 import BeautifulSoup"
   ]
  },
  {
   "cell_type": "code",
   "execution_count": 32,
   "metadata": {
    "ExecuteTime": {
     "end_time": "2020-02-06T07:23:09.109179Z",
     "start_time": "2020-02-06T07:23:09.099205Z"
    }
   },
   "outputs": [],
   "source": [
    "def getQuery(word) :\n",
    "    url = \"https://search.naver.com/search.naver?where=kdic&query=\"\n",
    "    url = url + urllib.parse.quote_plus(word)\n",
    "    print(url)\n",
    "    bs = BeautifulSoup(urllib.request.urlopen(url).read(), \"html.parser\")\n",
    "    output = bs.select('p.txt_box')\n",
    "    \n",
    "    return [node.text for node  in output ]\n",
    "    #return output[0].text\n",
    "\n",
    "def getWeather(city) :    \n",
    "    url = \"https://search.naver.com/search.naver?query=\"\n",
    "    url = url + urllib.parse.quote_plus(city + \"날씨\")\n",
    "    print(url)\n",
    "    bs = BeautifulSoup(urllib.request.urlopen(url).read(), \"html.parser\")\n",
    "    temp = bs.select('span.todaytemp')    \n",
    "    desc = bs.select('p.cast_txt')    \n",
    "    return  {\"temp\":temp[0].text, \"desc\":desc[0].text} \n",
    "\n",
    "\n",
    "def processDialog(req) :\n",
    "    \n",
    "    answer = req['queryResult']['fulfillmentText']\n",
    "    intentName = req['queryResult']['intent']['displayName'] \n",
    "    \n",
    "    if intentName == 'query' :\n",
    "        word = req[\"queryResult\"]['parameters']['any'] \n",
    "        text = getQuery(word)[0]                \n",
    "        res = {'fulfillmentText': text}   \n",
    "    elif  intentName == 'order_food,num' :\n",
    "        price = {\"짜장면\":5000, \"짬뽕\":10000, \"탕수육\":20000}\n",
    "        params = req['queryResult']['parameters']['food_number']\n",
    "        output = [ food.get(\"number-integer\", 1)*price[food[\"food\"]]  for food in params ]\n",
    "        text_price = sum(output) \n",
    "        print(text_price)\n",
    "        res = {'fulfillmentText': text_price}\n",
    "        \n",
    "    elif intentName == 'weather' :        \n",
    "        date = req['queryResult']['parameters']['date']\n",
    "        geo_city = req['queryResult']['parameters']['geo-city']                    \n",
    "            \n",
    "        info = getWeather(geo_city)            \n",
    "        text = f\"{geo_city} 날씨 정보 : {info['temp']} /  {info['desc']}\"\n",
    "        res = {'fulfillmentText': text}\n",
    "\n",
    "    else:\n",
    "        res = {'fulfillmentText': answer}          \n",
    "        \n",
    "    return res"
   ]
  },
  {
   "cell_type": "code",
   "execution_count": 34,
   "metadata": {
    "ExecuteTime": {
     "end_time": "2020-02-06T07:23:10.755769Z",
     "start_time": "2020-02-06T07:23:10.752776Z"
    }
   },
   "outputs": [],
   "source": [
    "import json"
   ]
  },
  {
   "cell_type": "code",
   "execution_count": 37,
   "metadata": {
    "ExecuteTime": {
     "end_time": "2020-02-06T07:23:33.083511Z",
     "start_time": "2020-02-06T07:23:33.074536Z"
    }
   },
   "outputs": [
    {
     "name": "stdout",
     "output_type": "stream",
     "text": [
      "{'fulfillmentText': '2 짜장면, 짬뽕 1  확인'}\n"
     ]
    }
   ],
   "source": [
    "file = 'chat03.json'      \n",
    "with open(file, encoding='UTF8') as json_file:\n",
    "    req = json.load(json_file)    \n",
    "print(processDialog(req)) "
   ]
  },
  {
   "cell_type": "markdown",
   "metadata": {},
   "source": [
    "## 4.2. 브라우저에서 하기"
   ]
  },
  {
   "cell_type": "markdown",
   "metadata": {},
   "source": [
    "> get 방식이므로 url에 file 파라미터 입력하기 \n",
    "http://127.0.0.1:4000/dialogflow?file=chat02.json\n",
    "        "
   ]
  },
  {
   "cell_type": "code",
   "execution_count": null,
   "metadata": {},
   "outputs": [],
   "source": []
  },
  {
   "cell_type": "code",
   "execution_count": null,
   "metadata": {},
   "outputs": [],
   "source": []
  }
 ],
 "metadata": {
  "kernelspec": {
   "display_name": "Python 3",
   "language": "python",
   "name": "python3"
  },
  "language_info": {
   "codemirror_mode": {
    "name": "ipython",
    "version": 3
   },
   "file_extension": ".py",
   "mimetype": "text/x-python",
   "name": "python",
   "nbconvert_exporter": "python",
   "pygments_lexer": "ipython3",
   "version": "3.7.5"
  },
  "toc": {
   "base_numbering": 1,
   "nav_menu": {},
   "number_sections": false,
   "sideBar": true,
   "skip_h1_title": false,
   "title_cell": "Table of Contents",
   "title_sidebar": "Contents",
   "toc_cell": false,
   "toc_position": {},
   "toc_section_display": true,
   "toc_window_display": true
  },
  "varInspector": {
   "cols": {
    "lenName": 16,
    "lenType": 16,
    "lenVar": 40
   },
   "kernels_config": {
    "python": {
     "delete_cmd_postfix": "",
     "delete_cmd_prefix": "del ",
     "library": "var_list.py",
     "varRefreshCmd": "print(var_dic_list())"
    },
    "r": {
     "delete_cmd_postfix": ") ",
     "delete_cmd_prefix": "rm(",
     "library": "var_list.r",
     "varRefreshCmd": "cat(var_dic_list()) "
    }
   },
   "types_to_exclude": [
    "module",
    "function",
    "builtin_function_or_method",
    "instance",
    "_Feature"
   ],
   "window_display": false
  }
 },
 "nbformat": 4,
 "nbformat_minor": 2
}
