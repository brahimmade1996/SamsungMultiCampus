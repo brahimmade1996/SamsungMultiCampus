{
 "cells": [
  {
   "cell_type": "markdown",
   "metadata": {
    "ExecuteTime": {
     "end_time": "2020-02-04T00:15:38.256260Z",
     "start_time": "2020-02-04T00:15:38.246002Z"
    }
   },
   "source": [
    "# 챗봇 개요\n",
    "## 1. 인공지능 독해력, 인간을 추월하다\n",
    "- 스탠보드 대 독해력 시험\n",
    "- 알리바바 그룹 홀딩스가 개발한 인공지능이 인간보다 높은 성적\n",
    "- 객관적 질문에 기계가 아주 정확하게 대답할 수 있는 수준에 도달함.\n",
    "\n",
    "> 활용 분야\n",
    "- 고객 서시브, 박물관 안내, 환자 질의에 대한 온라인 응답 등\n",
    "\n",
    "## 2. 인공지능, 사람 목소리까지 훔치다\n",
    "\n",
    "### 태코트론: 구글 딥마인드 문자-음성 변환 시스템\n",
    "- 사람 수준으로 발성\n",
    "- 평균 발성 점수(MOS) 비교: 태코트론2: 4.53점(사람: 4.58점)\n",
    "- 문맥을 파악한 발성은 불가\n",
    "\n",
    "## 3. 인간대 ai 스타크래프트 대회\n",
    "\n",
    "\n",
    "## 4. 챗봇 서비스 발전 단계\n",
    "\n",
    "\n",
    "## 5. 챗봇 vs website\n",
    "> 웹사이트\n",
    "- 정보 검색, 쇼핑, 금융, 예약, 서비스 등\n",
    "- 회사: 홍보용\n",
    "\n",
    "> 챗봇 장점\n",
    "- 새로운 인터페이스를 배울 필요없음.\n",
    "- 1:1 서비스\n",
    "- 직접적인 연결 방법\n",
    "- 웹사이트: 사이트맵(트리구조)-> 챗봇: 빠른 정보 획득\n",
    "- 사람과 상담으로 연결될 때도 , 상담 내역이 이미 있으므로 바로 상담가능\n"
   ]
  },
  {
   "cell_type": "markdown",
   "metadata": {},
   "source": [
    "# 챗봇 framewalk-Google Dialogflow"
   ]
  },
  {
   "cell_type": "markdown",
   "metadata": {},
   "source": [
    "# 1. 챗봇 동작 원리\n",
    "- intent: 의도\n",
    "- entity: 핵심어\n",
    "- slot Filling : 부족한 정보를 채워주는 것.\n",
    "\n",
    "\n",
    "> https://dialogflow.com/\n",
    "- agent: 하나당 챗봇 하나\n",
    "- \n",
    "\n",
    "\n",
    "> Intent\n",
    "- "
   ]
  }
 ],
 "metadata": {
  "kernelspec": {
   "display_name": "Python 3",
   "language": "python",
   "name": "python3"
  },
  "language_info": {
   "codemirror_mode": {
    "name": "ipython",
    "version": 3
   },
   "file_extension": ".py",
   "mimetype": "text/x-python",
   "name": "python",
   "nbconvert_exporter": "python",
   "pygments_lexer": "ipython3",
   "version": "3.7.5"
  },
  "toc": {
   "base_numbering": 1,
   "nav_menu": {},
   "number_sections": false,
   "sideBar": true,
   "skip_h1_title": false,
   "title_cell": "Table of Contents",
   "title_sidebar": "Contents",
   "toc_cell": false,
   "toc_position": {},
   "toc_section_display": true,
   "toc_window_display": true
  },
  "varInspector": {
   "cols": {
    "lenName": 16,
    "lenType": 16,
    "lenVar": 40
   },
   "kernels_config": {
    "python": {
     "delete_cmd_postfix": "",
     "delete_cmd_prefix": "del ",
     "library": "var_list.py",
     "varRefreshCmd": "print(var_dic_list())"
    },
    "r": {
     "delete_cmd_postfix": ") ",
     "delete_cmd_prefix": "rm(",
     "library": "var_list.r",
     "varRefreshCmd": "cat(var_dic_list()) "
    }
   },
   "types_to_exclude": [
    "module",
    "function",
    "builtin_function_or_method",
    "instance",
    "_Feature"
   ],
   "window_display": false
  }
 },
 "nbformat": 4,
 "nbformat_minor": 2
}
