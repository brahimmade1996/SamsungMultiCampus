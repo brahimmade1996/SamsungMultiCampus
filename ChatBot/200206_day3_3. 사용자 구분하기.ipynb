{
 "cells": [
  {
   "cell_type": "markdown",
   "metadata": {},
   "source": [
    "# session\n",
    "- 사용자 구분하기\n",
    "- 브라우저를 닫지 않으면 session을 계속 유지하고 있음.\n",
    "\n",
    "> dialogflow에서 사용자 구분하기\n",
    "- dict로 하면 복잡하고 가독성이 안좋음...\n",
    "- 변수로 취급하기\n",
    "\n",
    "\n",
    "> 객체지향: incapsulation\n",
    "- 관련있는 함수, 코드를 묶겠다는 의미\n",
    "- informaion hiding\n",
    "- 클래스 개념"
   ]
  },
  {
   "cell_type": "code",
   "execution_count": 5,
   "metadata": {
    "ExecuteTime": {
     "end_time": "2020-02-06T07:53:47.292038Z",
     "start_time": "2020-02-06T07:53:47.287097Z"
    }
   },
   "outputs": [],
   "source": [
    "class User():\n",
    "    def __init__(self):\n",
    "        self.win = 0\n",
    "        self.lose = 0\n",
    "        self.draw = 0"
   ]
  },
  {
   "cell_type": "code",
   "execution_count": 7,
   "metadata": {
    "ExecuteTime": {
     "end_time": "2020-02-06T07:53:56.889875Z",
     "start_time": "2020-02-06T07:53:56.886831Z"
    }
   },
   "outputs": [],
   "source": [
    "datas = {}"
   ]
  },
  {
   "cell_type": "code",
   "execution_count": 55,
   "metadata": {
    "ExecuteTime": {
     "end_time": "2020-02-06T08:52:43.888400Z",
     "start_time": "2020-02-06T08:52:43.884455Z"
    }
   },
   "outputs": [],
   "source": [
    "p1 = User()\n",
    "p2 = User()\n",
    "\n",
    "p1.win = 3\n",
    "p1.lose = 5\n",
    "p2.win = 3\n",
    "p2.lose = 20\n",
    "\n",
    "datas[sessId] = p1\n",
    "        "
   ]
  },
  {
   "cell_type": "code",
   "execution_count": 21,
   "metadata": {
    "ExecuteTime": {
     "end_time": "2020-02-06T08:06:21.187317Z",
     "start_time": "2020-02-06T08:06:21.182376Z"
    }
   },
   "outputs": [
    {
     "data": {
      "text/plain": [
       "3"
      ]
     },
     "execution_count": 21,
     "metadata": {},
     "output_type": "execute_result"
    }
   ],
   "source": [
    "datas[sessId].win"
   ]
  },
  {
   "cell_type": "code",
   "execution_count": null,
   "metadata": {},
   "outputs": [],
   "source": []
  }
 ],
 "metadata": {
  "kernelspec": {
   "display_name": "Python 3",
   "language": "python",
   "name": "python3"
  },
  "language_info": {
   "codemirror_mode": {
    "name": "ipython",
    "version": 3
   },
   "file_extension": ".py",
   "mimetype": "text/x-python",
   "name": "python",
   "nbconvert_exporter": "python",
   "pygments_lexer": "ipython3",
   "version": "3.7.5"
  },
  "toc": {
   "base_numbering": 1,
   "nav_menu": {},
   "number_sections": false,
   "sideBar": true,
   "skip_h1_title": false,
   "title_cell": "Table of Contents",
   "title_sidebar": "Contents",
   "toc_cell": false,
   "toc_position": {},
   "toc_section_display": true,
   "toc_window_display": false
  },
  "varInspector": {
   "cols": {
    "lenName": 16,
    "lenType": 16,
    "lenVar": 40
   },
   "kernels_config": {
    "python": {
     "delete_cmd_postfix": "",
     "delete_cmd_prefix": "del ",
     "library": "var_list.py",
     "varRefreshCmd": "print(var_dic_list())"
    },
    "r": {
     "delete_cmd_postfix": ") ",
     "delete_cmd_prefix": "rm(",
     "library": "var_list.r",
     "varRefreshCmd": "cat(var_dic_list()) "
    }
   },
   "types_to_exclude": [
    "module",
    "function",
    "builtin_function_or_method",
    "instance",
    "_Feature"
   ],
   "window_display": false
  }
 },
 "nbformat": 4,
 "nbformat_minor": 2
}
