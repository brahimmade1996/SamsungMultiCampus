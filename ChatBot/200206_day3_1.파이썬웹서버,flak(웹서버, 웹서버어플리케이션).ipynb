{
 "cells": [
  {
   "cell_type": "markdown",
   "metadata": {},
   "source": [
    "# 1. 챗봇 흐름도\n",
    "## user -> APP/ device -> dialogflow -> Fulfillment\n",
    "> user\n",
    "\n",
    "> app\n",
    "- naver openbuilder 같은 프로그램...챗봇 등 이용\n",
    "\n",
    "> dialogflow\n",
    "- fullfillment 주소 1개만 가질 수 있으므로\n",
    "- 모든 agent마다 fulfillmetn 주소 1개\n",
    "- 모든 인텐트를 fullfillment 주소 1개로 이용 해야 함.\n",
    "- 인텐트마다 fulfillment처리를 해야 할지, 말아야 할지 구분해서 처리\n",
    "\n",
    "> fulfillment\n",
    "- 외부 통신하기 위해서 웹서버로 이용\n",
    "- 웹서버:flask, 장고로 만들기\n",
    "- dialogflow로 접속할 수 있도록 NGROK(공인아이피가 있으므로)\n",
    "-"
   ]
  },
  {
   "cell_type": "markdown",
   "metadata": {},
   "source": [
    "# HTTP 정리\n",
    "### 1. 다운로드 서버!(완료후 실행, 연결 x)\n",
    "### 2. 대다수의 기능은 브라우저의 기능"
   ]
  },
  {
   "cell_type": "markdown",
   "metadata": {},
   "source": [
    "#  웹서버\n",
    "> 웹서버\n",
    "- 파일 요청하면 파일을 다운받아서\n",
    "- 가장 많이 사용: 아파치\n",
    "\n",
    "> 브라우저\n",
    "- 브라우저: 하이퍼 텍스트 문서를 해석하여 화면에 출력\n",
    "## 웹서버 종류\n",
    "#### 파이썬 웹서버 구축\n",
    "#### flask "
   ]
  },
  {
   "cell_type": "markdown",
   "metadata": {},
   "source": [
    "    \n",
    "# 2.파이썬 웹서버 구축\n",
    "\n",
    "#### 브라우저에서 127.0.0.1:88로만 접속해도 defalut로 index.html파일을 실행하미\n",
    "\n",
    "\n",
    "### 2.1.1.  hello 나오기\n",
    "- 1. 폴더 (homepage) 만들고\n",
    "- 2. index.html만들기(내용: hello)\n",
    "- 3. 접속 : phthon -m http.server 88: 88번 포트를 계속 리스닝하는 서버가 생김\n",
    "- 4. 브라우저에서   127.0.0.1:88/index.html      -> hell0출력됨\n",
    "\n",
    "### 2.1.2. 이미지 나오기\n",
    "- 폴더 안에 이미지 넣고\n",
    "- 브라우저에서 127.0.0.1/img.jpg\n",
    "\n",
    "### 2.1.3. 다른 포멧 파일등 -> 다운만 가능. 실행은 안됨.\n",
    "- exe파일, zip:특정폴더에 다운받고 끝. 실행되지 않음. \n",
    "- ppt: 다운받아서 실행해줌\n",
    "- mp3: 다운받고 끝. 실행하지는 않음.\n",
    "\n",
    "### 2.1.4. root/data/img/ice.jpg\n",
    "- 물리적인 경로를 만들어서 (어제 플라스크는 가상적인 경로)\n",
    "- http://127.0.0.1:88/data/img/ice.jpg\n",
    "\n",
    "### 2.1.5. 글자, 이미지 같이 보이게\n",
    "> 브라우저는 웨 서버에 2번 다녀옴.\n",
    "- 브라우저는 웹 서버에 가서 index.html 다녀옴. 인터넷 접속 1번\n",
    "- html문서를 브라우저가 해석하기 시작\n",
    "- img src = yello.jpg 를 보고 다시 웹 서버에 다녀옴."
   ]
  },
  {
   "cell_type": "markdown",
   "metadata": {},
   "source": [
    "\n",
    "### 2.6. 글자1, 이미지 3개 보이기\n",
    "> 브라우저는 웹 서버 2번 다녀옴.\n",
    "- 이미지는 1번 다운로드 받은 후.\n",
    "- 이미지: 정적 파일-> 로컬에 캐시로 남겨놓음.\n",
    "- 다시 서버를 안갔다와도 됨."
   ]
  },
  {
   "cell_type": "code",
   "execution_count": 1,
   "metadata": {
    "ExecuteTime": {
     "end_time": "2020-02-06T00:43:47.187982Z",
     "start_time": "2020-02-06T00:43:47.181001Z"
    }
   },
   "outputs": [
    {
     "data": {
      "text/plain": [
       "'\\n<h1>Hello</h1>\\n\\n<img src=http://127.0.0.:88/img.jpg>\\n<img src=http://127.0.0.:88/img.jpg>\\n<img src=http://127.0.0.:88/img.jpg> \\n\\n'"
      ]
     },
     "execution_count": 1,
     "metadata": {},
     "output_type": "execute_result"
    }
   ],
   "source": [
    "'''\n",
    "<h1>Hello</h1>\n",
    "\n",
    "<img src=http://127.0.0.:88/img.jpg>\n",
    "<img src=http://127.0.0.:88/img.jpg>\n",
    "<img src=http://127.0.0.:88/img.jpg> \n",
    "\n",
    "'''"
   ]
  },
  {
   "cell_type": "markdown",
   "metadata": {},
   "source": [
    "> ? : 파라미터 붙일 때\n",
    "- 캐시기능을 사용하지 않기 때문에\n",
    "- 웹 서버를 4번 다녀옴.\n",
    "- 모두 다른 이미지로 인식"
   ]
  },
  {
   "cell_type": "code",
   "execution_count": null,
   "metadata": {},
   "outputs": [],
   "source": [
    "'''\n",
    "<h1>Hello</h1>\n",
    "\n",
    "<img src=http://127.0.0.:88/img.jpg?121312>\n",
    "<img src=http://127.0.0.:88/img.jpg?1314324>\n",
    "<img src=http://127.0.0.:88/img.jpg?234234we>'''"
   ]
  },
  {
   "cell_type": "markdown",
   "metadata": {},
   "source": [
    "### 2.2.7 dialogflow 연결\n",
    "- 우리 서버와 dialogflow를 함께 사용\n",
    "- 브라우저에서 요청"
   ]
  },
  {
   "cell_type": "code",
   "execution_count": null,
   "metadata": {},
   "outputs": [],
   "source": [
    "'''\n",
    "<h1>Hello</h1>\n",
    "\n",
    "<img src=http://127.0.0.:88/img.jpg?121312>\n",
    "<img src=http://127.0.0.:88/img.jpg?1314324>\n",
    "<img src=http://127.0.0.:88/img.jpg?234234we>\n",
    "\n",
    "<br>\n",
    "<iframe\n",
    "    allow=\"microphone;\"\n",
    "    width=\"350\"\n",
    "    height=\"430\"\n",
    "    src=\"https://console.dialogflow.com/api-client/demo/embedded/SMChatBot-shiney0001\">\n",
    "</iframe>'''"
   ]
  },
  {
   "cell_type": "markdown",
   "metadata": {
    "ExecuteTime": {
     "end_time": "2020-02-06T00:48:48.864242Z",
     "start_time": "2020-02-06T00:48:48.859256Z"
    }
   },
   "source": [
    "# 3. 웹 서버 어플리케이션: flask\n",
    "\n",
    "> 파이썬 웹 서버\n",
    "- 정적인 html만 가능\n",
    "\n",
    "> 웹 서버 어플리케이션\n",
    "- 웹을 기반으로 서버실행되는 프로그램\n",
    "- 동적 html생성 (웹 서버 애플리케이션은 html을 리턴)\n",
    "- 파일, 데이터베이스 등 기존 서버 자원 활동\n",
    "\n",
    "> 과정\n",
    "- 브라우저 -> 웹서버-> 웹어플리케이션 -> 파일, 데이터베이스\n",
    "\n",
    "> 예\n",
    "- 플라스크, 장고\n",
    "\n",
    "\n",
    "### 플라스크\n",
    "- 웹 서버 + 웹 어플리케이션(psp, jsp등)\n",
    "- 가상 폴더 개념...\n"
   ]
  },
  {
   "cell_type": "markdown",
   "metadata": {},
   "source": [
    "### 3.1.  hello 나오기"
   ]
  },
  {
   "cell_type": "code",
   "execution_count": null,
   "metadata": {},
   "outputs": [],
   "source": [
    "'''\n",
    "from flask import Flask, request, jsonify\n",
    "import requests\n",
    "import json\n",
    "import urllib\n",
    "from bs4 import BeautifulSoup\n",
    "\n",
    "app=Flask(__name__)\n",
    "\n",
    "\n",
    "@app.route('/')\n",
    "def home():\n",
    "    return 'hello~~' \n",
    "\n",
    "if __name__ == '__main__':\n",
    "    app.run(host = '0.0.0.0',port = 4000, debug = True)'''"
   ]
  },
  {
   "cell_type": "markdown",
   "metadata": {
    "ExecuteTime": {
     "end_time": "2020-02-06T01:21:11.444418Z",
     "start_time": "2020-02-06T01:21:11.439487Z"
    }
   },
   "source": [
    "> 브라우저에서 \n",
    "- http://127.0.0.1:4000/"
   ]
  },
  {
   "cell_type": "markdown",
   "metadata": {},
   "source": [
    "- 4. 브라우저에서   127.0.0.1:88/index.html      -> hell0출력됨\n",
    "\n",
    "## 3.2. 이미지 나오기\n",
    "\n",
    "> static 폴더 만들기\n",
    "- static이라는 라우터 주소를 만들고\n",
    "- 그 안에 이미지 넣기"
   ]
  },
  {
   "cell_type": "code",
   "execution_count": null,
   "metadata": {},
   "outputs": [],
   "source": [
    "'''\n",
    "from flask import Flask, request, jsonify\n",
    "import requests\n",
    "import json\n",
    "import urllib\n",
    "from bs4 import BeautifulSoup\n",
    "\n",
    "app=Flask(__name__)\n",
    "\n",
    "\n",
    "@app.route('/')\n",
    "def home():\n",
    "    return 'hello~~ <img src=/static/cake.jpg/>'\n",
    "\n",
    "if __name__ == '__main__':\n",
    "    app.run(host = '0.0.0.0',port = 4000, debug = True)\n",
    "    '''"
   ]
  },
  {
   "cell_type": "markdown",
   "metadata": {},
   "source": [
    "## 3.3. dialogflow 넣기"
   ]
  },
  {
   "cell_type": "code",
   "execution_count": null,
   "metadata": {},
   "outputs": [],
   "source": [
    "'''\n",
    "from flask import Flask, request, jsonify\n",
    "import requests\n",
    "import json\n",
    "import urllib\n",
    "from bs4 import BeautifulSoup\n",
    "\n",
    "app=Flask(__name__)\n",
    "\n",
    "\n",
    "@app.route('/')\n",
    "def home():\n",
    "    html = '''\n",
    "    <h1> Hello </H1>\n",
    "    <img src=/static/cake.jpg></img>\n",
    "    <br>\n",
    "    <iframe \n",
    "        height=\"430\" width=\"350\" \n",
    "        src=\"https://bot.dialogflow.com/SMChatBot-shiney0001\">\n",
    "    </iframe>\n",
    "    '''\n",
    "    return html\n",
    "\n",
    "if __name__ == '__main__':\n",
    "    app.run(host = '0.0.0.0',port = 4000, debug = True)\n",
    "'''"
   ]
  },
  {
   "cell_type": "markdown",
   "metadata": {},
   "source": [
    "# 200206_web.py"
   ]
  },
  {
   "cell_type": "code",
   "execution_count": null,
   "metadata": {},
   "outputs": [],
   "source": [
    "'''\n",
    "from flask import Flask, request, jsonify\n",
    "import requests\n",
    "import json\n",
    "import urllib\n",
    "from bs4 import BeautifulSoup\n",
    "\n",
    "app=Flask(__name__)\n",
    "\n",
    "\n",
    "@app.route('/')\n",
    "def home():\n",
    "    html = '''\n",
    "    <h1> Hello </H1>\n",
    "    <img src=/static/cake.jpg></img>\n",
    "    <br>\n",
    "    <iframe \n",
    "        height=\"430\" width=\"350\" \n",
    "        src=\"https://bot.dialogflow.com/SMChatBot-shiney0001\">\n",
    "    </iframe>\n",
    "    '''\n",
    "    return html\n",
    "\n",
    "if __name__ == '__main__':\n",
    "    app.run(host = '0.0.0.0',port = 4000, debug = True)\n",
    "    '''"
   ]
  }
 ],
 "metadata": {
  "kernelspec": {
   "display_name": "Python 3",
   "language": "python",
   "name": "python3"
  },
  "language_info": {
   "codemirror_mode": {
    "name": "ipython",
    "version": 3
   },
   "file_extension": ".py",
   "mimetype": "text/x-python",
   "name": "python",
   "nbconvert_exporter": "python",
   "pygments_lexer": "ipython3",
   "version": "3.7.5"
  },
  "toc": {
   "base_numbering": 1,
   "nav_menu": {},
   "number_sections": false,
   "sideBar": true,
   "skip_h1_title": false,
   "title_cell": "Table of Contents",
   "title_sidebar": "Contents",
   "toc_cell": false,
   "toc_position": {
    "height": "calc(100% - 180px)",
    "left": "10px",
    "top": "150px",
    "width": "191.594px"
   },
   "toc_section_display": true,
   "toc_window_display": true
  },
  "varInspector": {
   "cols": {
    "lenName": 16,
    "lenType": 16,
    "lenVar": 40
   },
   "kernels_config": {
    "python": {
     "delete_cmd_postfix": "",
     "delete_cmd_prefix": "del ",
     "library": "var_list.py",
     "varRefreshCmd": "print(var_dic_list())"
    },
    "r": {
     "delete_cmd_postfix": ") ",
     "delete_cmd_prefix": "rm(",
     "library": "var_list.r",
     "varRefreshCmd": "cat(var_dic_list()) "
    }
   },
   "types_to_exclude": [
    "module",
    "function",
    "builtin_function_or_method",
    "instance",
    "_Feature"
   ],
   "window_display": false
  }
 },
 "nbformat": 4,
 "nbformat_minor": 2
}
