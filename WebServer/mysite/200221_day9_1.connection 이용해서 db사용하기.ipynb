{
 "cells": [
  {
   "cell_type": "code",
   "execution_count": 179,
   "metadata": {
    "ExecuteTime": {
     "end_time": "2020-02-21T04:29:17.023178Z",
     "start_time": "2020-02-21T04:29:17.018192Z"
    }
   },
   "outputs": [],
   "source": [
    "from django.contrib.auth.models import User\n",
    "from myboard import models\n",
    "from django.db import connection  # db를 연계할 수 있음.\n",
    "from django.shortcuts import render"
   ]
  },
  {
   "cell_type": "code",
   "execution_count": 5,
   "metadata": {
    "ExecuteTime": {
     "end_time": "2020-02-21T00:17:51.018874Z",
     "start_time": "2020-02-21T00:17:51.014839Z"
    }
   },
   "outputs": [],
   "source": [
    "data = User.objects.all()"
   ]
  },
  {
   "cell_type": "code",
   "execution_count": 6,
   "metadata": {
    "ExecuteTime": {
     "end_time": "2020-02-21T00:18:03.614719Z",
     "start_time": "2020-02-21T00:18:03.567418Z"
    }
   },
   "outputs": [],
   "source": [
    "# db에 대하 정보를 알 수 있음.\n",
    "models.Board??"
   ]
  },
  {
   "cell_type": "code",
   "execution_count": 8,
   "metadata": {
    "ExecuteTime": {
     "end_time": "2020-02-21T00:19:20.571009Z",
     "start_time": "2020-02-21T00:19:20.566996Z"
    }
   },
   "outputs": [
    {
     "data": {
      "text/plain": [
       "{'sql': 'SELECT \"auth_user\".\"id\", \"auth_user\".\"password\", \"auth_user\".\"last_login\", \"auth_user\".\"is_superuser\", \"auth_user\".\"username\", \"auth_user\".\"first_name\", \"auth_user\".\"last_name\", \"auth_user\".\"email\", \"auth_user\".\"is_staff\", \"auth_user\".\"is_active\", \"auth_user\".\"date_joined\" FROM \"auth_user\" LIMIT 21',\n",
       " 'time': '0.000'}"
      ]
     },
     "execution_count": 8,
     "metadata": {},
     "output_type": "execute_result"
    }
   ],
   "source": [
    "#  내가 사용한 SQL 문에 대한 history\n",
    "connection.queries[-1]"
   ]
  },
  {
   "cell_type": "markdown",
   "metadata": {},
   "source": [
    "## SQL 문 실행"
   ]
  },
  {
   "cell_type": "code",
   "execution_count": 9,
   "metadata": {
    "ExecuteTime": {
     "end_time": "2020-02-21T00:21:56.117129Z",
     "start_time": "2020-02-21T00:21:56.111067Z"
    }
   },
   "outputs": [
    {
     "data": {
      "text/plain": [
       "<RawQuerySet: SELECT max(age) FROM myapp_user>"
      ]
     },
     "execution_count": 9,
     "metadata": {},
     "output_type": "execute_result"
    }
   ],
   "source": [
    "User.objects.raw('SELECT max(age) FROM myapp_user')"
   ]
  },
  {
   "cell_type": "code",
   "execution_count": 14,
   "metadata": {
    "ExecuteTime": {
     "end_time": "2020-02-21T00:24:58.378946Z",
     "start_time": "2020-02-21T00:24:58.373943Z"
    }
   },
   "outputs": [
    {
     "name": "stdout",
     "output_type": "stream",
     "text": [
      "123\n"
     ]
    }
   ],
   "source": [
    "# 위의 문장보다 아래 방법 권장\n",
    "# cursor: sql문을 관리하는 객체 -> 어디를 가리키고 있는지 표시(어떤 row)\n",
    "cursor = connection.cursor()\n",
    "cursor.execute('SELECT max(age) from myapp_user')\n",
    "\n",
    "# cursor를 fetch해야 함.(db에서 검색된 결과가 굉장히 많을 수 있으므로 얼만큼 갖고올지 확인)\n",
    "max_value = cursor.fetchone()[0] \n",
    "print(max_value)"
   ]
  },
  {
   "cell_type": "code",
   "execution_count": 20,
   "metadata": {
    "ExecuteTime": {
     "end_time": "2020-02-21T00:27:47.820537Z",
     "start_time": "2020-02-21T00:27:47.814613Z"
    }
   },
   "outputs": [
    {
     "name": "stdout",
     "output_type": "stream",
     "text": [
      "<class 'list'> <class 'tuple'>\n",
      "(5, 'kjkjkkjkjk', 'kkjkjkjkjkj', datetime.datetime(2020, 2, 19, 8, 22, 23, 468352), None, 0, None, 'data', 2)\n"
     ]
    }
   ],
   "source": [
    "cursor = connection.cursor()\n",
    "cursor.execute('SELECT * from myboard_board')\n",
    "results = cursor.fetchall()  # 데이터가 많지 않을 때만 수행\n",
    "print(type(results), type(results[0]))\n",
    "print(results[0])"
   ]
  },
  {
   "cell_type": "code",
   "execution_count": 21,
   "metadata": {
    "ExecuteTime": {
     "end_time": "2020-02-21T00:29:04.603822Z",
     "start_time": "2020-02-21T00:29:04.598836Z"
    }
   },
   "outputs": [
    {
     "name": "stdout",
     "output_type": "stream",
     "text": [
      "(5, 'kjkjkkjkjk', 'kkjkjkjkjkj', datetime.datetime(2020, 2, 19, 8, 22, 23, 468352), None, 0, None, 'data', 2)\n",
      "(8, 'hjhkjhj', 'hjhkhhjkhkhj', datetime.datetime(2020, 2, 20, 1, 28, 34, 298647), None, 1, None, 'common', 2)\n",
      "(9, 'hjhjkhjh', 'jhkhjhjhjkhjkh', datetime.datetime(2020, 2, 20, 1, 28, 48, 697712), None, 0, None, 'etc', 2)\n",
      "(10, 'kjkjkjkjkjkjk', 'kjkjkjkjkjkjkjk', datetime.datetime(2020, 2, 20, 1, 29, 1, 882260), None, 0, None, 'data', 2)\n",
      "(11, 'kjkjkjkjkj', 'jkjkjkjkjkjkjk', datetime.datetime(2020, 2, 20, 1, 36, 51, 908939), None, 0, None, 'common', 2)\n",
      "(12, '추가하자', '너라넝라ㅓㄴㅇ러나이ㅓ', datetime.datetime(2020, 2, 20, 7, 44, 3, 880978), None, 0, None, 'common', 2)\n",
      "(13, 'ㅏㅓㅏㅓㅣㅓㅏㅣㅓㅣㅏ', 'ㅓㅣㅏㅓㅏㅣㅓㅣㅓㅏㅓㅏㅣ', datetime.datetime(2020, 2, 20, 7, 44, 15, 712812), None, 0, None, 'common', 2)\n",
      "(14, 'ㅏㅓㅣㅏㅓㅏㅓㅏㅓㅣ', 'ㅏㅓㅏㅓㅣㅏㅓㅏㅣㅓㅏㅣㅓㅣㅓㅣ', datetime.datetime(2020, 2, 20, 7, 44, 21, 839611), None, 0, None, 'common', 2)\n",
      "(15, 'ㅏㅓㅣㅓㅏㅓㅏㅓㅏㅓㅏ', 'ㅏㅓㅏㅣㅓㅏㅣㅓㅏㅣㅓㅏㅣㅓㅏㅣ', datetime.datetime(2020, 2, 20, 7, 44, 36, 63932), None, 0, None, 'common', 2)\n"
     ]
    }
   ],
   "source": [
    "for i in results:\n",
    "    print(i)"
   ]
  },
  {
   "cell_type": "markdown",
   "metadata": {},
   "source": [
    "### \\*의 의미\n",
    "- 모든 필드를 의미\n",
    "- 보안에 취약\n",
    "- 네트워크 트래픽 유발\n",
    "- 일반적으로 *는 쓰지 말라고 함."
   ]
  },
  {
   "cell_type": "code",
   "execution_count": 23,
   "metadata": {
    "ExecuteTime": {
     "end_time": "2020-02-21T00:30:49.348115Z",
     "start_time": "2020-02-21T00:30:49.343128Z"
    }
   },
   "outputs": [
    {
     "name": "stdout",
     "output_type": "stream",
     "text": [
      "(5, 'kjkjkkjkjk', 0)\n"
     ]
    }
   ],
   "source": [
    "cursor = connection.cursor()\n",
    "cursor.execute('SELECT id, title, cnt from myboard_board')\n",
    "results = cursor.fetchall()  # 데이터가 많지 않을 때만 수행\n",
    "print(results[0])"
   ]
  },
  {
   "cell_type": "code",
   "execution_count": 24,
   "metadata": {
    "ExecuteTime": {
     "end_time": "2020-02-21T00:31:12.707873Z",
     "start_time": "2020-02-21T00:31:12.703908Z"
    }
   },
   "outputs": [
    {
     "name": "stdout",
     "output_type": "stream",
     "text": [
      "(5, 'kjkjkkjkjk', 'data')\n"
     ]
    }
   ],
   "source": [
    "cursor = connection.cursor()\n",
    "cursor.execute('SELECT id, title, category from myboard_board')\n",
    "results = cursor.fetchall()  # 데이터가 많지 않을 때만 수행\n",
    "print(results[0])"
   ]
  },
  {
   "cell_type": "markdown",
   "metadata": {},
   "source": [
    "## 1. 특정 유저가 쓴 글 검색\n",
    "\n",
    "- board에는 저자정보가 아닌 id번호만 들어가있음.\n",
    "\n",
    "### 1.1. 조건절에 다른 테이블 정보로 slect\n"
   ]
  },
  {
   "cell_type": "code",
   "execution_count": 34,
   "metadata": {
    "ExecuteTime": {
     "end_time": "2020-02-21T00:41:22.508026Z",
     "start_time": "2020-02-21T00:41:22.504076Z"
    }
   },
   "outputs": [
    {
     "name": "stdout",
     "output_type": "stream",
     "text": [
      "[(5, 'kjkjkkjkjk', 0), (8, 'hjhkjhj', 1), (9, 'hjhjkhjh', 0), (10, 'kjkjkjkjkjkjk', 0), (11, 'kjkjkjkjkj', 0), (12, '추가하자', 0), (13, 'ㅏㅓㅏㅓㅣㅓㅏㅣㅓㅣㅏ', 0), (14, 'ㅏㅓㅣㅏㅓㅏㅓㅏㅓㅣ', 0), (15, 'ㅏㅓㅣㅓㅏㅓㅏㅓㅏㅓㅏ', 0)]\n"
     ]
    }
   ],
   "source": [
    "sql = '''\n",
    "select id, title, cnt\n",
    "from myboard_board\n",
    "where author_id = (\n",
    "select id from auth_user where username = 'lee')\n",
    "'''\n",
    "\n",
    "cursor = connection.cursor()\n",
    "cursor.execute(sql)\n",
    "results = cursor.fetchall()  \n",
    "print(results)"
   ]
  },
  {
   "cell_type": "markdown",
   "metadata": {},
   "source": [
    "### 1.2. join 사용하기\n",
    "- 위의 방법은...board table에 use 정보가 없기 때문에, user정보를 표현할 수 없음.\n",
    "- join으로 해결"
   ]
  },
  {
   "cell_type": "code",
   "execution_count": 35,
   "metadata": {
    "ExecuteTime": {
     "end_time": "2020-02-21T00:45:38.548333Z",
     "start_time": "2020-02-21T00:45:38.544276Z"
    }
   },
   "outputs": [
    {
     "name": "stdout",
     "output_type": "stream",
     "text": [
      "[(5, 'kjkjkkjkjk', 0, 'lee'), (8, 'hjhkjhj', 1, 'lee'), (9, 'hjhjkhjh', 0, 'lee'), (10, 'kjkjkjkjkjkjk', 0, 'lee'), (11, 'kjkjkjkjkj', 0, 'lee'), (12, '추가하자', 0, 'lee'), (13, 'ㅏㅓㅏㅓㅣㅓㅏㅣㅓㅣㅏ', 0, 'lee'), (14, 'ㅏㅓㅣㅏㅓㅏㅓㅏㅓㅣ', 0, 'lee'), (15, 'ㅏㅓㅣㅓㅏㅓㅏㅓㅏㅓㅏ', 0, 'lee')]\n"
     ]
    }
   ],
   "source": [
    "sql = '''\n",
    "select b.id, title, cnt, username\n",
    "from myboard_board b, auth_user u\n",
    "where b.author_id = u.id\n",
    "'''\n",
    "\n",
    "cursor = connection.cursor()\n",
    "cursor.execute(sql)\n",
    "results = cursor.fetchall()  \n",
    "print(results)"
   ]
  },
  {
   "cell_type": "code",
   "execution_count": 36,
   "metadata": {
    "ExecuteTime": {
     "end_time": "2020-02-21T00:49:09.196650Z",
     "start_time": "2020-02-21T00:49:09.191663Z"
    }
   },
   "outputs": [
    {
     "name": "stdout",
     "output_type": "stream",
     "text": [
      "[(5, 'kjkjkkjkjk', 0, 'lee'), (8, 'hjhkjhj', 1, 'lee'), (9, 'hjhjkhjh', 0, 'lee'), (10, 'kjkjkjkjkjkjk', 0, 'lee'), (11, 'kjkjkjkjkj', 0, 'lee'), (12, '추가하자', 0, 'lee'), (13, 'ㅏㅓㅏㅓㅣㅓㅏㅣㅓㅣㅏ', 0, 'lee'), (14, 'ㅏㅓㅣㅏㅓㅏㅓㅏㅓㅣ', 0, 'lee'), (15, 'ㅏㅓㅣㅓㅏㅓㅏㅓㅏㅓㅏ', 0, 'lee')]\n"
     ]
    }
   ],
   "source": [
    "sql = '''\n",
    "select b.id, title, cnt, username\n",
    "from myboard_board b, auth_user u\n",
    "where b.author_id = u.id and username='lee'\n",
    "'''\n",
    "\n",
    "cursor = connection.cursor()\n",
    "cursor.execute(sql)\n",
    "results = cursor.fetchall()  \n",
    "print(results)"
   ]
  },
  {
   "cell_type": "markdown",
   "metadata": {},
   "source": [
    "## 2. cursor의 개념\n",
    "- 전체 레코드에서 어디를 읽었는지 나타내는 개념\n",
    "- 모든 레코드를 읽고나면 fetch는 None.\n",
    "- 읽은 데이터를 보관하지 않고,다 읽은 후, 처음을 돌아가지 않음."
   ]
  },
  {
   "cell_type": "code",
   "execution_count": 38,
   "metadata": {
    "ExecuteTime": {
     "end_time": "2020-02-21T00:51:17.804508Z",
     "start_time": "2020-02-21T00:51:17.799522Z"
    }
   },
   "outputs": [
    {
     "name": "stdout",
     "output_type": "stream",
     "text": [
      "(5, 'kjkjkkjkjk', 0, 'lee')\n"
     ]
    }
   ],
   "source": [
    "cursor = connection.cursor()\n",
    "cursor.execute(sql)\n",
    "r = cursor.fetchone()\n",
    "print(r)"
   ]
  },
  {
   "cell_type": "code",
   "execution_count": 39,
   "metadata": {
    "ExecuteTime": {
     "end_time": "2020-02-21T00:51:26.146323Z",
     "start_time": "2020-02-21T00:51:26.144226Z"
    }
   },
   "outputs": [
    {
     "name": "stdout",
     "output_type": "stream",
     "text": [
      "(8, 'hjhkjhj', 1, 'lee')\n"
     ]
    }
   ],
   "source": [
    "r = cursor.fetchone()\n",
    "print(r)"
   ]
  },
  {
   "cell_type": "code",
   "execution_count": 43,
   "metadata": {
    "ExecuteTime": {
     "end_time": "2020-02-21T00:54:43.397854Z",
     "start_time": "2020-02-21T00:54:43.391837Z"
    }
   },
   "outputs": [
    {
     "data": {
      "text/plain": [
       "4"
      ]
     },
     "execution_count": 43,
     "metadata": {},
     "output_type": "execute_result"
    }
   ],
   "source": [
    "r = cursor.fetchone()\n",
    "len(r)   "
   ]
  },
  {
   "cell_type": "markdown",
   "metadata": {
    "ExecuteTime": {
     "end_time": "2020-02-21T00:52:31.532627Z",
     "start_time": "2020-02-21T00:52:31.527593Z"
    }
   },
   "source": [
    "- 전체 data 6개중 fetchone을 2번 실행했기 때문에\n",
    "- 나머지 4개 데이터만 갖고있음.\n",
    "- fecthall을 하고 나면 반환한 레코드가 없으므로 None을 return"
   ]
  },
  {
   "cell_type": "markdown",
   "metadata": {},
   "source": [
    "### 2.1 전체 데이터 가져오기"
   ]
  },
  {
   "cell_type": "code",
   "execution_count": 48,
   "metadata": {
    "ExecuteTime": {
     "end_time": "2020-02-21T00:56:42.437976Z",
     "start_time": "2020-02-21T00:56:42.431993Z"
    }
   },
   "outputs": [
    {
     "name": "stdout",
     "output_type": "stream",
     "text": [
      "(5, 'kjkjkkjkjk', 0, 'lee')\n",
      "(8, 'hjhkjhj', 1, 'lee')\n",
      "(9, 'hjhjkhjh', 0, 'lee')\n",
      "(10, 'kjkjkjkjkjkjk', 0, 'lee')\n",
      "(11, 'kjkjkjkjkj', 0, 'lee')\n",
      "(12, '추가하자', 0, 'lee')\n",
      "(13, 'ㅏㅓㅏㅓㅣㅓㅏㅣㅓㅣㅏ', 0, 'lee')\n",
      "(14, 'ㅏㅓㅣㅏㅓㅏㅓㅏㅓㅣ', 0, 'lee')\n",
      "(15, 'ㅏㅓㅣㅓㅏㅓㅏㅓㅏㅓㅏ', 0, 'lee')\n"
     ]
    }
   ],
   "source": [
    "sql = '''\n",
    "select b.id, title, cnt, username\n",
    "from myboard_board b, auth_user u\n",
    "where b.author_id = u.id and username='lee'\n",
    "'''\n",
    "\n",
    "cursor = connection.cursor()\n",
    "cursor.execute(sql)\n",
    "results = cursor.fetchall()  \n",
    "\n",
    "for r in results:\n",
    "    print(r)"
   ]
  },
  {
   "cell_type": "markdown",
   "metadata": {
    "ExecuteTime": {
     "end_time": "2020-02-21T00:57:37.188384Z",
     "start_time": "2020-02-21T00:57:37.185394Z"
    }
   },
   "source": [
    "##  3.  특정 filed값을 갖고오기"
   ]
  },
  {
   "cell_type": "markdown",
   "metadata": {
    "ExecuteTime": {
     "end_time": "2020-02-21T00:58:12.373039Z",
     "start_time": "2020-02-21T00:58:12.368054Z"
    }
   },
   "source": [
    "- 컬럼명으로 접근할 수 없음...\n"
   ]
  },
  {
   "cell_type": "code",
   "execution_count": 52,
   "metadata": {
    "ExecuteTime": {
     "end_time": "2020-02-21T00:58:27.765775Z",
     "start_time": "2020-02-21T00:58:27.760789Z"
    }
   },
   "outputs": [
    {
     "name": "stdout",
     "output_type": "stream",
     "text": [
      "kjkjkkjkjk\n",
      "hjhkjhj\n",
      "hjhjkhjh\n",
      "kjkjkjkjkjkjk\n",
      "kjkjkjkjkj\n",
      "추가하자\n",
      "ㅏㅓㅏㅓㅣㅓㅏㅣㅓㅣㅏ\n",
      "ㅏㅓㅣㅏㅓㅏㅓㅏㅓㅣ\n",
      "ㅏㅓㅣㅓㅏㅓㅏㅓㅏㅓㅏ\n"
     ]
    }
   ],
   "source": [
    "for r in results:\n",
    "    print(r[1])"
   ]
  },
  {
   "cell_type": "markdown",
   "metadata": {
    "ExecuteTime": {
     "end_time": "2020-02-21T01:19:36.239986Z",
     "start_time": "2020-02-21T01:19:36.236945Z"
    }
   },
   "source": [
    "### 3.1. 파이썬으로 dict로 변환하기"
   ]
  },
  {
   "cell_type": "code",
   "execution_count": 56,
   "metadata": {
    "ExecuteTime": {
     "end_time": "2020-02-21T01:20:22.848956Z",
     "start_time": "2020-02-21T01:20:22.843970Z"
    }
   },
   "outputs": [
    {
     "data": {
      "text/plain": [
       "(('id', None, None, None, None, None, None),\n",
       " ('title', None, None, None, None, None, None),\n",
       " ('cnt', None, None, None, None, None, None),\n",
       " ('username', None, None, None, None, None, None))"
      ]
     },
     "execution_count": 56,
     "metadata": {},
     "output_type": "execute_result"
    }
   ],
   "source": [
    "# 각 걸럼에 대한 정보를 알 수 있음.(내가 요청한 데이터에 대해서)\n",
    "cursor.description"
   ]
  },
  {
   "cell_type": "code",
   "execution_count": 58,
   "metadata": {
    "ExecuteTime": {
     "end_time": "2020-02-21T01:26:04.934570Z",
     "start_time": "2020-02-21T01:26:04.930592Z"
    }
   },
   "outputs": [
    {
     "name": "stdout",
     "output_type": "stream",
     "text": [
      "{'id': 5, 'title': 'kjkjkkjkjk', 'cnt': 0, 'username': 'lee'}\n"
     ]
    }
   ],
   "source": [
    "d = dict(zip(['id', 'title', 'cnt', 'username'], results[0]))\n",
    "print(d)"
   ]
  },
  {
   "cell_type": "code",
   "execution_count": 60,
   "metadata": {
    "ExecuteTime": {
     "end_time": "2020-02-21T01:30:25.766399Z",
     "start_time": "2020-02-21T01:30:25.762410Z"
    }
   },
   "outputs": [],
   "source": [
    "def dectfetchall(cursor):\n",
    "    desc = cursor.description\n",
    "    return[\n",
    "        dict(zip([col[0] for col in desc], row))\n",
    "        for row in cursor.fetchall()\n",
    "    ]\n",
    "    "
   ]
  },
  {
   "cell_type": "code",
   "execution_count": 64,
   "metadata": {
    "ExecuteTime": {
     "end_time": "2020-02-21T01:50:53.735339Z",
     "start_time": "2020-02-21T01:50:53.731350Z"
    }
   },
   "outputs": [
    {
     "name": "stdout",
     "output_type": "stream",
     "text": [
      "[{'id': 5, 'title': 'kjkjkkjkjk', 'text': 'kkjkjkjkjkj', 'created_data': datetime.datetime(2020, 2, 19, 8, 22, 23, 468352), 'published_date': None, 'cnt': 0, 'image': None, 'category': 'data', 'author_id': 2}, {'id': 8, 'title': 'hjhkjhj', 'text': 'hjhkhhjkhkhj', 'created_data': datetime.datetime(2020, 2, 20, 1, 28, 34, 298647), 'published_date': None, 'cnt': 1, 'image': None, 'category': 'common', 'author_id': 2}, {'id': 9, 'title': 'hjhjkhjh', 'text': 'jhkhjhjhjkhjkh', 'created_data': datetime.datetime(2020, 2, 20, 1, 28, 48, 697712), 'published_date': None, 'cnt': 0, 'image': None, 'category': 'etc', 'author_id': 2}, {'id': 10, 'title': 'kjkjkjkjkjkjk', 'text': 'kjkjkjkjkjkjkjk', 'created_data': datetime.datetime(2020, 2, 20, 1, 29, 1, 882260), 'published_date': None, 'cnt': 0, 'image': None, 'category': 'data', 'author_id': 2}, {'id': 11, 'title': 'kjkjkjkjkj', 'text': 'jkjkjkjkjkjkjk', 'created_data': datetime.datetime(2020, 2, 20, 1, 36, 51, 908939), 'published_date': None, 'cnt': 0, 'image': None, 'category': 'common', 'author_id': 2}, {'id': 12, 'title': '추가하자', 'text': '너라넝라ㅓㄴㅇ러나이ㅓ', 'created_data': datetime.datetime(2020, 2, 20, 7, 44, 3, 880978), 'published_date': None, 'cnt': 0, 'image': None, 'category': 'common', 'author_id': 2}, {'id': 13, 'title': 'ㅏㅓㅏㅓㅣㅓㅏㅣㅓㅣㅏ', 'text': 'ㅓㅣㅏㅓㅏㅣㅓㅣㅓㅏㅓㅏㅣ', 'created_data': datetime.datetime(2020, 2, 20, 7, 44, 15, 712812), 'published_date': None, 'cnt': 0, 'image': None, 'category': 'common', 'author_id': 2}, {'id': 14, 'title': 'ㅏㅓㅣㅏㅓㅏㅓㅏㅓㅣ', 'text': 'ㅏㅓㅏㅓㅣㅏㅓㅏㅣㅓㅏㅣㅓㅣㅓㅣ', 'created_data': datetime.datetime(2020, 2, 20, 7, 44, 21, 839611), 'published_date': None, 'cnt': 0, 'image': None, 'category': 'common', 'author_id': 2}, {'id': 15, 'title': 'ㅏㅓㅣㅓㅏㅓㅏㅓㅏㅓㅏ', 'text': 'ㅏㅓㅏㅣㅓㅏㅣㅓㅏㅣㅓㅏㅣㅓㅏㅣ', 'created_data': datetime.datetime(2020, 2, 20, 7, 44, 36, 63932), 'published_date': None, 'cnt': 0, 'image': None, 'category': 'common', 'author_id': 2}]\n"
     ]
    }
   ],
   "source": [
    "cursor = connection.cursor()\n",
    "cursor.execute('SELECT * from myboard_board')\n",
    "d = dectfetchall(cursor)\n",
    "print(d)\n"
   ]
  },
  {
   "cell_type": "markdown",
   "metadata": {
    "ExecuteTime": {
     "end_time": "2020-02-21T01:51:18.287578Z",
     "start_time": "2020-02-21T01:51:18.277272Z"
    }
   },
   "source": [
    "## 4. web에서 바로 하지 말고...여기서 연습하기"
   ]
  },
  {
   "cell_type": "code",
   "execution_count": null,
   "metadata": {
    "ExecuteTime": {
     "end_time": "2020-02-21T02:05:24.216956Z",
     "start_time": "2020-02-21T02:05:24.212982Z"
    }
   },
   "outputs": [],
   "source": [
    "from django.test import RequestFactory\n",
    "rf= RequestFactory()"
   ]
  },
  {
   "cell_type": "code",
   "execution_count": 100,
   "metadata": {
    "ExecuteTime": {
     "end_time": "2020-02-21T02:16:44.033940Z",
     "start_time": "2020-02-21T02:16:44.027815Z"
    }
   },
   "outputs": [
    {
     "name": "stdout",
     "output_type": "stream",
     "text": [
      "lee\n"
     ]
    }
   ],
   "source": [
    "# username = request.session.get('username', '')\n",
    "username = 'lee'\n",
    "user = User.objects.all().get(username=username )\n",
    "print(user)"
   ]
  },
  {
   "cell_type": "code",
   "execution_count": 104,
   "metadata": {
    "ExecuteTime": {
     "end_time": "2020-02-21T02:18:09.026418Z",
     "start_time": "2020-02-21T02:18:09.019402Z"
    }
   },
   "outputs": [
    {
     "data": {
      "text/plain": [
       "<QuerySet [<Board: hjhkjhj>, <Board: kjkjkjkjkj>, <Board: 추가하자>, <Board: ㅏㅓㅏㅓㅣㅓㅏㅣㅓㅣㅏ>, <Board: ㅏㅓㅣㅏㅓㅏㅓㅏㅓㅣ>, <Board: ㅏㅓㅣㅓㅏㅓㅏㅓㅏㅓㅏ>]>"
      ]
     },
     "execution_count": 104,
     "metadata": {},
     "output_type": "execute_result"
    }
   ],
   "source": [
    "context = models.Board.objects.all().filter(author = user,\n",
    "                                  category = category)\n",
    "context"
   ]
  },
  {
   "cell_type": "code",
   "execution_count": 132,
   "metadata": {
    "ExecuteTime": {
     "end_time": "2020-02-21T02:55:35.522110Z",
     "start_time": "2020-02-21T02:55:35.517065Z"
    }
   },
   "outputs": [],
   "source": [
    "def listsql(request, category, page):\n",
    "    page = request.GET.get('page', 1)\n",
    "    category = request.GET.get('category', 'common')\n",
    "    # username = request.session.get('username', '')\n",
    "    username = 'lee'\n",
    "    user = User.objects.all().get(username=username )\n",
    "    datas = models.Board.objects.all().filter(author = user,\n",
    "                                                  category = category)\n",
    "    page = int(page)\n",
    "    subs = datas[(page-1)*3: (page*3)]\n",
    "    print('subs:',subs)\n",
    "    datas = {'datas': [{'username': data.author, 'title': data.title, 'cnt': data.cnt} for data in subs]}\n",
    "\n",
    "#     return render(request, apps.APP + '/listsql.html', context)\n",
    "    return print(datas)"
   ]
  },
  {
   "cell_type": "code",
   "execution_count": 133,
   "metadata": {
    "ExecuteTime": {
     "end_time": "2020-02-21T02:55:36.162061Z",
     "start_time": "2020-02-21T02:55:36.157075Z"
    }
   },
   "outputs": [],
   "source": [
    "url = '/?category=common&page=2'\n",
    "request = rf.get(url)"
   ]
  },
  {
   "cell_type": "code",
   "execution_count": 134,
   "metadata": {
    "ExecuteTime": {
     "end_time": "2020-02-21T02:55:36.600850Z",
     "start_time": "2020-02-21T02:55:36.597860Z"
    }
   },
   "outputs": [
    {
     "name": "stdout",
     "output_type": "stream",
     "text": [
      "2\n",
      "common\n"
     ]
    }
   ],
   "source": [
    "page = request.GET.get('page', 1)\n",
    "print(page)\n",
    "category = request.GET.get('category', 'common')\n",
    "print(category)\n"
   ]
  },
  {
   "cell_type": "code",
   "execution_count": 135,
   "metadata": {
    "ExecuteTime": {
     "end_time": "2020-02-21T02:55:37.024132Z",
     "start_time": "2020-02-21T02:55:37.014159Z"
    }
   },
   "outputs": [
    {
     "name": "stdout",
     "output_type": "stream",
     "text": [
      "subs: <QuerySet [<Board: ㅏㅓㅏㅓㅣㅓㅏㅣㅓㅣㅏ>, <Board: ㅏㅓㅣㅏㅓㅏㅓㅏㅓㅣ>, <Board: ㅏㅓㅣㅓㅏㅓㅏㅓㅏㅓㅏ>]>\n",
      "{'datas': [{'username': <User: lee>, 'title': 'ㅏㅓㅏㅓㅣㅓㅏㅣㅓㅣㅏ', 'cnt': 0}, {'username': <User: lee>, 'title': 'ㅏㅓㅣㅏㅓㅏㅓㅏㅓㅣ', 'cnt': 0}, {'username': <User: lee>, 'title': 'ㅏㅓㅣㅓㅏㅓㅏㅓㅏㅓㅏ', 'cnt': 0}]}\n"
     ]
    }
   ],
   "source": [
    "listsql(request, category, page)"
   ]
  },
  {
   "cell_type": "markdown",
   "metadata": {},
   "source": [
    "## 5. connection사용하기 "
   ]
  },
  {
   "cell_type": "code",
   "execution_count": 180,
   "metadata": {
    "ExecuteTime": {
     "end_time": "2020-02-21T04:29:21.510980Z",
     "start_time": "2020-02-21T04:29:21.505995Z"
    }
   },
   "outputs": [
    {
     "data": {
      "text/plain": [
       "<django.db.backends.sqlite3.base.SQLiteCursorWrapper at 0x22c718e7a68>"
      ]
     },
     "execution_count": 180,
     "metadata": {},
     "output_type": "execute_result"
    }
   ],
   "source": [
    "sql = '''\n",
    "select b.id, title, cnt, username\n",
    "from myboard_board b, auth_user u\n",
    "where b.author_id = u.id and username='lee' and category='common'\n",
    "'''\n",
    "\n",
    "cursor = connection.cursor()\n",
    "cursor.execute(sql)\n"
   ]
  },
  {
   "cell_type": "code",
   "execution_count": 181,
   "metadata": {
    "ExecuteTime": {
     "end_time": "2020-02-21T04:29:21.935102Z",
     "start_time": "2020-02-21T04:29:21.930160Z"
    }
   },
   "outputs": [
    {
     "data": {
      "text/plain": [
       "(('id', None, None, None, None, None, None),\n",
       " ('title', None, None, None, None, None, None),\n",
       " ('cnt', None, None, None, None, None, None),\n",
       " ('username', None, None, None, None, None, None))"
      ]
     },
     "execution_count": 181,
     "metadata": {},
     "output_type": "execute_result"
    }
   ],
   "source": [
    "desc = cursor.description\n",
    "desc"
   ]
  },
  {
   "cell_type": "code",
   "execution_count": 182,
   "metadata": {
    "ExecuteTime": {
     "end_time": "2020-02-21T04:29:22.356905Z",
     "start_time": "2020-02-21T04:29:22.353875Z"
    }
   },
   "outputs": [],
   "source": [
    "def dictfetchall(cursor):\n",
    "    desc = cursor.description\n",
    "    return[\n",
    "        dict(zip([col[0] for col in desc], row))\n",
    "        for row in cursor.fetchall()\n",
    "    ]"
   ]
  },
  {
   "cell_type": "code",
   "execution_count": 183,
   "metadata": {
    "ExecuteTime": {
     "end_time": "2020-02-21T04:29:22.806369Z",
     "start_time": "2020-02-21T04:29:22.801383Z"
    }
   },
   "outputs": [
    {
     "name": "stdout",
     "output_type": "stream",
     "text": [
      "[{'id': 8, 'title': 'hjhkjhj', 'cnt': 1, 'username': 'lee'}, {'id': 11, 'title': 'kjkjkjkjkj', 'cnt': 0, 'username': 'lee'}, {'id': 12, 'title': '추가하자', 'cnt': 0, 'username': 'lee'}, {'id': 13, 'title': 'ㅏㅓㅏㅓㅣㅓㅏㅣㅓㅣㅏ', 'cnt': 0, 'username': 'lee'}, {'id': 14, 'title': 'ㅏㅓㅣㅏㅓㅏㅓㅏㅓㅣ', 'cnt': 0, 'username': 'lee'}, {'id': 15, 'title': 'ㅏㅓㅣㅓㅏㅓㅏㅓㅏㅓㅏ', 'cnt': 0, 'username': 'lee'}]\n"
     ]
    }
   ],
   "source": [
    "d = dictfetchall(cursor)\n",
    "print(d)"
   ]
  },
  {
   "cell_type": "code",
   "execution_count": 184,
   "metadata": {
    "ExecuteTime": {
     "end_time": "2020-02-21T04:29:23.272321Z",
     "start_time": "2020-02-21T04:29:23.266183Z"
    }
   },
   "outputs": [],
   "source": [
    "def listsql(request, category, page):\n",
    "    page = request.GET.get('page', 1)\n",
    "    category = request.GET.get('category', 'common')\n",
    "    # username = request.session.get('username', '')\n",
    "    username = 'lee'\n",
    "    user = User.objects.all().get(username=username )\n",
    "    datas = models.Board.objects.all().filter(author = user,\n",
    "                                                  category = category)\n",
    "    page = int(page)\n",
    "    subs = datas[(page-1)*3: (page*3)]\n",
    "    print('subs:',subs)\n",
    "    datas = {'datas': [{'username': data.author, 'title': data.title, 'cnt': data.cnt} for data in subs]}\n",
    "\n",
    "#     return render(request, apps.APP + '/listsql.html', context)\n",
    "    return print(datas)"
   ]
  },
  {
   "cell_type": "code",
   "execution_count": 193,
   "metadata": {
    "ExecuteTime": {
     "end_time": "2020-02-21T04:32:00.769078Z",
     "start_time": "2020-02-21T04:32:00.763095Z"
    }
   },
   "outputs": [],
   "source": [
    "def listsql(request, category, page):\n",
    "    page = request.GET.get('page', 1)\n",
    "    category = request.GET.get('category', 'common')\n",
    "    username = 'lee'\n",
    "    user = User.objects.all().get(username=username )\n",
    "    \n",
    "    sql = f\"\"\"\n",
    "        select b.id, title, cnt,username,category \n",
    "       from myboard_board b, auth_user u \n",
    "       where b.author_id = u.id and username = '{username}' and category = '{category}'\n",
    "       \"\"\"\n",
    "    \n",
    "\n",
    "    cursor = connection.cursor()\n",
    "    cursor.execute(sql)\n",
    "    datas = dictfetchall(cursor)\n",
    "\n",
    "    page = int(page)\n",
    "    subs = datas[(page-1)*3: (page*3)]\n",
    "    datas = {'datas': subs}\n",
    "\n",
    "    return  render(request,  'myboard/listsql.html', datas) \n"
   ]
  },
  {
   "cell_type": "code",
   "execution_count": 199,
   "metadata": {
    "ExecuteTime": {
     "end_time": "2020-02-21T04:32:34.905113Z",
     "start_time": "2020-02-21T04:32:34.898132Z"
    }
   },
   "outputs": [
    {
     "data": {
      "text/plain": [
       "<HttpResponse status_code=200, \"text/html; charset=utf-8\">"
      ]
     },
     "execution_count": 199,
     "metadata": {},
     "output_type": "execute_result"
    }
   ],
   "source": [
    "listsql(request, category, page)"
   ]
  },
  {
   "cell_type": "code",
   "execution_count": 198,
   "metadata": {
    "ExecuteTime": {
     "end_time": "2020-02-21T04:32:30.142981Z",
     "start_time": "2020-02-21T04:32:30.136954Z"
    }
   },
   "outputs": [
    {
     "name": "stdout",
     "output_type": "stream",
     "text": [
      "\n",
      "\n",
      "\n",
      "    \n",
      "\n",
      "\n"
     ]
    }
   ],
   "source": [
    "from myboard import views\n",
    "response =listsql(request, 'common', 1)\n",
    "print(response.content.decode())"
   ]
  },
  {
   "cell_type": "code",
   "execution_count": null,
   "metadata": {},
   "outputs": [],
   "source": []
  }
 ],
 "metadata": {
  "kernelspec": {
   "display_name": "Django Shell-Plus",
   "language": "python",
   "name": "django_extensions"
  },
  "language_info": {
   "codemirror_mode": {
    "name": "ipython",
    "version": 3
   },
   "file_extension": ".py",
   "mimetype": "text/x-python",
   "name": "python",
   "nbconvert_exporter": "python",
   "pygments_lexer": "ipython3",
   "version": "3.6.10"
  },
  "toc": {
   "base_numbering": 1,
   "nav_menu": {},
   "number_sections": false,
   "sideBar": true,
   "skip_h1_title": false,
   "title_cell": "Table of Contents",
   "title_sidebar": "Contents",
   "toc_cell": false,
   "toc_position": {
    "height": "calc(100% - 180px)",
    "left": "10px",
    "top": "150px",
    "width": "174.172px"
   },
   "toc_section_display": true,
   "toc_window_display": true
  },
  "varInspector": {
   "cols": {
    "lenName": 16,
    "lenType": 16,
    "lenVar": 40
   },
   "kernels_config": {
    "python": {
     "delete_cmd_postfix": "",
     "delete_cmd_prefix": "del ",
     "library": "var_list.py",
     "varRefreshCmd": "print(var_dic_list())"
    },
    "r": {
     "delete_cmd_postfix": ") ",
     "delete_cmd_prefix": "rm(",
     "library": "var_list.r",
     "varRefreshCmd": "cat(var_dic_list()) "
    }
   },
   "types_to_exclude": [
    "module",
    "function",
    "builtin_function_or_method",
    "instance",
    "_Feature"
   ],
   "window_display": false
  }
 },
 "nbformat": 4,
 "nbformat_minor": 4
}
