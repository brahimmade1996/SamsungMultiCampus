{
 "cells": [
  {
   "cell_type": "markdown",
   "metadata": {},
   "source": [
    "# 1. user별 사진을 보관할 수있는 dB 만들기\n",
    "\n",
    "## 1.1 models.py 사용하지 않고 table만들기"
   ]
  },
  {
   "cell_type": "markdown",
   "metadata": {
    "ExecuteTime": {
     "end_time": "2020-02-21T04:41:16.887465Z",
     "start_time": "2020-02-21T04:41:16.883475Z"
    }
   },
   "source": [
    "\n",
    "> 필요한 필드\n",
    "- 고유번호\n",
    "- 유저명\n",
    "- 이미지 경로명:이미지만 들어가는것이 좋음"
   ]
  },
  {
   "cell_type": "markdown",
   "metadata": {},
   "source": [
    "### 1.1.1sqlite browser에서 table 만들기"
   ]
  },
  {
   "cell_type": "code",
   "execution_count": 1,
   "metadata": {
    "ExecuteTime": {
     "end_time": "2020-02-21T07:09:02.038780Z",
     "start_time": "2020-02-21T07:09:02.030801Z"
    }
   },
   "outputs": [
    {
     "data": {
      "text/plain": [
       "'\\nCREATE TABLE myboard_image\\n(\\nid INTEGER PRIMARY KEY AUTOINCREMENT,\\nauthor_id INTEGER NOT NULL,\\nfilename VARCHAR(500) NOT NULL,\\nFOREIGN KEY(author_id) REFERENCES auth_user(id)\\n)\\n\\n'"
      ]
     },
     "execution_count": 1,
     "metadata": {},
     "output_type": "execute_result"
    }
   ],
   "source": [
    "'''\n",
    "CREATE TABLE myboard_image\n",
    "(\n",
    "id INTEGER PRIMARY KEY AUTOINCREMENT,\n",
    "author_id INTEGER NOT NULL,\n",
    "filename VARCHAR(500) NOT NULL,\n",
    "FOREIGN KEY(author_id) REFERENCES auth_user(id)\n",
    ")\n",
    "\n",
    "'''"
   ]
  },
  {
   "cell_type": "markdown",
   "metadata": {},
   "source": [
    "#### 1.1.2 models.py에서는"
   ]
  },
  {
   "cell_type": "code",
   "execution_count": 2,
   "metadata": {
    "ExecuteTime": {
     "end_time": "2020-02-21T07:09:02.106656Z",
     "start_time": "2020-02-21T07:09:02.046759Z"
    }
   },
   "outputs": [
    {
     "ename": "NameError",
     "evalue": "name 'models' is not defined",
     "output_type": "error",
     "traceback": [
      "\u001b[1;31m---------------------------------------------------------------------------\u001b[0m",
      "\u001b[1;31mNameError\u001b[0m                                 Traceback (most recent call last)",
      "\u001b[1;32m<ipython-input-2-e15ff2cc57de>\u001b[0m in \u001b[0;36m<module>\u001b[1;34m\u001b[0m\n\u001b[1;32m----> 1\u001b[1;33m \u001b[1;32mclass\u001b[0m \u001b[0mImage\u001b[0m\u001b[1;33m(\u001b[0m\u001b[0mmodels\u001b[0m\u001b[1;33m.\u001b[0m\u001b[0mModel\u001b[0m\u001b[1;33m)\u001b[0m\u001b[1;33m:\u001b[0m\u001b[1;33m\u001b[0m\u001b[1;33m\u001b[0m\u001b[0m\n\u001b[0m\u001b[0;32m      2\u001b[0m     \u001b[0mauthor\u001b[0m \u001b[1;33m=\u001b[0m \u001b[0mmodels\u001b[0m\u001b[1;33m.\u001b[0m\u001b[0mForeignKey\u001b[0m\u001b[1;33m(\u001b[0m\u001b[1;34m'auth.User'\u001b[0m\u001b[1;33m,\u001b[0m \u001b[0mon_delete\u001b[0m \u001b[1;33m=\u001b[0m \u001b[0mmodels\u001b[0m\u001b[1;33m.\u001b[0m\u001b[0mCASCADE\u001b[0m\u001b[1;33m)\u001b[0m\u001b[1;33m\u001b[0m\u001b[1;33m\u001b[0m\u001b[0m\n\u001b[0;32m      3\u001b[0m     \u001b[0mfilename\u001b[0m \u001b[1;33m=\u001b[0m \u001b[0mmodels\u001b[0m\u001b[1;33m.\u001b[0m\u001b[0mCharField\u001b[0m\u001b[1;33m(\u001b[0m\u001b[0mmax_length\u001b[0m \u001b[1;33m=\u001b[0m \u001b[1;36m50\u001b[0m\u001b[1;33m)\u001b[0m\u001b[1;33m\u001b[0m\u001b[1;33m\u001b[0m\u001b[0m\n",
      "\u001b[1;31mNameError\u001b[0m: name 'models' is not defined"
     ]
    }
   ],
   "source": [
    "class Image(models.Model):\n",
    "    author = models.ForeignKey('auth.User', on_delete = models.CASCADE)\n",
    "    filename = models.CharField(max_length = 50)"
   ]
  },
  {
   "cell_type": "markdown",
   "metadata": {},
   "source": [
    "### rock이 걸린 경우\n",
    "- sqlite: 서버 시스템이 아님.\n",
    "- 하나의 파일개념\n",
    "- 사용하면 다른데서는 실행이 안됨.\n",
    "- cursor로 하며 됨"
   ]
  },
  {
   "cell_type": "markdown",
   "metadata": {},
   "source": [
    "#### 1.1.2 connection이용하면"
   ]
  },
  {
   "cell_type": "code",
   "execution_count": null,
   "metadata": {
    "ExecuteTime": {
     "end_time": "2020-02-21T07:09:02.107595Z",
     "start_time": "2020-02-21T07:09:02.079Z"
    }
   },
   "outputs": [],
   "source": [
    "sql = '''\n",
    "CREATE TABLE myboard_image\n",
    "(\n",
    "id INTEGER PRIMARY KEY AUTOINCREMENT,\n",
    "author_id INTEGER NOT NULL,\n",
    "filename VARCHAR(500) NOT NULL,\n",
    "FOREIGN KEY(author_id) REFERENCES auth_user(id)\n",
    ")\n",
    "\n",
    "'''\n",
    "\n",
    "cursor = connection.cursor()\n",
    "cursor.execute(sql)\n",
    "\n"
   ]
  },
  {
   "cell_type": "markdown",
   "metadata": {},
   "source": [
    "## 1.2 data insert"
   ]
  },
  {
   "cell_type": "markdown",
   "metadata": {},
   "source": [
    "> sqlite brower에서\n",
    "데이터 보기->새 레코드 추가가능"
   ]
  },
  {
   "cell_type": "code",
   "execution_count": 3,
   "metadata": {
    "ExecuteTime": {
     "end_time": "2020-02-21T07:09:02.420315Z",
     "start_time": "2020-02-21T07:09:02.196490Z"
    }
   },
   "outputs": [],
   "source": [
    "from django.contrib.auth.models import User\n",
    "from myboard import models\n",
    "from django.db import connection  # db를 연계할 수 있음.\n",
    "from django.shortcuts import render\n",
    "from django.test import RequestFactory\n"
   ]
  },
  {
   "cell_type": "markdown",
   "metadata": {
    "ExecuteTime": {
     "end_time": "2020-02-21T04:50:04.765857Z",
     "start_time": "2020-02-21T04:50:04.762862Z"
    }
   },
   "source": [
    "#### 실제로 데이터를 넣을 때는 username으로 찾아서, 저장해야 함.\n"
   ]
  },
  {
   "cell_type": "code",
   "execution_count": 4,
   "metadata": {
    "ExecuteTime": {
     "end_time": "2020-02-21T07:09:02.426392Z",
     "start_time": "2020-02-21T07:09:02.421310Z"
    }
   },
   "outputs": [
    {
     "data": {
      "text/plain": [
       "2"
      ]
     },
     "execution_count": 4,
     "metadata": {},
     "output_type": "execute_result"
    }
   ],
   "source": [
    "# user의 id를 찾아서 author id와 file name을 넣어야 함.\n",
    "username = 'lee'\n",
    "sql = f\"select id from auth_user where username = '{username}'\"\n",
    "\n",
    "cursor = connection.cursor()\n",
    "cursor.execute(sql)\n",
    "author_id = cursor.fetchone()[0]\n",
    "author_id"
   ]
  },
  {
   "cell_type": "code",
   "execution_count": 5,
   "metadata": {
    "ExecuteTime": {
     "end_time": "2020-02-21T07:09:02.431284Z",
     "start_time": "2020-02-21T07:09:02.427294Z"
    }
   },
   "outputs": [
    {
     "name": "stdout",
     "output_type": "stream",
     "text": [
      "\n",
      "INSERT INTO myboard_image\n",
      "(author_id, filename)\n",
      "VALUES (2, 'face2.png');\n",
      "\n"
     ]
    }
   ],
   "source": [
    "filename = 'face2.png'\n",
    "\n",
    "sql = f\"\"\"\n",
    "INSERT INTO myboard_image\n",
    "(author_id, filename)\n",
    "VALUES ({author_id}, '{filename}');\n",
    "\"\"\"\n",
    "\n",
    "print(sql)"
   ]
  },
  {
   "cell_type": "code",
   "execution_count": 6,
   "metadata": {
    "ExecuteTime": {
     "end_time": "2020-02-21T07:09:02.443324Z",
     "start_time": "2020-02-21T07:09:02.432281Z"
    }
   },
   "outputs": [],
   "source": [
    "v = cursor.execute(sql)"
   ]
  },
  {
   "cell_type": "markdown",
   "metadata": {},
   "source": [
    "# 2. html page 만들기"
   ]
  },
  {
   "cell_type": "code",
   "execution_count": 7,
   "metadata": {
    "ExecuteTime": {
     "end_time": "2020-02-21T07:09:02.447244Z",
     "start_time": "2020-02-21T07:09:02.444250Z"
    }
   },
   "outputs": [
    {
     "name": "stdout",
     "output_type": "stream",
     "text": [
      "\n",
      "select filename\n",
      "from myboard_image\n",
      "where author_id = (select id from auth_user where username = 'lee')\n",
      "\n",
      "\n"
     ]
    }
   ],
   "source": [
    "sql = f'''\n",
    "select filename\n",
    "from myboard_image\n",
    "where author_id = (select id from auth_user where username = '{username}')\n",
    "\n",
    "'''\n",
    "print(sql)"
   ]
  },
  {
   "cell_type": "code",
   "execution_count": 8,
   "metadata": {
    "ExecuteTime": {
     "end_time": "2020-02-21T07:09:02.453315Z",
     "start_time": "2020-02-21T07:09:02.448239Z"
    }
   },
   "outputs": [],
   "source": [
    "def dectfetchall(cursor):\n",
    "    desc = cursor.description\n",
    "    return[\n",
    "        dict(zip([col[0] for col in desc], row))\n",
    "        for row in cursor.fetchall()\n",
    "    ]\n",
    "    "
   ]
  },
  {
   "cell_type": "code",
   "execution_count": 9,
   "metadata": {
    "ExecuteTime": {
     "end_time": "2020-02-21T07:09:02.460223Z",
     "start_time": "2020-02-21T07:09:02.454222Z"
    }
   },
   "outputs": [
    {
     "name": "stdout",
     "output_type": "stream",
     "text": [
      "{'data': [{'filename': 'face1.png'}, {'filename': 'face2.png'}, {'filename': 'face4.png'}, {'filename': 'face3.png'}, {'filename': 'face5.png'}, {'filename': 'wood.jpg'}, {'filename': 'face2.png'}], 'username': 'lee'}\n"
     ]
    }
   ],
   "source": [
    "cursor = connection.cursor()\n",
    "cursor.execute(sql)\n",
    "\n",
    "data = dectfetchall(cursor)\n",
    "context = {'data': data, 'username' : username}\n",
    "\n",
    "print(context)"
   ]
  },
  {
   "cell_type": "code",
   "execution_count": 10,
   "metadata": {
    "ExecuteTime": {
     "end_time": "2020-02-21T07:09:02.465233Z",
     "start_time": "2020-02-21T07:09:02.461204Z"
    }
   },
   "outputs": [],
   "source": [
    "rf= RequestFactory()\n",
    "url = '/upload'\n",
    "request = rf.get(url)"
   ]
  },
  {
   "cell_type": "code",
   "execution_count": 11,
   "metadata": {
    "ExecuteTime": {
     "end_time": "2020-02-21T07:09:02.490199Z",
     "start_time": "2020-02-21T07:09:02.466190Z"
    },
    "scrolled": true
   },
   "outputs": [],
   "source": [
    "response = render(request, 'myboard/photolist.html', context)"
   ]
  },
  {
   "cell_type": "code",
   "execution_count": 12,
   "metadata": {
    "ExecuteTime": {
     "end_time": "2020-02-21T07:09:02.494159Z",
     "start_time": "2020-02-21T07:09:02.491124Z"
    }
   },
   "outputs": [
    {
     "data": {
      "text/plain": [
       "'\\n\\nlee   <br>\\n    \\n<!--  name이 있는 것만 서버로 전송됨 -->\\n<form action=\"/upload\" enctype=\"multipart/form-data\" method=\"POST\">\\n    <input type=\\'hidden\\' name=\\'csrfmiddlewaretoken\\' value=\\'13BAmu3Wfi359Z8DM6EM4awxUdqlYobD8bknNTcq3Uw3XkRXI4ULD4qPFLmk1yWw\\' />\\n    <!--  바이너리 형태로 파일 전송 -->\\n        <input type=\"file\" name=\"filename\">\\n        <input type=\"submit\" value=\"사진 전송\">\\n        <input type =\\'hidden\\' value = \\'lee\\' name=\\'username\\'>\\n</form>\\n\\n\\n\\n\\n\\n    <img src=\"/static/face/lee/face1.png\" width = \\'100\\'>\\n    \\n\\n\\n    <img src=\"/static/face/lee/face2.png\" width = \\'100\\'>\\n    \\n\\n\\n    <img src=\"/static/face/lee/face4.png\" width = \\'100\\'>\\n    \\n\\n\\n    <img src=\"/static/face/lee/face3.png\" width = \\'100\\'>\\n    \\n\\n\\n    <img src=\"/static/face/lee/face5.png\" width = \\'100\\'>\\n    \\n\\n\\n    <img src=\"/static/face/lee/wood.jpg\" width = \\'100\\'>\\n    \\n\\n\\n    <img src=\"/static/face/lee/face2.png\" width = \\'100\\'>\\n    \\n\\n'"
      ]
     },
     "execution_count": 12,
     "metadata": {},
     "output_type": "execute_result"
    }
   ],
   "source": [
    "response.content.decode()"
   ]
  },
  {
   "cell_type": "code",
   "execution_count": 13,
   "metadata": {
    "ExecuteTime": {
     "end_time": "2020-02-21T07:09:02.504090Z",
     "start_time": "2020-02-21T07:09:02.496112Z"
    }
   },
   "outputs": [
    {
     "data": {
      "text/plain": [
       "<HttpResponse status_code=200, \"text/html; charset=utf-8\">"
      ]
     },
     "execution_count": 13,
     "metadata": {},
     "output_type": "execute_result"
    }
   ],
   "source": [
    "\n",
    "\n",
    "\n",
    "sql = f'''\n",
    "select filename\n",
    "from myboard_image\n",
    "where author_id = (select id from auth_user where username = '{username}')\n",
    "'''\n",
    "\n",
    "cursor = connection.cursor()\n",
    "cursor.execute(sql)\n",
    "\n",
    "data = dectfetchall(cursor)\n",
    "context = {'data': data, 'username' : username}\n",
    "\n",
    "render(request, 'myboard/photolist.html', context)"
   ]
  },
  {
   "cell_type": "code",
   "execution_count": 14,
   "metadata": {
    "ExecuteTime": {
     "end_time": "2020-02-21T07:09:02.510079Z",
     "start_time": "2020-02-21T07:09:02.506084Z"
    },
    "scrolled": true
   },
   "outputs": [
    {
     "name": "stdout",
     "output_type": "stream",
     "text": [
      "\n",
      "\n",
      "lee   <br>\n",
      "    \n",
      "<!--  name이 있는 것만 서버로 전송됨 -->\n",
      "<form action=\"/upload\" enctype=\"multipart/form-data\" method=\"POST\">\n",
      "    <input type='hidden' name='csrfmiddlewaretoken' value='13BAmu3Wfi359Z8DM6EM4awxUdqlYobD8bknNTcq3Uw3XkRXI4ULD4qPFLmk1yWw' />\n",
      "    <!--  바이너리 형태로 파일 전송 -->\n",
      "        <input type=\"file\" name=\"filename\">\n",
      "        <input type=\"submit\" value=\"사진 전송\">\n",
      "        <input type ='hidden' value = 'lee' name='username'>\n",
      "</form>\n",
      "\n",
      "\n",
      "\n",
      "\n",
      "\n",
      "    <img src=\"/static/face/lee/face1.png\" width = '100'>\n",
      "    \n",
      "\n",
      "\n",
      "    <img src=\"/static/face/lee/face2.png\" width = '100'>\n",
      "    \n",
      "\n",
      "\n",
      "    <img src=\"/static/face/lee/face4.png\" width = '100'>\n",
      "    \n",
      "\n",
      "\n",
      "    <img src=\"/static/face/lee/face3.png\" width = '100'>\n",
      "    \n",
      "\n",
      "\n",
      "    <img src=\"/static/face/lee/face5.png\" width = '100'>\n",
      "    \n",
      "\n",
      "\n",
      "    <img src=\"/static/face/lee/wood.jpg\" width = '100'>\n",
      "    \n",
      "\n",
      "\n",
      "    <img src=\"/static/face/lee/face2.png\" width = '100'>\n",
      "    \n",
      "\n",
      "\n"
     ]
    }
   ],
   "source": [
    "print(response.content.decode())"
   ]
  },
  {
   "cell_type": "code",
   "execution_count": 15,
   "metadata": {
    "ExecuteTime": {
     "end_time": "2020-02-21T07:09:02.516091Z",
     "start_time": "2020-02-21T07:09:02.511072Z"
    }
   },
   "outputs": [
    {
     "data": {
      "text/plain": [
       "'\\n{{username}}   <br>\\n    \\n\\n<form action=\"/upload\" enctype=\"multipart/form-data\" method=\"POST\">\\n    {% csrf_token %}\\n        <input type=\"file\" name=\"filename\">\\n        <input type=\"submit\" value=\"사진 전송\">\\n        <input type =\\'hidden\\' value = \\'{{username}}\\' name=\\'username\\'>\\n</form>\\n\\n\\n\\n{% for d in data %}\\n\\n    <img src=\"/static/face/{{username}}/{{d.filename}}\" width = \\'100\\'>\\n    \\n{% endfor %}\\n\\n\\n'"
      ]
     },
     "execution_count": 15,
     "metadata": {},
     "output_type": "execute_result"
    }
   ],
   "source": [
    "# photolist.html\n",
    "'''\n",
    "{{username}}   <br>\n",
    "    \n",
    "\n",
    "<form action=\"/upload\" enctype=\"multipart/form-data\" method=\"POST\">\n",
    "    {% csrf_token %}\n",
    "        <input type=\"file\" name=\"filename\">\n",
    "        <input type=\"submit\" value=\"사진 전송\">\n",
    "        <input type ='hidden' value = '{{username}}' name='username'>\n",
    "</form>\n",
    "\n",
    "\n",
    "\n",
    "{% for d in data %}\n",
    "\n",
    "    <img src=\"/static/face/{{username}}/{{d.filename}}\" width = '100'>\n",
    "    \n",
    "{% endfor %}\n",
    "\n",
    "\n",
    "'''"
   ]
  },
  {
   "cell_type": "code",
   "execution_count": 16,
   "metadata": {
    "ExecuteTime": {
     "end_time": "2020-02-21T07:09:02.522041Z",
     "start_time": "2020-02-21T07:09:02.517055Z"
    }
   },
   "outputs": [
    {
     "ename": "IndentationError",
     "evalue": "unexpected indent (<ipython-input-16-149f880160e5>, line 13)",
     "output_type": "error",
     "traceback": [
      "\u001b[1;36m  File \u001b[1;32m\"<ipython-input-16-149f880160e5>\"\u001b[1;36m, line \u001b[1;32m13\u001b[0m\n\u001b[1;33m    select filename\u001b[0m\n\u001b[1;37m    ^\u001b[0m\n\u001b[1;31mIndentationError\u001b[0m\u001b[1;31m:\u001b[0m unexpected indent\n"
     ]
    }
   ],
   "source": [
    "# views.py\n",
    "'''\n",
    "\n",
    "def photolist(request):\n",
    "    username = 'lee'\n",
    "    sql = f\"select id from auth_user where username = '{username}'\"\n",
    "\n",
    "    cursor = connection.cursor()\n",
    "    cursor.execute(sql)\n",
    "    author_id = cursor.fetchone()[0] \n",
    "\n",
    "    sql = f'''\n",
    "    select filename\n",
    "    from myboard_image\n",
    "    where author_id = (select id from auth_user where username = '{username}')\n",
    "    '''\n",
    "\n",
    "    cursor = connection.cursor()\n",
    "    cursor.execute(sql)\n",
    "\n",
    "    data = dictfetchall(cursor)\n",
    "    context = {'data': data, 'username' : username}\n",
    "\n",
    "    return render(request, 'myboard/photolist.html', context)\n",
    "\n",
    "\n",
    "'''"
   ]
  },
  {
   "cell_type": "code",
   "execution_count": null,
   "metadata": {
    "ExecuteTime": {
     "end_time": "2020-02-21T07:09:02.526071Z",
     "start_time": "2020-02-21T07:09:02.158Z"
    }
   },
   "outputs": [],
   "source": [
    "# urls.py\n",
    "'''\n",
    "from django.urls import path\n",
    "from . import views \n",
    "from django.shortcuts import redirect\n",
    "\n",
    "urlpatterns = [\n",
    "    # path('', views.index),\n",
    "    path('', views.index),\n",
    "    path('ajaxdel', views.ajaxdel),\n",
    "    path('ajaxget', views.ajaxget),\n",
    "    path('photolist', views.photolist),\n",
    "\n",
    "\n",
    "    path('<category>/<int:pk>/<mode>', views.BoardView.as_view(), name = 'myboard'),\n",
    "    # path('', lambda request: redirect('myboard', 'common', 0, 'list'),\n",
    "    path('<category>/<int:page>', views.listsql),\n",
    "\n",
    "    ]\n",
    "\n",
    "\n",
    "'''\n",
    "\n"
   ]
  },
  {
   "cell_type": "markdown",
   "metadata": {},
   "source": [
    "# 3. upload\n",
    "\n",
    "1. db에서 insert해기\n",
    "2. 실제 물리적인 폴더에도 넣기\n",
    "3. 마지막에는 redirecr하기"
   ]
  },
  {
   "cell_type": "markdown",
   "metadata": {},
   "source": [
    "## 3.1 upload\n",
    "- pose 방식으로 변환해주기"
   ]
  },
  {
   "cell_type": "markdown",
   "metadata": {},
   "source": [
    "#### shell-plus에서 post 방식을 쓰기 위해서 한 코드"
   ]
  },
  {
   "cell_type": "code",
   "execution_count": null,
   "metadata": {
    "ExecuteTime": {
     "end_time": "2020-02-21T07:09:02.527029Z",
     "start_time": "2020-02-21T07:09:02.194Z"
    }
   },
   "outputs": [],
   "source": [
    "from django.core.files.uploadedfile import SimpleUploadedFile"
   ]
  },
  {
   "cell_type": "code",
   "execution_count": null,
   "metadata": {
    "ExecuteTime": {
     "end_time": "2020-02-21T07:09:02.528027Z",
     "start_time": "2020-02-21T07:09:02.195Z"
    }
   },
   "outputs": [],
   "source": [
    "# 내 폴더 내 이미지 갖고오기\n",
    "filename = 'wood.jpg'\n",
    "# username = request.POST['username']\n",
    "\n",
    "\n",
    "f = open(f'static/{filename}', 'rb')\n",
    "\n",
    "file_upload= SimpleUploadedFile(filename,\n",
    "                               f.read(),\n",
    "                               content_type = 'image/jpeg')"
   ]
  },
  {
   "cell_type": "code",
   "execution_count": null,
   "metadata": {
    "ExecuteTime": {
     "end_time": "2020-02-21T07:09:02.529025Z",
     "start_time": "2020-02-21T07:09:02.196Z"
    }
   },
   "outputs": [],
   "source": [
    "file_upload"
   ]
  },
  {
   "cell_type": "code",
   "execution_count": null,
   "metadata": {
    "ExecuteTime": {
     "end_time": "2020-02-21T07:09:02.530020Z",
     "start_time": "2020-02-21T07:09:02.198Z"
    }
   },
   "outputs": [],
   "source": [
    "username = 'lee'\n",
    "# post로 보내야 하는 namevalue\n",
    "data = {'filename': file_upload,\n",
    "       'username': username}\n",
    "\n",
    "# 포스트 방식의 request 객체 만들기\n",
    "request = rf.post('/myboard/upload', data = data, format = 'multipart')"
   ]
  },
  {
   "cell_type": "code",
   "execution_count": null,
   "metadata": {
    "ExecuteTime": {
     "end_time": "2020-02-21T07:09:02.531028Z",
     "start_time": "2020-02-21T07:09:02.200Z"
    }
   },
   "outputs": [],
   "source": [
    "print(request)"
   ]
  },
  {
   "cell_type": "code",
   "execution_count": null,
   "metadata": {
    "ExecuteTime": {
     "end_time": "2020-02-21T07:09:02.532015Z",
     "start_time": "2020-02-21T07:09:02.202Z"
    }
   },
   "outputs": [],
   "source": [
    "file = request.FILES['filename']\n",
    "filename = file._name\n",
    "print(filename)"
   ]
  },
  {
   "cell_type": "code",
   "execution_count": null,
   "metadata": {
    "ExecuteTime": {
     "end_time": "2020-02-21T07:09:02.533013Z",
     "start_time": "2020-02-21T07:09:02.203Z"
    }
   },
   "outputs": [],
   "source": [
    "# 저장하기\n",
    "fp = open(settings.BASE_DIR + '/static/face/' + username +'/'+ filename, 'wb')\n",
    "for chunk in file.chunks():\n",
    "    fp.write(chunk)\n",
    "fp.close()"
   ]
  },
  {
   "cell_type": "markdown",
   "metadata": {},
   "source": [
    "## 3.2. db insert"
   ]
  },
  {
   "cell_type": "code",
   "execution_count": null,
   "metadata": {
    "ExecuteTime": {
     "end_time": "2020-02-21T07:09:02.534017Z",
     "start_time": "2020-02-21T07:09:02.221Z"
    }
   },
   "outputs": [],
   "source": [
    "# username을 이용해서 user id갖고오기\n",
    "username = 'lee'\n",
    "sql = f\"select id from auth_user where username = '{username}'\"\n",
    "\n",
    "cursor = connection.cursor()\n",
    "cursor.execute(sql)\n",
    "author_id = cursor.fetchone()[0]\n",
    "author_id"
   ]
  },
  {
   "cell_type": "code",
   "execution_count": null,
   "metadata": {
    "ExecuteTime": {
     "end_time": "2020-02-21T07:09:02.535007Z",
     "start_time": "2020-02-21T07:09:02.223Z"
    }
   },
   "outputs": [],
   "source": [
    "sql = f\"\"\"\n",
    "INSERT INTO myboard_image\n",
    "(author_id, filename)\n",
    "VALUES ({author_id}, '{filename}');\n",
    "\"\"\"\n",
    "\n",
    "print(sql)"
   ]
  },
  {
   "cell_type": "code",
   "execution_count": null,
   "metadata": {
    "ExecuteTime": {
     "end_time": "2020-02-21T07:09:02.536004Z",
     "start_time": "2020-02-21T07:09:02.224Z"
    }
   },
   "outputs": [],
   "source": [
    "v = cursor.execute(sql)"
   ]
  }
 ],
 "metadata": {
  "kernelspec": {
   "display_name": "Django Shell-Plus",
   "language": "python",
   "name": "django_extensions"
  },
  "language_info": {
   "codemirror_mode": {
    "name": "ipython",
    "version": 3
   },
   "file_extension": ".py",
   "mimetype": "text/x-python",
   "name": "python",
   "nbconvert_exporter": "python",
   "pygments_lexer": "ipython3",
   "version": "3.6.10"
  },
  "toc": {
   "base_numbering": 1,
   "nav_menu": {},
   "number_sections": false,
   "sideBar": true,
   "skip_h1_title": false,
   "title_cell": "Table of Contents",
   "title_sidebar": "Contents",
   "toc_cell": false,
   "toc_position": {},
   "toc_section_display": true,
   "toc_window_display": true
  },
  "varInspector": {
   "cols": {
    "lenName": 16,
    "lenType": 16,
    "lenVar": 40
   },
   "kernels_config": {
    "python": {
     "delete_cmd_postfix": "",
     "delete_cmd_prefix": "del ",
     "library": "var_list.py",
     "varRefreshCmd": "print(var_dic_list())"
    },
    "r": {
     "delete_cmd_postfix": ") ",
     "delete_cmd_prefix": "rm(",
     "library": "var_list.r",
     "varRefreshCmd": "cat(var_dic_list()) "
    }
   },
   "types_to_exclude": [
    "module",
    "function",
    "builtin_function_or_method",
    "instance",
    "_Feature"
   ],
   "window_display": false
  }
 },
 "nbformat": 4,
 "nbformat_minor": 4
}
