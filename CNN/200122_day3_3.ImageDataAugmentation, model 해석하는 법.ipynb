{
 "cells": [
  {
   "cell_type": "markdown",
   "metadata": {},
   "source": [
    "# imaga data generator: 원본데이터 사용 안함!!!\n",
    "- 원본 데이터와 뻥튀기한 데이터를 함께 사용하면\n",
    "- 여러번 원본 데이터가 포함되기 때문에\n",
    "- 원본데이터: 학습 안하고, 뻥튀기하는 용도로만 사용!!!\n",
    "\n",
    "> 섞어쓰는 방법도 있음\n",
    "- 원본 데이터로만 pretrain 모델 만들고! generator해서 finetuning 할 수도 있음.!!!!!\n",
    "- 좋은 출발점에서 시작하는 것!!!\n",
    "\n",
    "\n",
    "- save하고 또 generator하는  방법은 좋지 않음."
   ]
  },
  {
   "cell_type": "code",
   "execution_count": 1,
   "metadata": {
    "ExecuteTime": {
     "end_time": "2020-01-22T06:45:21.847171Z",
     "start_time": "2020-01-22T06:45:20.092709Z"
    }
   },
   "outputs": [
    {
     "name": "stderr",
     "output_type": "stream",
     "text": [
      "Using TensorFlow backend.\n"
     ]
    }
   ],
   "source": [
    "from keras.models import Sequential\n",
    "from keras.layers import Dense\n",
    "from keras.layers import Flatten\n",
    "from keras.layers.convolutional import Conv2D\n",
    "from keras.layers.convolutional import MaxPooling2D\n",
    "from keras.layers import Activation, Dropout, Flatten, Dense\n",
    "import keras\n",
    "import tensorflow as tf\n",
    "import numpy as np\n",
    "from numpy  import expand_dims\n",
    "import cv2\n",
    "from matplotlib import pyplot as plt\n",
    "from keras.preprocessing.image import ImageDataGenerator, array_to_img, img_to_array, load_img\n",
    "np.random.seed(15)"
   ]
  },
  {
   "cell_type": "markdown",
   "metadata": {},
   "source": [
    "# 1. dataset"
   ]
  },
  {
   "cell_type": "markdown",
   "metadata": {},
   "source": [
    "## 1.1. img 불러와서 저장해보기"
   ]
  },
  {
   "cell_type": "code",
   "execution_count": 5,
   "metadata": {
    "ExecuteTime": {
     "end_time": "2020-01-22T06:47:42.870367Z",
     "start_time": "2020-01-22T06:47:42.839638Z"
    }
   },
   "outputs": [],
   "source": [
    "np.random.seed(5)\n",
    "\n",
    "\n",
    "# 데이터셋 불러오기\n",
    "data_aug_gen = ImageDataGenerator(rescale=1./255, \n",
    "                                  rotation_range=15,\n",
    "                                  width_shift_range=0.1,\n",
    "                                  height_shift_range=0.1,\n",
    "                                  shear_range=0.5,\n",
    "                                  zoom_range=[0.8, 2.0],\n",
    "                                  horizontal_flip=True,\n",
    "                                  vertical_flip=True,\n",
    "                                  fill_mode='nearest')\n",
    "# keras로 불러오기                                   \n",
    "img = load_img('hard_handwriting_shape/train/triangle/triangle001.png')\n",
    "x = img_to_array(img)\n",
    "x = x.reshape((1,) + x.shape)\n",
    "i = 0\n",
    "\n",
    "# 이 for는 무한으로 반복되기 때문에 우리가 원하는 반복횟수를 지정하여, \n",
    "#지정된 반복횟수가 되면 빠져나오도록 해야합니다.\n",
    "# 30번 저장(batch size = 1)\n",
    "for batch in data_aug_gen.flow(x, \n",
    "                               batch_size=1, \n",
    "                               save_to_dir='./hard_handwriting_shape/tmp/', \n",
    "                               save_prefix='tri', \n",
    "                               save_format='png'):\n",
    "    i += 1\n",
    "    if i > 30: \n",
    "        break\n",
    "        "
   ]
  },
  {
   "cell_type": "markdown",
   "metadata": {},
   "source": [
    "## 1.2. image data generator "
   ]
  },
  {
   "cell_type": "code",
   "execution_count": 4,
   "metadata": {
    "ExecuteTime": {
     "end_time": "2020-01-22T06:47:35.779782Z",
     "start_time": "2020-01-22T06:47:35.536334Z"
    }
   },
   "outputs": [
    {
     "name": "stdout",
     "output_type": "stream",
     "text": [
      "Found 45 images belonging to 3 classes.\n",
      "Found 15 images belonging to 3 classes.\n"
     ]
    }
   ],
   "source": [
    "train_datagen = ImageDataGenerator(rescale=1./255, \n",
    "                                   rotation_range=10,\n",
    "                                   width_shift_range=0.2,\n",
    "                                   height_shift_range=0.2,\n",
    "                                   shear_range=0.7,\n",
    "                                   zoom_range=[0.9, 2.2],\n",
    "                                   horizontal_flip=True,\n",
    "                                   vertical_flip=True,\n",
    "                                   fill_mode='nearest',\n",
    "                                   shuffle = True, # batch 학습이므로 무조건 섞기\n",
    "                                  )\n",
    "\n",
    "train_generator = train_datagen.flow_from_directory(\n",
    "        'hard_handwriting_shape/train/',\n",
    "        target_size=(24, 24),\n",
    "        batch_size=3,\n",
    "        class_mode='categorical',# one-hot encoding사용\n",
    "        )\n",
    "\n",
    "test_datagen = ImageDataGenerator(rescale=1./255)\n",
    "\n",
    "test_generator = test_datagen.flow_from_directory(\n",
    "        'hard_handwriting_shape/test',\n",
    "        target_size=(24, 24),    \n",
    "        batch_size=3,\n",
    "        class_mode='categorical', shuffle=False)"
   ]
  },
  {
   "cell_type": "markdown",
   "metadata": {},
   "source": [
    "> shuffle\n",
    "- train : True\n",
    "- test: False 가 관행!"
   ]
  },
  {
   "cell_type": "markdown",
   "metadata": {},
   "source": [
    "# 2. model"
   ]
  },
  {
   "cell_type": "code",
   "execution_count": 7,
   "metadata": {
    "ExecuteTime": {
     "end_time": "2020-01-22T06:53:36.058187Z",
     "start_time": "2020-01-22T06:53:35.967798Z"
    }
   },
   "outputs": [
    {
     "name": "stdout",
     "output_type": "stream",
     "text": [
      "WARNING:tensorflow:From C:\\anaconda\\lib\\site-packages\\tensorflow_core\\python\\ops\\resource_variable_ops.py:1630: calling BaseResourceVariable.__init__ (from tensorflow.python.ops.resource_variable_ops) with constraint is deprecated and will be removed in a future version.\n",
      "Instructions for updating:\n",
      "If using Keras pass *_constraint arguments to layers.\n",
      "WARNING:tensorflow:From C:\\anaconda\\lib\\site-packages\\keras\\backend\\tensorflow_backend.py:4070: The name tf.nn.max_pool is deprecated. Please use tf.nn.max_pool2d instead.\n",
      "\n"
     ]
    }
   ],
   "source": [
    "model = Sequential()\n",
    "model.add(Conv2D(32, kernel_size=(3, 3),\n",
    "                 activation='relu',\n",
    "                 input_shape=(24,24,3)))\n",
    "model.add(Conv2D(64, (3, 3), activation='relu'))\n",
    "model.add(MaxPooling2D(pool_size=(2, 2)))\n",
    "model.add(Flatten())\n",
    "model.add(Dense(128, activation='relu'))\n",
    "model.add(Dense(3, activation='softmax'))\n",
    "\n",
    "# 모델 엮기\n",
    "model.compile(loss='categorical_crossentropy', optimizer='adam', metrics=['accuracy'])\n"
   ]
  },
  {
   "cell_type": "markdown",
   "metadata": {
    "ExecuteTime": {
     "end_time": "2020-01-22T06:54:32.414739Z",
     "start_time": "2020-01-22T06:54:32.409691Z"
    }
   },
   "source": [
    "# 3. train: fit_generator\n",
    "- 배치단위로 데이터를 업데이트하면서 생성해서 학습하기"
   ]
  },
  {
   "cell_type": "code",
   "execution_count": 13,
   "metadata": {
    "ExecuteTime": {
     "end_time": "2020-01-22T07:15:25.067485Z",
     "start_time": "2020-01-22T07:13:02.333891Z"
    }
   },
   "outputs": [
    {
     "name": "stdout",
     "output_type": "stream",
     "text": [
      "Epoch 1/10\n",
      "1500/1500 [==============================] - 14s 9ms/step - loss: 0.0229 - accuracy: 0.9949 - val_loss: 1.1921e-07 - val_accuracy: 0.8000\n",
      "Epoch 2/10\n",
      "1500/1500 [==============================] - 14s 9ms/step - loss: 0.0035 - accuracy: 0.9989 - val_loss: 2.7735e-05 - val_accuracy: 0.8000\n",
      "Epoch 3/10\n",
      "1500/1500 [==============================] - 14s 9ms/step - loss: 0.0236 - accuracy: 0.9960 - val_loss: 7.9473e-08 - val_accuracy: 0.8667\n",
      "Epoch 4/10\n",
      "1500/1500 [==============================] - 14s 9ms/step - loss: 0.0109 - accuracy: 0.9973 - val_loss: 0.0000e+00 - val_accuracy: 0.8667\n",
      "Epoch 5/10\n",
      "1500/1500 [==============================] - 14s 9ms/step - loss: 0.0148 - accuracy: 0.9962 - val_loss: 0.0000e+00 - val_accuracy: 0.8667\n",
      "Epoch 6/10\n",
      "1500/1500 [==============================] - 14s 10ms/step - loss: 0.0026 - accuracy: 0.9993 - val_loss: 3.9736e-08 - val_accuracy: 0.8667\n",
      "Epoch 7/10\n",
      "1500/1500 [==============================] - 14s 9ms/step - loss: 0.0161 - accuracy: 0.9973 - val_loss: 0.0000e+00 - val_accuracy: 0.8667\n",
      "Epoch 8/10\n",
      "1500/1500 [==============================] - 14s 9ms/step - loss: 0.0235 - accuracy: 0.9956 - val_loss: 0.0000e+00 - val_accuracy: 0.8667\n",
      "Epoch 9/10\n",
      "1500/1500 [==============================] - 15s 10ms/step - loss: 0.0125 - accuracy: 0.9980 - val_loss: 3.9736e-08 - val_accuracy: 0.8000\n",
      "Epoch 10/10\n",
      "1500/1500 [==============================] - 15s 10ms/step - loss: 0.0031 - accuracy: 0.9993 - val_loss: 1.4305e-06 - val_accuracy: 0.8000\n"
     ]
    },
    {
     "data": {
      "text/plain": [
       "<keras.callbacks.callbacks.History at 0x1fcd4746f48>"
      ]
     },
     "execution_count": 13,
     "metadata": {},
     "output_type": "execute_result"
    }
   ],
   "source": [
    "# 모델 학습시키기\n",
    "model.fit_generator(\n",
    "        train_generator,\n",
    "        # epoch 1번 할 때마다 만드어지는 데이터 수\n",
    "        steps_per_epoch=15 * 100,\n",
    "        epochs=10, #200\n",
    "        validation_data=test_generator,\n",
    "        validation_steps=5)"
   ]
  },
  {
   "cell_type": "markdown",
   "metadata": {},
   "source": [
    "> batch size, steps per epoch의 관계\n",
    "- batch_size=3,\n",
    "- steps per epoch = 1500\n",
    "- 45개의 데이터를 1500개로 datagenerator로 늘린 후, barch size만큼 학습하는 의미?!"
   ]
  },
  {
   "cell_type": "markdown",
   "metadata": {},
   "source": [
    "# 4. model.predict_generator()"
   ]
  },
  {
   "cell_type": "code",
   "execution_count": 14,
   "metadata": {
    "ExecuteTime": {
     "end_time": "2020-01-22T07:27:10.110856Z",
     "start_time": "2020-01-22T07:27:09.989641Z"
    }
   },
   "outputs": [
    {
     "name": "stdout",
     "output_type": "stream",
     "text": [
      "-- Predict --\n",
      "[[1.95361793e-01 8.04638267e-01 1.50792961e-10]\n",
      " [1.34756365e-05 5.19045535e-03 9.94796097e-01]\n",
      " [9.99999642e-01 9.58689955e-17 3.64556797e-07]\n",
      " [1.00000000e+00 1.12088970e-18 4.52654831e-16]\n",
      " [1.00000000e+00 7.57065872e-16 1.30737543e-13]\n",
      " [1.29920288e-08 1.00000000e+00 5.16057974e-14]\n",
      " [4.48228118e-14 8.08970621e-13 1.00000000e+00]\n",
      " [1.56055372e-13 1.00000000e+00 4.11692458e-10]\n",
      " [7.81647750e-12 1.00000000e+00 9.02572288e-12]\n",
      " [4.79161972e-03 9.95200038e-01 8.27804615e-06]\n",
      " [1.33155877e-15 2.14106025e-11 1.00000000e+00]\n",
      " [5.50369225e-27 7.88541971e-27 1.00000000e+00]\n",
      " [2.76933815e-06 1.55670875e-06 9.99995708e-01]\n",
      " [8.93003717e-19 3.40053124e-35 1.00000000e+00]\n",
      " [2.40019573e-28 2.52360316e-34 1.00000000e+00]]\n",
      "[0 0 0 0 0 1 1 1 1 1 2 2 2 2 2]\n",
      "[1 2 0 0 0 1 2 1 1 1 2 2 2 2 2]\n"
     ]
    },
    {
     "data": {
      "text/plain": [
       "0.8"
      ]
     },
     "execution_count": 14,
     "metadata": {},
     "output_type": "execute_result"
    }
   ],
   "source": [
    "# 모델 예측하기\n",
    "print(\"-- Predict --\")\n",
    "output = model.predict_generator(test_generator,  steps = 5)    \n",
    "# batch 사이즈가 3 , 15개가 생성됨\n",
    "print(output)\n",
    "\n",
    "T = test_generator.classes\n",
    "print(T)\n",
    "p = np.argmax(output, axis=1)\n",
    "print(p)\n",
    "\n",
    "sum((T == p)*1) / len(T)"
   ]
  },
  {
   "cell_type": "markdown",
   "metadata": {},
   "source": [
    "# 5. model.evaluate_generator()"
   ]
  },
  {
   "cell_type": "code",
   "execution_count": 15,
   "metadata": {
    "ExecuteTime": {
     "end_time": "2020-01-22T07:31:08.722933Z",
     "start_time": "2020-01-22T07:31:08.612227Z"
    }
   },
   "outputs": [
    {
     "name": "stdout",
     "output_type": "stream",
     "text": [
      "0.800000011920929\n"
     ]
    }
   ],
   "source": [
    "# 모델 평가하기\n",
    "scores = model.evaluate_generator( test_generator, steps = 5)\n",
    "print(scores[1])"
   ]
  },
  {
   "cell_type": "markdown",
   "metadata": {},
   "source": [
    "# 6. 개선 방향, 해석\n",
    "\n",
    "- 조금 헷갈리는지, 많이 헷갈리는지 살펴보면서 \n",
    "- 개선 방안을 봐야 함."
   ]
  },
  {
   "cell_type": "code",
   "execution_count": 21,
   "metadata": {
    "ExecuteTime": {
     "end_time": "2020-01-22T07:45:33.494465Z",
     "start_time": "2020-01-22T07:45:33.490443Z"
    }
   },
   "outputs": [
    {
     "data": {
      "text/plain": [
       "array([[1.95361793e-01, 8.04638267e-01, 1.50792961e-10],\n",
       "       [1.34756365e-05, 5.19045535e-03, 9.94796097e-01],\n",
       "       [9.99999642e-01, 9.58689955e-17, 3.64556797e-07],\n",
       "       [1.00000000e+00, 1.12088970e-18, 4.52654831e-16],\n",
       "       [1.00000000e+00, 7.57065872e-16, 1.30737543e-13],\n",
       "       [1.29920288e-08, 1.00000000e+00, 5.16057974e-14],\n",
       "       [4.48228118e-14, 8.08970621e-13, 1.00000000e+00],\n",
       "       [1.56055372e-13, 1.00000000e+00, 4.11692458e-10],\n",
       "       [7.81647750e-12, 1.00000000e+00, 9.02572288e-12],\n",
       "       [4.79161972e-03, 9.95200038e-01, 8.27804615e-06],\n",
       "       [1.33155877e-15, 2.14106025e-11, 1.00000000e+00],\n",
       "       [5.50369225e-27, 7.88541971e-27, 1.00000000e+00],\n",
       "       [2.76933815e-06, 1.55670875e-06, 9.99995708e-01],\n",
       "       [8.93003717e-19, 3.40053124e-35, 1.00000000e+00],\n",
       "       [2.40019573e-28, 2.52360316e-34, 1.00000000e+00]], dtype=float32)"
      ]
     },
     "execution_count": 21,
     "metadata": {},
     "output_type": "execute_result"
    }
   ],
   "source": [
    "output"
   ]
  },
  {
   "cell_type": "markdown",
   "metadata": {},
   "source": [
    "## 6.1. predict값에 255를 곱해서 보기\n",
    "- predict: 각 클래스일 확률값"
   ]
  },
  {
   "cell_type": "code",
   "execution_count": 20,
   "metadata": {
    "ExecuteTime": {
     "end_time": "2020-01-22T07:38:25.733625Z",
     "start_time": "2020-01-22T07:38:25.523462Z"
    }
   },
   "outputs": [
    {
     "data": {
      "image/png": "[encoded data removed]",
      "text/plain": [
       "<Figure size 432x288 with 1 Axes>"
      ]
     },
     "metadata": {
      "needs_background": "light"
     },
     "output_type": "display_data"
    },
    {
     "data": {
      "image/png": "[encoded data removed]",
      "text/plain": [
       "<Figure size 432x288 with 1 Axes>"
      ]
     },
     "metadata": {
      "needs_background": "light"
     },
     "output_type": "display_data"
    }
   ],
   "source": [
    "img = output *255\n",
    "plt.imshow(img, cmap = 'gray')\n",
    "plt.show()\n",
    "plt.imshow(img.T, cmap = 'gray')\n",
    "plt.show()"
   ]
  },
  {
   "cell_type": "markdown",
   "metadata": {},
   "source": [
    "> 해석\n",
    "- 앞의 5개부터 circle: 틀린 애들: 헷갈리는 구나\n",
    "- ractangle: 틀린애들: 아주 엉뚱하가게\n",
    "- triangle: 틀린 애들- 아주 엉뚱한 얘기"
   ]
  },
  {
   "cell_type": "markdown",
   "metadata": {},
   "source": [
    "## 6.2 막대그래프로 그리기\n",
    "- 틀린 애들만 보거나\n",
    "- 정답 확률와 오답 확률의 차이가 얼마 안나면: wieght값에 따라 틀릴수도 있고, 맞힐 수도 있음.\n",
    "- 효과적임."
   ]
  },
  {
   "cell_type": "markdown",
   "metadata": {
    "ExecuteTime": {
     "end_time": "2020-01-22T07:47:39.290361Z",
     "start_time": "2020-01-22T07:47:39.274674Z"
    }
   },
   "source": [
    "## bar그래프로 확률값 표시하기\n",
    "- 잘 분류한 것. vs  잘못 분류한 것\n",
    "- 어떤 테스트 데이터 인데, 어떻게 잘못 인식했는지\n",
    "- 무엇을 어려워하고, 무엇을 쉽게 구분하는지\n",
    "- 잘 틀리는 부분에 대해서 데이터 보충하기"
   ]
  },
  {
   "cell_type": "markdown",
   "metadata": {},
   "source": [
    "# 무엇이 문제 인지 분석한다"
   ]
  },
  {
   "cell_type": "code",
   "execution_count": 28,
   "metadata": {
    "ExecuteTime": {
     "end_time": "2020-01-22T07:50:31.844941Z",
     "start_time": "2020-01-22T07:50:31.722658Z"
    }
   },
   "outputs": [],
   "source": [
    "\n",
    "output = model.predict_generator(test_generator,  steps = 5)    \n"
   ]
  },
  {
   "cell_type": "code",
   "execution_count": 26,
   "metadata": {
    "ExecuteTime": {
     "end_time": "2020-01-22T07:49:29.173978Z",
     "start_time": "2020-01-22T07:49:29.170931Z"
    }
   },
   "outputs": [
    {
     "name": "stdout",
     "output_type": "stream",
     "text": [
      "[0 0 0 0 0 1 1 1 1 1 2 2 2 2 2]\n",
      "[1 2 0 0 0 1 2 1 1 1 2 2 2 2 2]\n"
     ]
    }
   ],
   "source": [
    "T = test_generator.classes\n",
    "print(T)\n",
    "p = np.argmax(output, axis=1)\n",
    "print(p)"
   ]
  },
  {
   "cell_type": "code",
   "execution_count": 29,
   "metadata": {
    "ExecuteTime": {
     "end_time": "2020-01-22T07:50:39.860785Z",
     "start_time": "2020-01-22T07:50:39.857771Z"
    }
   },
   "outputs": [],
   "source": [
    "labels = ['C', 'R', 'T']   "
   ]
  },
  {
   "cell_type": "markdown",
   "metadata": {},
   "source": [
    "## 맞는것, 틀린것을 구분해서 그리기"
   ]
  },
  {
   "cell_type": "code",
   "execution_count": 39,
   "metadata": {
    "ExecuteTime": {
     "end_time": "2020-01-22T08:00:38.930814Z",
     "start_time": "2020-01-22T08:00:38.001518Z"
    }
   },
   "outputs": [
    {
     "data": {
      "image/png": "[encoded data removed]",
      "text/plain": [
       "<Figure size 1440x1440 with 15 Axes>"
      ]
     },
     "metadata": {
      "needs_background": "light"
     },
     "output_type": "display_data"
    }
   ],
   "source": [
    "idx = list(range(0,15))\n",
    "\n",
    "plt.figure(figsize=(20, 20))\n",
    "\n",
    "cc = 3\n",
    "rr = int(len(idx) / cc)+1  # 5\n",
    "\n",
    "for k in range( len(idx) ) :        \n",
    "    i = idx[k]             \n",
    "    c =  \"blue\" if  p[i] == T[i]   else \"red\"    \n",
    "    plt.subplot( rr ,cc, k+1)\n",
    "    plt.bar(labels, output[i], color=c)\n",
    "    plt.xlabel(\"true:{}->  predict:{} {:2.0f}%\".format(labels[int(T[i])], \n",
    "                                                       labels[p[  i ]],  \n",
    "                                                       100*np.max(output[i], axis=0)),  \n",
    "                                                       color = c )"
   ]
  },
  {
   "cell_type": "markdown",
   "metadata": {},
   "source": [
    "> 해석\n",
    "- 맞출 때 확실히 맞췄는지\n",
    "- 틀린게 어떤 모양을 잘 인식하지 못하는지 등등을 봐야 함."
   ]
  },
  {
   "cell_type": "markdown",
   "metadata": {},
   "source": [
    "## 이미지와 함께 보기"
   ]
  },
  {
   "cell_type": "markdown",
   "metadata": {},
   "source": [
    "### text data 갖고오기"
   ]
  },
  {
   "cell_type": "code",
   "execution_count": 64,
   "metadata": {
    "ExecuteTime": {
     "end_time": "2020-01-22T08:34:26.868733Z",
     "start_time": "2020-01-22T08:34:26.750716Z"
    },
    "scrolled": true
   },
   "outputs": [
    {
     "name": "stdout",
     "output_type": "stream",
     "text": [
      "Found 15 images belonging to 3 classes.\n",
      "(15, 24, 24, 3) (15, 3)\n"
     ]
    }
   ],
   "source": [
    "test_generator = test_datagen.flow_from_directory(\n",
    "                                                './hard_handwriting_shape/test',\n",
    "                                                target_size=(24, 24),    \n",
    "                                                batch_size=15,\n",
    "                                                class_mode='categorical', \n",
    "                                                shuffle=False)\n",
    "a = test_generator.next()\n",
    "print(a[0].shape, a[1].shape)\n",
    "X_test =a[0]"
   ]
  },
  {
   "cell_type": "code",
   "execution_count": 68,
   "metadata": {
    "ExecuteTime": {
     "end_time": "2020-01-22T08:35:25.556162Z",
     "start_time": "2020-01-22T08:35:24.342161Z"
    }
   },
   "outputs": [
    {
     "data": {
      "image/png": "[encoded data removed]",
      "text/plain": [
       "<Figure size 1440x1080 with 15 Axes>"
      ]
     },
     "metadata": {
      "needs_background": "light"
     },
     "output_type": "display_data"
    }
   ],
   "source": [
    "plt.figure(figsize=(20, 15))\n",
    "\n",
    "cc = 3\n",
    "rr = int(len(idx) / cc)+1\n",
    "\n",
    "for k in range( len(idx) ) :        \n",
    "    i = idx[k]             \n",
    "    c =  \"blue\" if  p[i] == T[i]   else \"red\"    \n",
    "    plt.subplot( rr ,cc, k+1)\n",
    "    #  left and right limits, and the bottom and top limits. \n",
    "    plt.imshow(X_test[i,:,:,0], extent=[0, 0.8, 0.5, 0.9], aspect='auto', zorder=10, cmap=\"gray\")\n",
    "    plt.ylim(0.0, 1.0)  \n",
    "    plt.bar(labels, output[i], color=c)\n",
    "    plt.xlabel(\"true:{}->  predict:{} {:2.0f}%\".format(labels[int(T[  i ])],\n",
    "                                                     labels[p[  i ]],  \n",
    "                                                     100*np.max(output[i], axis=0)),  \n",
    "                                                     color = c )\n",
    "    \n",
    "plt.savefig('fig1.png')"
   ]
  },
  {
   "cell_type": "code",
   "execution_count": 71,
   "metadata": {
    "ExecuteTime": {
     "end_time": "2020-01-22T08:37:28.299064Z",
     "start_time": "2020-01-22T08:37:26.388064Z"
    }
   },
   "outputs": [
    {
     "data": {
      "image/png": "[encoded data removed]",
      "text/plain": [
       "<Figure size 1440x1080 with 30 Axes>"
      ]
     },
     "metadata": {
      "needs_background": "light"
     },
     "output_type": "display_data"
    }
   ],
   "source": [
    "plt.figure(figsize=(20, 15))\n",
    "\n",
    "cc = 3\n",
    "rr = int(len(idx) / cc)+1\n",
    "\n",
    "for k in range( len(idx) ) :        \n",
    "  i = idx[k]             \n",
    "  c =  \"blue\" if  p[i] == T[i]   else \"red\"    \n",
    "  plt.subplot( rr ,cc*2, k*2+1)    \n",
    "  plt.imshow(X_test[i, :,:, 0], cmap=\"gray\") \n",
    "  plt.subplot( rr ,cc*2, k*2+2)\n",
    "  plt.bar(labels, output[i], color=c)\n",
    "  plt.xlabel(\"true:{}->  predict:{} {:2.0f}%\".format(labels[int(T[i])], \n",
    "                                                     labels[p[i]],  \n",
    "                                                     100*np.max(output[i], axis=0)),  \n",
    "                                                     color = c )"
   ]
  },
  {
   "cell_type": "code",
   "execution_count": null,
   "metadata": {},
   "outputs": [],
   "source": []
  }
 ],
 "metadata": {
  "kernelspec": {
   "display_name": "Python 3",
   "language": "python",
   "name": "python3"
  },
  "language_info": {
   "codemirror_mode": {
    "name": "ipython",
    "version": 3
   },
   "file_extension": ".py",
   "mimetype": "text/x-python",
   "name": "python",
   "nbconvert_exporter": "python",
   "pygments_lexer": "ipython3",
   "version": "3.7.4"
  },
  "toc": {
   "base_numbering": 1,
   "nav_menu": {},
   "number_sections": false,
   "sideBar": true,
   "skip_h1_title": false,
   "title_cell": "Table of Contents",
   "title_sidebar": "Contents",
   "toc_cell": false,
   "toc_position": {
    "height": "calc(100% - 180px)",
    "left": "10px",
    "top": "150px",
    "width": "426.667px"
   },
   "toc_section_display": true,
   "toc_window_display": true
  },
  "varInspector": {
   "cols": {
    "lenName": 16,
    "lenType": 16,
    "lenVar": 40
   },
   "kernels_config": {
    "python": {
     "delete_cmd_postfix": "",
     "delete_cmd_prefix": "del ",
     "library": "var_list.py",
     "varRefreshCmd": "print(var_dic_list())"
    },
    "r": {
     "delete_cmd_postfix": ") ",
     "delete_cmd_prefix": "rm(",
     "library": "var_list.r",
     "varRefreshCmd": "cat(var_dic_list()) "
    }
   },
   "types_to_exclude": [
    "module",
    "function",
    "builtin_function_or_method",
    "instance",
    "_Feature"
   ],
   "window_display": false
  }
 },
 "nbformat": 4,
 "nbformat_minor": 2
}
