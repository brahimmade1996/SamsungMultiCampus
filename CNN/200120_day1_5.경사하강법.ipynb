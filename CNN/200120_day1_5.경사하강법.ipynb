{
 "cells": [
  {
   "cell_type": "markdown",
   "metadata": {
    "ExecuteTime": {
     "end_time": "2020-01-20T08:10:07.864550Z",
     "start_time": "2020-01-20T08:10:07.860525Z"
    }
   },
   "source": [
    "## sigmoid\n",
    "- 미분값이 대부분 0 \n",
    "- 미분값이 0이 아닌 지점이 조금밖에 안됨.\n",
    "- 지수함수를 쓰기 때문에 매우 느림\n",
    "\n",
    "## leakyLelu\n",
    "- 모든 값에서 미분값이 0이 아니기 때문에\n",
    "- 빠름\n",
    "- 성능도 좋고, 계산시간도 빠름.\n"
   ]
  },
  {
   "cell_type": "markdown",
   "metadata": {},
   "source": [
    "# 두 직선중에 어느 것이 좋은가?\n",
    "- 오차가 적은 직선의 방정식\n",
    "- 수학적으로 어떻게 이를 밝힐 것인가?-> 오차가 적은 방정식으로 직선의 방정식을 추정\n",
    "\n",
    "> 오차\n",
    "- error = y - h => 오차들의 합이 0이 될 수 있음.\n",
    "- error = |y-h| => 미분 불가능하기 때문에 잘 사용하지 않음.\n",
    "- error = (y-h)^2 => 미불 가능\n",
    "- 보통 RMSE를 사용 (MSE는 n값이 매우 많을 경우 값이 매우 클 수 있기 때문에)\n",
    "\n",
    "\n",
    "> 학습 모델 비용 정의\n",
    "- "
   ]
  },
  {
   "cell_type": "code",
   "execution_count": null,
   "metadata": {},
   "outputs": [],
   "source": []
  }
 ],
 "metadata": {
  "kernelspec": {
   "display_name": "Python 3",
   "language": "python",
   "name": "python3"
  },
  "language_info": {
   "codemirror_mode": {
    "name": "ipython",
    "version": 3
   },
   "file_extension": ".py",
   "mimetype": "text/x-python",
   "name": "python",
   "nbconvert_exporter": "python",
   "pygments_lexer": "ipython3",
   "version": "3.7.6"
  },
  "toc": {
   "base_numbering": 1,
   "nav_menu": {},
   "number_sections": false,
   "sideBar": true,
   "skip_h1_title": false,
   "title_cell": "Table of Contents",
   "title_sidebar": "Contents",
   "toc_cell": false,
   "toc_position": {},
   "toc_section_display": true,
   "toc_window_display": false
  },
  "varInspector": {
   "cols": {
    "lenName": 16,
    "lenType": 16,
    "lenVar": 40
   },
   "kernels_config": {
    "python": {
     "delete_cmd_postfix": "",
     "delete_cmd_prefix": "del ",
     "library": "var_list.py",
     "varRefreshCmd": "print(var_dic_list())"
    },
    "r": {
     "delete_cmd_postfix": ") ",
     "delete_cmd_prefix": "rm(",
     "library": "var_list.r",
     "varRefreshCmd": "cat(var_dic_list()) "
    }
   },
   "types_to_exclude": [
    "module",
    "function",
    "builtin_function_or_method",
    "instance",
    "_Feature"
   ],
   "window_display": false
  }
 },
 "nbformat": 4,
 "nbformat_minor": 2
}
