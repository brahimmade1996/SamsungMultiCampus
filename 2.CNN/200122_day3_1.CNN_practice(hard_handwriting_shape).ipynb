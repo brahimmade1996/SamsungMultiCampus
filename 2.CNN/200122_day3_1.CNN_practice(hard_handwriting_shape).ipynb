{
 "cells": [
  {
   "cell_type": "code",
   "execution_count": 1,
   "metadata": {
    "ExecuteTime": {
     "end_time": "2020-01-22T07:16:41.099893Z",
     "start_time": "2020-01-22T07:16:39.002411Z"
    }
   },
   "outputs": [
    {
     "name": "stderr",
     "output_type": "stream",
     "text": [
      "Using TensorFlow backend.\n"
     ]
    }
   ],
   "source": [
    "import numpy as np\n",
    "import cv2\n",
    "import os\n",
    "import matplotlib.pyplot as plt\n",
    "from sklearn import datasets\n",
    "from sklearn.model_selection import train_test_split\n",
    "from sklearn.preprocessing import LabelEncoder\n",
    "from keras.utils.np_utils import to_categorical\n",
    "from keras.models import Sequential, Model\n",
    "from keras import optimizers\n",
    "from keras.layers import Dense, Activation, Flatten, Conv2D, MaxPooling2D, GlobalAveragePooling2D\n",
    "from keras.layers import BatchNormalization, Dropout"
   ]
  },
  {
   "cell_type": "markdown",
   "metadata": {},
   "source": [
    "# 1. dataset"
   ]
  },
  {
   "cell_type": "markdown",
   "metadata": {},
   "source": [
    "## 1.1. train data"
   ]
  },
  {
   "cell_type": "code",
   "execution_count": 10,
   "metadata": {
    "ExecuteTime": {
     "end_time": "2020-01-22T07:17:41.906716Z",
     "start_time": "2020-01-22T07:17:41.902676Z"
    }
   },
   "outputs": [
    {
     "data": {
      "text/plain": [
       "'C:/AI/OpenCV/CNN/./hard_handwriting_shape/train'"
      ]
     },
     "execution_count": 10,
     "metadata": {},
     "output_type": "execute_result"
    }
   ],
   "source": [
    "base_path =os.path.join(os.getcwd(), './hard_handwriting_shape/train').replace('\\\\','/')\n",
    "base_path"
   ]
  },
  {
   "cell_type": "code",
   "execution_count": 11,
   "metadata": {
    "ExecuteTime": {
     "end_time": "2020-01-22T07:17:42.832561Z",
     "start_time": "2020-01-22T07:17:42.822599Z"
    }
   },
   "outputs": [
    {
     "data": {
      "text/plain": [
       "['circle', 'rectangle', 'triangle']"
      ]
     },
     "execution_count": 11,
     "metadata": {},
     "output_type": "execute_result"
    }
   ],
   "source": [
    "label_list = os.listdir(base_path)[1:]\n",
    "label_list"
   ]
  },
  {
   "cell_type": "code",
   "execution_count": 12,
   "metadata": {
    "ExecuteTime": {
     "end_time": "2020-01-22T07:17:43.553627Z",
     "start_time": "2020-01-22T07:17:43.533893Z"
    }
   },
   "outputs": [
    {
     "data": {
      "text/plain": [
       "['triangle001.png', 'triangle002.png', 'triangle003.png']"
      ]
     },
     "execution_count": 12,
     "metadata": {},
     "output_type": "execute_result"
    }
   ],
   "source": [
    "path_list1 = os.listdir(os.path.join(base_path, label_list[0]))[1:]\n",
    "path_list2 = os.listdir(os.path.join(base_path, label_list[1]))[1:]\n",
    "path_list3 = os.listdir(os.path.join(base_path, label_list[2]))[1:]\n",
    "\n",
    "path_list = [path_list1,path_list2,path_list3]\n",
    "path_list3[:3]"
   ]
  },
  {
   "cell_type": "code",
   "execution_count": 13,
   "metadata": {
    "ExecuteTime": {
     "end_time": "2020-01-22T07:17:44.151797Z",
     "start_time": "2020-01-22T07:17:44.133994Z"
    }
   },
   "outputs": [
    {
     "data": {
      "text/plain": [
       "(24, 24, 1)"
      ]
     },
     "execution_count": 13,
     "metadata": {},
     "output_type": "execute_result"
    }
   ],
   "source": [
    "y_train = []\n",
    "X_train = np.zeros([24,24,1])\n",
    "X_train.shape"
   ]
  },
  {
   "cell_type": "code",
   "execution_count": 14,
   "metadata": {
    "ExecuteTime": {
     "end_time": "2020-01-22T07:17:44.349306Z",
     "start_time": "2020-01-22T07:17:44.334281Z"
    }
   },
   "outputs": [],
   "source": [
    "y_train = []\n",
    "X_train = []\n",
    "\n",
    "for label, path in zip(label_list, path_list):\n",
    "    for file in path:\n",
    "        # y라벨\n",
    "        y_train.append(file[:-7])\n",
    "        \n",
    "        # X img\n",
    "        img_path = os.path.join(os.path.join(base_path, label),file)\n",
    "#         img_path = str(img_path).replace('\\','/')\n",
    "#         print(img_path)\n",
    "        img = cv2.imread(img_path,0 ).reshape(24,24,1)\n",
    "#         print(img.shape)\n",
    "#         np.stack((X_train, img), axis = 0)\n",
    "        X_train.append(img)"
   ]
  },
  {
   "cell_type": "code",
   "execution_count": 15,
   "metadata": {
    "ExecuteTime": {
     "end_time": "2020-01-22T07:17:44.528786Z",
     "start_time": "2020-01-22T07:17:44.524836Z"
    }
   },
   "outputs": [
    {
     "data": {
      "text/plain": [
       "(45, 24, 24, 1)"
      ]
     },
     "execution_count": 15,
     "metadata": {},
     "output_type": "execute_result"
    }
   ],
   "source": [
    "X_train = np.asarray(X_train)\n",
    "X_train.shape"
   ]
  },
  {
   "cell_type": "code",
   "execution_count": 16,
   "metadata": {
    "ExecuteTime": {
     "end_time": "2020-01-22T07:17:44.706733Z",
     "start_time": "2020-01-22T07:17:44.701746Z"
    }
   },
   "outputs": [
    {
     "data": {
      "text/plain": [
       "array(['circle', 'circle', 'circle', 'circle', 'circle', 'circle',\n",
       "       'circle', 'circle', 'circle', 'circle', 'circle', 'circle',\n",
       "       'circle', 'circle', 'circle', 'rectangle', 'rectangle',\n",
       "       'rectangle', 'rectangle', 'rectangle', 'rectangle', 'rectangle',\n",
       "       'rectangle', 'rectangle', 'rectangle', 'rectangle', 'rectangle',\n",
       "       'rectangle', 'rectangle', 'rectangle', 'triangle', 'triangle',\n",
       "       'triangle', 'triangle', 'triangle', 'triangle', 'triangle',\n",
       "       'triangle', 'triangle', 'triangle', 'triangle', 'triangle',\n",
       "       'triangle', 'triangle', 'triangle'], dtype='<U9')"
      ]
     },
     "execution_count": 16,
     "metadata": {},
     "output_type": "execute_result"
    }
   ],
   "source": [
    "y_train = np.asarray(y_train)\n",
    "y_train"
   ]
  },
  {
   "cell_type": "code",
   "execution_count": 17,
   "metadata": {
    "ExecuteTime": {
     "end_time": "2020-01-22T07:17:44.890262Z",
     "start_time": "2020-01-22T07:17:44.886304Z"
    }
   },
   "outputs": [],
   "source": [
    "# sklearn LabelEncoder\n",
    "le  = LabelEncoder()\n",
    "le.fit(y_train.tolist())\n",
    "y_label=le.transform(y_train.tolist())"
   ]
  },
  {
   "cell_type": "code",
   "execution_count": 18,
   "metadata": {
    "ExecuteTime": {
     "end_time": "2020-01-22T07:17:45.075496Z",
     "start_time": "2020-01-22T07:17:45.070547Z"
    }
   },
   "outputs": [
    {
     "data": {
      "text/plain": [
       "(45, 3)"
      ]
     },
     "execution_count": 18,
     "metadata": {},
     "output_type": "execute_result"
    }
   ],
   "source": [
    "\n",
    "y_label = to_categorical(y_label)\n",
    "y_label.shape"
   ]
  },
  {
   "cell_type": "markdown",
   "metadata": {},
   "source": [
    "## 1.2.test data"
   ]
  },
  {
   "cell_type": "code",
   "execution_count": 25,
   "metadata": {
    "ExecuteTime": {
     "end_time": "2020-01-22T07:18:09.067159Z",
     "start_time": "2020-01-22T07:18:09.062218Z"
    }
   },
   "outputs": [
    {
     "data": {
      "text/plain": [
       "'C:/AI/OpenCV/CNN/./hard_handwriting_shape/test'"
      ]
     },
     "execution_count": 25,
     "metadata": {},
     "output_type": "execute_result"
    }
   ],
   "source": [
    "base_path =os.path.join(os.getcwd(), './hard_handwriting_shape/test').replace('\\\\','/')\n",
    "base_path"
   ]
  },
  {
   "cell_type": "code",
   "execution_count": 26,
   "metadata": {
    "ExecuteTime": {
     "end_time": "2020-01-22T07:18:09.579034Z",
     "start_time": "2020-01-22T07:18:09.574026Z"
    }
   },
   "outputs": [
    {
     "data": {
      "text/plain": [
       "['circle', 'rectangle', 'triangle']"
      ]
     },
     "execution_count": 26,
     "metadata": {},
     "output_type": "execute_result"
    }
   ],
   "source": [
    "label_list = os.listdir(base_path)[1:]\n",
    "label_list"
   ]
  },
  {
   "cell_type": "code",
   "execution_count": 27,
   "metadata": {
    "ExecuteTime": {
     "end_time": "2020-01-22T07:18:09.981351Z",
     "start_time": "2020-01-22T07:18:09.974369Z"
    }
   },
   "outputs": [
    {
     "data": {
      "text/plain": [
       "['triangle021.png', 'triangle022.png', 'triangle023.png']"
      ]
     },
     "execution_count": 27,
     "metadata": {},
     "output_type": "execute_result"
    }
   ],
   "source": [
    "path_list1 = os.listdir(os.path.join(base_path, label_list[0]))[1:]\n",
    "path_list2 = os.listdir(os.path.join(base_path, label_list[1]))[1:]\n",
    "path_list3 = os.listdir(os.path.join(base_path, label_list[2]))[1:]\n",
    "\n",
    "path_list = [path_list1,path_list2,path_list3]\n",
    "path_list3[:3]"
   ]
  },
  {
   "cell_type": "code",
   "execution_count": 28,
   "metadata": {
    "ExecuteTime": {
     "end_time": "2020-01-22T07:18:10.359626Z",
     "start_time": "2020-01-22T07:18:10.351619Z"
    }
   },
   "outputs": [],
   "source": [
    "y_test = []\n",
    "X_test = []\n",
    "\n",
    "for label, path in zip(label_list, path_list):\n",
    "    for file in path:\n",
    "        # y라벨\n",
    "        y_test.append(file[:-7])\n",
    "        \n",
    "        # X img\n",
    "        img_path = os.path.join(os.path.join(base_path, label),file)\n",
    "#         img_path = str(img_path).replace('\\','/')\n",
    "#         print(img_path)\n",
    "        img = cv2.imread(img_path,0 ).reshape(24,24,1)\n",
    "#         print(img.shape)\n",
    "#         np.stack((X_train, img), axis = 0)\n",
    "        X_test.append(img)"
   ]
  },
  {
   "cell_type": "code",
   "execution_count": 29,
   "metadata": {
    "ExecuteTime": {
     "end_time": "2020-01-22T07:18:10.955406Z",
     "start_time": "2020-01-22T07:18:10.950419Z"
    }
   },
   "outputs": [
    {
     "data": {
      "text/plain": [
       "(15, 24, 24, 1)"
      ]
     },
     "execution_count": 29,
     "metadata": {},
     "output_type": "execute_result"
    }
   ],
   "source": [
    "X_test = np.asarray(X_test)\n",
    "X_test.shape"
   ]
  },
  {
   "cell_type": "code",
   "execution_count": 30,
   "metadata": {
    "ExecuteTime": {
     "end_time": "2020-01-22T07:18:11.163816Z",
     "start_time": "2020-01-22T07:18:11.157814Z"
    }
   },
   "outputs": [
    {
     "data": {
      "text/plain": [
       "array(['circle', 'circle', 'circle', 'circle', 'circle', 'rectangle',\n",
       "       'rectangle', 'rectangle', 'rectangle', 'rectangle', 'triangle',\n",
       "       'triangle', 'triangle', 'triangle', 'triangle'], dtype='<U9')"
      ]
     },
     "execution_count": 30,
     "metadata": {},
     "output_type": "execute_result"
    }
   ],
   "source": [
    "y_test = np.asarray(y_test)\n",
    "y_test"
   ]
  },
  {
   "cell_type": "code",
   "execution_count": 31,
   "metadata": {
    "ExecuteTime": {
     "end_time": "2020-01-22T07:18:11.345477Z",
     "start_time": "2020-01-22T07:18:11.341487Z"
    }
   },
   "outputs": [],
   "source": [
    "y_test2 = []\n",
    "for i in y_test:\n",
    "    if i == 'circle':\n",
    "        y_test2.append('0')\n",
    "    elif i == 'rectangle':\n",
    "        y_test2.append('1')\n",
    "    else:\n",
    "         y_test2.append('2')\n"
   ]
  },
  {
   "cell_type": "code",
   "execution_count": 32,
   "metadata": {
    "ExecuteTime": {
     "end_time": "2020-01-22T07:18:12.314547Z",
     "start_time": "2020-01-22T07:18:12.310603Z"
    }
   },
   "outputs": [
    {
     "data": {
      "text/plain": [
       "(15, 3)"
      ]
     },
     "execution_count": 32,
     "metadata": {},
     "output_type": "execute_result"
    }
   ],
   "source": [
    "y_test2 = to_categorical(y_test2)\n",
    "y_test2.shape"
   ]
  },
  {
   "cell_type": "markdown",
   "metadata": {},
   "source": [
    "# 2. CNN 만들기"
   ]
  },
  {
   "cell_type": "code",
   "execution_count": 33,
   "metadata": {
    "ExecuteTime": {
     "end_time": "2020-01-22T07:18:13.696783Z",
     "start_time": "2020-01-22T07:18:13.686214Z"
    }
   },
   "outputs": [
    {
     "data": {
      "text/plain": [
       "((45, 24, 24, 1), (45, 3))"
      ]
     },
     "execution_count": 33,
     "metadata": {},
     "output_type": "execute_result"
    }
   ],
   "source": [
    "X_data = X_train\n",
    "y_data = y_label\n",
    "X_data.shape, y_data.shape"
   ]
  },
  {
   "cell_type": "code",
   "execution_count": 34,
   "metadata": {
    "ExecuteTime": {
     "end_time": "2020-01-22T07:18:14.767349Z",
     "start_time": "2020-01-22T07:18:14.518511Z"
    }
   },
   "outputs": [
    {
     "name": "stdout",
     "output_type": "stream",
     "text": [
      "WARNING:tensorflow:From C:\\anaconda\\lib\\site-packages\\tensorflow_core\\python\\ops\\resource_variable_ops.py:1630: calling BaseResourceVariable.__init__ (from tensorflow.python.ops.resource_variable_ops) with constraint is deprecated and will be removed in a future version.\n",
      "Instructions for updating:\n",
      "If using Keras pass *_constraint arguments to layers.\n",
      "WARNING:tensorflow:From C:\\anaconda\\lib\\site-packages\\keras\\backend\\tensorflow_backend.py:4070: The name tf.nn.max_pool is deprecated. Please use tf.nn.max_pool2d instead.\n",
      "\n",
      "Model: \"sequential_1\"\n",
      "_________________________________________________________________\n",
      "Layer (type)                 Output Shape              Param #   \n",
      "=================================================================\n",
      "conv2d_1 (Conv2D)            (None, 22, 22, 32)        320       \n",
      "_________________________________________________________________\n",
      "batch_normalization_1 (Batch (None, 22, 22, 32)        128       \n",
      "_________________________________________________________________\n",
      "activation_1 (Activation)    (None, 22, 22, 32)        0         \n",
      "_________________________________________________________________\n",
      "conv2d_2 (Conv2D)            (None, 20, 20, 64)        18496     \n",
      "_________________________________________________________________\n",
      "batch_normalization_2 (Batch (None, 20, 20, 64)        256       \n",
      "_________________________________________________________________\n",
      "activation_2 (Activation)    (None, 20, 20, 64)        0         \n",
      "_________________________________________________________________\n",
      "conv2d_3 (Conv2D)            (None, 18, 18, 128)       73856     \n",
      "_________________________________________________________________\n",
      "batch_normalization_3 (Batch (None, 18, 18, 128)       512       \n",
      "_________________________________________________________________\n",
      "activation_3 (Activation)    (None, 18, 18, 128)       0         \n",
      "_________________________________________________________________\n",
      "max_pooling2d_1 (MaxPooling2 (None, 9, 9, 128)         0         \n",
      "_________________________________________________________________\n",
      "flatten_1 (Flatten)          (None, 10368)             0         \n",
      "_________________________________________________________________\n",
      "dense_1 (Dense)              (None, 128)               1327232   \n",
      "_________________________________________________________________\n",
      "activation_4 (Activation)    (None, 128)               0         \n",
      "_________________________________________________________________\n",
      "dropout_1 (Dropout)          (None, 128)               0         \n",
      "_________________________________________________________________\n",
      "dense_2 (Dense)              (None, 64)                8256      \n",
      "_________________________________________________________________\n",
      "activation_5 (Activation)    (None, 64)                0         \n",
      "_________________________________________________________________\n",
      "dropout_2 (Dropout)          (None, 64)                0         \n",
      "_________________________________________________________________\n",
      "dense_3 (Dense)              (None, 3)                 195       \n",
      "=================================================================\n",
      "Total params: 1,429,251\n",
      "Trainable params: 1,428,803\n",
      "Non-trainable params: 448\n",
      "_________________________________________________________________\n"
     ]
    }
   ],
   "source": [
    "model = Sequential()\n",
    "\n",
    "model.add(Conv2D(input_shape = (X_data.shape[1], X_data.shape[2], X_data.shape[3]), \n",
    "                 filters = 32, kernel_size = (3,3), strides = (1,1), padding = 'valid'))\n",
    "model.add(BatchNormalization())\n",
    "model.add(Activation('relu'))\n",
    "\n",
    "model.add(Conv2D(filters = 64, kernel_size = (3,3), strides = (1,1), padding = 'valid'))\n",
    "model.add(BatchNormalization())\n",
    "# param: 이동, scale한 후, 나중에 다시 복원할 때 필요한 파라미터들이 저장되어 있음.\n",
    "# 학습하는 파라미터는 아님. 보관하는 파라미터들\n",
    "model.add(Activation('relu'))\n",
    "\n",
    "model.add(Conv2D(filters = 128, kernel_size = (3,3), strides = (1,1), padding = 'valid'))\n",
    "model.add(BatchNormalization())\n",
    "model.add(Activation('relu'))\n",
    "\n",
    "model.add(MaxPooling2D(pool_size = (2,2)))\n",
    "\n",
    "# model.add(GlobalAveragePooling2D())\n",
    "\n",
    "model.add(Flatten())\n",
    "\n",
    "model.add(Dense(128))\n",
    "model.add(Activation('relu'))\n",
    "model.add(Dropout(0.5))\n",
    "\n",
    "model.add(Dense(64))\n",
    "model.add(Activation('relu'))\n",
    "model.add(Dropout(0.5))\n",
    "\n",
    "model.add(Dense(3, activation = 'softmax'))\n",
    "\n",
    "adam = optimizers.Adam(lr = 0.001)\n",
    "model.compile(loss = 'categorical_crossentropy', optimizer = adam, metrics = ['accuracy'])\n",
    "\n",
    "model.summary()"
   ]
  },
  {
   "cell_type": "code",
   "execution_count": 36,
   "metadata": {
    "ExecuteTime": {
     "end_time": "2020-01-22T07:18:39.964660Z",
     "start_time": "2020-01-22T07:18:28.865563Z"
    }
   },
   "outputs": [
    {
     "name": "stdout",
     "output_type": "stream",
     "text": [
      "Train on 36 samples, validate on 9 samples\n",
      "Epoch 1/100\n",
      "36/36 [==============================] - 0s 3ms/step - loss: 0.0111 - accuracy: 1.0000 - val_loss: 0.0000e+00 - val_accuracy: 1.0000\n",
      "Epoch 2/100\n",
      "36/36 [==============================] - 0s 3ms/step - loss: 0.0165 - accuracy: 1.0000 - val_loss: 0.0000e+00 - val_accuracy: 1.0000\n",
      "Epoch 3/100\n",
      "36/36 [==============================] - 0s 3ms/step - loss: 0.0019 - accuracy: 1.0000 - val_loss: 0.0000e+00 - val_accuracy: 1.0000\n",
      "Epoch 4/100\n",
      "36/36 [==============================] - 0s 3ms/step - loss: 0.1814 - accuracy: 0.9722 - val_loss: 0.0000e+00 - val_accuracy: 1.0000\n",
      "Epoch 5/100\n",
      "36/36 [==============================] - 0s 3ms/step - loss: 0.1206 - accuracy: 0.9444 - val_loss: 0.0000e+00 - val_accuracy: 1.0000\n",
      "Epoch 6/100\n",
      "36/36 [==============================] - 0s 3ms/step - loss: 0.0727 - accuracy: 0.9722 - val_loss: 0.0000e+00 - val_accuracy: 1.0000\n",
      "Epoch 7/100\n",
      "36/36 [==============================] - 0s 3ms/step - loss: 0.0253 - accuracy: 1.0000 - val_loss: 0.0000e+00 - val_accuracy: 1.0000\n",
      "Epoch 8/100\n",
      "36/36 [==============================] - 0s 3ms/step - loss: 0.0208 - accuracy: 1.0000 - val_loss: 0.0000e+00 - val_accuracy: 1.0000\n",
      "Epoch 9/100\n",
      "36/36 [==============================] - 0s 3ms/step - loss: 0.0082 - accuracy: 1.0000 - val_loss: 0.0000e+00 - val_accuracy: 1.0000\n",
      "Epoch 10/100\n",
      "36/36 [==============================] - 0s 3ms/step - loss: 0.0211 - accuracy: 1.0000 - val_loss: 0.0000e+00 - val_accuracy: 1.0000\n",
      "Epoch 11/100\n",
      "36/36 [==============================] - 0s 3ms/step - loss: 0.0225 - accuracy: 0.9722 - val_loss: 0.0000e+00 - val_accuracy: 1.0000\n",
      "Epoch 12/100\n",
      "36/36 [==============================] - 0s 3ms/step - loss: 0.0880 - accuracy: 0.9444 - val_loss: 0.0000e+00 - val_accuracy: 1.0000\n",
      "Epoch 13/100\n",
      "36/36 [==============================] - 0s 3ms/step - loss: 2.2979e-04 - accuracy: 1.0000 - val_loss: 0.0000e+00 - val_accuracy: 1.0000\n",
      "Epoch 14/100\n",
      "36/36 [==============================] - 0s 3ms/step - loss: 0.0662 - accuracy: 0.9722 - val_loss: 0.0000e+00 - val_accuracy: 1.0000\n",
      "Epoch 15/100\n",
      "36/36 [==============================] - 0s 3ms/step - loss: 9.8411e-04 - accuracy: 1.0000 - val_loss: 0.0000e+00 - val_accuracy: 1.0000\n",
      "Epoch 16/100\n",
      "36/36 [==============================] - 0s 3ms/step - loss: 0.0852 - accuracy: 0.9722 - val_loss: 0.0000e+00 - val_accuracy: 1.0000\n",
      "Epoch 17/100\n",
      "36/36 [==============================] - 0s 3ms/step - loss: 0.0397 - accuracy: 0.9722 - val_loss: 0.0000e+00 - val_accuracy: 1.0000\n",
      "Epoch 18/100\n",
      "36/36 [==============================] - 0s 3ms/step - loss: 0.0342 - accuracy: 0.9722 - val_loss: 0.0000e+00 - val_accuracy: 1.0000\n",
      "Epoch 19/100\n",
      "36/36 [==============================] - 0s 3ms/step - loss: 0.0087 - accuracy: 1.0000 - val_loss: 0.0000e+00 - val_accuracy: 1.0000\n",
      "Epoch 20/100\n",
      "36/36 [==============================] - 0s 3ms/step - loss: 0.0084 - accuracy: 1.0000 - val_loss: 0.0000e+00 - val_accuracy: 1.0000\n",
      "Epoch 21/100\n",
      "36/36 [==============================] - 0s 3ms/step - loss: 0.1556 - accuracy: 0.9444 - val_loss: 0.0000e+00 - val_accuracy: 1.0000\n",
      "Epoch 22/100\n",
      "36/36 [==============================] - 0s 3ms/step - loss: 0.0026 - accuracy: 1.0000 - val_loss: 0.0000e+00 - val_accuracy: 1.0000\n",
      "Epoch 23/100\n",
      "36/36 [==============================] - 0s 3ms/step - loss: 1.1778e-04 - accuracy: 1.0000 - val_loss: 0.0000e+00 - val_accuracy: 1.0000\n",
      "Epoch 24/100\n",
      "36/36 [==============================] - 0s 3ms/step - loss: 0.0088 - accuracy: 1.0000 - val_loss: 0.0000e+00 - val_accuracy: 1.0000\n",
      "Epoch 25/100\n",
      "36/36 [==============================] - 0s 3ms/step - loss: 0.0080 - accuracy: 1.0000 - val_loss: 0.0000e+00 - val_accuracy: 1.0000\n",
      "Epoch 26/100\n",
      "36/36 [==============================] - 0s 3ms/step - loss: 0.0046 - accuracy: 1.0000 - val_loss: 0.0000e+00 - val_accuracy: 1.0000\n",
      "Epoch 27/100\n",
      "36/36 [==============================] - 0s 3ms/step - loss: 9.1662e-04 - accuracy: 1.0000 - val_loss: 0.0000e+00 - val_accuracy: 1.0000\n",
      "Epoch 28/100\n",
      "36/36 [==============================] - 0s 3ms/step - loss: 0.0274 - accuracy: 0.9722 - val_loss: 0.0000e+00 - val_accuracy: 1.0000\n",
      "Epoch 29/100\n",
      "36/36 [==============================] - 0s 3ms/step - loss: 0.0118 - accuracy: 1.0000 - val_loss: 0.0000e+00 - val_accuracy: 1.0000\n",
      "Epoch 30/100\n",
      "36/36 [==============================] - 0s 3ms/step - loss: 0.2875 - accuracy: 0.9167 - val_loss: 0.0000e+00 - val_accuracy: 1.0000\n",
      "Epoch 31/100\n",
      "36/36 [==============================] - 0s 3ms/step - loss: 0.0587 - accuracy: 0.9722 - val_loss: 0.0000e+00 - val_accuracy: 1.0000\n",
      "Epoch 32/100\n",
      "36/36 [==============================] - 0s 3ms/step - loss: 1.9355e-04 - accuracy: 1.0000 - val_loss: 0.0000e+00 - val_accuracy: 1.0000\n",
      "Epoch 33/100\n",
      "36/36 [==============================] - 0s 3ms/step - loss: 0.0206 - accuracy: 1.0000 - val_loss: 0.0000e+00 - val_accuracy: 1.0000\n",
      "Epoch 34/100\n",
      "36/36 [==============================] - 0s 3ms/step - loss: 0.0610 - accuracy: 0.9722 - val_loss: 0.0000e+00 - val_accuracy: 1.0000\n",
      "Epoch 35/100\n",
      "36/36 [==============================] - 0s 3ms/step - loss: 0.2089 - accuracy: 0.9722 - val_loss: 0.0000e+00 - val_accuracy: 1.0000\n",
      "Epoch 36/100\n",
      "36/36 [==============================] - 0s 3ms/step - loss: 1.0857e-04 - accuracy: 1.0000 - val_loss: 0.0000e+00 - val_accuracy: 1.0000\n",
      "Epoch 37/100\n",
      "36/36 [==============================] - 0s 3ms/step - loss: 0.0336 - accuracy: 0.9722 - val_loss: 0.0000e+00 - val_accuracy: 1.0000\n",
      "Epoch 38/100\n",
      "36/36 [==============================] - 0s 3ms/step - loss: 0.0016 - accuracy: 1.0000 - val_loss: 0.0000e+00 - val_accuracy: 1.0000\n",
      "Epoch 39/100\n",
      "36/36 [==============================] - 0s 3ms/step - loss: 6.4365e-04 - accuracy: 1.0000 - val_loss: 0.0000e+00 - val_accuracy: 1.0000\n",
      "Epoch 40/100\n",
      "36/36 [==============================] - 0s 3ms/step - loss: 0.0197 - accuracy: 1.0000 - val_loss: 0.0000e+00 - val_accuracy: 1.0000\n",
      "Epoch 41/100\n",
      "36/36 [==============================] - 0s 3ms/step - loss: 0.1472 - accuracy: 0.9722 - val_loss: 0.0000e+00 - val_accuracy: 1.0000\n",
      "Epoch 42/100\n",
      "36/36 [==============================] - 0s 3ms/step - loss: 0.0025 - accuracy: 1.0000 - val_loss: 0.0000e+00 - val_accuracy: 1.0000\n",
      "Epoch 43/100\n",
      "36/36 [==============================] - 0s 3ms/step - loss: 0.0215 - accuracy: 1.0000 - val_loss: 0.0000e+00 - val_accuracy: 1.0000\n",
      "Epoch 44/100\n",
      "36/36 [==============================] - 0s 3ms/step - loss: 0.0048 - accuracy: 1.0000 - val_loss: 0.0000e+00 - val_accuracy: 1.0000\n",
      "Epoch 45/100\n",
      "36/36 [==============================] - 0s 3ms/step - loss: 0.0096 - accuracy: 1.0000 - val_loss: 0.0000e+00 - val_accuracy: 1.0000\n",
      "Epoch 46/100\n",
      "36/36 [==============================] - 0s 3ms/step - loss: 0.0270 - accuracy: 1.0000 - val_loss: 0.0000e+00 - val_accuracy: 1.0000\n",
      "Epoch 47/100\n",
      "36/36 [==============================] - 0s 3ms/step - loss: 0.0363 - accuracy: 0.9722 - val_loss: 0.0000e+00 - val_accuracy: 1.0000\n",
      "Epoch 48/100\n",
      "36/36 [==============================] - 0s 3ms/step - loss: 0.0205 - accuracy: 1.0000 - val_loss: 0.0000e+00 - val_accuracy: 1.0000\n",
      "Epoch 49/100\n",
      "36/36 [==============================] - 0s 3ms/step - loss: 0.0044 - accuracy: 1.0000 - val_loss: 0.0000e+00 - val_accuracy: 1.0000\n",
      "Epoch 50/100\n",
      "36/36 [==============================] - 0s 3ms/step - loss: 2.6405e-05 - accuracy: 1.0000 - val_loss: 0.0000e+00 - val_accuracy: 1.0000\n",
      "Epoch 51/100\n",
      "36/36 [==============================] - 0s 3ms/step - loss: 0.0026 - accuracy: 1.0000 - val_loss: 0.0000e+00 - val_accuracy: 1.0000\n",
      "Epoch 52/100\n",
      "36/36 [==============================] - 0s 3ms/step - loss: 0.1674 - accuracy: 0.9444 - val_loss: 0.0000e+00 - val_accuracy: 1.0000\n",
      "Epoch 53/100\n",
      "36/36 [==============================] - 0s 3ms/step - loss: 2.6738e-04 - accuracy: 1.0000 - val_loss: 0.0000e+00 - val_accuracy: 1.0000\n",
      "Epoch 54/100\n",
      "36/36 [==============================] - 0s 3ms/step - loss: 7.7485e-07 - accuracy: 1.0000 - val_loss: 0.0000e+00 - val_accuracy: 1.0000\n",
      "Epoch 55/100\n",
      "36/36 [==============================] - 0s 3ms/step - loss: 0.0332 - accuracy: 1.0000 - val_loss: 0.0000e+00 - val_accuracy: 1.0000\n",
      "Epoch 56/100\n"
     ]
    },
    {
     "name": "stdout",
     "output_type": "stream",
     "text": [
      "36/36 [==============================] - 0s 3ms/step - loss: 0.0022 - accuracy: 1.0000 - val_loss: 0.0000e+00 - val_accuracy: 1.0000\n",
      "Epoch 57/100\n",
      "36/36 [==============================] - 0s 3ms/step - loss: 1.0000e-04 - accuracy: 1.0000 - val_loss: 0.0000e+00 - val_accuracy: 1.0000\n",
      "Epoch 58/100\n",
      "36/36 [==============================] - 0s 3ms/step - loss: 0.0848 - accuracy: 0.9444 - val_loss: 0.0000e+00 - val_accuracy: 1.0000\n",
      "Epoch 59/100\n",
      "36/36 [==============================] - 0s 3ms/step - loss: 9.1246e-06 - accuracy: 1.0000 - val_loss: 0.0000e+00 - val_accuracy: 1.0000\n",
      "Epoch 60/100\n",
      "36/36 [==============================] - 0s 3ms/step - loss: 0.0107 - accuracy: 1.0000 - val_loss: 0.0000e+00 - val_accuracy: 1.0000\n",
      "Epoch 61/100\n",
      "36/36 [==============================] - 0s 3ms/step - loss: 0.0200 - accuracy: 1.0000 - val_loss: 0.0000e+00 - val_accuracy: 1.0000\n",
      "Epoch 62/100\n",
      "36/36 [==============================] - 0s 3ms/step - loss: 4.6568e-05 - accuracy: 1.0000 - val_loss: 0.0000e+00 - val_accuracy: 1.0000\n",
      "Epoch 63/100\n",
      "36/36 [==============================] - 0s 3ms/step - loss: 4.6105e-05 - accuracy: 1.0000 - val_loss: 0.0000e+00 - val_accuracy: 1.0000\n",
      "Epoch 64/100\n",
      "36/36 [==============================] - 0s 3ms/step - loss: 0.0013 - accuracy: 1.0000 - val_loss: 0.0000e+00 - val_accuracy: 1.0000\n",
      "Epoch 65/100\n",
      "36/36 [==============================] - 0s 3ms/step - loss: 0.0599 - accuracy: 0.9722 - val_loss: 0.0000e+00 - val_accuracy: 1.0000\n",
      "Epoch 66/100\n",
      "36/36 [==============================] - 0s 3ms/step - loss: 0.0457 - accuracy: 0.9722 - val_loss: 0.0000e+00 - val_accuracy: 1.0000\n",
      "Epoch 67/100\n",
      "36/36 [==============================] - 0s 3ms/step - loss: 2.3421e-04 - accuracy: 1.0000 - val_loss: 0.0000e+00 - val_accuracy: 1.0000\n",
      "Epoch 68/100\n",
      "36/36 [==============================] - 0s 3ms/step - loss: 9.9607e-05 - accuracy: 1.0000 - val_loss: 0.0000e+00 - val_accuracy: 1.0000\n",
      "Epoch 69/100\n",
      "36/36 [==============================] - 0s 3ms/step - loss: 4.5594e-06 - accuracy: 1.0000 - val_loss: 0.0000e+00 - val_accuracy: 1.0000\n",
      "Epoch 70/100\n",
      "36/36 [==============================] - 0s 3ms/step - loss: 3.0544e-05 - accuracy: 1.0000 - val_loss: 0.0000e+00 - val_accuracy: 1.0000\n",
      "Epoch 71/100\n",
      "36/36 [==============================] - 0s 3ms/step - loss: 0.0055 - accuracy: 1.0000 - val_loss: 0.0000e+00 - val_accuracy: 1.0000\n",
      "Epoch 72/100\n",
      "36/36 [==============================] - 0s 3ms/step - loss: 0.0351 - accuracy: 0.9722 - val_loss: 0.0000e+00 - val_accuracy: 1.0000\n",
      "Epoch 73/100\n",
      "36/36 [==============================] - 0s 3ms/step - loss: 0.0188 - accuracy: 1.0000 - val_loss: 0.0000e+00 - val_accuracy: 1.0000\n",
      "Epoch 74/100\n",
      "36/36 [==============================] - 0s 3ms/step - loss: 0.1163 - accuracy: 0.9444 - val_loss: 0.0000e+00 - val_accuracy: 1.0000\n",
      "Epoch 75/100\n",
      "36/36 [==============================] - 0s 3ms/step - loss: 0.0097 - accuracy: 1.0000 - val_loss: 0.0000e+00 - val_accuracy: 1.0000\n",
      "Epoch 76/100\n",
      "36/36 [==============================] - 0s 3ms/step - loss: 0.1253 - accuracy: 0.9444 - val_loss: 0.0000e+00 - val_accuracy: 1.0000\n",
      "Epoch 77/100\n",
      "36/36 [==============================] - 0s 3ms/step - loss: 0.1252 - accuracy: 0.9444 - val_loss: 0.0000e+00 - val_accuracy: 1.0000\n",
      "Epoch 78/100\n",
      "36/36 [==============================] - 0s 3ms/step - loss: 3.9405e-07 - accuracy: 1.0000 - val_loss: 0.0000e+00 - val_accuracy: 1.0000\n",
      "Epoch 79/100\n",
      "36/36 [==============================] - 0s 3ms/step - loss: 1.5912e-05 - accuracy: 1.0000 - val_loss: 0.0000e+00 - val_accuracy: 1.0000\n",
      "Epoch 80/100\n",
      "36/36 [==============================] - 0s 3ms/step - loss: 0.0194 - accuracy: 1.0000 - val_loss: 0.0000e+00 - val_accuracy: 1.0000\n",
      "Epoch 81/100\n",
      "36/36 [==============================] - 0s 3ms/step - loss: 0.0312 - accuracy: 0.9722 - val_loss: 0.0000e+00 - val_accuracy: 1.0000\n",
      "Epoch 82/100\n",
      "36/36 [==============================] - 0s 3ms/step - loss: 0.0339 - accuracy: 0.9722 - val_loss: 0.0000e+00 - val_accuracy: 1.0000\n",
      "Epoch 83/100\n",
      "36/36 [==============================] - 0s 3ms/step - loss: 0.0083 - accuracy: 1.0000 - val_loss: 0.0000e+00 - val_accuracy: 1.0000\n",
      "Epoch 84/100\n",
      "36/36 [==============================] - 0s 3ms/step - loss: 2.1428e-04 - accuracy: 1.0000 - val_loss: 0.0000e+00 - val_accuracy: 1.0000\n",
      "Epoch 85/100\n",
      "36/36 [==============================] - 0s 3ms/step - loss: 0.2170 - accuracy: 0.9722 - val_loss: 0.0000e+00 - val_accuracy: 1.0000\n",
      "Epoch 86/100\n",
      "36/36 [==============================] - 0s 3ms/step - loss: 0.0133 - accuracy: 1.0000 - val_loss: 0.0000e+00 - val_accuracy: 1.0000\n",
      "Epoch 87/100\n",
      "36/36 [==============================] - 0s 3ms/step - loss: 2.7585e-04 - accuracy: 1.0000 - val_loss: 0.0000e+00 - val_accuracy: 1.0000\n",
      "Epoch 88/100\n",
      "36/36 [==============================] - 0s 3ms/step - loss: 0.0535 - accuracy: 0.9722 - val_loss: 0.0000e+00 - val_accuracy: 1.0000\n",
      "Epoch 89/100\n",
      "36/36 [==============================] - 0s 3ms/step - loss: 0.1305 - accuracy: 0.9444 - val_loss: 0.0000e+00 - val_accuracy: 1.0000\n",
      "Epoch 90/100\n",
      "36/36 [==============================] - 0s 3ms/step - loss: 0.0483 - accuracy: 0.9722 - val_loss: 0.0000e+00 - val_accuracy: 1.0000\n",
      "Epoch 91/100\n",
      "36/36 [==============================] - 0s 3ms/step - loss: 0.0032 - accuracy: 1.0000 - val_loss: 0.0000e+00 - val_accuracy: 1.0000\n",
      "Epoch 92/100\n",
      "36/36 [==============================] - 0s 3ms/step - loss: 7.3520e-04 - accuracy: 1.0000 - val_loss: 0.0000e+00 - val_accuracy: 1.0000\n",
      "Epoch 93/100\n",
      "36/36 [==============================] - 0s 3ms/step - loss: 0.0209 - accuracy: 0.9722 - val_loss: 0.0000e+00 - val_accuracy: 1.0000\n",
      "Epoch 94/100\n",
      "36/36 [==============================] - 0s 3ms/step - loss: 0.0420 - accuracy: 0.9722 - val_loss: 0.0000e+00 - val_accuracy: 1.0000\n",
      "Epoch 95/100\n",
      "36/36 [==============================] - 0s 3ms/step - loss: 0.0114 - accuracy: 1.0000 - val_loss: 0.0000e+00 - val_accuracy: 1.0000\n",
      "Epoch 96/100\n",
      "36/36 [==============================] - 0s 3ms/step - loss: 0.0011 - accuracy: 1.0000 - val_loss: 0.0000e+00 - val_accuracy: 1.0000\n",
      "Epoch 97/100\n",
      "36/36 [==============================] - 0s 3ms/step - loss: 0.0582 - accuracy: 0.9444 - val_loss: 0.0000e+00 - val_accuracy: 1.0000\n",
      "Epoch 98/100\n",
      "36/36 [==============================] - 0s 3ms/step - loss: 0.0211 - accuracy: 0.9722 - val_loss: 0.0000e+00 - val_accuracy: 1.0000\n",
      "Epoch 99/100\n",
      "36/36 [==============================] - 0s 3ms/step - loss: 0.0012 - accuracy: 1.0000 - val_loss: 0.0000e+00 - val_accuracy: 1.0000\n",
      "Epoch 100/100\n",
      "36/36 [==============================] - 0s 3ms/step - loss: 2.5419e-04 - accuracy: 1.0000 - val_loss: 0.0000e+00 - val_accuracy: 1.0000\n"
     ]
    },
    {
     "data": {
      "image/png": "[encoded data removed]",
      "text/plain": [
       "<Figure size 1440x720 with 1 Axes>"
      ]
     },
     "metadata": {
      "needs_background": "light"
     },
     "output_type": "display_data"
    }
   ],
   "source": [
    "history = model.fit(X_train, y_label, batch_size = 15, validation_split = 0.2, epochs = 100, verbose = 1)\n",
    "plt.figure(figsize=(20,10))\n",
    "plt.plot(history.history['accuracy'])\n",
    "plt.plot(history.history['val_accuracy'])\n",
    "plt.legend(['training', 'validation'], loc = 'upper left')\n",
    "plt.show()"
   ]
  },
  {
   "cell_type": "markdown",
   "metadata": {},
   "source": [
    "# 3. test accuracy확인"
   ]
  },
  {
   "cell_type": "code",
   "execution_count": 98,
   "metadata": {
    "ExecuteTime": {
     "end_time": "2020-01-22T01:45:37.940395Z",
     "start_time": "2020-01-22T01:45:37.920482Z"
    }
   },
   "outputs": [
    {
     "name": "stdout",
     "output_type": "stream",
     "text": [
      "15/15 [==============================] - 0s 931us/step\n",
      "Test accuracy:  0.46666666865348816\n"
     ]
    }
   ],
   "source": [
    "results = model.evaluate(X_test, y_test2)\n",
    "print('Test accuracy: ', results[1])\n",
    "\n",
    "#단순 cnn조차 금방 96% 나온다."
   ]
  },
  {
   "cell_type": "markdown",
   "metadata": {
    "ExecuteTime": {
     "end_time": "2020-01-22T01:42:56.467764Z",
     "start_time": "2020-01-22T01:42:56.457355Z"
    }
   },
   "source": [
    "# 4. 해석\n",
    "- test_easy는 잘 맞추지만\n",
    "- test는 잘 맞추기 못함\n",
    "\n",
    "> train, test data간의 특징이 많이 다르기 때문에\n",
    "- test data를 기하학적 변환을 해서 train data에 맞추면 가능하지만..\n",
    "- 학습할 때 train data의 왜곡을 통해 해결을 해보자..."
   ]
  },
  {
   "cell_type": "markdown",
   "metadata": {},
   "source": [
    "## 신경망에서 wieht값을 확인하는 것\n",
    "- W = 0.7, b = 3이라면\n",
    "- y = wx + b를 추론해 볼 수 있음.\n",
    "- wight가 1개이므로 의미가 큼\n",
    "\n",
    "#### CNN에서는\n",
    "- 하나의 wight를 보는 것은 의미가 없음\n",
    "- 필터 전제의 wight를 봐야 어떤 edge를 검출하는 것인지 알 수 있음"
   ]
  },
  {
   "cell_type": "markdown",
   "metadata": {},
   "source": [
    "## 4.1.layer에 대한 정보 확인"
   ]
  },
  {
   "cell_type": "code",
   "execution_count": 105,
   "metadata": {
    "ExecuteTime": {
     "end_time": "2020-01-22T02:15:46.650628Z",
     "start_time": "2020-01-22T02:15:46.646588Z"
    }
   },
   "outputs": [
    {
     "name": "stdout",
     "output_type": "stream",
     "text": [
      "conv2d_25\n",
      "batch_normalization_23\n",
      "activation_35\n",
      "conv2d_26\n",
      "batch_normalization_24\n",
      "activation_36\n",
      "conv2d_27\n",
      "batch_normalization_25\n",
      "activation_37\n",
      "max_pooling2d_12\n",
      "global_average_pooling2d_3\n",
      "dense_25\n",
      "activation_38\n",
      "dropout_8\n",
      "dense_26\n",
      "activation_39\n",
      "dropout_9\n",
      "dense_27\n"
     ]
    }
   ],
   "source": [
    "for layer in model.layers:\n",
    "    print(layer.name)"
   ]
  },
  {
   "cell_type": "code",
   "execution_count": 108,
   "metadata": {
    "ExecuteTime": {
     "end_time": "2020-01-22T02:17:17.259044Z",
     "start_time": "2020-01-22T02:17:17.253059Z"
    }
   },
   "outputs": [
    {
     "data": {
      "text/plain": [
       "((3, 3, 1, 32), (32,))"
      ]
     },
     "execution_count": 108,
     "metadata": {},
     "output_type": "execute_result"
    }
   ],
   "source": [
    "w = model.layers[0].get_weights()\n",
    "w[0].shape,w[1].shape \n",
    "# filter의 weight / bias"
   ]
  },
  {
   "cell_type": "markdown",
   "metadata": {},
   "source": [
    "#### 첫번재 필터 보기"
   ]
  },
  {
   "cell_type": "code",
   "execution_count": 127,
   "metadata": {
    "ExecuteTime": {
     "end_time": "2020-01-22T02:23:35.257565Z",
     "start_time": "2020-01-22T02:23:35.252579Z"
    }
   },
   "outputs": [
    {
     "data": {
      "text/plain": [
       "array([[ 0.00862324, -0.06660921,  0.09023502],\n",
       "       [-0.01051311,  0.00792125,  0.00173646],\n",
       "       [ 0.00275464, -0.00088458,  0.06647646]], dtype=float32)"
      ]
     },
     "execution_count": 127,
     "metadata": {},
     "output_type": "execute_result"
    }
   ],
   "source": [
    "w[0][:,:,0,0]"
   ]
  },
  {
   "cell_type": "code",
   "execution_count": 126,
   "metadata": {
    "ExecuteTime": {
     "end_time": "2020-01-22T02:23:27.489864Z",
     "start_time": "2020-01-22T02:23:27.389133Z"
    }
   },
   "outputs": [
    {
     "data": {
      "text/plain": [
       "<matplotlib.image.AxesImage at 0x18ae121fa88>"
      ]
     },
     "execution_count": 126,
     "metadata": {},
     "output_type": "execute_result"
    },
    {
     "data": {
      "image/png": "[encoded data removed]",
      "text/plain": [
       "<Figure size 432x288 with 1 Axes>"
      ]
     },
     "metadata": {
      "needs_background": "light"
     },
     "output_type": "display_data"
    }
   ],
   "source": [
    "plt.imshow(w[0][:,:,0,0])"
   ]
  },
  {
   "cell_type": "markdown",
   "metadata": {},
   "source": [
    "## 4.2. trainble 설정"
   ]
  },
  {
   "cell_type": "code",
   "execution_count": 128,
   "metadata": {
    "ExecuteTime": {
     "end_time": "2020-01-22T02:27:49.400109Z",
     "start_time": "2020-01-22T02:27:49.395187Z"
    }
   },
   "outputs": [
    {
     "name": "stdout",
     "output_type": "stream",
     "text": [
      "True\n",
      "True\n",
      "True\n",
      "True\n",
      "True\n",
      "True\n",
      "True\n",
      "True\n",
      "True\n",
      "True\n",
      "True\n",
      "True\n",
      "True\n",
      "True\n",
      "True\n",
      "True\n",
      "True\n",
      "True\n"
     ]
    }
   ],
   "source": [
    "for layer in model.layers:\n",
    "    print(layer.trainable)"
   ]
  },
  {
   "cell_type": "markdown",
   "metadata": {},
   "source": [
    "## 4.3. 중간 output 확인하기\n",
    "\n",
    "> 텐서 플로구\n",
    "- weight는 메모리에 값고 있기 때문에 확인할 수 있지만,\n",
    "- 텐서는 흘러가는 값이므로 확인 할 수 없음.\n",
    "- 데이터가 들어가야 확일할 수 있음."
   ]
  },
  {
   "cell_type": "markdown",
   "metadata": {
    "ExecuteTime": {
     "end_time": "2020-01-22T02:31:37.000515Z",
     "start_time": "2020-01-22T02:31:36.998515Z"
    }
   },
   "source": [
    "#### outout 결과"
   ]
  },
  {
   "cell_type": "code",
   "execution_count": 144,
   "metadata": {
    "ExecuteTime": {
     "end_time": "2020-01-22T02:42:43.690800Z",
     "start_time": "2020-01-22T02:42:43.682791Z"
    }
   },
   "outputs": [
    {
     "data": {
      "text/plain": [
       "<tf.Tensor 'strided_slice_4:0' shape=(22, 32) dtype=float32>"
      ]
     },
     "execution_count": 144,
     "metadata": {},
     "output_type": "execute_result"
    }
   ],
   "source": [
    "conv_output = model.layers[0].output\n",
    "conv_output[0][0]"
   ]
  },
  {
   "cell_type": "code",
   "execution_count": 145,
   "metadata": {
    "ExecuteTime": {
     "end_time": "2020-01-22T02:42:47.518770Z",
     "start_time": "2020-01-22T02:42:47.514780Z"
    }
   },
   "outputs": [
    {
     "data": {
      "text/plain": [
       "(45, 24, 24, 1)"
      ]
     },
     "execution_count": 145,
     "metadata": {},
     "output_type": "execute_result"
    }
   ],
   "source": [
    "X_train.shape"
   ]
  },
  {
   "cell_type": "code",
   "execution_count": 146,
   "metadata": {
    "ExecuteTime": {
     "end_time": "2020-01-22T02:42:51.920567Z",
     "start_time": "2020-01-22T02:42:51.914621Z"
    }
   },
   "outputs": [
    {
     "name": "stdout",
     "output_type": "stream",
     "text": [
      "Model: \"model_1\"\n",
      "_________________________________________________________________\n",
      "Layer (type)                 Output Shape              Param #   \n",
      "=================================================================\n",
      "conv2d_25_input (InputLayer) (None, 24, 24, 1)         0         \n",
      "_________________________________________________________________\n",
      "conv2d_25 (Conv2D)           (None, 22, 22, 32)        320       \n",
      "=================================================================\n",
      "Total params: 320\n",
      "Trainable params: 320\n",
      "Non-trainable params: 0\n",
      "_________________________________________________________________\n"
     ]
    }
   ],
   "source": [
    "#test_x를 넣었을 때 출력 이미지 확인하기\n",
    "h, w = 2,2\n",
    "\n",
    "num_classes = 3\n",
    "\n",
    "# 모델은 이미 만들어져있기 때문에 레이어, 텐서들이 모두 존재함\n",
    "# -텐서만 가져와서 사용하면 됨.\n",
    "conv_model = Model(model.input, conv_output)   \n",
    "conv_model.summary()"
   ]
  },
  {
   "cell_type": "code",
   "execution_count": 149,
   "metadata": {
    "ExecuteTime": {
     "end_time": "2020-01-22T02:44:42.736552Z",
     "start_time": "2020-01-22T02:44:42.730549Z"
    }
   },
   "outputs": [
    {
     "name": "stdout",
     "output_type": "stream",
     "text": [
      "(15, 22, 22, 32)\n"
     ]
    }
   ],
   "source": [
    "conv_pred = conv_model.predict(X_test)\n",
    "\n",
    "print(conv_pred.shape)"
   ]
  },
  {
   "cell_type": "markdown",
   "metadata": {},
   "source": [
    "- x_text 이미지 확인"
   ]
  },
  {
   "cell_type": "code",
   "execution_count": 154,
   "metadata": {
    "ExecuteTime": {
     "end_time": "2020-01-22T02:47:01.752503Z",
     "start_time": "2020-01-22T02:47:01.737936Z"
    }
   },
   "outputs": [
    {
     "data": {
      "text/plain": [
       "(15, 24, 24, 1)"
      ]
     },
     "execution_count": 154,
     "metadata": {},
     "output_type": "execute_result"
    }
   ],
   "source": [
    "X_test.shape"
   ]
  },
  {
   "cell_type": "code",
   "execution_count": 155,
   "metadata": {
    "ExecuteTime": {
     "end_time": "2020-01-22T02:47:14.411810Z",
     "start_time": "2020-01-22T02:47:14.314052Z"
    }
   },
   "outputs": [
    {
     "data": {
      "text/plain": [
       "<matplotlib.image.AxesImage at 0x18ae0c92508>"
      ]
     },
     "execution_count": 155,
     "metadata": {},
     "output_type": "execute_result"
    },
    {
     "data": {
      "image/png": "[encoded data removed]",
      "text/plain": [
       "<Figure size 432x288 with 1 Axes>"
      ]
     },
     "metadata": {
      "needs_background": "light"
     },
     "output_type": "display_data"
    }
   ],
   "source": [
    "sample_index = 1\n",
    "plt.title('Input', {'fontsize': 20})\n",
    "plt.imshow(X_test[sample_index,:,:,0])"
   ]
  },
  {
   "cell_type": "code",
   "execution_count": 158,
   "metadata": {
    "ExecuteTime": {
     "end_time": "2020-01-22T02:48:28.074527Z",
     "start_time": "2020-01-22T02:48:27.425094Z"
    }
   },
   "outputs": [
    {
     "data": {
      "image/png": "[encoded data removed]",
      "text/plain": [
       "<Figure size 1440x720 with 32 Axes>"
      ]
     },
     "metadata": {},
     "output_type": "display_data"
    }
   ],
   "source": [
    "plt.figure(figsize = (20,10))  # 전체 (가로, 세로)\n",
    "for i in range(0, 32):\n",
    "    plt.subplot(4,8,i + 1)  # 세로, 가로\n",
    "    plt.xticks([])\n",
    "    plt.yticks([])\n",
    "    plt.imshow(conv_pred[sample_index][:,:,0])"
   ]
  },
  {
   "cell_type": "markdown",
   "metadata": {
    "ExecuteTime": {
     "end_time": "2020-01-22T04:15:29.657926Z",
     "start_time": "2020-01-22T04:15:29.653968Z"
    }
   },
   "source": [
    "# 5. predict (= Forward)"
   ]
  },
  {
   "cell_type": "markdown",
   "metadata": {},
   "source": [
    "- 예측이라는 의미보다는\n",
    "- output을 내달라는 의미..."
   ]
  },
  {
   "cell_type": "code",
   "execution_count": 162,
   "metadata": {
    "ExecuteTime": {
     "end_time": "2020-01-22T04:17:52.846850Z",
     "start_time": "2020-01-22T04:17:52.552921Z"
    }
   },
   "outputs": [],
   "source": [
    "my_layer_model = Model(inputs = model.input,\n",
    "                      outputs = model.layers[0].output)\n",
    "\n",
    "output = my_layer_model.predict(X_test)"
   ]
  },
  {
   "cell_type": "code",
   "execution_count": 163,
   "metadata": {
    "ExecuteTime": {
     "end_time": "2020-01-22T04:18:00.014140Z",
     "start_time": "2020-01-22T04:18:00.009107Z"
    }
   },
   "outputs": [
    {
     "data": {
      "text/plain": [
       "(15, 22, 22, 32)"
      ]
     },
     "execution_count": 163,
     "metadata": {},
     "output_type": "execute_result"
    }
   ],
   "source": [
    "output.shape"
   ]
  },
  {
   "cell_type": "code",
   "execution_count": 166,
   "metadata": {
    "ExecuteTime": {
     "end_time": "2020-01-22T04:34:36.994472Z",
     "start_time": "2020-01-22T04:34:36.882899Z"
    }
   },
   "outputs": [
    {
     "data": {
      "text/plain": [
       "<matplotlib.image.AxesImage at 0x18ad27f7408>"
      ]
     },
     "execution_count": 166,
     "metadata": {},
     "output_type": "execute_result"
    },
    {
     "data": {
      "image/png": "[encoded data removed]",
      "text/plain": [
       "<Figure size 432x288 with 1 Axes>"
      ]
     },
     "metadata": {
      "needs_background": "light"
     },
     "output_type": "display_data"
    }
   ],
   "source": [
    "plt.imshow(output[0,:,:,1], cmap = 'gray')"
   ]
  },
  {
   "cell_type": "markdown",
   "metadata": {},
   "source": [
    "# 6.  첫번재 conv layer 통화 후 결과 비교"
   ]
  },
  {
   "cell_type": "code",
   "execution_count": 180,
   "metadata": {
    "ExecuteTime": {
     "end_time": "2020-01-22T04:42:01.017809Z",
     "start_time": "2020-01-22T04:42:00.406440Z"
    },
    "scrolled": true
   },
   "outputs": [
    {
     "data": {
      "text/plain": [
       "<matplotlib.image.AxesImage at 0x18ae10e5fc8>"
      ]
     },
     "execution_count": 180,
     "metadata": {},
     "output_type": "execute_result"
    },
    {
     "data": {
      "image/png": "[encoded data removed]",
      "text/plain": [
       "<Figure size 1440x720 with 3 Axes>"
      ]
     },
     "metadata": {
      "needs_background": "light"
     },
     "output_type": "display_data"
    }
   ],
   "source": [
    "sample_index = 1\n",
    "filter_index = 5\n",
    "\n",
    "plt.figure(figsize = (20,10))\n",
    "# 원본이미지\n",
    "plt.subplot(1, 3, 1)\n",
    "plt.title('ordinary', {'fontsize': 20})\n",
    "plt.imshow(X_test[sample_index,:,:,0])\n",
    "\n",
    "# filter\n",
    "plt.subplot(1, 3, 2)\n",
    "w = model.layers[0].get_weights()\n",
    "w[0].shape,w[1].shape \n",
    "plt.title(str(filter_index) + 'th filter')\n",
    "plt.imshow(w[0][:,:,0,filter_index], cmap = 'gray')\n",
    "\n",
    "# output\n",
    "plt.subplot(1, 3, 3)\n",
    "\n",
    "my_layer_model = Model(inputs = model.input,\n",
    "                      outputs = model.layers[0].output)\n",
    "output = my_layer_model.predict(X_test)\n",
    "plt.title(str(filter_index) + 'th img')\n",
    "plt.imshow(output[sample_index,:,:,filter_index], cmap = 'gray')\n",
    "\n"
   ]
  },
  {
   "cell_type": "markdown",
   "metadata": {},
   "source": [
    "# 7. flatten layer 이후 결과 비교하기"
   ]
  },
  {
   "cell_type": "code",
   "execution_count": 185,
   "metadata": {
    "ExecuteTime": {
     "end_time": "2020-01-22T04:45:27.022822Z",
     "start_time": "2020-01-22T04:45:27.005808Z"
    }
   },
   "outputs": [
    {
     "name": "stdout",
     "output_type": "stream",
     "text": [
      "0 conv2d_25\n",
      "1 batch_normalization_23\n",
      "2 activation_35\n",
      "3 conv2d_26\n",
      "4 batch_normalization_24\n",
      "5 activation_36\n",
      "6 conv2d_27\n",
      "7 batch_normalization_25\n",
      "8 activation_37\n",
      "9 max_pooling2d_12\n",
      "10 global_average_pooling2d_3\n",
      "11 dense_25\n",
      "12 activation_38\n",
      "13 dropout_8\n",
      "14 dense_26\n",
      "15 activation_39\n",
      "16 dropout_9\n",
      "17 dense_27\n"
     ]
    }
   ],
   "source": [
    "for i,layer in enumerate(model.layers):\n",
    "    print(i,layer.name)"
   ]
  },
  {
   "cell_type": "code",
   "execution_count": 197,
   "metadata": {
    "ExecuteTime": {
     "end_time": "2020-01-22T04:50:15.753728Z",
     "start_time": "2020-01-22T04:50:15.749740Z"
    }
   },
   "outputs": [],
   "source": [
    "input_layer = model.input\n",
    "output_layer = model.get_layer('flatten_11')\n"
   ]
  },
  {
   "cell_type": "code",
   "execution_count": 198,
   "metadata": {
    "ExecuteTime": {
     "end_time": "2020-01-22T04:50:16.479447Z",
     "start_time": "2020-01-22T04:50:16.461704Z"
    }
   },
   "outputs": [
    {
     "name": "stderr",
     "output_type": "stream",
     "text": [
      "C:\\anaconda\\lib\\site-packages\\ipykernel_launcher.py:2: UserWarning: Update your `Model` call to the Keras 2 API: `Model(inputs=Tensor(\"co..., outputs=Tensor(\"fl...)`\n",
      "  \n"
     ]
    }
   ],
   "source": [
    "my_model1 = Model(input= model.input,\n",
    "                 output = output_layer.output)"
   ]
  },
  {
   "cell_type": "code",
   "execution_count": 190,
   "metadata": {
    "ExecuteTime": {
     "end_time": "2020-01-22T04:49:14.155893Z",
     "start_time": "2020-01-22T04:49:14.013939Z"
    }
   },
   "outputs": [
    {
     "data": {
      "text/plain": [
       "<matplotlib.image.AxesImage at 0x18ae12ea4c8>"
      ]
     },
     "execution_count": 190,
     "metadata": {},
     "output_type": "execute_result"
    },
    {
     "data": {
      "image/png": "[encoded data removed]",
      "text/plain": [
       "<Figure size 1440x720 with 1 Axes>"
      ]
     },
     "metadata": {
      "needs_background": "light"
     },
     "output_type": "display_data"
    }
   ],
   "source": [
    "sample_index = 1\n",
    "filter_index = 5\n",
    "\n",
    "plt.figure(figsize = (20,10))\n",
    "# 원본이미지\n",
    "plt.subplot(1, 3, 1)\n",
    "plt.title('ordinary', {'fontsize': 20})\n",
    "plt.imshow(X_test[sample_index,:,:,0])"
   ]
  },
  {
   "cell_type": "code",
   "execution_count": 208,
   "metadata": {
    "ExecuteTime": {
     "end_time": "2020-01-22T04:54:17.550767Z",
     "start_time": "2020-01-22T04:54:17.541861Z"
    }
   },
   "outputs": [
    {
     "data": {
      "text/plain": [
       "[]"
      ]
     },
     "execution_count": 208,
     "metadata": {},
     "output_type": "execute_result"
    }
   ],
   "source": [
    "# filter\n",
    "w = output_layer.get_weights()\n",
    "w\n",
    "# pooling 계층 이후 flatten에는 학습된 weight가 없음."
   ]
  },
  {
   "cell_type": "code",
   "execution_count": 207,
   "metadata": {
    "ExecuteTime": {
     "end_time": "2020-01-22T04:53:10.260620Z",
     "start_time": "2020-01-22T04:53:09.901277Z"
    }
   },
   "outputs": [
    {
     "name": "stderr",
     "output_type": "stream",
     "text": [
      "C:\\anaconda\\lib\\site-packages\\ipykernel_launcher.py:3: UserWarning: Update your `Model` call to the Keras 2 API: `Model(inputs=Tensor(\"co..., outputs=Tensor(\"fl...)`\n",
      "  This is separate from the ipykernel package so we can avoid doing imports until\n"
     ]
    },
    {
     "data": {
      "text/plain": [
       "(15, 10368)"
      ]
     },
     "execution_count": 207,
     "metadata": {},
     "output_type": "execute_result"
    }
   ],
   "source": [
    "# output\n",
    "my_model = Model(input= model.input,\n",
    "                 output = output_layer.output)\n",
    "output = my_model.predict(X_test)\n",
    "output.shape"
   ]
  },
  {
   "cell_type": "markdown",
   "metadata": {},
   "source": [
    "# 8. 마지막 레이어 결과 살펴보기"
   ]
  },
  {
   "cell_type": "code",
   "execution_count": 210,
   "metadata": {
    "ExecuteTime": {
     "end_time": "2020-01-22T04:55:45.838797Z",
     "start_time": "2020-01-22T04:55:45.830563Z"
    }
   },
   "outputs": [],
   "source": [
    "output_layer = model.layers[-1]\n"
   ]
  },
  {
   "cell_type": "code",
   "execution_count": 211,
   "metadata": {
    "ExecuteTime": {
     "end_time": "2020-01-22T04:55:49.676058Z",
     "start_time": "2020-01-22T04:55:49.661504Z"
    }
   },
   "outputs": [
    {
     "name": "stderr",
     "output_type": "stream",
     "text": [
      "C:\\anaconda\\lib\\site-packages\\ipykernel_launcher.py:2: UserWarning: Update your `Model` call to the Keras 2 API: `Model(inputs=Tensor(\"co..., outputs=Tensor(\"de...)`\n",
      "  \n"
     ]
    }
   ],
   "source": [
    "my_model1 = Model(input= model.input,\n",
    "                 output = output_layer.output)"
   ]
  },
  {
   "cell_type": "code",
   "execution_count": 212,
   "metadata": {
    "ExecuteTime": {
     "end_time": "2020-01-22T04:55:53.284423Z",
     "start_time": "2020-01-22T04:55:53.140963Z"
    }
   },
   "outputs": [
    {
     "data": {
      "text/plain": [
       "<matplotlib.image.AxesImage at 0x18ae9506288>"
      ]
     },
     "execution_count": 212,
     "metadata": {},
     "output_type": "execute_result"
    },
    {
     "data": {
      "image/png": "[encoded data removed]",
      "text/plain": [
       "<Figure size 1440x720 with 1 Axes>"
      ]
     },
     "metadata": {
      "needs_background": "light"
     },
     "output_type": "display_data"
    }
   ],
   "source": [
    "sample_index = 1\n",
    "filter_index = 5\n",
    "\n",
    "plt.figure(figsize = (20,10))\n",
    "# 원본이미지\n",
    "plt.subplot(1, 3, 1)\n",
    "plt.title('ordinary', {'fontsize': 20})\n",
    "plt.imshow(X_test[sample_index,:,:,0])"
   ]
  },
  {
   "cell_type": "code",
   "execution_count": 213,
   "metadata": {
    "ExecuteTime": {
     "end_time": "2020-01-22T04:56:02.184734Z",
     "start_time": "2020-01-22T04:56:02.021238Z"
    }
   },
   "outputs": [
    {
     "data": {
      "text/plain": [
       "[array([[ 0.01480496,  0.00375401,  0.15171935],\n",
       "        [-0.13075458,  0.06197796, -0.14354941],\n",
       "        [-0.22987776, -0.236557  ,  0.20855376],\n",
       "        [-0.1671234 , -0.19189252, -0.24935842],\n",
       "        [ 0.1971026 , -0.21170837, -0.26347998],\n",
       "        [ 0.14580157,  0.0846739 , -0.20749015],\n",
       "        [ 0.17379706,  0.21699727, -0.02261828],\n",
       "        [ 0.06959599, -0.11884285,  0.23008612],\n",
       "        [-0.1995776 , -0.28456458,  0.01335646],\n",
       "        [ 0.06313231, -0.05680187,  0.00821571],\n",
       "        [ 0.23010872,  0.15702312,  0.03722711],\n",
       "        [-0.23430136,  0.25909686, -0.13467099],\n",
       "        [ 0.1781769 ,  0.20912388, -0.08271135],\n",
       "        [-0.13514248, -0.20491233, -0.176246  ],\n",
       "        [ 0.24174827,  0.07947146, -0.03750838],\n",
       "        [ 0.18344754,  0.02716687,  0.12324654],\n",
       "        [ 0.10911599,  0.03620576, -0.03792284],\n",
       "        [-0.01696741,  0.06331728, -0.12950194],\n",
       "        [-0.17142734,  0.1110775 , -0.23113519],\n",
       "        [ 0.23103641,  0.15451236,  0.17728601],\n",
       "        [ 0.01853879,  0.18836555, -0.10666062],\n",
       "        [ 0.0254992 , -0.07693689,  0.04082385],\n",
       "        [-0.13317277, -0.01428804,  0.01213447],\n",
       "        [ 0.05350754,  0.08197009, -0.04376691],\n",
       "        [-0.2197953 ,  0.21910495, -0.19287187],\n",
       "        [-0.27738714,  0.10706113,  0.06750663],\n",
       "        [ 0.12270179,  0.25306422,  0.21924739],\n",
       "        [ 0.05476014,  0.05494291, -0.20432532],\n",
       "        [-0.13312587,  0.08823889, -0.27508372],\n",
       "        [ 0.11919993, -0.19116788, -0.2807264 ],\n",
       "        [ 0.00192524,  0.17360583, -0.00125282],\n",
       "        [ 0.14121844,  0.18182231, -0.16590576],\n",
       "        [ 0.13064273,  0.08149106, -0.0176282 ],\n",
       "        [-0.21925327,  0.10886157, -0.22802766],\n",
       "        [-0.03359596,  0.01644799, -0.09559735],\n",
       "        [-0.24846041, -0.13991131,  0.14321592],\n",
       "        [ 0.00927907, -0.2394393 , -0.17963898],\n",
       "        [ 0.13233584, -0.152226  ,  0.22182642],\n",
       "        [-0.08002549, -0.03114943,  0.1466346 ],\n",
       "        [-0.15903479,  0.230936  ,  0.04443339],\n",
       "        [-0.08344456,  0.2140329 ,  0.2532097 ],\n",
       "        [-0.2693311 ,  0.0666443 , -0.052591  ],\n",
       "        [-0.03621995,  0.04421351,  0.21006256],\n",
       "        [-0.09883967, -0.0500563 ,  0.14142543],\n",
       "        [-0.15441528,  0.00923886, -0.14840975],\n",
       "        [ 0.17487529, -0.0026652 ,  0.0420057 ],\n",
       "        [-0.16421704,  0.07295665,  0.21495467],\n",
       "        [ 0.21934885, -0.04348606,  0.06647912],\n",
       "        [ 0.21813558,  0.0257271 , -0.01049857],\n",
       "        [-0.12831213, -0.14669995, -0.17095104],\n",
       "        [ 0.19278473,  0.11997145, -0.11218142],\n",
       "        [-0.21323018, -0.08065973,  0.1526368 ],\n",
       "        [ 0.00431979, -0.13425101,  0.00414223],\n",
       "        [-0.2280259 ,  0.11393524, -0.28458875],\n",
       "        [-0.01851545,  0.10508209,  0.01342589],\n",
       "        [ 0.12097498, -0.23017739,  0.09724143],\n",
       "        [-0.02152127,  0.01474531, -0.07547425],\n",
       "        [-0.21776128, -0.23093215, -0.2462648 ],\n",
       "        [ 0.18625884,  0.22618097,  0.26739284],\n",
       "        [ 0.02038633, -0.075326  ,  0.10962356],\n",
       "        [-0.08058897, -0.05784277, -0.12664035],\n",
       "        [ 0.10711523, -0.03474935, -0.0475665 ],\n",
       "        [-0.24500649, -0.13871054, -0.20933816],\n",
       "        [-0.10183126,  0.18422845,  0.05778739]], dtype=float32),\n",
       " array([ 0.01056074,  0.02506323, -0.05943193], dtype=float32)]"
      ]
     },
     "execution_count": 213,
     "metadata": {},
     "output_type": "execute_result"
    }
   ],
   "source": [
    "# filter\n",
    "w = output_layer.get_weights()\n",
    "w\n",
    "# pooling 계층 이후 flatten에는 학습된 weight가 없음."
   ]
  },
  {
   "cell_type": "code",
   "execution_count": 214,
   "metadata": {
    "ExecuteTime": {
     "end_time": "2020-01-22T04:56:09.695521Z",
     "start_time": "2020-01-22T04:56:09.334177Z"
    }
   },
   "outputs": [
    {
     "name": "stderr",
     "output_type": "stream",
     "text": [
      "C:\\anaconda\\lib\\site-packages\\ipykernel_launcher.py:3: UserWarning: Update your `Model` call to the Keras 2 API: `Model(inputs=Tensor(\"co..., outputs=Tensor(\"de...)`\n",
      "  This is separate from the ipykernel package so we can avoid doing imports until\n"
     ]
    },
    {
     "data": {
      "text/plain": [
       "(15, 3)"
      ]
     },
     "execution_count": 214,
     "metadata": {},
     "output_type": "execute_result"
    }
   ],
   "source": [
    "# output\n",
    "my_model = Model(input= model.input,\n",
    "                 output = output_layer.output)\n",
    "output = my_model.predict(X_test)\n",
    "output.shape"
   ]
  },
  {
   "cell_type": "code",
   "execution_count": 229,
   "metadata": {
    "ExecuteTime": {
     "end_time": "2020-01-22T05:05:13.290626Z",
     "start_time": "2020-01-22T05:05:13.283690Z"
    }
   },
   "outputs": [
    {
     "name": "stdout",
     "output_type": "stream",
     "text": [
      "맞은 것 : [0 1 0 0 0 0 0 0 0 0 1 1 1 1 1]\n",
      "몇 개 맞췄니: 6\n",
      "정확도: 0.4\n"
     ]
    }
   ],
   "source": [
    "Pred = np.argmax(output, axis = 1)\n",
    "T = np.argmax(y_test2, axis = 1)\n",
    "\n",
    "print('맞은 것 :', ( Pred == T)*1)\n",
    "print('몇 개 맞췄니:', sum(Pred == T) * 1)\n",
    "print('정확도:', sum(Pred == T) * 1 / len(Pred))"
   ]
  },
  {
   "cell_type": "code",
   "execution_count": null,
   "metadata": {},
   "outputs": [],
   "source": []
  },
  {
   "cell_type": "code",
   "execution_count": 233,
   "metadata": {
    "ExecuteTime": {
     "end_time": "2020-01-22T05:06:23.224581Z",
     "start_time": "2020-01-22T05:06:23.212422Z"
    }
   },
   "outputs": [
    {
     "name": "stdout",
     "output_type": "stream",
     "text": [
      "0 0\n"
     ]
    }
   ],
   "source": [
    "sample_index = 1\n",
    "\n",
    "pred = np.argmax(output[sample_index,:])\n",
    "true = np.argmax(y_test2[sample_index])\n",
    "print(pred, true)"
   ]
  },
  {
   "cell_type": "code",
   "execution_count": 240,
   "metadata": {
    "ExecuteTime": {
     "end_time": "2020-01-22T05:09:43.354947Z",
     "start_time": "2020-01-22T05:09:42.163379Z"
    }
   },
   "outputs": [
    {
     "data": {
      "image/png": "[encoded data removed]",
      "text/plain": [
       "<Figure size 1440x1080 with 15 Axes>"
      ]
     },
     "metadata": {
      "needs_background": "light"
     },
     "output_type": "display_data"
    }
   ],
   "source": [
    "plt.figure(figsize = (20,15))\n",
    "for i in range(len(y_test2)):\n",
    "    plt.subplot(3, 5, i + 1)\n",
    "    pred = np.argmax(output[i,:])\n",
    "    true = np.argmax(y_test2[i])\n",
    "    plt.title('pred:'+str(pred)+ ',  true:'+str(true))\n",
    "    plt.imshow(X_test[i,:,:,0])"
   ]
  },
  {
   "cell_type": "markdown",
   "metadata": {
    "ExecuteTime": {
     "end_time": "2020-01-22T05:37:57.897307Z",
     "start_time": "2020-01-22T05:37:57.884572Z"
    }
   },
   "source": [
    "# 시그마(wx + b)\n",
    "- x가 크면 값이 발산하는 문제를 없애기 위해서\n",
    "\n",
    "> 해결방안\n",
    "- 1. w값을 줄이기 위해서 초기화 값을 아주 작게 하지\n",
    "- 2. x를 값을 줄이고(scaling: 값을 나누기) -> batch normalization\n"
   ]
  },
  {
   "cell_type": "code",
   "execution_count": null,
   "metadata": {},
   "outputs": [],
   "source": []
  }
 ],
 "metadata": {
  "kernelspec": {
   "display_name": "Python 3",
   "language": "python",
   "name": "python3"
  },
  "language_info": {
   "codemirror_mode": {
    "name": "ipython",
    "version": 3
   },
   "file_extension": ".py",
   "mimetype": "text/x-python",
   "name": "python",
   "nbconvert_exporter": "python",
   "pygments_lexer": "ipython3",
   "version": "3.7.4"
  },
  "toc": {
   "base_numbering": 1,
   "nav_menu": {},
   "number_sections": false,
   "sideBar": true,
   "skip_h1_title": false,
   "title_cell": "Table of Contents",
   "title_sidebar": "Contents",
   "toc_cell": false,
   "toc_position": {
    "height": "calc(100% - 180px)",
    "left": "10px",
    "top": "150px",
    "width": "212.882px"
   },
   "toc_section_display": true,
   "toc_window_display": true
  },
  "varInspector": {
   "cols": {
    "lenName": 16,
    "lenType": 16,
    "lenVar": 40
   },
   "kernels_config": {
    "python": {
     "delete_cmd_postfix": "",
     "delete_cmd_prefix": "del ",
     "library": "var_list.py",
     "varRefreshCmd": "print(var_dic_list())"
    },
    "r": {
     "delete_cmd_postfix": ") ",
     "delete_cmd_prefix": "rm(",
     "library": "var_list.r",
     "varRefreshCmd": "cat(var_dic_list()) "
    }
   },
   "types_to_exclude": [
    "module",
    "function",
    "builtin_function_or_method",
    "instance",
    "_Feature"
   ],
   "window_display": false
  }
 },
 "nbformat": 4,
 "nbformat_minor": 2
}
