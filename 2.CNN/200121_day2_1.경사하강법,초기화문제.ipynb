{
 "cells": [
  {
   "cell_type": "markdown",
   "metadata": {
    "ExecuteTime": {
     "end_time": "2020-01-21T00:41:54.499668Z",
     "start_time": "2020-01-21T00:41:54.493729Z"
    }
   },
   "source": [
    "# 1.경사하강법\n",
    "\n",
    "### y = ax일 때\n",
    "> 미분하면(오차값)\n",
    "- 1/2(wx -y)^2\n",
    "- 1/2(2wx^2-2xy)\n",
    "- wx^2 - xy\n",
    "- x(wx-y)\n",
    "\n",
    "\n",
    "### 활성화 함수(사그모이드)를 지나오면\n",
    "- f(y) = f(ax)= sigmoid(ax)\n",
    "- 보통 ax의 값이 크기 때문에...대부분 시그모이드의 결과가 1이 됨...\n",
    "- 미분하면 0이 되는 문제를 해결하기 위해 relu사용"
   ]
  },
  {
   "cell_type": "markdown",
   "metadata": {},
   "source": [
    "# 2. 초기화 문제\n",
    "## 2.1. 정규분포 초기화의 문제점\n",
    "- 정규분포: w의 범위를 0~1의 값으로 설정\n",
    "\n",
    "> 시그모이드\n",
    "- x가 -5 이하면 결과가 0\n",
    "- x가 5 이상이면 결과가 1\n",
    "- 대부분의 출력값이 0, 1 -> 미분하면 0이 되므로 학습이 잘 안됨.\n",
    "\n",
    "> 우리가 계산할 식: wx + b\n",
    "- w의 개수가 엄청 많음 \n",
    "- w가 3개라고 하면: w1x1 + w2x2 + w3x3를 계산해야 하는데\n",
    "- x가 0~255일 때 wx = 0~255값을 갖는데, 대부분의 값이 190정도에 많음.\n",
    "- sigmoid(199) = 1인 값이 많음.\n",
    "\n",
    "\n",
    "> w가 모두 양수인 문제를 해결하기 위해 w의 범위를 -4~4라고 한다면\n",
    "- sigmoid()결과가 0,1이 문제\n",
    "\n",
    "> N(0, 0.1) : 평균: 0, 표준편차가 0.01-> 실험적으로 결정햇을 때임\n",
    "- w가 0.25~25값이 나오고\n",
    "- wx가 -5~5임\n",
    "- sigmoid(ax)= 0~1의 값이 나옴\n",
    "- 평균은 0으로 할건데, 표준편차를 몇으로 하는게 좋을까?\n",
    "\n",
    "## 2.2. Xavier초기화(재비어, 쉐비어)\n",
    "- 입력과 출력 노드의 수를 이용한 초기화\n",
    "- sigmoid문제를 해결하기에 좋음.\n",
    "\n",
    "## 2.3. He초기화(히, 헤..)\n",
    "- ReLU 활성화 함수를 사용할 때 초기화 방법\n",
    "-\n",
    "## 초기화의 방법\n",
    "- 굉장히 작은 표준편차를 사용해서\n",
    "- w를 작게 만들면 wx의 값들을 더했을 때 발산하지 않도록 하기\n"
   ]
  },
  {
   "cell_type": "code",
   "execution_count": null,
   "metadata": {},
   "outputs": [],
   "source": []
  }
 ],
 "metadata": {
  "kernelspec": {
   "display_name": "Python 3",
   "language": "python",
   "name": "python3"
  },
  "language_info": {
   "codemirror_mode": {
    "name": "ipython",
    "version": 3
   },
   "file_extension": ".py",
   "mimetype": "text/x-python",
   "name": "python",
   "nbconvert_exporter": "python",
   "pygments_lexer": "ipython3",
   "version": "3.7.4"
  },
  "toc": {
   "base_numbering": 1,
   "nav_menu": {},
   "number_sections": false,
   "sideBar": true,
   "skip_h1_title": false,
   "title_cell": "Table of Contents",
   "title_sidebar": "Contents",
   "toc_cell": false,
   "toc_position": {},
   "toc_section_display": true,
   "toc_window_display": false
  },
  "varInspector": {
   "cols": {
    "lenName": 16,
    "lenType": 16,
    "lenVar": 40
   },
   "kernels_config": {
    "python": {
     "delete_cmd_postfix": "",
     "delete_cmd_prefix": "del ",
     "library": "var_list.py",
     "varRefreshCmd": "print(var_dic_list())"
    },
    "r": {
     "delete_cmd_postfix": ") ",
     "delete_cmd_prefix": "rm(",
     "library": "var_list.r",
     "varRefreshCmd": "cat(var_dic_list()) "
    }
   },
   "types_to_exclude": [
    "module",
    "function",
    "builtin_function_or_method",
    "instance",
    "_Feature"
   ],
   "window_display": false
  }
 },
 "nbformat": 4,
 "nbformat_minor": 2
}
