{
 "cells": [
  {
   "cell_type": "markdown",
   "metadata": {},
   "source": [
    "# creatModel()함수로 Sequential model만들기"
   ]
  },
  {
   "cell_type": "code",
   "execution_count": 26,
   "metadata": {
    "ExecuteTime": {
     "end_time": "2020-01-20T08:53:59.590203Z",
     "start_time": "2020-01-20T08:53:59.585240Z"
    }
   },
   "outputs": [],
   "source": [
    "from keras.models import Sequential\n",
    "from keras.layers.core import Dense, Dropout, Activation\n",
    "from keras.optimizers import SGD\n",
    "from keras.optimizers import Adam\n",
    "import numpy as np\n",
    "import matplotlib.pyplot as plt\n",
    "import sklearn\n",
    "from keras.callbacks import LambdaCallback\n",
    "from keras.callbacks import EarlyStopping\n",
    "from keras.layers import LeakyReLU"
   ]
  },
  {
   "cell_type": "code",
   "execution_count": 27,
   "metadata": {
    "ExecuteTime": {
     "end_time": "2020-01-20T08:53:59.750295Z",
     "start_time": "2020-01-20T08:53:59.746266Z"
    }
   },
   "outputs": [],
   "source": [
    "def creatModel(layers, activation, input_dim):\n",
    "    model = Sequential()\n",
    "    d = layers.pop(0)\n",
    "    model.add(Dense(d, activation = activation, input_dim = input_dim))\n",
    "    for l in layers:\n",
    "        model.add(Dense(l, activation = activation))\n",
    "    model.add(Dense(1, activation = 'sigmoid'))\n",
    "    return model"
   ]
  },
  {
   "cell_type": "code",
   "execution_count": 28,
   "metadata": {
    "ExecuteTime": {
     "end_time": "2020-01-20T08:54:00.053301Z",
     "start_time": "2020-01-20T08:53:59.913911Z"
    }
   },
   "outputs": [],
   "source": [
    "model = creatModel([5,5,5,5,5,5,5,5,5,5,5,5,5,5,5,5,5,5], LeakyReLU(alpha= 0.1), 2)"
   ]
  },
  {
   "cell_type": "code",
   "execution_count": 29,
   "metadata": {
    "ExecuteTime": {
     "end_time": "2020-01-20T08:54:00.087926Z",
     "start_time": "2020-01-20T08:54:00.080944Z"
    }
   },
   "outputs": [
    {
     "name": "stdout",
     "output_type": "stream",
     "text": [
      "Model: \"sequential_10\"\n",
      "_________________________________________________________________\n",
      "Layer (type)                 Output Shape              Param #   \n",
      "=================================================================\n",
      "dense_40 (Dense)             (None, 5)                 15        \n",
      "_________________________________________________________________\n",
      "dense_41 (Dense)             (None, 5)                 30        \n",
      "_________________________________________________________________\n",
      "dense_42 (Dense)             (None, 5)                 30        \n",
      "_________________________________________________________________\n",
      "dense_43 (Dense)             (None, 5)                 30        \n",
      "_________________________________________________________________\n",
      "dense_44 (Dense)             (None, 5)                 30        \n",
      "_________________________________________________________________\n",
      "dense_45 (Dense)             (None, 5)                 30        \n",
      "_________________________________________________________________\n",
      "dense_46 (Dense)             (None, 5)                 30        \n",
      "_________________________________________________________________\n",
      "dense_47 (Dense)             (None, 5)                 30        \n",
      "_________________________________________________________________\n",
      "dense_48 (Dense)             (None, 5)                 30        \n",
      "_________________________________________________________________\n",
      "dense_49 (Dense)             (None, 5)                 30        \n",
      "_________________________________________________________________\n",
      "dense_50 (Dense)             (None, 5)                 30        \n",
      "_________________________________________________________________\n",
      "dense_51 (Dense)             (None, 5)                 30        \n",
      "_________________________________________________________________\n",
      "dense_52 (Dense)             (None, 5)                 30        \n",
      "_________________________________________________________________\n",
      "dense_53 (Dense)             (None, 5)                 30        \n",
      "_________________________________________________________________\n",
      "dense_54 (Dense)             (None, 5)                 30        \n",
      "_________________________________________________________________\n",
      "dense_55 (Dense)             (None, 5)                 30        \n",
      "_________________________________________________________________\n",
      "dense_56 (Dense)             (None, 5)                 30        \n",
      "_________________________________________________________________\n",
      "dense_57 (Dense)             (None, 5)                 30        \n",
      "_________________________________________________________________\n",
      "dense_58 (Dense)             (None, 1)                 6         \n",
      "=================================================================\n",
      "Total params: 531\n",
      "Trainable params: 531\n",
      "Non-trainable params: 0\n",
      "_________________________________________________________________\n"
     ]
    }
   ],
   "source": [
    "model.summary()"
   ]
  },
  {
   "cell_type": "code",
   "execution_count": null,
   "metadata": {},
   "outputs": [],
   "source": []
  },
  {
   "cell_type": "code",
   "execution_count": null,
   "metadata": {},
   "outputs": [],
   "source": []
  },
  {
   "cell_type": "code",
   "execution_count": null,
   "metadata": {},
   "outputs": [],
   "source": []
  },
  {
   "cell_type": "code",
   "execution_count": null,
   "metadata": {},
   "outputs": [],
   "source": []
  }
 ],
 "metadata": {
  "kernelspec": {
   "display_name": "Python 3",
   "language": "python",
   "name": "python3"
  },
  "language_info": {
   "codemirror_mode": {
    "name": "ipython",
    "version": 3
   },
   "file_extension": ".py",
   "mimetype": "text/x-python",
   "name": "python",
   "nbconvert_exporter": "python",
   "pygments_lexer": "ipython3",
   "version": "3.7.6"
  },
  "toc": {
   "base_numbering": 1,
   "nav_menu": {},
   "number_sections": false,
   "sideBar": true,
   "skip_h1_title": false,
   "title_cell": "Table of Contents",
   "title_sidebar": "Contents",
   "toc_cell": false,
   "toc_position": {},
   "toc_section_display": true,
   "toc_window_display": false
  },
  "varInspector": {
   "cols": {
    "lenName": 16,
    "lenType": 16,
    "lenVar": 40
   },
   "kernels_config": {
    "python": {
     "delete_cmd_postfix": "",
     "delete_cmd_prefix": "del ",
     "library": "var_list.py",
     "varRefreshCmd": "print(var_dic_list())"
    },
    "r": {
     "delete_cmd_postfix": ") ",
     "delete_cmd_prefix": "rm(",
     "library": "var_list.r",
     "varRefreshCmd": "cat(var_dic_list()) "
    }
   },
   "types_to_exclude": [
    "module",
    "function",
    "builtin_function_or_method",
    "instance",
    "_Feature"
   ],
   "window_display": false
  }
 },
 "nbformat": 4,
 "nbformat_minor": 2
}
