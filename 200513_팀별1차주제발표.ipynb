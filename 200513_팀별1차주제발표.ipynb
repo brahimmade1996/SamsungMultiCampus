{
 "cells": [
  {
   "cell_type": "markdown",
   "metadata": {},
   "source": [
    "# 1.Beauty GAM(makeup transfer)\n",
    "### 1.주제 선정 및 배경\n",
    "- 화장도 미리보기를 할 수 없을까?\n",
    "- 화장에 새로운 자유도를 부여\n",
    "\n",
    "### 2. 사용기술\n",
    "> beauty GAN\n",
    "- 화장된 부분을 찾아서 원본 이미지에 적용\n",
    "\n",
    "> 문제점\n",
    "- 모델이 정면 사진만 사용\n",
    "- 정면 얼굴이 아닌 경우 잘 안됨.\n",
    "- face alignment를 적용(dlib에 있는 함수 사용)\n",
    "\n",
    "> 서비스 구성도\n",
    "- 모바일웹앱\n",
    "- 아파치-장고-mysql\n"
   ]
  },
  {
   "cell_type": "markdown",
   "metadata": {},
   "source": [
    "# 2. Panda Challenge\n",
    "### 1. 프로젝트 개요\n",
    "- 적립선암 등급 형가\n",
    "- 조직 샘플 이미지를 바탕으로 전립선암 등급을 판별\n",
    "\n",
    "> 글리슨 스코어(gleason score)\n",
    "- 전립선에 직접 조직 채취해서 메이저, 마이너를 특정하고 스코어를 합하여 등급 지정\n",
    "\n",
    "### 2. 목표\n",
    "- 두군데서 이미지를 받아서 처리\n",
    "- 정확도 높은 등급 분ㄹ 시스템 구현\n",
    "\n",
    "### 3. 개발방향\n",
    "> 이미지 처리\n",
    "- 10000개 이미지\n",
    "- 학습할 이미지의 분할을 시도중\n",
    "- 적정한 분할 개수 찾는 과정중(어떻게 잘라낼 것인가)\n",
    "- 이미지를 자르는 이유: 원본이미지가 너무 커서 파라미터가 너무 커지기 때문에 \n",
    "\n",
    "> 학습 모델\n",
    "- 기계학습 라이브러리\n",
    "- pytorch, keras\n",
    "\n",
    "> 모델\n",
    "- Resnet 등 정확도 높은 모델 사용\n"
   ]
  },
  {
   "cell_type": "markdown",
   "metadata": {},
   "source": [
    "# 3. personal shopper\n",
    "### 1. 개요\n",
    "- 특정 인물을 선택하면 스타일에 맞는 옷 추천\n",
    "\n",
    "> 유스케이스 다이어그램\n",
    "- input: 상품 검색, 스타일 검색\n",
    "- 입을 만한 추천 옷 추천\n",
    "- 스타일 추천\n",
    "- 옷 구매 기능\n",
    "\n",
    "\n",
    "### 2. 주요 과제\n",
    "- anchor와의 거리를 계산 \n",
    "\n",
    "> mmfacion\n",
    "- 옷 종류 구별\n",
    "- segmentation\n",
    "\n",
    "> deep fashion2(coco api)\n",
    "- 옷 segmentation\n",
    "\n",
    "> 성능 개선 방법\n",
    "- segmentation으로 하기\n",
    "- 동일 인스타그램에서 이미지: 유사한 스타일이다..는 가정\n"
   ]
  },
  {
   "cell_type": "markdown",
   "metadata": {},
   "source": [
    "# 4. IAmEdic(Decision Support System)\n",
    "### 1. 개요\n",
    "- ai for good\n",
    "- SOTA 머신러닝 알고리즘을 개발해 뇌종양부분을 세그먼트함\n",
    "- 급성 종양도 추출\n",
    "\n",
    "> 데이터\n",
    "- 3d 데이터\n",
    "- 감자 편썰듯이 자른 이미지\n",
    "- 라이브러리 사용(좌표를 3차원으로 나타낼 수 있음.)\n",
    "\n",
    "> y라벨\n",
    "- LGG: 덜 악성인 종양\n",
    "- HGG: 더 악성인 종양\n",
    "\n",
    "> 모델\n",
    "- segmentation: U Net 사용-> 4부분으로 segmentation\n",
    "(의사들에게 segmentation해서 정보를 정확하게 제공하고자 함)"
   ]
  },
  {
   "cell_type": "markdown",
   "metadata": {},
   "source": [
    "# 5. HighLight\n",
    "> 질문\n",
    "- 자막간 사이점은 어떻게 없앨건지?\n",
    "- 10분 영상의 경우 편집 시간을 얼마나 단축시킬 수 있는지\n",
    "- 사람들이 실제 편집한 영상을 y값으로 설정하고, 학습시킬 방법은 없는건지?\n"
   ]
  },
  {
   "cell_type": "code",
   "execution_count": null,
   "metadata": {},
   "outputs": [],
   "source": []
  },
  {
   "cell_type": "code",
   "execution_count": null,
   "metadata": {},
   "outputs": [],
   "source": []
  },
  {
   "cell_type": "markdown",
   "metadata": {},
   "source": [
    "# 팀프로젝트가 포트폴리오로 의미가 있으려면\n",
    "- 이 서비스가 현업에서 얼마나 상용화될 수 있는지\n",
    "- 상용화되어 응용할 수 있다는 비전을 보여주는 것이 중요\n",
    "- 결과를 잘 포장하는 것도 능력!\n"
   ]
  },
  {
   "cell_type": "code",
   "execution_count": null,
   "metadata": {},
   "outputs": [],
   "source": [
    "\n",
    "\n"
   ]
  }
 ],
 "metadata": {
  "kernelspec": {
   "display_name": "Python 3",
   "language": "python",
   "name": "python3"
  },
  "language_info": {
   "codemirror_mode": {
    "name": "ipython",
    "version": 3
   },
   "file_extension": ".py",
   "mimetype": "text/x-python",
   "name": "python",
   "nbconvert_exporter": "python",
   "pygments_lexer": "ipython3",
   "version": "3.6.10"
  }
 },
 "nbformat": 4,
 "nbformat_minor": 4
}
